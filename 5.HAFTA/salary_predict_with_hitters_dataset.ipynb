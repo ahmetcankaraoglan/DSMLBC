{
 "cells": [
  {
   "cell_type": "markdown",
   "metadata": {},
   "source": [
    "# Hitters Veri Seti ile Doğrusal Regresyon Modelleri Kullanılarak Maaş Tahmini\n",
    "\n",
    "Bu projede doğrusal regresyon modelleri kullanılarak maaş tahmini üzerine bir proje gerçekleştirilecektir. Hitters veri seti hakkında ve doğrusal regresyon modelleri hakkında temel bilgiler verilecektir. Proje beyzbol oyuncularının maaşlarını tahmin edecek bir makine öğrenmesi modeli geliştirmektir. Kullanıcının performanslarına ilişkin bir veri setimiz bulunmaktadır. Veri seti Amerika'da bulunan bir beyzbol liginin 1986 - 1987 sezonunundaki verileri ve bu ligde oynayan oyuncuların verilerini içeren bir veri setidir.\n",
    "\n",
    "**Doğrusal Regresyon Modelleri:**\n",
    "- **Basit Doğrusal Regresyon**\n",
    "- **Doğrusal Regresyon**\n",
    "- **Ridge Regresyon**\n",
    "- **Lasso Regresyon**\n",
    "- **ElasticNet Regresyon**\n",
    "\n",
    "**1. Bağımlı Değişken:**\n",
    "- **Salary**: 1986-1987 sezonunda kazanılan maaş\n",
    "\n",
    "**2. Açıklayıcı Değişkenler:**\n",
    "\n",
    "Hitters Veri setinde yer alan değişkenlerin açıklanması\n",
    "\n",
    "- **AtBat**: 1986-1987 sezonunda bir beyzbol sopası ile topa yapılan vuruş sayısı\n",
    "- **Hits**: 1986-1987 sezonundaki isabet sayısı\n",
    "- **HmRun**: 1986-1987 sezonundaki en değerli vuruş sayısı\n",
    "- **Runs**: 1986-1987 sezonunda takımına kaç sayı kazandırdı\n",
    "- **RBI**: Bir vurucunun vuruş yaptıgında kaç tane oyuncuya koşu yaptırdığı.\n",
    "- **Walks**: Karşı oyuncuya kaç defa hata yaptırdığı\n",
    "- **Years**: Oyuncunun major liginde kaç sene oynadığı\n",
    "- **CAtBat**: Oyuncunun kariyeri boyunca kaç kez topa vurduğu\n",
    "- **CHits**: Oyuncunun kariyeri boyunca kaç kez isabetli vuruş yaptığı\n",
    "- **CHmRun**: Oyucunun kariyeri boyunca kaç kez en değerli vuruşu yaptığı\n",
    "- **CRuns**: Oyuncunun kariyeri boyunca takımına kaç tane sayı kazandırdığı\n",
    "- **CRBI**: Oyuncunun kariyeri boyunca kaç tane oyuncuya koşu yaptırdığı\n",
    "- **CWalks**: Oyuncun kariyeri boyunca karşı oyuncuya kaç kez hata yaptırdığı\n",
    "- **League**: Oyuncunun sezon sonuna kadar oynadığı ligi gösteren A ve N seviyelerine sahip bir faktör\n",
    "- **Division**: 1986 sonunda oyuncunun oynadığı pozisyonu gösteren E ve W seviyelerine sahip bir faktör\n",
    "- **PutOuts**: Oyun icinde takım arkadaşınla yardımlaşma\n",
    "- **Assits**: 1986-1987 sezonunda oyuncunun yaptığı asist sayısı\n",
    "- **Errors**: 1986-1987 sezonundaki oyuncunun hata sayısı\n",
    "- **Salary**: Oyuncunun 1986-1987 sezonunda aldığı maaş(bin uzerinden)\n",
    "- **NewLeague**: 1987 sezonunun başında oyuncunun ligini gösteren A ve N seviyelerine sahip bir faktör\n",
    "\n",
    "**Gözlem Sayısı: 322**\n",
    "\n",
    "**Değişken Sayısı: 20**"
   ]
  },
  {
   "cell_type": "markdown",
   "metadata": {},
   "source": [
    "# 1) Keşifci Veri Analizi"
   ]
  },
  {
   "cell_type": "code",
   "execution_count": 1,
   "metadata": {},
   "outputs": [],
   "source": [
    "# Gerekli import işlemleri gerçekleştirildi. Doğrusal Regresyon modellerine ait import işlemleri yapıldı.\n",
    "import numpy as np\n",
    "import pandas as pd\n",
    "import seaborn as sns\n",
    "from sklearn.linear_model import Ridge, Lasso, ElasticNet\n",
    "from sklearn.metrics import mean_squared_error,r2_score\n",
    "from sklearn.model_selection import train_test_split, cross_val_score\n",
    "from sklearn import model_selection\n",
    "import matplotlib.pyplot as plt\n",
    "from sklearn.linear_model import RidgeCV, LassoCV, ElasticNetCV\n",
    "from warnings import filterwarnings\n",
    "filterwarnings('ignore')"
   ]
  },
  {
   "cell_type": "code",
   "execution_count": 2,
   "metadata": {},
   "outputs": [],
   "source": [
    "# Veri seti okuma işlemi gerçekleştirildi.\n",
    "df = pd.read_csv(\"../input/hitters/Hitters.csv\")"
   ]
  },
  {
   "cell_type": "code",
   "execution_count": 3,
   "metadata": {},
   "outputs": [
    {
     "data": {
      "text/html": [
       "<div>\n",
       "<style scoped>\n",
       "    .dataframe tbody tr th:only-of-type {\n",
       "        vertical-align: middle;\n",
       "    }\n",
       "\n",
       "    .dataframe tbody tr th {\n",
       "        vertical-align: top;\n",
       "    }\n",
       "\n",
       "    .dataframe thead th {\n",
       "        text-align: right;\n",
       "    }\n",
       "</style>\n",
       "<table border=\"1\" class=\"dataframe\">\n",
       "  <thead>\n",
       "    <tr style=\"text-align: right;\">\n",
       "      <th></th>\n",
       "      <th>AtBat</th>\n",
       "      <th>Hits</th>\n",
       "      <th>HmRun</th>\n",
       "      <th>Runs</th>\n",
       "      <th>RBI</th>\n",
       "      <th>Walks</th>\n",
       "      <th>Years</th>\n",
       "      <th>CAtBat</th>\n",
       "      <th>CHits</th>\n",
       "      <th>CHmRun</th>\n",
       "      <th>CRuns</th>\n",
       "      <th>CRBI</th>\n",
       "      <th>CWalks</th>\n",
       "      <th>League</th>\n",
       "      <th>Division</th>\n",
       "      <th>PutOuts</th>\n",
       "      <th>Assists</th>\n",
       "      <th>Errors</th>\n",
       "      <th>Salary</th>\n",
       "      <th>NewLeague</th>\n",
       "    </tr>\n",
       "  </thead>\n",
       "  <tbody>\n",
       "    <tr>\n",
       "      <th>0</th>\n",
       "      <td>293</td>\n",
       "      <td>66</td>\n",
       "      <td>1</td>\n",
       "      <td>30</td>\n",
       "      <td>29</td>\n",
       "      <td>14</td>\n",
       "      <td>1</td>\n",
       "      <td>293</td>\n",
       "      <td>66</td>\n",
       "      <td>1</td>\n",
       "      <td>30</td>\n",
       "      <td>29</td>\n",
       "      <td>14</td>\n",
       "      <td>A</td>\n",
       "      <td>E</td>\n",
       "      <td>446</td>\n",
       "      <td>33</td>\n",
       "      <td>20</td>\n",
       "      <td>NaN</td>\n",
       "      <td>A</td>\n",
       "    </tr>\n",
       "    <tr>\n",
       "      <th>1</th>\n",
       "      <td>315</td>\n",
       "      <td>81</td>\n",
       "      <td>7</td>\n",
       "      <td>24</td>\n",
       "      <td>38</td>\n",
       "      <td>39</td>\n",
       "      <td>14</td>\n",
       "      <td>3449</td>\n",
       "      <td>835</td>\n",
       "      <td>69</td>\n",
       "      <td>321</td>\n",
       "      <td>414</td>\n",
       "      <td>375</td>\n",
       "      <td>N</td>\n",
       "      <td>W</td>\n",
       "      <td>632</td>\n",
       "      <td>43</td>\n",
       "      <td>10</td>\n",
       "      <td>475.0</td>\n",
       "      <td>N</td>\n",
       "    </tr>\n",
       "    <tr>\n",
       "      <th>2</th>\n",
       "      <td>479</td>\n",
       "      <td>130</td>\n",
       "      <td>18</td>\n",
       "      <td>66</td>\n",
       "      <td>72</td>\n",
       "      <td>76</td>\n",
       "      <td>3</td>\n",
       "      <td>1624</td>\n",
       "      <td>457</td>\n",
       "      <td>63</td>\n",
       "      <td>224</td>\n",
       "      <td>266</td>\n",
       "      <td>263</td>\n",
       "      <td>A</td>\n",
       "      <td>W</td>\n",
       "      <td>880</td>\n",
       "      <td>82</td>\n",
       "      <td>14</td>\n",
       "      <td>480.0</td>\n",
       "      <td>A</td>\n",
       "    </tr>\n",
       "    <tr>\n",
       "      <th>3</th>\n",
       "      <td>496</td>\n",
       "      <td>141</td>\n",
       "      <td>20</td>\n",
       "      <td>65</td>\n",
       "      <td>78</td>\n",
       "      <td>37</td>\n",
       "      <td>11</td>\n",
       "      <td>5628</td>\n",
       "      <td>1575</td>\n",
       "      <td>225</td>\n",
       "      <td>828</td>\n",
       "      <td>838</td>\n",
       "      <td>354</td>\n",
       "      <td>N</td>\n",
       "      <td>E</td>\n",
       "      <td>200</td>\n",
       "      <td>11</td>\n",
       "      <td>3</td>\n",
       "      <td>500.0</td>\n",
       "      <td>N</td>\n",
       "    </tr>\n",
       "    <tr>\n",
       "      <th>4</th>\n",
       "      <td>321</td>\n",
       "      <td>87</td>\n",
       "      <td>10</td>\n",
       "      <td>39</td>\n",
       "      <td>42</td>\n",
       "      <td>30</td>\n",
       "      <td>2</td>\n",
       "      <td>396</td>\n",
       "      <td>101</td>\n",
       "      <td>12</td>\n",
       "      <td>48</td>\n",
       "      <td>46</td>\n",
       "      <td>33</td>\n",
       "      <td>N</td>\n",
       "      <td>E</td>\n",
       "      <td>805</td>\n",
       "      <td>40</td>\n",
       "      <td>4</td>\n",
       "      <td>91.5</td>\n",
       "      <td>N</td>\n",
       "    </tr>\n",
       "  </tbody>\n",
       "</table>\n",
       "</div>"
      ],
      "text/plain": [
       "   AtBat  Hits  HmRun  Runs  RBI  Walks  Years  CAtBat  CHits  CHmRun  CRuns  \\\n",
       "0    293    66      1    30   29     14      1     293     66       1     30   \n",
       "1    315    81      7    24   38     39     14    3449    835      69    321   \n",
       "2    479   130     18    66   72     76      3    1624    457      63    224   \n",
       "3    496   141     20    65   78     37     11    5628   1575     225    828   \n",
       "4    321    87     10    39   42     30      2     396    101      12     48   \n",
       "\n",
       "   CRBI  CWalks League Division  PutOuts  Assists  Errors  Salary NewLeague  \n",
       "0    29      14      A        E      446       33      20     NaN         A  \n",
       "1   414     375      N        W      632       43      10   475.0         N  \n",
       "2   266     263      A        W      880       82      14   480.0         A  \n",
       "3   838     354      N        E      200       11       3   500.0         N  \n",
       "4    46      33      N        E      805       40       4    91.5         N  "
      ]
     },
     "execution_count": 3,
     "metadata": {},
     "output_type": "execute_result"
    }
   ],
   "source": [
    "# Veri setinin ilk 5 gözlem birimine erişildi.\n",
    "df.head()"
   ]
  },
  {
   "cell_type": "code",
   "execution_count": 4,
   "metadata": {},
   "outputs": [
    {
     "data": {
      "text/plain": [
       "(322, 20)"
      ]
     },
     "execution_count": 4,
     "metadata": {},
     "output_type": "execute_result"
    }
   ],
   "source": [
    "# Veri setinin boyutu incelendi. 322 gözlem birimi ve 20 değişkenden oluşmaktadır.\n",
    "df.shape"
   ]
  },
  {
   "cell_type": "code",
   "execution_count": 5,
   "metadata": {},
   "outputs": [
    {
     "name": "stdout",
     "output_type": "stream",
     "text": [
      "<class 'pandas.core.frame.DataFrame'>\n",
      "RangeIndex: 322 entries, 0 to 321\n",
      "Data columns (total 20 columns):\n",
      " #   Column     Non-Null Count  Dtype  \n",
      "---  ------     --------------  -----  \n",
      " 0   AtBat      322 non-null    int64  \n",
      " 1   Hits       322 non-null    int64  \n",
      " 2   HmRun      322 non-null    int64  \n",
      " 3   Runs       322 non-null    int64  \n",
      " 4   RBI        322 non-null    int64  \n",
      " 5   Walks      322 non-null    int64  \n",
      " 6   Years      322 non-null    int64  \n",
      " 7   CAtBat     322 non-null    int64  \n",
      " 8   CHits      322 non-null    int64  \n",
      " 9   CHmRun     322 non-null    int64  \n",
      " 10  CRuns      322 non-null    int64  \n",
      " 11  CRBI       322 non-null    int64  \n",
      " 12  CWalks     322 non-null    int64  \n",
      " 13  League     322 non-null    object \n",
      " 14  Division   322 non-null    object \n",
      " 15  PutOuts    322 non-null    int64  \n",
      " 16  Assists    322 non-null    int64  \n",
      " 17  Errors     322 non-null    int64  \n",
      " 18  Salary     263 non-null    float64\n",
      " 19  NewLeague  322 non-null    object \n",
      "dtypes: float64(1), int64(16), object(3)\n",
      "memory usage: 50.4+ KB\n"
     ]
    }
   ],
   "source": [
    "# Veri setinin yapısal bilgilerine ulaşıldı.\n",
    "df.info()"
   ]
  },
  {
   "cell_type": "code",
   "execution_count": 6,
   "metadata": {},
   "outputs": [
    {
     "data": {
      "text/plain": [
       "AtBat        247\n",
       "Hits         144\n",
       "HmRun         36\n",
       "Runs          96\n",
       "RBI          103\n",
       "Walks         89\n",
       "Years         22\n",
       "CAtBat       314\n",
       "CHits        288\n",
       "CHmRun       146\n",
       "CRuns        261\n",
       "CRBI         262\n",
       "CWalks       248\n",
       "League         2\n",
       "Division       2\n",
       "PutOuts      232\n",
       "Assists      161\n",
       "Errors        29\n",
       "Salary       150\n",
       "NewLeague      2\n",
       "dtype: int64"
      ]
     },
     "execution_count": 6,
     "metadata": {},
     "output_type": "execute_result"
    }
   ],
   "source": [
    "# Değişkenlerdeki eşşiz gözlem sayılarına erişim sağlandı.\n",
    "df.nunique()"
   ]
  },
  {
   "cell_type": "code",
   "execution_count": 7,
   "metadata": {},
   "outputs": [
    {
     "data": {
      "text/plain": [
       "A    175\n",
       "N    147\n",
       "Name: League, dtype: int64"
      ]
     },
     "execution_count": 7,
     "metadata": {},
     "output_type": "execute_result"
    }
   ],
   "source": [
    "# League bir kategorik değişken olduğu için buradaki sınıflardan kaç adet olduğu incelenildi. \n",
    "# League değişkeni oyuncunun oynamış olduğu lig hakkında bilgi vermektedir.\n",
    "df[\"League\"].value_counts()"
   ]
  },
  {
   "cell_type": "code",
   "execution_count": 8,
   "metadata": {},
   "outputs": [
    {
     "data": {
      "image/png": "[encoded data removed]",
      "text/plain": [
       "<Figure size 432x288 with 1 Axes>"
      ]
     },
     "metadata": {
      "needs_background": "light"
     },
     "output_type": "display_data"
    }
   ],
   "source": [
    "df.League.value_counts().plot.barh();"
   ]
  },
  {
   "cell_type": "code",
   "execution_count": 9,
   "metadata": {},
   "outputs": [
    {
     "data": {
      "text/plain": [
       "A    176\n",
       "N    146\n",
       "Name: NewLeague, dtype: int64"
      ]
     },
     "execution_count": 9,
     "metadata": {},
     "output_type": "execute_result"
    }
   ],
   "source": [
    "# NewLeague bir kategorik değişken olduğu için buradaki sınıflardan kaç adet olduğu incelenildi. \n",
    "# NewLeague değişkeni oyuncunun 1987 yılında hangi ligde oynayacağı hakkında bilgi vermektedir.\n",
    "df[\"NewLeague\"].value_counts()"
   ]
  },
  {
   "cell_type": "code",
   "execution_count": 10,
   "metadata": {},
   "outputs": [
    {
     "data": {
      "image/png": "[encoded data removed]",
      "text/plain": [
       "<Figure size 432x288 with 1 Axes>"
      ]
     },
     "metadata": {
      "needs_background": "light"
     },
     "output_type": "display_data"
    }
   ],
   "source": [
    "df.NewLeague.value_counts().plot.barh();"
   ]
  },
  {
   "cell_type": "code",
   "execution_count": 11,
   "metadata": {},
   "outputs": [
    {
     "data": {
      "text/plain": [
       "W    165\n",
       "E    157\n",
       "Name: Division, dtype: int64"
      ]
     },
     "execution_count": 11,
     "metadata": {},
     "output_type": "execute_result"
    }
   ],
   "source": [
    "# Division bir kategorik değişken olduğu için buradaki sınıflardan kaç adet olduğu incelenildi. \n",
    "# Division değişkeni oyuncunun oynadığı pozisyon hakkında bilgi vermektedir.\n",
    "df[\"Division\"].value_counts()"
   ]
  },
  {
   "cell_type": "code",
   "execution_count": 12,
   "metadata": {},
   "outputs": [
    {
     "data": {
      "image/png": "[encoded data removed]",
      "text/plain": [
       "<Figure size 432x288 with 1 Axes>"
      ]
     },
     "metadata": {
      "needs_background": "light"
     },
     "output_type": "display_data"
    }
   ],
   "source": [
    "df.Division.value_counts().plot.barh();"
   ]
  },
  {
   "cell_type": "code",
   "execution_count": 13,
   "metadata": {},
   "outputs": [
    {
     "data": {
      "text/plain": [
       "2460.0"
      ]
     },
     "execution_count": 13,
     "metadata": {},
     "output_type": "execute_result"
    }
   ],
   "source": [
    "# Salary (Maaş) değişkeninin maksimum değerine erişilmiştir. Aynı zamanda bağımlı değişkenimizdir.\n",
    "df[\"Salary\"].max()"
   ]
  },
  {
   "cell_type": "code",
   "execution_count": 14,
   "metadata": {},
   "outputs": [
    {
     "data": {
      "text/plain": [
       "67.5"
      ]
     },
     "execution_count": 14,
     "metadata": {},
     "output_type": "execute_result"
    }
   ],
   "source": [
    "# Salary (Maaş) değişkeninin minimum değerine erişilmiştir.\n",
    "df[\"Salary\"].min()"
   ]
  },
  {
   "cell_type": "code",
   "execution_count": 15,
   "metadata": {},
   "outputs": [
    {
     "data": {
      "image/png": "[encoded data removed]",
      "text/plain": [
       "<Figure size 432x288 with 1 Axes>"
      ]
     },
     "metadata": {
      "needs_background": "light"
     },
     "output_type": "display_data"
    }
   ],
   "source": [
    "# Salary (Maaş) değişkeninin histogram ve yoğunluk grafiği çizdirilmiştir.\n",
    "sns.distplot(df.Salary);"
   ]
  },
  {
   "cell_type": "code",
   "execution_count": 16,
   "metadata": {},
   "outputs": [
    {
     "data": {
      "text/html": [
       "<div>\n",
       "<style scoped>\n",
       "    .dataframe tbody tr th:only-of-type {\n",
       "        vertical-align: middle;\n",
       "    }\n",
       "\n",
       "    .dataframe tbody tr th {\n",
       "        vertical-align: top;\n",
       "    }\n",
       "\n",
       "    .dataframe thead th {\n",
       "        text-align: right;\n",
       "    }\n",
       "</style>\n",
       "<table border=\"1\" class=\"dataframe\">\n",
       "  <thead>\n",
       "    <tr style=\"text-align: right;\">\n",
       "      <th></th>\n",
       "      <th>count</th>\n",
       "      <th>mean</th>\n",
       "      <th>std</th>\n",
       "      <th>min</th>\n",
       "      <th>25%</th>\n",
       "      <th>50%</th>\n",
       "      <th>75%</th>\n",
       "      <th>max</th>\n",
       "    </tr>\n",
       "  </thead>\n",
       "  <tbody>\n",
       "    <tr>\n",
       "      <th>AtBat</th>\n",
       "      <td>322.0</td>\n",
       "      <td>380.928571</td>\n",
       "      <td>153.404981</td>\n",
       "      <td>16.0</td>\n",
       "      <td>255.25</td>\n",
       "      <td>379.5</td>\n",
       "      <td>512.00</td>\n",
       "      <td>687.0</td>\n",
       "    </tr>\n",
       "    <tr>\n",
       "      <th>Hits</th>\n",
       "      <td>322.0</td>\n",
       "      <td>101.024845</td>\n",
       "      <td>46.454741</td>\n",
       "      <td>1.0</td>\n",
       "      <td>64.00</td>\n",
       "      <td>96.0</td>\n",
       "      <td>137.00</td>\n",
       "      <td>238.0</td>\n",
       "    </tr>\n",
       "    <tr>\n",
       "      <th>HmRun</th>\n",
       "      <td>322.0</td>\n",
       "      <td>10.770186</td>\n",
       "      <td>8.709037</td>\n",
       "      <td>0.0</td>\n",
       "      <td>4.00</td>\n",
       "      <td>8.0</td>\n",
       "      <td>16.00</td>\n",
       "      <td>40.0</td>\n",
       "    </tr>\n",
       "    <tr>\n",
       "      <th>Runs</th>\n",
       "      <td>322.0</td>\n",
       "      <td>50.909938</td>\n",
       "      <td>26.024095</td>\n",
       "      <td>0.0</td>\n",
       "      <td>30.25</td>\n",
       "      <td>48.0</td>\n",
       "      <td>69.00</td>\n",
       "      <td>130.0</td>\n",
       "    </tr>\n",
       "    <tr>\n",
       "      <th>RBI</th>\n",
       "      <td>322.0</td>\n",
       "      <td>48.027950</td>\n",
       "      <td>26.166895</td>\n",
       "      <td>0.0</td>\n",
       "      <td>28.00</td>\n",
       "      <td>44.0</td>\n",
       "      <td>64.75</td>\n",
       "      <td>121.0</td>\n",
       "    </tr>\n",
       "    <tr>\n",
       "      <th>Walks</th>\n",
       "      <td>322.0</td>\n",
       "      <td>38.742236</td>\n",
       "      <td>21.639327</td>\n",
       "      <td>0.0</td>\n",
       "      <td>22.00</td>\n",
       "      <td>35.0</td>\n",
       "      <td>53.00</td>\n",
       "      <td>105.0</td>\n",
       "    </tr>\n",
       "    <tr>\n",
       "      <th>Years</th>\n",
       "      <td>322.0</td>\n",
       "      <td>7.444099</td>\n",
       "      <td>4.926087</td>\n",
       "      <td>1.0</td>\n",
       "      <td>4.00</td>\n",
       "      <td>6.0</td>\n",
       "      <td>11.00</td>\n",
       "      <td>24.0</td>\n",
       "    </tr>\n",
       "    <tr>\n",
       "      <th>CAtBat</th>\n",
       "      <td>322.0</td>\n",
       "      <td>2648.683230</td>\n",
       "      <td>2324.205870</td>\n",
       "      <td>19.0</td>\n",
       "      <td>816.75</td>\n",
       "      <td>1928.0</td>\n",
       "      <td>3924.25</td>\n",
       "      <td>14053.0</td>\n",
       "    </tr>\n",
       "    <tr>\n",
       "      <th>CHits</th>\n",
       "      <td>322.0</td>\n",
       "      <td>717.571429</td>\n",
       "      <td>654.472627</td>\n",
       "      <td>4.0</td>\n",
       "      <td>209.00</td>\n",
       "      <td>508.0</td>\n",
       "      <td>1059.25</td>\n",
       "      <td>4256.0</td>\n",
       "    </tr>\n",
       "    <tr>\n",
       "      <th>CHmRun</th>\n",
       "      <td>322.0</td>\n",
       "      <td>69.490683</td>\n",
       "      <td>86.266061</td>\n",
       "      <td>0.0</td>\n",
       "      <td>14.00</td>\n",
       "      <td>37.5</td>\n",
       "      <td>90.00</td>\n",
       "      <td>548.0</td>\n",
       "    </tr>\n",
       "    <tr>\n",
       "      <th>CRuns</th>\n",
       "      <td>322.0</td>\n",
       "      <td>358.795031</td>\n",
       "      <td>334.105886</td>\n",
       "      <td>1.0</td>\n",
       "      <td>100.25</td>\n",
       "      <td>247.0</td>\n",
       "      <td>526.25</td>\n",
       "      <td>2165.0</td>\n",
       "    </tr>\n",
       "    <tr>\n",
       "      <th>CRBI</th>\n",
       "      <td>322.0</td>\n",
       "      <td>330.118012</td>\n",
       "      <td>333.219617</td>\n",
       "      <td>0.0</td>\n",
       "      <td>88.75</td>\n",
       "      <td>220.5</td>\n",
       "      <td>426.25</td>\n",
       "      <td>1659.0</td>\n",
       "    </tr>\n",
       "    <tr>\n",
       "      <th>CWalks</th>\n",
       "      <td>322.0</td>\n",
       "      <td>260.239130</td>\n",
       "      <td>267.058085</td>\n",
       "      <td>0.0</td>\n",
       "      <td>67.25</td>\n",
       "      <td>170.5</td>\n",
       "      <td>339.25</td>\n",
       "      <td>1566.0</td>\n",
       "    </tr>\n",
       "    <tr>\n",
       "      <th>PutOuts</th>\n",
       "      <td>322.0</td>\n",
       "      <td>288.937888</td>\n",
       "      <td>280.704614</td>\n",
       "      <td>0.0</td>\n",
       "      <td>109.25</td>\n",
       "      <td>212.0</td>\n",
       "      <td>325.00</td>\n",
       "      <td>1378.0</td>\n",
       "    </tr>\n",
       "    <tr>\n",
       "      <th>Assists</th>\n",
       "      <td>322.0</td>\n",
       "      <td>106.913043</td>\n",
       "      <td>136.854876</td>\n",
       "      <td>0.0</td>\n",
       "      <td>7.00</td>\n",
       "      <td>39.5</td>\n",
       "      <td>166.00</td>\n",
       "      <td>492.0</td>\n",
       "    </tr>\n",
       "    <tr>\n",
       "      <th>Errors</th>\n",
       "      <td>322.0</td>\n",
       "      <td>8.040373</td>\n",
       "      <td>6.368359</td>\n",
       "      <td>0.0</td>\n",
       "      <td>3.00</td>\n",
       "      <td>6.0</td>\n",
       "      <td>11.00</td>\n",
       "      <td>32.0</td>\n",
       "    </tr>\n",
       "    <tr>\n",
       "      <th>Salary</th>\n",
       "      <td>263.0</td>\n",
       "      <td>535.925882</td>\n",
       "      <td>451.118681</td>\n",
       "      <td>67.5</td>\n",
       "      <td>190.00</td>\n",
       "      <td>425.0</td>\n",
       "      <td>750.00</td>\n",
       "      <td>2460.0</td>\n",
       "    </tr>\n",
       "  </tbody>\n",
       "</table>\n",
       "</div>"
      ],
      "text/plain": [
       "         count         mean          std   min     25%     50%      75%  \\\n",
       "AtBat    322.0   380.928571   153.404981  16.0  255.25   379.5   512.00   \n",
       "Hits     322.0   101.024845    46.454741   1.0   64.00    96.0   137.00   \n",
       "HmRun    322.0    10.770186     8.709037   0.0    4.00     8.0    16.00   \n",
       "Runs     322.0    50.909938    26.024095   0.0   30.25    48.0    69.00   \n",
       "RBI      322.0    48.027950    26.166895   0.0   28.00    44.0    64.75   \n",
       "Walks    322.0    38.742236    21.639327   0.0   22.00    35.0    53.00   \n",
       "Years    322.0     7.444099     4.926087   1.0    4.00     6.0    11.00   \n",
       "CAtBat   322.0  2648.683230  2324.205870  19.0  816.75  1928.0  3924.25   \n",
       "CHits    322.0   717.571429   654.472627   4.0  209.00   508.0  1059.25   \n",
       "CHmRun   322.0    69.490683    86.266061   0.0   14.00    37.5    90.00   \n",
       "CRuns    322.0   358.795031   334.105886   1.0  100.25   247.0   526.25   \n",
       "CRBI     322.0   330.118012   333.219617   0.0   88.75   220.5   426.25   \n",
       "CWalks   322.0   260.239130   267.058085   0.0   67.25   170.5   339.25   \n",
       "PutOuts  322.0   288.937888   280.704614   0.0  109.25   212.0   325.00   \n",
       "Assists  322.0   106.913043   136.854876   0.0    7.00    39.5   166.00   \n",
       "Errors   322.0     8.040373     6.368359   0.0    3.00     6.0    11.00   \n",
       "Salary   263.0   535.925882   451.118681  67.5  190.00   425.0   750.00   \n",
       "\n",
       "             max  \n",
       "AtBat      687.0  \n",
       "Hits       238.0  \n",
       "HmRun       40.0  \n",
       "Runs       130.0  \n",
       "RBI        121.0  \n",
       "Walks      105.0  \n",
       "Years       24.0  \n",
       "CAtBat   14053.0  \n",
       "CHits     4256.0  \n",
       "CHmRun     548.0  \n",
       "CRuns     2165.0  \n",
       "CRBI      1659.0  \n",
       "CWalks    1566.0  \n",
       "PutOuts   1378.0  \n",
       "Assists    492.0  \n",
       "Errors      32.0  \n",
       "Salary    2460.0  "
      ]
     },
     "execution_count": 16,
     "metadata": {},
     "output_type": "execute_result"
    }
   ],
   "source": [
    "# Veri setinin betimsel istatistiklerine erişildi.\n",
    "df.describe().T"
   ]
  },
  {
   "cell_type": "code",
   "execution_count": 17,
   "metadata": {},
   "outputs": [
    {
     "data": {
      "text/html": [
       "<div>\n",
       "<style scoped>\n",
       "    .dataframe tbody tr th:only-of-type {\n",
       "        vertical-align: middle;\n",
       "    }\n",
       "\n",
       "    .dataframe tbody tr th {\n",
       "        vertical-align: top;\n",
       "    }\n",
       "\n",
       "    .dataframe thead th {\n",
       "        text-align: right;\n",
       "    }\n",
       "</style>\n",
       "<table border=\"1\" class=\"dataframe\">\n",
       "  <thead>\n",
       "    <tr style=\"text-align: right;\">\n",
       "      <th></th>\n",
       "      <th>AtBat</th>\n",
       "      <th>Hits</th>\n",
       "      <th>HmRun</th>\n",
       "      <th>Runs</th>\n",
       "      <th>RBI</th>\n",
       "      <th>Walks</th>\n",
       "      <th>Years</th>\n",
       "      <th>CAtBat</th>\n",
       "      <th>CHits</th>\n",
       "      <th>CHmRun</th>\n",
       "      <th>CRuns</th>\n",
       "      <th>CRBI</th>\n",
       "      <th>CWalks</th>\n",
       "      <th>PutOuts</th>\n",
       "      <th>Assists</th>\n",
       "      <th>Errors</th>\n",
       "      <th>Salary</th>\n",
       "    </tr>\n",
       "  </thead>\n",
       "  <tbody>\n",
       "    <tr>\n",
       "      <th>AtBat</th>\n",
       "      <td>1.000000</td>\n",
       "      <td>0.967939</td>\n",
       "      <td>0.592198</td>\n",
       "      <td>0.913060</td>\n",
       "      <td>0.820539</td>\n",
       "      <td>0.669845</td>\n",
       "      <td>0.047372</td>\n",
       "      <td>0.235526</td>\n",
       "      <td>0.252717</td>\n",
       "      <td>0.236659</td>\n",
       "      <td>0.266534</td>\n",
       "      <td>0.244053</td>\n",
       "      <td>0.166123</td>\n",
       "      <td>0.317550</td>\n",
       "      <td>0.353824</td>\n",
       "      <td>0.352117</td>\n",
       "      <td>0.394771</td>\n",
       "    </tr>\n",
       "    <tr>\n",
       "      <th>Hits</th>\n",
       "      <td>0.967939</td>\n",
       "      <td>1.000000</td>\n",
       "      <td>0.562158</td>\n",
       "      <td>0.922187</td>\n",
       "      <td>0.811073</td>\n",
       "      <td>0.641211</td>\n",
       "      <td>0.044767</td>\n",
       "      <td>0.227565</td>\n",
       "      <td>0.255815</td>\n",
       "      <td>0.202712</td>\n",
       "      <td>0.261787</td>\n",
       "      <td>0.232005</td>\n",
       "      <td>0.151818</td>\n",
       "      <td>0.310673</td>\n",
       "      <td>0.320455</td>\n",
       "      <td>0.310038</td>\n",
       "      <td>0.438675</td>\n",
       "    </tr>\n",
       "    <tr>\n",
       "      <th>HmRun</th>\n",
       "      <td>0.592198</td>\n",
       "      <td>0.562158</td>\n",
       "      <td>1.000000</td>\n",
       "      <td>0.650988</td>\n",
       "      <td>0.855122</td>\n",
       "      <td>0.481014</td>\n",
       "      <td>0.116318</td>\n",
       "      <td>0.221882</td>\n",
       "      <td>0.220627</td>\n",
       "      <td>0.493227</td>\n",
       "      <td>0.262361</td>\n",
       "      <td>0.351979</td>\n",
       "      <td>0.233154</td>\n",
       "      <td>0.282923</td>\n",
       "      <td>-0.106329</td>\n",
       "      <td>0.039318</td>\n",
       "      <td>0.343028</td>\n",
       "    </tr>\n",
       "    <tr>\n",
       "      <th>Runs</th>\n",
       "      <td>0.913060</td>\n",
       "      <td>0.922187</td>\n",
       "      <td>0.650988</td>\n",
       "      <td>1.000000</td>\n",
       "      <td>0.798206</td>\n",
       "      <td>0.732213</td>\n",
       "      <td>0.004541</td>\n",
       "      <td>0.186497</td>\n",
       "      <td>0.204830</td>\n",
       "      <td>0.227913</td>\n",
       "      <td>0.250556</td>\n",
       "      <td>0.205976</td>\n",
       "      <td>0.182168</td>\n",
       "      <td>0.279347</td>\n",
       "      <td>0.220567</td>\n",
       "      <td>0.240475</td>\n",
       "      <td>0.419859</td>\n",
       "    </tr>\n",
       "    <tr>\n",
       "      <th>RBI</th>\n",
       "      <td>0.820539</td>\n",
       "      <td>0.811073</td>\n",
       "      <td>0.855122</td>\n",
       "      <td>0.798206</td>\n",
       "      <td>1.000000</td>\n",
       "      <td>0.615997</td>\n",
       "      <td>0.146168</td>\n",
       "      <td>0.294688</td>\n",
       "      <td>0.308201</td>\n",
       "      <td>0.441771</td>\n",
       "      <td>0.323285</td>\n",
       "      <td>0.393184</td>\n",
       "      <td>0.250914</td>\n",
       "      <td>0.343186</td>\n",
       "      <td>0.106591</td>\n",
       "      <td>0.193370</td>\n",
       "      <td>0.449457</td>\n",
       "    </tr>\n",
       "    <tr>\n",
       "      <th>Walks</th>\n",
       "      <td>0.669845</td>\n",
       "      <td>0.641211</td>\n",
       "      <td>0.481014</td>\n",
       "      <td>0.732213</td>\n",
       "      <td>0.615997</td>\n",
       "      <td>1.000000</td>\n",
       "      <td>0.136475</td>\n",
       "      <td>0.277175</td>\n",
       "      <td>0.280671</td>\n",
       "      <td>0.332473</td>\n",
       "      <td>0.338478</td>\n",
       "      <td>0.308631</td>\n",
       "      <td>0.424507</td>\n",
       "      <td>0.299515</td>\n",
       "      <td>0.149656</td>\n",
       "      <td>0.129382</td>\n",
       "      <td>0.443867</td>\n",
       "    </tr>\n",
       "    <tr>\n",
       "      <th>Years</th>\n",
       "      <td>0.047372</td>\n",
       "      <td>0.044767</td>\n",
       "      <td>0.116318</td>\n",
       "      <td>0.004541</td>\n",
       "      <td>0.146168</td>\n",
       "      <td>0.136475</td>\n",
       "      <td>1.000000</td>\n",
       "      <td>0.920289</td>\n",
       "      <td>0.903631</td>\n",
       "      <td>0.726872</td>\n",
       "      <td>0.882877</td>\n",
       "      <td>0.868812</td>\n",
       "      <td>0.838533</td>\n",
       "      <td>-0.004684</td>\n",
       "      <td>-0.080638</td>\n",
       "      <td>-0.162140</td>\n",
       "      <td>0.400657</td>\n",
       "    </tr>\n",
       "    <tr>\n",
       "      <th>CAtBat</th>\n",
       "      <td>0.235526</td>\n",
       "      <td>0.227565</td>\n",
       "      <td>0.221882</td>\n",
       "      <td>0.186497</td>\n",
       "      <td>0.294688</td>\n",
       "      <td>0.277175</td>\n",
       "      <td>0.920289</td>\n",
       "      <td>1.000000</td>\n",
       "      <td>0.995063</td>\n",
       "      <td>0.798836</td>\n",
       "      <td>0.983345</td>\n",
       "      <td>0.949219</td>\n",
       "      <td>0.906501</td>\n",
       "      <td>0.062283</td>\n",
       "      <td>0.002038</td>\n",
       "      <td>-0.066922</td>\n",
       "      <td>0.526135</td>\n",
       "    </tr>\n",
       "    <tr>\n",
       "      <th>CHits</th>\n",
       "      <td>0.252717</td>\n",
       "      <td>0.255815</td>\n",
       "      <td>0.220627</td>\n",
       "      <td>0.204830</td>\n",
       "      <td>0.308201</td>\n",
       "      <td>0.280671</td>\n",
       "      <td>0.903631</td>\n",
       "      <td>0.995063</td>\n",
       "      <td>1.000000</td>\n",
       "      <td>0.783306</td>\n",
       "      <td>0.984609</td>\n",
       "      <td>0.945141</td>\n",
       "      <td>0.890954</td>\n",
       "      <td>0.076547</td>\n",
       "      <td>-0.002523</td>\n",
       "      <td>-0.062756</td>\n",
       "      <td>0.548910</td>\n",
       "    </tr>\n",
       "    <tr>\n",
       "      <th>CHmRun</th>\n",
       "      <td>0.236659</td>\n",
       "      <td>0.202712</td>\n",
       "      <td>0.493227</td>\n",
       "      <td>0.227913</td>\n",
       "      <td>0.441771</td>\n",
       "      <td>0.332473</td>\n",
       "      <td>0.726872</td>\n",
       "      <td>0.798836</td>\n",
       "      <td>0.783306</td>\n",
       "      <td>1.000000</td>\n",
       "      <td>0.820243</td>\n",
       "      <td>0.929484</td>\n",
       "      <td>0.799983</td>\n",
       "      <td>0.112724</td>\n",
       "      <td>-0.158511</td>\n",
       "      <td>-0.138115</td>\n",
       "      <td>0.524931</td>\n",
       "    </tr>\n",
       "    <tr>\n",
       "      <th>CRuns</th>\n",
       "      <td>0.266534</td>\n",
       "      <td>0.261787</td>\n",
       "      <td>0.262361</td>\n",
       "      <td>0.250556</td>\n",
       "      <td>0.323285</td>\n",
       "      <td>0.338478</td>\n",
       "      <td>0.882877</td>\n",
       "      <td>0.983345</td>\n",
       "      <td>0.984609</td>\n",
       "      <td>0.820243</td>\n",
       "      <td>1.000000</td>\n",
       "      <td>0.943769</td>\n",
       "      <td>0.927807</td>\n",
       "      <td>0.064180</td>\n",
       "      <td>-0.022978</td>\n",
       "      <td>-0.084395</td>\n",
       "      <td>0.562678</td>\n",
       "    </tr>\n",
       "    <tr>\n",
       "      <th>CRBI</th>\n",
       "      <td>0.244053</td>\n",
       "      <td>0.232005</td>\n",
       "      <td>0.351979</td>\n",
       "      <td>0.205976</td>\n",
       "      <td>0.393184</td>\n",
       "      <td>0.308631</td>\n",
       "      <td>0.868812</td>\n",
       "      <td>0.949219</td>\n",
       "      <td>0.945141</td>\n",
       "      <td>0.929484</td>\n",
       "      <td>0.943769</td>\n",
       "      <td>1.000000</td>\n",
       "      <td>0.884726</td>\n",
       "      <td>0.110098</td>\n",
       "      <td>-0.079387</td>\n",
       "      <td>-0.100990</td>\n",
       "      <td>0.566966</td>\n",
       "    </tr>\n",
       "    <tr>\n",
       "      <th>CWalks</th>\n",
       "      <td>0.166123</td>\n",
       "      <td>0.151818</td>\n",
       "      <td>0.233154</td>\n",
       "      <td>0.182168</td>\n",
       "      <td>0.250914</td>\n",
       "      <td>0.424507</td>\n",
       "      <td>0.838533</td>\n",
       "      <td>0.906501</td>\n",
       "      <td>0.890954</td>\n",
       "      <td>0.799983</td>\n",
       "      <td>0.927807</td>\n",
       "      <td>0.884726</td>\n",
       "      <td>1.000000</td>\n",
       "      <td>0.058638</td>\n",
       "      <td>-0.039130</td>\n",
       "      <td>-0.118475</td>\n",
       "      <td>0.489822</td>\n",
       "    </tr>\n",
       "    <tr>\n",
       "      <th>PutOuts</th>\n",
       "      <td>0.317550</td>\n",
       "      <td>0.310673</td>\n",
       "      <td>0.282923</td>\n",
       "      <td>0.279347</td>\n",
       "      <td>0.343186</td>\n",
       "      <td>0.299515</td>\n",
       "      <td>-0.004684</td>\n",
       "      <td>0.062283</td>\n",
       "      <td>0.076547</td>\n",
       "      <td>0.112724</td>\n",
       "      <td>0.064180</td>\n",
       "      <td>0.110098</td>\n",
       "      <td>0.058638</td>\n",
       "      <td>1.000000</td>\n",
       "      <td>-0.025024</td>\n",
       "      <td>0.109972</td>\n",
       "      <td>0.300480</td>\n",
       "    </tr>\n",
       "    <tr>\n",
       "      <th>Assists</th>\n",
       "      <td>0.353824</td>\n",
       "      <td>0.320455</td>\n",
       "      <td>-0.106329</td>\n",
       "      <td>0.220567</td>\n",
       "      <td>0.106591</td>\n",
       "      <td>0.149656</td>\n",
       "      <td>-0.080638</td>\n",
       "      <td>0.002038</td>\n",
       "      <td>-0.002523</td>\n",
       "      <td>-0.158511</td>\n",
       "      <td>-0.022978</td>\n",
       "      <td>-0.079387</td>\n",
       "      <td>-0.039130</td>\n",
       "      <td>-0.025024</td>\n",
       "      <td>1.000000</td>\n",
       "      <td>0.706362</td>\n",
       "      <td>0.025436</td>\n",
       "    </tr>\n",
       "    <tr>\n",
       "      <th>Errors</th>\n",
       "      <td>0.352117</td>\n",
       "      <td>0.310038</td>\n",
       "      <td>0.039318</td>\n",
       "      <td>0.240475</td>\n",
       "      <td>0.193370</td>\n",
       "      <td>0.129382</td>\n",
       "      <td>-0.162140</td>\n",
       "      <td>-0.066922</td>\n",
       "      <td>-0.062756</td>\n",
       "      <td>-0.138115</td>\n",
       "      <td>-0.084395</td>\n",
       "      <td>-0.100990</td>\n",
       "      <td>-0.118475</td>\n",
       "      <td>0.109972</td>\n",
       "      <td>0.706362</td>\n",
       "      <td>1.000000</td>\n",
       "      <td>-0.005401</td>\n",
       "    </tr>\n",
       "    <tr>\n",
       "      <th>Salary</th>\n",
       "      <td>0.394771</td>\n",
       "      <td>0.438675</td>\n",
       "      <td>0.343028</td>\n",
       "      <td>0.419859</td>\n",
       "      <td>0.449457</td>\n",
       "      <td>0.443867</td>\n",
       "      <td>0.400657</td>\n",
       "      <td>0.526135</td>\n",
       "      <td>0.548910</td>\n",
       "      <td>0.524931</td>\n",
       "      <td>0.562678</td>\n",
       "      <td>0.566966</td>\n",
       "      <td>0.489822</td>\n",
       "      <td>0.300480</td>\n",
       "      <td>0.025436</td>\n",
       "      <td>-0.005401</td>\n",
       "      <td>1.000000</td>\n",
       "    </tr>\n",
       "  </tbody>\n",
       "</table>\n",
       "</div>"
      ],
      "text/plain": [
       "            AtBat      Hits     HmRun      Runs       RBI     Walks     Years  \\\n",
       "AtBat    1.000000  0.967939  0.592198  0.913060  0.820539  0.669845  0.047372   \n",
       "Hits     0.967939  1.000000  0.562158  0.922187  0.811073  0.641211  0.044767   \n",
       "HmRun    0.592198  0.562158  1.000000  0.650988  0.855122  0.481014  0.116318   \n",
       "Runs     0.913060  0.922187  0.650988  1.000000  0.798206  0.732213  0.004541   \n",
       "RBI      0.820539  0.811073  0.855122  0.798206  1.000000  0.615997  0.146168   \n",
       "Walks    0.669845  0.641211  0.481014  0.732213  0.615997  1.000000  0.136475   \n",
       "Years    0.047372  0.044767  0.116318  0.004541  0.146168  0.136475  1.000000   \n",
       "CAtBat   0.235526  0.227565  0.221882  0.186497  0.294688  0.277175  0.920289   \n",
       "CHits    0.252717  0.255815  0.220627  0.204830  0.308201  0.280671  0.903631   \n",
       "CHmRun   0.236659  0.202712  0.493227  0.227913  0.441771  0.332473  0.726872   \n",
       "CRuns    0.266534  0.261787  0.262361  0.250556  0.323285  0.338478  0.882877   \n",
       "CRBI     0.244053  0.232005  0.351979  0.205976  0.393184  0.308631  0.868812   \n",
       "CWalks   0.166123  0.151818  0.233154  0.182168  0.250914  0.424507  0.838533   \n",
       "PutOuts  0.317550  0.310673  0.282923  0.279347  0.343186  0.299515 -0.004684   \n",
       "Assists  0.353824  0.320455 -0.106329  0.220567  0.106591  0.149656 -0.080638   \n",
       "Errors   0.352117  0.310038  0.039318  0.240475  0.193370  0.129382 -0.162140   \n",
       "Salary   0.394771  0.438675  0.343028  0.419859  0.449457  0.443867  0.400657   \n",
       "\n",
       "           CAtBat     CHits    CHmRun     CRuns      CRBI    CWalks   PutOuts  \\\n",
       "AtBat    0.235526  0.252717  0.236659  0.266534  0.244053  0.166123  0.317550   \n",
       "Hits     0.227565  0.255815  0.202712  0.261787  0.232005  0.151818  0.310673   \n",
       "HmRun    0.221882  0.220627  0.493227  0.262361  0.351979  0.233154  0.282923   \n",
       "Runs     0.186497  0.204830  0.227913  0.250556  0.205976  0.182168  0.279347   \n",
       "RBI      0.294688  0.308201  0.441771  0.323285  0.393184  0.250914  0.343186   \n",
       "Walks    0.277175  0.280671  0.332473  0.338478  0.308631  0.424507  0.299515   \n",
       "Years    0.920289  0.903631  0.726872  0.882877  0.868812  0.838533 -0.004684   \n",
       "CAtBat   1.000000  0.995063  0.798836  0.983345  0.949219  0.906501  0.062283   \n",
       "CHits    0.995063  1.000000  0.783306  0.984609  0.945141  0.890954  0.076547   \n",
       "CHmRun   0.798836  0.783306  1.000000  0.820243  0.929484  0.799983  0.112724   \n",
       "CRuns    0.983345  0.984609  0.820243  1.000000  0.943769  0.927807  0.064180   \n",
       "CRBI     0.949219  0.945141  0.929484  0.943769  1.000000  0.884726  0.110098   \n",
       "CWalks   0.906501  0.890954  0.799983  0.927807  0.884726  1.000000  0.058638   \n",
       "PutOuts  0.062283  0.076547  0.112724  0.064180  0.110098  0.058638  1.000000   \n",
       "Assists  0.002038 -0.002523 -0.158511 -0.022978 -0.079387 -0.039130 -0.025024   \n",
       "Errors  -0.066922 -0.062756 -0.138115 -0.084395 -0.100990 -0.118475  0.109972   \n",
       "Salary   0.526135  0.548910  0.524931  0.562678  0.566966  0.489822  0.300480   \n",
       "\n",
       "          Assists    Errors    Salary  \n",
       "AtBat    0.353824  0.352117  0.394771  \n",
       "Hits     0.320455  0.310038  0.438675  \n",
       "HmRun   -0.106329  0.039318  0.343028  \n",
       "Runs     0.220567  0.240475  0.419859  \n",
       "RBI      0.106591  0.193370  0.449457  \n",
       "Walks    0.149656  0.129382  0.443867  \n",
       "Years   -0.080638 -0.162140  0.400657  \n",
       "CAtBat   0.002038 -0.066922  0.526135  \n",
       "CHits   -0.002523 -0.062756  0.548910  \n",
       "CHmRun  -0.158511 -0.138115  0.524931  \n",
       "CRuns   -0.022978 -0.084395  0.562678  \n",
       "CRBI    -0.079387 -0.100990  0.566966  \n",
       "CWalks  -0.039130 -0.118475  0.489822  \n",
       "PutOuts -0.025024  0.109972  0.300480  \n",
       "Assists  1.000000  0.706362  0.025436  \n",
       "Errors   0.706362  1.000000 -0.005401  \n",
       "Salary   0.025436 -0.005401  1.000000  "
      ]
     },
     "execution_count": 17,
     "metadata": {},
     "output_type": "execute_result"
    }
   ],
   "source": [
    "# Veri setinin korelasyonuna erişim sağlanmıştır. Değişkenler arasında ne tarz bir ilişki olduğu incelenmiştir. \n",
    "# Korelasyon değeri > 0 ise pozitif korelasyon bulunmaktadır. Bir değişken değeri artarken diğer değişkenin de değeri artmaktadır.\n",
    "# Korelasyon = 0 ise korelasyon yoktur anlamına gelmektedir.\n",
    "# Korelasyon < 0 ise negatif korelasyon bulunmaktadır. Bir değişken artarken diğer değişken azalmaktadır. \n",
    "# Korelasyonlar incelendiğinde Salary bağımlı değişkene pozitif korelasyon olarak etkimekte olan 2 değişken bulunmaktadır. \n",
    "# Bu değişkenler CRBI ile CRuns değişkenleridir. Bunlar arttıkça Salary (Maaş) değişkeni de artmaktadır.\n",
    "df.corr()"
   ]
  },
  {
   "cell_type": "code",
   "execution_count": 18,
   "metadata": {},
   "outputs": [
    {
     "data": {
      "image/png": "[encoded data removed]",
      "text/plain": [
       "<Figure size 1440x1080 with 2 Axes>"
      ]
     },
     "metadata": {
      "needs_background": "light"
     },
     "output_type": "display_data"
    }
   ],
   "source": [
    "# Veri setinin korelasyon matrisi grafiğine erişim sağlanmıştır.\n",
    "f, ax = plt.subplots(figsize= [20,15])\n",
    "sns.heatmap(df.corr(), annot=True, fmt=\".2f\", ax=ax, cmap = \"magma\" )\n",
    "ax.set_title(\"Correlation Matrix\", fontsize=20)\n",
    "plt.show()"
   ]
  },
  {
   "cell_type": "code",
   "execution_count": 19,
   "metadata": {},
   "outputs": [
    {
     "data": {
      "text/html": [
       "<div>\n",
       "<style scoped>\n",
       "    .dataframe tbody tr th:only-of-type {\n",
       "        vertical-align: middle;\n",
       "    }\n",
       "\n",
       "    .dataframe tbody tr th {\n",
       "        vertical-align: top;\n",
       "    }\n",
       "\n",
       "    .dataframe thead th {\n",
       "        text-align: right;\n",
       "    }\n",
       "</style>\n",
       "<table border=\"1\" class=\"dataframe\">\n",
       "  <thead>\n",
       "    <tr style=\"text-align: right;\">\n",
       "      <th></th>\n",
       "      <th>Salary</th>\n",
       "    </tr>\n",
       "    <tr>\n",
       "      <th>League</th>\n",
       "      <th></th>\n",
       "    </tr>\n",
       "  </thead>\n",
       "  <tbody>\n",
       "    <tr>\n",
       "      <th>A</th>\n",
       "      <td>541.999547</td>\n",
       "    </tr>\n",
       "    <tr>\n",
       "      <th>N</th>\n",
       "      <td>529.117500</td>\n",
       "    </tr>\n",
       "  </tbody>\n",
       "</table>\n",
       "</div>"
      ],
      "text/plain": [
       "            Salary\n",
       "League            \n",
       "A       541.999547\n",
       "N       529.117500"
      ]
     },
     "execution_count": 19,
     "metadata": {},
     "output_type": "execute_result"
    }
   ],
   "source": [
    "# League değişkenine göre groupby yapılıp hangi ligde ortalama ne kadar maaş alınmakta bu incelenmiştir.\n",
    "df.groupby(\"League\").agg({\"Salary\": \"mean\"})"
   ]
  },
  {
   "cell_type": "code",
   "execution_count": 20,
   "metadata": {},
   "outputs": [
    {
     "data": {
      "text/html": [
       "<div>\n",
       "<style scoped>\n",
       "    .dataframe tbody tr th:only-of-type {\n",
       "        vertical-align: middle;\n",
       "    }\n",
       "\n",
       "    .dataframe tbody tr th {\n",
       "        vertical-align: top;\n",
       "    }\n",
       "\n",
       "    .dataframe thead th {\n",
       "        text-align: right;\n",
       "    }\n",
       "</style>\n",
       "<table border=\"1\" class=\"dataframe\">\n",
       "  <thead>\n",
       "    <tr style=\"text-align: right;\">\n",
       "      <th></th>\n",
       "      <th>Salary</th>\n",
       "    </tr>\n",
       "    <tr>\n",
       "      <th>NewLeague</th>\n",
       "      <th></th>\n",
       "    </tr>\n",
       "  </thead>\n",
       "  <tbody>\n",
       "    <tr>\n",
       "      <th>A</th>\n",
       "      <td>537.113028</td>\n",
       "    </tr>\n",
       "    <tr>\n",
       "      <th>N</th>\n",
       "      <td>534.553852</td>\n",
       "    </tr>\n",
       "  </tbody>\n",
       "</table>\n",
       "</div>"
      ],
      "text/plain": [
       "               Salary\n",
       "NewLeague            \n",
       "A          537.113028\n",
       "N          534.553852"
      ]
     },
     "execution_count": 20,
     "metadata": {},
     "output_type": "execute_result"
    }
   ],
   "source": [
    "# 1987 yılında oynayacakları yeni liglerde ortalama ne kadar maaş alınmakta bu incelenmiştir.\n",
    "df.groupby(\"NewLeague\").agg({\"Salary\": \"mean\"})"
   ]
  },
  {
   "cell_type": "code",
   "execution_count": 21,
   "metadata": {},
   "outputs": [
    {
     "data": {
      "text/html": [
       "<div>\n",
       "<style scoped>\n",
       "    .dataframe tbody tr th:only-of-type {\n",
       "        vertical-align: middle;\n",
       "    }\n",
       "\n",
       "    .dataframe tbody tr th {\n",
       "        vertical-align: top;\n",
       "    }\n",
       "\n",
       "    .dataframe thead th {\n",
       "        text-align: right;\n",
       "    }\n",
       "</style>\n",
       "<table border=\"1\" class=\"dataframe\">\n",
       "  <thead>\n",
       "    <tr style=\"text-align: right;\">\n",
       "      <th></th>\n",
       "      <th>Salary</th>\n",
       "    </tr>\n",
       "    <tr>\n",
       "      <th>Division</th>\n",
       "      <th></th>\n",
       "    </tr>\n",
       "  </thead>\n",
       "  <tbody>\n",
       "    <tr>\n",
       "      <th>E</th>\n",
       "      <td>624.271364</td>\n",
       "    </tr>\n",
       "    <tr>\n",
       "      <th>W</th>\n",
       "      <td>450.876873</td>\n",
       "    </tr>\n",
       "  </tbody>\n",
       "</table>\n",
       "</div>"
      ],
      "text/plain": [
       "              Salary\n",
       "Division            \n",
       "E         624.271364\n",
       "W         450.876873"
      ]
     },
     "execution_count": 21,
     "metadata": {},
     "output_type": "execute_result"
    }
   ],
   "source": [
    "# Oyuncunun oynadığı pozisyona göre ortalama ne kadar maaş almakta bu incelenmiştir.\n",
    "df.groupby(\"Division\").agg({\"Salary\": \"mean\"})"
   ]
  },
  {
   "cell_type": "code",
   "execution_count": 22,
   "metadata": {},
   "outputs": [
    {
     "data": {
      "text/html": [
       "<div>\n",
       "<style scoped>\n",
       "    .dataframe tbody tr th:only-of-type {\n",
       "        vertical-align: middle;\n",
       "    }\n",
       "\n",
       "    .dataframe tbody tr th {\n",
       "        vertical-align: top;\n",
       "    }\n",
       "\n",
       "    .dataframe thead th {\n",
       "        text-align: right;\n",
       "    }\n",
       "</style>\n",
       "<table border=\"1\" class=\"dataframe\">\n",
       "  <thead>\n",
       "    <tr style=\"text-align: right;\">\n",
       "      <th></th>\n",
       "      <th>Salary</th>\n",
       "    </tr>\n",
       "    <tr>\n",
       "      <th>CRBI</th>\n",
       "      <th></th>\n",
       "    </tr>\n",
       "  </thead>\n",
       "  <tbody>\n",
       "    <tr>\n",
       "      <th>0</th>\n",
       "      <td>NaN</td>\n",
       "    </tr>\n",
       "    <tr>\n",
       "      <th>3</th>\n",
       "      <td>920.000</td>\n",
       "    </tr>\n",
       "    <tr>\n",
       "      <th>4</th>\n",
       "      <td>NaN</td>\n",
       "    </tr>\n",
       "    <tr>\n",
       "      <th>7</th>\n",
       "      <td>2127.333</td>\n",
       "    </tr>\n",
       "    <tr>\n",
       "      <th>9</th>\n",
       "      <td>70.000</td>\n",
       "    </tr>\n",
       "    <tr>\n",
       "      <th>...</th>\n",
       "      <td>...</td>\n",
       "    </tr>\n",
       "    <tr>\n",
       "      <th>1299</th>\n",
       "      <td>1450.000</td>\n",
       "    </tr>\n",
       "    <tr>\n",
       "      <th>1314</th>\n",
       "      <td>750.000</td>\n",
       "    </tr>\n",
       "    <tr>\n",
       "      <th>1348</th>\n",
       "      <td>500.000</td>\n",
       "    </tr>\n",
       "    <tr>\n",
       "      <th>1652</th>\n",
       "      <td>NaN</td>\n",
       "    </tr>\n",
       "    <tr>\n",
       "      <th>1659</th>\n",
       "      <td>487.500</td>\n",
       "    </tr>\n",
       "  </tbody>\n",
       "</table>\n",
       "<p>262 rows × 1 columns</p>\n",
       "</div>"
      ],
      "text/plain": [
       "        Salary\n",
       "CRBI          \n",
       "0          NaN\n",
       "3      920.000\n",
       "4          NaN\n",
       "7     2127.333\n",
       "9       70.000\n",
       "...        ...\n",
       "1299  1450.000\n",
       "1314   750.000\n",
       "1348   500.000\n",
       "1652       NaN\n",
       "1659   487.500\n",
       "\n",
       "[262 rows x 1 columns]"
      ]
     },
     "execution_count": 22,
     "metadata": {},
     "output_type": "execute_result"
    }
   ],
   "source": [
    "# Veri setinin korelasyonu incelendiğinde CRBI değişkeni pozitif yönlü korelasyona sahipti. Bu değişken arttıkça Salary değişkeninde artması gerekmektedir.\n",
    "# Buna dayalı olarak CRBI değişkeni kariyeri boyunca yapmış olduğu vuruş sayısıdır. Buna göre gruplayıp Salary değişkeninin ortalaması incelenmiştir.\n",
    "df.groupby(\"CRBI\").agg({\"Salary\": \"mean\"})"
   ]
  },
  {
   "cell_type": "code",
   "execution_count": 23,
   "metadata": {},
   "outputs": [
    {
     "data": {
      "text/html": [
       "<div>\n",
       "<style scoped>\n",
       "    .dataframe tbody tr th:only-of-type {\n",
       "        vertical-align: middle;\n",
       "    }\n",
       "\n",
       "    .dataframe tbody tr th {\n",
       "        vertical-align: top;\n",
       "    }\n",
       "\n",
       "    .dataframe thead th {\n",
       "        text-align: right;\n",
       "    }\n",
       "</style>\n",
       "<table border=\"1\" class=\"dataframe\">\n",
       "  <thead>\n",
       "    <tr style=\"text-align: right;\">\n",
       "      <th></th>\n",
       "      <th>Salary</th>\n",
       "    </tr>\n",
       "    <tr>\n",
       "      <th>CRuns</th>\n",
       "      <th></th>\n",
       "    </tr>\n",
       "  </thead>\n",
       "  <tbody>\n",
       "    <tr>\n",
       "      <th>1</th>\n",
       "      <td>NaN</td>\n",
       "    </tr>\n",
       "    <tr>\n",
       "      <th>2</th>\n",
       "      <td>920.000</td>\n",
       "    </tr>\n",
       "    <tr>\n",
       "      <th>3</th>\n",
       "      <td>NaN</td>\n",
       "    </tr>\n",
       "    <tr>\n",
       "      <th>6</th>\n",
       "      <td>2127.333</td>\n",
       "    </tr>\n",
       "    <tr>\n",
       "      <th>9</th>\n",
       "      <td>NaN</td>\n",
       "    </tr>\n",
       "    <tr>\n",
       "      <th>...</th>\n",
       "      <td>...</td>\n",
       "    </tr>\n",
       "    <tr>\n",
       "      <th>1172</th>\n",
       "      <td>200.000</td>\n",
       "    </tr>\n",
       "    <tr>\n",
       "      <th>1175</th>\n",
       "      <td>535.000</td>\n",
       "    </tr>\n",
       "    <tr>\n",
       "      <th>1272</th>\n",
       "      <td>NaN</td>\n",
       "    </tr>\n",
       "    <tr>\n",
       "      <th>1509</th>\n",
       "      <td>487.500</td>\n",
       "    </tr>\n",
       "    <tr>\n",
       "      <th>2165</th>\n",
       "      <td>750.000</td>\n",
       "    </tr>\n",
       "  </tbody>\n",
       "</table>\n",
       "<p>261 rows × 1 columns</p>\n",
       "</div>"
      ],
      "text/plain": [
       "         Salary\n",
       "CRuns          \n",
       "1           NaN\n",
       "2       920.000\n",
       "3           NaN\n",
       "6      2127.333\n",
       "9           NaN\n",
       "...         ...\n",
       "1172    200.000\n",
       "1175    535.000\n",
       "1272        NaN\n",
       "1509    487.500\n",
       "2165    750.000\n",
       "\n",
       "[261 rows x 1 columns]"
      ]
     },
     "execution_count": 23,
     "metadata": {},
     "output_type": "execute_result"
    }
   ],
   "source": [
    "# Veri setinin korelasyonu incelendiğinde CRBI değişkeni pozitif yönlü korelasyona sahipti. Bu değişken arttıkça Salary değişkeninde artması gerekmektedir.\n",
    "# Buna dayalı olarak CRuns değişkeni kariyeri boyunca yapmış olduğu koşu sayısıdır. Buna göre gruplayıp Salary değişkeninin ortalaması incelenmiştir.\n",
    "df.groupby(\"CRuns\").agg({\"Salary\": \"mean\"})"
   ]
  },
  {
   "cell_type": "code",
   "execution_count": 24,
   "metadata": {},
   "outputs": [
    {
     "data": {
      "text/html": [
       "<div>\n",
       "<style scoped>\n",
       "    .dataframe tbody tr th:only-of-type {\n",
       "        vertical-align: middle;\n",
       "    }\n",
       "\n",
       "    .dataframe tbody tr th {\n",
       "        vertical-align: top;\n",
       "    }\n",
       "\n",
       "    .dataframe thead th {\n",
       "        text-align: right;\n",
       "    }\n",
       "</style>\n",
       "<table border=\"1\" class=\"dataframe\">\n",
       "  <thead>\n",
       "    <tr style=\"text-align: right;\">\n",
       "      <th></th>\n",
       "      <th></th>\n",
       "      <th>Salary</th>\n",
       "    </tr>\n",
       "    <tr>\n",
       "      <th>League</th>\n",
       "      <th>Years</th>\n",
       "      <th></th>\n",
       "    </tr>\n",
       "  </thead>\n",
       "  <tbody>\n",
       "    <tr>\n",
       "      <th rowspan=\"19\" valign=\"top\">A</th>\n",
       "      <th>1</th>\n",
       "      <td>101.944444</td>\n",
       "    </tr>\n",
       "    <tr>\n",
       "      <th>2</th>\n",
       "      <td>128.055556</td>\n",
       "    </tr>\n",
       "    <tr>\n",
       "      <th>3</th>\n",
       "      <td>178.615385</td>\n",
       "    </tr>\n",
       "    <tr>\n",
       "      <th>4</th>\n",
       "      <td>269.423077</td>\n",
       "    </tr>\n",
       "    <tr>\n",
       "      <th>5</th>\n",
       "      <td>602.147059</td>\n",
       "    </tr>\n",
       "    <tr>\n",
       "      <th>6</th>\n",
       "      <td>630.441176</td>\n",
       "    </tr>\n",
       "    <tr>\n",
       "      <th>7</th>\n",
       "      <td>623.500000</td>\n",
       "    </tr>\n",
       "    <tr>\n",
       "      <th>8</th>\n",
       "      <td>767.395875</td>\n",
       "    </tr>\n",
       "    <tr>\n",
       "      <th>9</th>\n",
       "      <td>894.000000</td>\n",
       "    </tr>\n",
       "    <tr>\n",
       "      <th>10</th>\n",
       "      <td>831.468333</td>\n",
       "    </tr>\n",
       "    <tr>\n",
       "      <th>11</th>\n",
       "      <td>866.666667</td>\n",
       "    </tr>\n",
       "    <tr>\n",
       "      <th>12</th>\n",
       "      <td>516.428571</td>\n",
       "    </tr>\n",
       "    <tr>\n",
       "      <th>13</th>\n",
       "      <td>1104.166667</td>\n",
       "    </tr>\n",
       "    <tr>\n",
       "      <th>14</th>\n",
       "      <td>1019.494286</td>\n",
       "    </tr>\n",
       "    <tr>\n",
       "      <th>15</th>\n",
       "      <td>563.333250</td>\n",
       "    </tr>\n",
       "    <tr>\n",
       "      <th>16</th>\n",
       "      <td>480.000000</td>\n",
       "    </tr>\n",
       "    <tr>\n",
       "      <th>17</th>\n",
       "      <td>686.666667</td>\n",
       "    </tr>\n",
       "    <tr>\n",
       "      <th>18</th>\n",
       "      <td>509.166750</td>\n",
       "    </tr>\n",
       "    <tr>\n",
       "      <th>20</th>\n",
       "      <td>487.500000</td>\n",
       "    </tr>\n",
       "    <tr>\n",
       "      <th rowspan=\"22\" valign=\"top\">N</th>\n",
       "      <th>1</th>\n",
       "      <td>203.312500</td>\n",
       "    </tr>\n",
       "    <tr>\n",
       "      <th>2</th>\n",
       "      <td>283.861083</td>\n",
       "    </tr>\n",
       "    <tr>\n",
       "      <th>3</th>\n",
       "      <td>165.454545</td>\n",
       "    </tr>\n",
       "    <tr>\n",
       "      <th>4</th>\n",
       "      <td>371.833333</td>\n",
       "    </tr>\n",
       "    <tr>\n",
       "      <th>5</th>\n",
       "      <td>507.777778</td>\n",
       "    </tr>\n",
       "    <tr>\n",
       "      <th>6</th>\n",
       "      <td>613.757545</td>\n",
       "    </tr>\n",
       "    <tr>\n",
       "      <th>7</th>\n",
       "      <td>719.166643</td>\n",
       "    </tr>\n",
       "    <tr>\n",
       "      <th>8</th>\n",
       "      <td>462.222333</td>\n",
       "    </tr>\n",
       "    <tr>\n",
       "      <th>9</th>\n",
       "      <td>800.833286</td>\n",
       "    </tr>\n",
       "    <tr>\n",
       "      <th>10</th>\n",
       "      <td>581.666667</td>\n",
       "    </tr>\n",
       "    <tr>\n",
       "      <th>11</th>\n",
       "      <td>817.500000</td>\n",
       "    </tr>\n",
       "    <tr>\n",
       "      <th>12</th>\n",
       "      <td>770.555667</td>\n",
       "    </tr>\n",
       "    <tr>\n",
       "      <th>13</th>\n",
       "      <td>1141.392750</td>\n",
       "    </tr>\n",
       "    <tr>\n",
       "      <th>14</th>\n",
       "      <td>613.333400</td>\n",
       "    </tr>\n",
       "    <tr>\n",
       "      <th>15</th>\n",
       "      <td>652.777667</td>\n",
       "    </tr>\n",
       "    <tr>\n",
       "      <th>16</th>\n",
       "      <td>662.500000</td>\n",
       "    </tr>\n",
       "    <tr>\n",
       "      <th>17</th>\n",
       "      <td>546.666500</td>\n",
       "    </tr>\n",
       "    <tr>\n",
       "      <th>18</th>\n",
       "      <td>1450.000000</td>\n",
       "    </tr>\n",
       "    <tr>\n",
       "      <th>19</th>\n",
       "      <td>500.000000</td>\n",
       "    </tr>\n",
       "    <tr>\n",
       "      <th>20</th>\n",
       "      <td>200.000000</td>\n",
       "    </tr>\n",
       "    <tr>\n",
       "      <th>23</th>\n",
       "      <td>NaN</td>\n",
       "    </tr>\n",
       "    <tr>\n",
       "      <th>24</th>\n",
       "      <td>750.000000</td>\n",
       "    </tr>\n",
       "  </tbody>\n",
       "</table>\n",
       "</div>"
      ],
      "text/plain": [
       "                   Salary\n",
       "League Years             \n",
       "A      1       101.944444\n",
       "       2       128.055556\n",
       "       3       178.615385\n",
       "       4       269.423077\n",
       "       5       602.147059\n",
       "       6       630.441176\n",
       "       7       623.500000\n",
       "       8       767.395875\n",
       "       9       894.000000\n",
       "       10      831.468333\n",
       "       11      866.666667\n",
       "       12      516.428571\n",
       "       13     1104.166667\n",
       "       14     1019.494286\n",
       "       15      563.333250\n",
       "       16      480.000000\n",
       "       17      686.666667\n",
       "       18      509.166750\n",
       "       20      487.500000\n",
       "N      1       203.312500\n",
       "       2       283.861083\n",
       "       3       165.454545\n",
       "       4       371.833333\n",
       "       5       507.777778\n",
       "       6       613.757545\n",
       "       7       719.166643\n",
       "       8       462.222333\n",
       "       9       800.833286\n",
       "       10      581.666667\n",
       "       11      817.500000\n",
       "       12      770.555667\n",
       "       13     1141.392750\n",
       "       14      613.333400\n",
       "       15      652.777667\n",
       "       16      662.500000\n",
       "       17      546.666500\n",
       "       18     1450.000000\n",
       "       19      500.000000\n",
       "       20      200.000000\n",
       "       23             NaN\n",
       "       24      750.000000"
      ]
     },
     "execution_count": 24,
     "metadata": {},
     "output_type": "execute_result"
    }
   ],
   "source": [
    "# League ve Years değişkenlerine göre gruplayıp acaba hangi ligde ve kariyer süresine göre maaş ortalaması nedir?\n",
    "# Lig ve toplam kariyer yıllarına göre gruplanarak oyuncunun aldıkları maaşların ortalaması nedir? \n",
    "df.groupby([\"League\",\"Years\"]).agg({\"Salary\": \"mean\"})"
   ]
  },
  {
   "cell_type": "code",
   "execution_count": 25,
   "metadata": {},
   "outputs": [
    {
     "data": {
      "text/html": [
       "<div>\n",
       "<style scoped>\n",
       "    .dataframe tbody tr th:only-of-type {\n",
       "        vertical-align: middle;\n",
       "    }\n",
       "\n",
       "    .dataframe tbody tr th {\n",
       "        vertical-align: top;\n",
       "    }\n",
       "\n",
       "    .dataframe thead th {\n",
       "        text-align: right;\n",
       "    }\n",
       "</style>\n",
       "<table border=\"1\" class=\"dataframe\">\n",
       "  <thead>\n",
       "    <tr style=\"text-align: right;\">\n",
       "      <th></th>\n",
       "      <th></th>\n",
       "      <th>Salary</th>\n",
       "    </tr>\n",
       "    <tr>\n",
       "      <th>NewLeague</th>\n",
       "      <th>Years</th>\n",
       "      <th></th>\n",
       "    </tr>\n",
       "  </thead>\n",
       "  <tbody>\n",
       "    <tr>\n",
       "      <th rowspan=\"19\" valign=\"top\">A</th>\n",
       "      <th>1</th>\n",
       "      <td>191.388889</td>\n",
       "    </tr>\n",
       "    <tr>\n",
       "      <th>2</th>\n",
       "      <td>124.722222</td>\n",
       "    </tr>\n",
       "    <tr>\n",
       "      <th>3</th>\n",
       "      <td>187.250000</td>\n",
       "    </tr>\n",
       "    <tr>\n",
       "      <th>4</th>\n",
       "      <td>265.178571</td>\n",
       "    </tr>\n",
       "    <tr>\n",
       "      <th>5</th>\n",
       "      <td>580.078947</td>\n",
       "    </tr>\n",
       "    <tr>\n",
       "      <th>6</th>\n",
       "      <td>630.441176</td>\n",
       "    </tr>\n",
       "    <tr>\n",
       "      <th>7</th>\n",
       "      <td>590.416667</td>\n",
       "    </tr>\n",
       "    <tr>\n",
       "      <th>8</th>\n",
       "      <td>767.395875</td>\n",
       "    </tr>\n",
       "    <tr>\n",
       "      <th>9</th>\n",
       "      <td>854.000000</td>\n",
       "    </tr>\n",
       "    <tr>\n",
       "      <th>10</th>\n",
       "      <td>837.762000</td>\n",
       "    </tr>\n",
       "    <tr>\n",
       "      <th>11</th>\n",
       "      <td>775.000000</td>\n",
       "    </tr>\n",
       "    <tr>\n",
       "      <th>12</th>\n",
       "      <td>516.428571</td>\n",
       "    </tr>\n",
       "    <tr>\n",
       "      <th>13</th>\n",
       "      <td>1275.000000</td>\n",
       "    </tr>\n",
       "    <tr>\n",
       "      <th>14</th>\n",
       "      <td>912.351429</td>\n",
       "    </tr>\n",
       "    <tr>\n",
       "      <th>15</th>\n",
       "      <td>563.333250</td>\n",
       "    </tr>\n",
       "    <tr>\n",
       "      <th>16</th>\n",
       "      <td>670.000000</td>\n",
       "    </tr>\n",
       "    <tr>\n",
       "      <th>17</th>\n",
       "      <td>686.666667</td>\n",
       "    </tr>\n",
       "    <tr>\n",
       "      <th>18</th>\n",
       "      <td>509.166750</td>\n",
       "    </tr>\n",
       "    <tr>\n",
       "      <th>20</th>\n",
       "      <td>487.500000</td>\n",
       "    </tr>\n",
       "    <tr>\n",
       "      <th rowspan=\"22\" valign=\"top\">N</th>\n",
       "      <th>1</th>\n",
       "      <td>102.687500</td>\n",
       "    </tr>\n",
       "    <tr>\n",
       "      <th>2</th>\n",
       "      <td>286.361083</td>\n",
       "    </tr>\n",
       "    <tr>\n",
       "      <th>3</th>\n",
       "      <td>157.916667</td>\n",
       "    </tr>\n",
       "    <tr>\n",
       "      <th>4</th>\n",
       "      <td>383.392857</td>\n",
       "    </tr>\n",
       "    <tr>\n",
       "      <th>5</th>\n",
       "      <td>540.714286</td>\n",
       "    </tr>\n",
       "    <tr>\n",
       "      <th>6</th>\n",
       "      <td>613.757545</td>\n",
       "    </tr>\n",
       "    <tr>\n",
       "      <th>7</th>\n",
       "      <td>741.794846</td>\n",
       "    </tr>\n",
       "    <tr>\n",
       "      <th>8</th>\n",
       "      <td>462.222333</td>\n",
       "    </tr>\n",
       "    <tr>\n",
       "      <th>9</th>\n",
       "      <td>829.404714</td>\n",
       "    </tr>\n",
       "    <tr>\n",
       "      <th>10</th>\n",
       "      <td>612.857143</td>\n",
       "    </tr>\n",
       "    <tr>\n",
       "      <th>11</th>\n",
       "      <td>896.875000</td>\n",
       "    </tr>\n",
       "    <tr>\n",
       "      <th>12</th>\n",
       "      <td>770.555667</td>\n",
       "    </tr>\n",
       "    <tr>\n",
       "      <th>13</th>\n",
       "      <td>1015.095167</td>\n",
       "    </tr>\n",
       "    <tr>\n",
       "      <th>14</th>\n",
       "      <td>763.333400</td>\n",
       "    </tr>\n",
       "    <tr>\n",
       "      <th>15</th>\n",
       "      <td>652.777667</td>\n",
       "    </tr>\n",
       "    <tr>\n",
       "      <th>16</th>\n",
       "      <td>275.000000</td>\n",
       "    </tr>\n",
       "    <tr>\n",
       "      <th>17</th>\n",
       "      <td>546.666500</td>\n",
       "    </tr>\n",
       "    <tr>\n",
       "      <th>18</th>\n",
       "      <td>1450.000000</td>\n",
       "    </tr>\n",
       "    <tr>\n",
       "      <th>19</th>\n",
       "      <td>500.000000</td>\n",
       "    </tr>\n",
       "    <tr>\n",
       "      <th>20</th>\n",
       "      <td>200.000000</td>\n",
       "    </tr>\n",
       "    <tr>\n",
       "      <th>23</th>\n",
       "      <td>NaN</td>\n",
       "    </tr>\n",
       "    <tr>\n",
       "      <th>24</th>\n",
       "      <td>750.000000</td>\n",
       "    </tr>\n",
       "  </tbody>\n",
       "</table>\n",
       "</div>"
      ],
      "text/plain": [
       "                      Salary\n",
       "NewLeague Years             \n",
       "A         1       191.388889\n",
       "          2       124.722222\n",
       "          3       187.250000\n",
       "          4       265.178571\n",
       "          5       580.078947\n",
       "          6       630.441176\n",
       "          7       590.416667\n",
       "          8       767.395875\n",
       "          9       854.000000\n",
       "          10      837.762000\n",
       "          11      775.000000\n",
       "          12      516.428571\n",
       "          13     1275.000000\n",
       "          14      912.351429\n",
       "          15      563.333250\n",
       "          16      670.000000\n",
       "          17      686.666667\n",
       "          18      509.166750\n",
       "          20      487.500000\n",
       "N         1       102.687500\n",
       "          2       286.361083\n",
       "          3       157.916667\n",
       "          4       383.392857\n",
       "          5       540.714286\n",
       "          6       613.757545\n",
       "          7       741.794846\n",
       "          8       462.222333\n",
       "          9       829.404714\n",
       "          10      612.857143\n",
       "          11      896.875000\n",
       "          12      770.555667\n",
       "          13     1015.095167\n",
       "          14      763.333400\n",
       "          15      652.777667\n",
       "          16      275.000000\n",
       "          17      546.666500\n",
       "          18     1450.000000\n",
       "          19      500.000000\n",
       "          20      200.000000\n",
       "          23             NaN\n",
       "          24      750.000000"
      ]
     },
     "execution_count": 25,
     "metadata": {},
     "output_type": "execute_result"
    }
   ],
   "source": [
    "# NewLeague ve Years değişkenlerine göre gruplayıp acaba 1987 oynadığı lig ve kariyer süresine göre maaş ortalaması nedir?\n",
    "#  Yeni Lig ve toplam kariyer süresine göre gruplanarak oyuncunun aldıkları maaşların ortalaması nedir? \n",
    "df.groupby([\"NewLeague\",\"Years\"]).agg({\"Salary\": \"mean\"})"
   ]
  },
  {
   "cell_type": "code",
   "execution_count": 26,
   "metadata": {},
   "outputs": [
    {
     "data": {
      "text/html": [
       "<div>\n",
       "<style scoped>\n",
       "    .dataframe tbody tr th:only-of-type {\n",
       "        vertical-align: middle;\n",
       "    }\n",
       "\n",
       "    .dataframe tbody tr th {\n",
       "        vertical-align: top;\n",
       "    }\n",
       "\n",
       "    .dataframe thead th {\n",
       "        text-align: right;\n",
       "    }\n",
       "</style>\n",
       "<table border=\"1\" class=\"dataframe\">\n",
       "  <thead>\n",
       "    <tr style=\"text-align: right;\">\n",
       "      <th></th>\n",
       "      <th></th>\n",
       "      <th>Salary</th>\n",
       "    </tr>\n",
       "    <tr>\n",
       "      <th>Division</th>\n",
       "      <th>Years</th>\n",
       "      <th></th>\n",
       "    </tr>\n",
       "  </thead>\n",
       "  <tbody>\n",
       "    <tr>\n",
       "      <th rowspan=\"18\" valign=\"top\">E</th>\n",
       "      <th>1</th>\n",
       "      <td>80.000000</td>\n",
       "    </tr>\n",
       "    <tr>\n",
       "      <th>2</th>\n",
       "      <td>297.166636</td>\n",
       "    </tr>\n",
       "    <tr>\n",
       "      <th>3</th>\n",
       "      <td>146.666667</td>\n",
       "    </tr>\n",
       "    <tr>\n",
       "      <th>4</th>\n",
       "      <td>344.464286</td>\n",
       "    </tr>\n",
       "    <tr>\n",
       "      <th>5</th>\n",
       "      <td>692.142857</td>\n",
       "    </tr>\n",
       "    <tr>\n",
       "      <th>6</th>\n",
       "      <td>709.559500</td>\n",
       "    </tr>\n",
       "    <tr>\n",
       "      <th>7</th>\n",
       "      <td>749.083300</td>\n",
       "    </tr>\n",
       "    <tr>\n",
       "      <th>8</th>\n",
       "      <td>808.020875</td>\n",
       "    </tr>\n",
       "    <tr>\n",
       "      <th>9</th>\n",
       "      <td>1050.555500</td>\n",
       "    </tr>\n",
       "    <tr>\n",
       "      <th>10</th>\n",
       "      <td>820.773833</td>\n",
       "    </tr>\n",
       "    <tr>\n",
       "      <th>11</th>\n",
       "      <td>616.666667</td>\n",
       "    </tr>\n",
       "    <tr>\n",
       "      <th>12</th>\n",
       "      <td>620.833333</td>\n",
       "    </tr>\n",
       "    <tr>\n",
       "      <th>13</th>\n",
       "      <td>1222.258875</td>\n",
       "    </tr>\n",
       "    <tr>\n",
       "      <th>14</th>\n",
       "      <td>1045.486667</td>\n",
       "    </tr>\n",
       "    <tr>\n",
       "      <th>15</th>\n",
       "      <td>572.777667</td>\n",
       "    </tr>\n",
       "    <tr>\n",
       "      <th>16</th>\n",
       "      <td>662.500000</td>\n",
       "    </tr>\n",
       "    <tr>\n",
       "      <th>17</th>\n",
       "      <td>950.000000</td>\n",
       "    </tr>\n",
       "    <tr>\n",
       "      <th>18</th>\n",
       "      <td>570.555667</td>\n",
       "    </tr>\n",
       "    <tr>\n",
       "      <th rowspan=\"22\" valign=\"top\">W</th>\n",
       "      <th>1</th>\n",
       "      <td>178.666667</td>\n",
       "    </tr>\n",
       "    <tr>\n",
       "      <th>2</th>\n",
       "      <td>129.000000</td>\n",
       "    </tr>\n",
       "    <tr>\n",
       "      <th>3</th>\n",
       "      <td>188.133333</td>\n",
       "    </tr>\n",
       "    <tr>\n",
       "      <th>4</th>\n",
       "      <td>304.107143</td>\n",
       "    </tr>\n",
       "    <tr>\n",
       "      <th>5</th>\n",
       "      <td>426.375000</td>\n",
       "    </tr>\n",
       "    <tr>\n",
       "      <th>6</th>\n",
       "      <td>538.214286</td>\n",
       "    </tr>\n",
       "    <tr>\n",
       "      <th>7</th>\n",
       "      <td>632.777778</td>\n",
       "    </tr>\n",
       "    <tr>\n",
       "      <th>8</th>\n",
       "      <td>353.889000</td>\n",
       "    </tr>\n",
       "    <tr>\n",
       "      <th>9</th>\n",
       "      <td>628.750000</td>\n",
       "    </tr>\n",
       "    <tr>\n",
       "      <th>10</th>\n",
       "      <td>592.361167</td>\n",
       "    </tr>\n",
       "    <tr>\n",
       "      <th>11</th>\n",
       "      <td>967.500000</td>\n",
       "    </tr>\n",
       "    <tr>\n",
       "      <th>12</th>\n",
       "      <td>550.416750</td>\n",
       "    </tr>\n",
       "    <tr>\n",
       "      <th>13</th>\n",
       "      <td>706.250000</td>\n",
       "    </tr>\n",
       "    <tr>\n",
       "      <th>14</th>\n",
       "      <td>785.185222</td>\n",
       "    </tr>\n",
       "    <tr>\n",
       "      <th>15</th>\n",
       "      <td>775.000000</td>\n",
       "    </tr>\n",
       "    <tr>\n",
       "      <th>16</th>\n",
       "      <td>480.000000</td>\n",
       "    </tr>\n",
       "    <tr>\n",
       "      <th>17</th>\n",
       "      <td>550.833250</td>\n",
       "    </tr>\n",
       "    <tr>\n",
       "      <th>18</th>\n",
       "      <td>887.500000</td>\n",
       "    </tr>\n",
       "    <tr>\n",
       "      <th>19</th>\n",
       "      <td>500.000000</td>\n",
       "    </tr>\n",
       "    <tr>\n",
       "      <th>20</th>\n",
       "      <td>343.750000</td>\n",
       "    </tr>\n",
       "    <tr>\n",
       "      <th>23</th>\n",
       "      <td>NaN</td>\n",
       "    </tr>\n",
       "    <tr>\n",
       "      <th>24</th>\n",
       "      <td>750.000000</td>\n",
       "    </tr>\n",
       "  </tbody>\n",
       "</table>\n",
       "</div>"
      ],
      "text/plain": [
       "                     Salary\n",
       "Division Years             \n",
       "E        1        80.000000\n",
       "         2       297.166636\n",
       "         3       146.666667\n",
       "         4       344.464286\n",
       "         5       692.142857\n",
       "         6       709.559500\n",
       "         7       749.083300\n",
       "         8       808.020875\n",
       "         9      1050.555500\n",
       "         10      820.773833\n",
       "         11      616.666667\n",
       "         12      620.833333\n",
       "         13     1222.258875\n",
       "         14     1045.486667\n",
       "         15      572.777667\n",
       "         16      662.500000\n",
       "         17      950.000000\n",
       "         18      570.555667\n",
       "W        1       178.666667\n",
       "         2       129.000000\n",
       "         3       188.133333\n",
       "         4       304.107143\n",
       "         5       426.375000\n",
       "         6       538.214286\n",
       "         7       632.777778\n",
       "         8       353.889000\n",
       "         9       628.750000\n",
       "         10      592.361167\n",
       "         11      967.500000\n",
       "         12      550.416750\n",
       "         13      706.250000\n",
       "         14      785.185222\n",
       "         15      775.000000\n",
       "         16      480.000000\n",
       "         17      550.833250\n",
       "         18      887.500000\n",
       "         19      500.000000\n",
       "         20      343.750000\n",
       "         23             NaN\n",
       "         24      750.000000"
      ]
     },
     "execution_count": 26,
     "metadata": {},
     "output_type": "execute_result"
    }
   ],
   "source": [
    "# Oyuncuların oynadıkları pozisyonlara göre aldıkları ortalama maaş nedir buna erişilmiştir.\n",
    "df.groupby([\"Division\",\"Years\"]).agg({\"Salary\": \"mean\"})"
   ]
  },
  {
   "cell_type": "code",
   "execution_count": 27,
   "metadata": {},
   "outputs": [
    {
     "data": {
      "text/html": [
       "<div>\n",
       "<style scoped>\n",
       "    .dataframe tbody tr th:only-of-type {\n",
       "        vertical-align: middle;\n",
       "    }\n",
       "\n",
       "    .dataframe tbody tr th {\n",
       "        vertical-align: top;\n",
       "    }\n",
       "\n",
       "    .dataframe thead th {\n",
       "        text-align: right;\n",
       "    }\n",
       "</style>\n",
       "<table border=\"1\" class=\"dataframe\">\n",
       "  <thead>\n",
       "    <tr style=\"text-align: right;\">\n",
       "      <th></th>\n",
       "      <th>AtBat</th>\n",
       "      <th>Hits</th>\n",
       "      <th>HmRun</th>\n",
       "      <th>Runs</th>\n",
       "      <th>RBI</th>\n",
       "      <th>Walks</th>\n",
       "      <th>Years</th>\n",
       "      <th>CAtBat</th>\n",
       "      <th>CHits</th>\n",
       "      <th>CHmRun</th>\n",
       "      <th>CRuns</th>\n",
       "      <th>CRBI</th>\n",
       "      <th>CWalks</th>\n",
       "      <th>League</th>\n",
       "      <th>Division</th>\n",
       "      <th>PutOuts</th>\n",
       "      <th>Assists</th>\n",
       "      <th>Errors</th>\n",
       "      <th>Salary</th>\n",
       "      <th>NewLeague</th>\n",
       "    </tr>\n",
       "  </thead>\n",
       "  <tbody>\n",
       "    <tr>\n",
       "      <th>236</th>\n",
       "      <td>237</td>\n",
       "      <td>52</td>\n",
       "      <td>0</td>\n",
       "      <td>15</td>\n",
       "      <td>25</td>\n",
       "      <td>30</td>\n",
       "      <td>24</td>\n",
       "      <td>14053</td>\n",
       "      <td>4256</td>\n",
       "      <td>160</td>\n",
       "      <td>2165</td>\n",
       "      <td>1314</td>\n",
       "      <td>1566</td>\n",
       "      <td>N</td>\n",
       "      <td>W</td>\n",
       "      <td>523</td>\n",
       "      <td>43</td>\n",
       "      <td>6</td>\n",
       "      <td>750.000</td>\n",
       "      <td>N</td>\n",
       "    </tr>\n",
       "    <tr>\n",
       "      <th>302</th>\n",
       "      <td>200</td>\n",
       "      <td>51</td>\n",
       "      <td>2</td>\n",
       "      <td>14</td>\n",
       "      <td>29</td>\n",
       "      <td>25</td>\n",
       "      <td>23</td>\n",
       "      <td>9778</td>\n",
       "      <td>2732</td>\n",
       "      <td>379</td>\n",
       "      <td>1272</td>\n",
       "      <td>1652</td>\n",
       "      <td>925</td>\n",
       "      <td>N</td>\n",
       "      <td>W</td>\n",
       "      <td>398</td>\n",
       "      <td>29</td>\n",
       "      <td>7</td>\n",
       "      <td>NaN</td>\n",
       "      <td>N</td>\n",
       "    </tr>\n",
       "    <tr>\n",
       "      <th>278</th>\n",
       "      <td>557</td>\n",
       "      <td>142</td>\n",
       "      <td>21</td>\n",
       "      <td>58</td>\n",
       "      <td>81</td>\n",
       "      <td>23</td>\n",
       "      <td>18</td>\n",
       "      <td>8759</td>\n",
       "      <td>2583</td>\n",
       "      <td>271</td>\n",
       "      <td>1138</td>\n",
       "      <td>1299</td>\n",
       "      <td>478</td>\n",
       "      <td>N</td>\n",
       "      <td>W</td>\n",
       "      <td>1160</td>\n",
       "      <td>53</td>\n",
       "      <td>7</td>\n",
       "      <td>1450.000</td>\n",
       "      <td>N</td>\n",
       "    </tr>\n",
       "    <tr>\n",
       "      <th>249</th>\n",
       "      <td>419</td>\n",
       "      <td>101</td>\n",
       "      <td>18</td>\n",
       "      <td>65</td>\n",
       "      <td>58</td>\n",
       "      <td>92</td>\n",
       "      <td>20</td>\n",
       "      <td>9528</td>\n",
       "      <td>2510</td>\n",
       "      <td>548</td>\n",
       "      <td>1509</td>\n",
       "      <td>1659</td>\n",
       "      <td>1342</td>\n",
       "      <td>A</td>\n",
       "      <td>W</td>\n",
       "      <td>0</td>\n",
       "      <td>0</td>\n",
       "      <td>0</td>\n",
       "      <td>487.500</td>\n",
       "      <td>A</td>\n",
       "    </tr>\n",
       "    <tr>\n",
       "      <th>24</th>\n",
       "      <td>629</td>\n",
       "      <td>168</td>\n",
       "      <td>18</td>\n",
       "      <td>73</td>\n",
       "      <td>102</td>\n",
       "      <td>40</td>\n",
       "      <td>18</td>\n",
       "      <td>8424</td>\n",
       "      <td>2464</td>\n",
       "      <td>164</td>\n",
       "      <td>1008</td>\n",
       "      <td>1072</td>\n",
       "      <td>402</td>\n",
       "      <td>A</td>\n",
       "      <td>E</td>\n",
       "      <td>1067</td>\n",
       "      <td>157</td>\n",
       "      <td>14</td>\n",
       "      <td>776.667</td>\n",
       "      <td>A</td>\n",
       "    </tr>\n",
       "    <tr>\n",
       "      <th>...</th>\n",
       "      <td>...</td>\n",
       "      <td>...</td>\n",
       "      <td>...</td>\n",
       "      <td>...</td>\n",
       "      <td>...</td>\n",
       "      <td>...</td>\n",
       "      <td>...</td>\n",
       "      <td>...</td>\n",
       "      <td>...</td>\n",
       "      <td>...</td>\n",
       "      <td>...</td>\n",
       "      <td>...</td>\n",
       "      <td>...</td>\n",
       "      <td>...</td>\n",
       "      <td>...</td>\n",
       "      <td>...</td>\n",
       "      <td>...</td>\n",
       "      <td>...</td>\n",
       "      <td>...</td>\n",
       "      <td>...</td>\n",
       "    </tr>\n",
       "    <tr>\n",
       "      <th>52</th>\n",
       "      <td>19</td>\n",
       "      <td>7</td>\n",
       "      <td>0</td>\n",
       "      <td>1</td>\n",
       "      <td>2</td>\n",
       "      <td>1</td>\n",
       "      <td>4</td>\n",
       "      <td>41</td>\n",
       "      <td>13</td>\n",
       "      <td>1</td>\n",
       "      <td>3</td>\n",
       "      <td>4</td>\n",
       "      <td>4</td>\n",
       "      <td>A</td>\n",
       "      <td>E</td>\n",
       "      <td>0</td>\n",
       "      <td>0</td>\n",
       "      <td>0</td>\n",
       "      <td>NaN</td>\n",
       "      <td>A</td>\n",
       "    </tr>\n",
       "    <tr>\n",
       "      <th>217</th>\n",
       "      <td>20</td>\n",
       "      <td>1</td>\n",
       "      <td>0</td>\n",
       "      <td>0</td>\n",
       "      <td>0</td>\n",
       "      <td>0</td>\n",
       "      <td>2</td>\n",
       "      <td>41</td>\n",
       "      <td>9</td>\n",
       "      <td>2</td>\n",
       "      <td>6</td>\n",
       "      <td>7</td>\n",
       "      <td>4</td>\n",
       "      <td>N</td>\n",
       "      <td>E</td>\n",
       "      <td>78</td>\n",
       "      <td>220</td>\n",
       "      <td>6</td>\n",
       "      <td>2127.333</td>\n",
       "      <td>N</td>\n",
       "    </tr>\n",
       "    <tr>\n",
       "      <th>250</th>\n",
       "      <td>33</td>\n",
       "      <td>6</td>\n",
       "      <td>0</td>\n",
       "      <td>2</td>\n",
       "      <td>4</td>\n",
       "      <td>7</td>\n",
       "      <td>1</td>\n",
       "      <td>33</td>\n",
       "      <td>6</td>\n",
       "      <td>0</td>\n",
       "      <td>2</td>\n",
       "      <td>4</td>\n",
       "      <td>7</td>\n",
       "      <td>A</td>\n",
       "      <td>W</td>\n",
       "      <td>205</td>\n",
       "      <td>5</td>\n",
       "      <td>4</td>\n",
       "      <td>NaN</td>\n",
       "      <td>A</td>\n",
       "    </tr>\n",
       "    <tr>\n",
       "      <th>283</th>\n",
       "      <td>16</td>\n",
       "      <td>2</td>\n",
       "      <td>0</td>\n",
       "      <td>1</td>\n",
       "      <td>0</td>\n",
       "      <td>0</td>\n",
       "      <td>2</td>\n",
       "      <td>28</td>\n",
       "      <td>4</td>\n",
       "      <td>0</td>\n",
       "      <td>1</td>\n",
       "      <td>0</td>\n",
       "      <td>0</td>\n",
       "      <td>A</td>\n",
       "      <td>E</td>\n",
       "      <td>247</td>\n",
       "      <td>4</td>\n",
       "      <td>8</td>\n",
       "      <td>NaN</td>\n",
       "      <td>A</td>\n",
       "    </tr>\n",
       "    <tr>\n",
       "      <th>295</th>\n",
       "      <td>19</td>\n",
       "      <td>4</td>\n",
       "      <td>1</td>\n",
       "      <td>2</td>\n",
       "      <td>3</td>\n",
       "      <td>1</td>\n",
       "      <td>1</td>\n",
       "      <td>19</td>\n",
       "      <td>4</td>\n",
       "      <td>1</td>\n",
       "      <td>2</td>\n",
       "      <td>3</td>\n",
       "      <td>1</td>\n",
       "      <td>N</td>\n",
       "      <td>W</td>\n",
       "      <td>692</td>\n",
       "      <td>70</td>\n",
       "      <td>8</td>\n",
       "      <td>920.000</td>\n",
       "      <td>A</td>\n",
       "    </tr>\n",
       "  </tbody>\n",
       "</table>\n",
       "<p>322 rows × 20 columns</p>\n",
       "</div>"
      ],
      "text/plain": [
       "     AtBat  Hits  HmRun  Runs  RBI  Walks  Years  CAtBat  CHits  CHmRun  \\\n",
       "236    237    52      0    15   25     30     24   14053   4256     160   \n",
       "302    200    51      2    14   29     25     23    9778   2732     379   \n",
       "278    557   142     21    58   81     23     18    8759   2583     271   \n",
       "249    419   101     18    65   58     92     20    9528   2510     548   \n",
       "24     629   168     18    73  102     40     18    8424   2464     164   \n",
       "..     ...   ...    ...   ...  ...    ...    ...     ...    ...     ...   \n",
       "52      19     7      0     1    2      1      4      41     13       1   \n",
       "217     20     1      0     0    0      0      2      41      9       2   \n",
       "250     33     6      0     2    4      7      1      33      6       0   \n",
       "283     16     2      0     1    0      0      2      28      4       0   \n",
       "295     19     4      1     2    3      1      1      19      4       1   \n",
       "\n",
       "     CRuns  CRBI  CWalks League Division  PutOuts  Assists  Errors    Salary  \\\n",
       "236   2165  1314    1566      N        W      523       43       6   750.000   \n",
       "302   1272  1652     925      N        W      398       29       7       NaN   \n",
       "278   1138  1299     478      N        W     1160       53       7  1450.000   \n",
       "249   1509  1659    1342      A        W        0        0       0   487.500   \n",
       "24    1008  1072     402      A        E     1067      157      14   776.667   \n",
       "..     ...   ...     ...    ...      ...      ...      ...     ...       ...   \n",
       "52       3     4       4      A        E        0        0       0       NaN   \n",
       "217      6     7       4      N        E       78      220       6  2127.333   \n",
       "250      2     4       7      A        W      205        5       4       NaN   \n",
       "283      1     0       0      A        E      247        4       8       NaN   \n",
       "295      2     3       1      N        W      692       70       8   920.000   \n",
       "\n",
       "    NewLeague  \n",
       "236         N  \n",
       "302         N  \n",
       "278         N  \n",
       "249         A  \n",
       "24          A  \n",
       "..        ...  \n",
       "52          A  \n",
       "217         N  \n",
       "250         A  \n",
       "283         A  \n",
       "295         A  \n",
       "\n",
       "[322 rows x 20 columns]"
      ]
     },
     "execution_count": 27,
     "metadata": {},
     "output_type": "execute_result"
    }
   ],
   "source": [
    "#Kariyeri boyunca isabet sayısı en yüksek olan gözlem birimlerine veri setini azalan şekilde sıralayarak erişilmiştir. \n",
    "df.sort_values(\"CHits\",ascending = False)"
   ]
  },
  {
   "cell_type": "code",
   "execution_count": 28,
   "metadata": {},
   "outputs": [
    {
     "data": {
      "text/html": [
       "<div>\n",
       "<style scoped>\n",
       "    .dataframe tbody tr th:only-of-type {\n",
       "        vertical-align: middle;\n",
       "    }\n",
       "\n",
       "    .dataframe tbody tr th {\n",
       "        vertical-align: top;\n",
       "    }\n",
       "\n",
       "    .dataframe thead th {\n",
       "        text-align: right;\n",
       "    }\n",
       "</style>\n",
       "<table border=\"1\" class=\"dataframe\">\n",
       "  <thead>\n",
       "    <tr style=\"text-align: right;\">\n",
       "      <th></th>\n",
       "      <th>CHits</th>\n",
       "    </tr>\n",
       "    <tr>\n",
       "      <th>League</th>\n",
       "      <th></th>\n",
       "    </tr>\n",
       "  </thead>\n",
       "  <tbody>\n",
       "    <tr>\n",
       "      <th>A</th>\n",
       "      <td>2510</td>\n",
       "    </tr>\n",
       "    <tr>\n",
       "      <th>N</th>\n",
       "      <td>4256</td>\n",
       "    </tr>\n",
       "  </tbody>\n",
       "</table>\n",
       "</div>"
      ],
      "text/plain": [
       "        CHits\n",
       "League       \n",
       "A        2510\n",
       "N        4256"
      ]
     },
     "execution_count": 28,
     "metadata": {},
     "output_type": "execute_result"
    }
   ],
   "source": [
    "# Liglere göre gruplayıp kariyeri boyunca yapılan isabet sayılarının maksimum değerine erişilmiştir.\n",
    "df.groupby(\"League\").agg({\"CHits\": \"max\"})"
   ]
  },
  {
   "cell_type": "code",
   "execution_count": 29,
   "metadata": {},
   "outputs": [
    {
     "data": {
      "text/html": [
       "<div>\n",
       "<style scoped>\n",
       "    .dataframe tbody tr th:only-of-type {\n",
       "        vertical-align: middle;\n",
       "    }\n",
       "\n",
       "    .dataframe tbody tr th {\n",
       "        vertical-align: top;\n",
       "    }\n",
       "\n",
       "    .dataframe thead th {\n",
       "        text-align: right;\n",
       "    }\n",
       "</style>\n",
       "<table border=\"1\" class=\"dataframe\">\n",
       "  <thead>\n",
       "    <tr style=\"text-align: right;\">\n",
       "      <th></th>\n",
       "      <th>CHits</th>\n",
       "    </tr>\n",
       "    <tr>\n",
       "      <th>Division</th>\n",
       "      <th></th>\n",
       "    </tr>\n",
       "  </thead>\n",
       "  <tbody>\n",
       "    <tr>\n",
       "      <th>E</th>\n",
       "      <td>2464</td>\n",
       "    </tr>\n",
       "    <tr>\n",
       "      <th>W</th>\n",
       "      <td>4256</td>\n",
       "    </tr>\n",
       "  </tbody>\n",
       "</table>\n",
       "</div>"
      ],
      "text/plain": [
       "          CHits\n",
       "Division       \n",
       "E          2464\n",
       "W          4256"
      ]
     },
     "execution_count": 29,
     "metadata": {},
     "output_type": "execute_result"
    }
   ],
   "source": [
    "# Oyuncuların oynadıkları pozisyonlara göre gruplama yapılıp kariyeri boyunca isabet sayısının maksimum değerine erişilmiştir.\n",
    "df.groupby(\"Division\").agg({\"CHits\": \"max\"})"
   ]
  },
  {
   "cell_type": "code",
   "execution_count": 30,
   "metadata": {},
   "outputs": [
    {
     "data": {
      "text/html": [
       "<div>\n",
       "<style scoped>\n",
       "    .dataframe tbody tr th:only-of-type {\n",
       "        vertical-align: middle;\n",
       "    }\n",
       "\n",
       "    .dataframe tbody tr th {\n",
       "        vertical-align: top;\n",
       "    }\n",
       "\n",
       "    .dataframe thead th {\n",
       "        text-align: right;\n",
       "    }\n",
       "</style>\n",
       "<table border=\"1\" class=\"dataframe\">\n",
       "  <thead>\n",
       "    <tr style=\"text-align: right;\">\n",
       "      <th></th>\n",
       "      <th>Hits</th>\n",
       "    </tr>\n",
       "    <tr>\n",
       "      <th>League</th>\n",
       "      <th></th>\n",
       "    </tr>\n",
       "  </thead>\n",
       "  <tbody>\n",
       "    <tr>\n",
       "      <th>A</th>\n",
       "      <td>238</td>\n",
       "    </tr>\n",
       "    <tr>\n",
       "      <th>N</th>\n",
       "      <td>211</td>\n",
       "    </tr>\n",
       "  </tbody>\n",
       "</table>\n",
       "</div>"
      ],
      "text/plain": [
       "        Hits\n",
       "League      \n",
       "A        238\n",
       "N        211"
      ]
     },
     "execution_count": 30,
     "metadata": {},
     "output_type": "execute_result"
    }
   ],
   "source": [
    "# Lig değişkenine göre gruplayıp 1986 yılındaki isabet değerlerinin maksimumuna erişilmiştir.\n",
    "df.groupby(\"League\").agg({\"Hits\": \"max\"})"
   ]
  },
  {
   "cell_type": "code",
   "execution_count": 31,
   "metadata": {},
   "outputs": [
    {
     "data": {
      "text/html": [
       "<div>\n",
       "<style scoped>\n",
       "    .dataframe tbody tr th:only-of-type {\n",
       "        vertical-align: middle;\n",
       "    }\n",
       "\n",
       "    .dataframe tbody tr th {\n",
       "        vertical-align: top;\n",
       "    }\n",
       "\n",
       "    .dataframe thead th {\n",
       "        text-align: right;\n",
       "    }\n",
       "</style>\n",
       "<table border=\"1\" class=\"dataframe\">\n",
       "  <thead>\n",
       "    <tr style=\"text-align: right;\">\n",
       "      <th></th>\n",
       "      <th>AtBat</th>\n",
       "    </tr>\n",
       "    <tr>\n",
       "      <th>League</th>\n",
       "      <th></th>\n",
       "    </tr>\n",
       "  </thead>\n",
       "  <tbody>\n",
       "    <tr>\n",
       "      <th>A</th>\n",
       "      <td>687</td>\n",
       "    </tr>\n",
       "    <tr>\n",
       "      <th>N</th>\n",
       "      <td>642</td>\n",
       "    </tr>\n",
       "  </tbody>\n",
       "</table>\n",
       "</div>"
      ],
      "text/plain": [
       "        AtBat\n",
       "League       \n",
       "A         687\n",
       "N         642"
      ]
     },
     "execution_count": 31,
     "metadata": {},
     "output_type": "execute_result"
    }
   ],
   "source": [
    "# Lig değişkenine göre gruplayıp 1986 yılında beyzbol sopası ile yapılan vuruş sayısının maksimum değerlerine erişildi.\n",
    "df.groupby(\"League\").agg({\"AtBat\": \"max\"})"
   ]
  },
  {
   "cell_type": "code",
   "execution_count": 32,
   "metadata": {},
   "outputs": [
    {
     "data": {
      "text/html": [
       "<div>\n",
       "<style scoped>\n",
       "    .dataframe tbody tr th:only-of-type {\n",
       "        vertical-align: middle;\n",
       "    }\n",
       "\n",
       "    .dataframe tbody tr th {\n",
       "        vertical-align: top;\n",
       "    }\n",
       "\n",
       "    .dataframe thead th {\n",
       "        text-align: right;\n",
       "    }\n",
       "</style>\n",
       "<table border=\"1\" class=\"dataframe\">\n",
       "  <thead>\n",
       "    <tr style=\"text-align: right;\">\n",
       "      <th></th>\n",
       "      <th>Years</th>\n",
       "    </tr>\n",
       "    <tr>\n",
       "      <th>League</th>\n",
       "      <th></th>\n",
       "    </tr>\n",
       "  </thead>\n",
       "  <tbody>\n",
       "    <tr>\n",
       "      <th>A</th>\n",
       "      <td>7.657143</td>\n",
       "    </tr>\n",
       "    <tr>\n",
       "      <th>N</th>\n",
       "      <td>7.190476</td>\n",
       "    </tr>\n",
       "  </tbody>\n",
       "</table>\n",
       "</div>"
      ],
      "text/plain": [
       "           Years\n",
       "League          \n",
       "A       7.657143\n",
       "N       7.190476"
      ]
     },
     "execution_count": 32,
     "metadata": {},
     "output_type": "execute_result"
    }
   ],
   "source": [
    "# Lig değişkenine göre gruplayıp kariyer süresinin ortalama değerlerine erişilmiştir.\n",
    "df.groupby(\"League\").agg({\"Years\": \"mean\"})"
   ]
  },
  {
   "cell_type": "code",
   "execution_count": 33,
   "metadata": {},
   "outputs": [
    {
     "data": {
      "text/html": [
       "<div>\n",
       "<style scoped>\n",
       "    .dataframe tbody tr th:only-of-type {\n",
       "        vertical-align: middle;\n",
       "    }\n",
       "\n",
       "    .dataframe tbody tr th {\n",
       "        vertical-align: top;\n",
       "    }\n",
       "\n",
       "    .dataframe thead th {\n",
       "        text-align: right;\n",
       "    }\n",
       "</style>\n",
       "<table border=\"1\" class=\"dataframe\">\n",
       "  <thead>\n",
       "    <tr style=\"text-align: right;\">\n",
       "      <th></th>\n",
       "      <th>Years</th>\n",
       "    </tr>\n",
       "    <tr>\n",
       "      <th>League</th>\n",
       "      <th></th>\n",
       "    </tr>\n",
       "  </thead>\n",
       "  <tbody>\n",
       "    <tr>\n",
       "      <th>A</th>\n",
       "      <td>20</td>\n",
       "    </tr>\n",
       "    <tr>\n",
       "      <th>N</th>\n",
       "      <td>24</td>\n",
       "    </tr>\n",
       "  </tbody>\n",
       "</table>\n",
       "</div>"
      ],
      "text/plain": [
       "        Years\n",
       "League       \n",
       "A          20\n",
       "N          24"
      ]
     },
     "execution_count": 33,
     "metadata": {},
     "output_type": "execute_result"
    }
   ],
   "source": [
    "# Lig değişkenine göre gruplayıp kariyer süresinin maksimum değerlerine erişilmiştir.\n",
    "df.groupby(\"League\").agg({\"Years\": \"max\"})"
   ]
  },
  {
   "cell_type": "code",
   "execution_count": 34,
   "metadata": {},
   "outputs": [
    {
     "data": {
      "text/html": [
       "<div>\n",
       "<style scoped>\n",
       "    .dataframe tbody tr th:only-of-type {\n",
       "        vertical-align: middle;\n",
       "    }\n",
       "\n",
       "    .dataframe tbody tr th {\n",
       "        vertical-align: top;\n",
       "    }\n",
       "\n",
       "    .dataframe thead th {\n",
       "        text-align: right;\n",
       "    }\n",
       "</style>\n",
       "<table border=\"1\" class=\"dataframe\">\n",
       "  <thead>\n",
       "    <tr style=\"text-align: right;\">\n",
       "      <th></th>\n",
       "      <th>Errors</th>\n",
       "    </tr>\n",
       "    <tr>\n",
       "      <th>League</th>\n",
       "      <th></th>\n",
       "    </tr>\n",
       "  </thead>\n",
       "  <tbody>\n",
       "    <tr>\n",
       "      <th>A</th>\n",
       "      <td>7.582857</td>\n",
       "    </tr>\n",
       "    <tr>\n",
       "      <th>N</th>\n",
       "      <td>8.585034</td>\n",
       "    </tr>\n",
       "  </tbody>\n",
       "</table>\n",
       "</div>"
      ],
      "text/plain": [
       "          Errors\n",
       "League          \n",
       "A       7.582857\n",
       "N       8.585034"
      ]
     },
     "execution_count": 34,
     "metadata": {},
     "output_type": "execute_result"
    }
   ],
   "source": [
    "# Lig değişkenine göre gruplayıp hangi ligde kaç hata yapılmakta bunun ortalama değerlerine erişilmiştir.\n",
    "df.groupby(\"League\").agg({\"Errors\": \"mean\"})"
   ]
  },
  {
   "cell_type": "code",
   "execution_count": 35,
   "metadata": {},
   "outputs": [
    {
     "data": {
      "text/html": [
       "<div>\n",
       "<style scoped>\n",
       "    .dataframe tbody tr th:only-of-type {\n",
       "        vertical-align: middle;\n",
       "    }\n",
       "\n",
       "    .dataframe tbody tr th {\n",
       "        vertical-align: top;\n",
       "    }\n",
       "\n",
       "    .dataframe thead th {\n",
       "        text-align: right;\n",
       "    }\n",
       "</style>\n",
       "<table border=\"1\" class=\"dataframe\">\n",
       "  <thead>\n",
       "    <tr style=\"text-align: right;\">\n",
       "      <th></th>\n",
       "      <th>Errors</th>\n",
       "    </tr>\n",
       "    <tr>\n",
       "      <th>League</th>\n",
       "      <th></th>\n",
       "    </tr>\n",
       "  </thead>\n",
       "  <tbody>\n",
       "    <tr>\n",
       "      <th>A</th>\n",
       "      <td>26</td>\n",
       "    </tr>\n",
       "    <tr>\n",
       "      <th>N</th>\n",
       "      <td>32</td>\n",
       "    </tr>\n",
       "  </tbody>\n",
       "</table>\n",
       "</div>"
      ],
      "text/plain": [
       "        Errors\n",
       "League        \n",
       "A           26\n",
       "N           32"
      ]
     },
     "execution_count": 35,
     "metadata": {},
     "output_type": "execute_result"
    }
   ],
   "source": [
    "# Lig değişkenine göre gruplayıp hangi ligde kaç hata yapılmakta bunun maksimum değerlerine erişilmiştir.\n",
    "df.groupby(\"League\").agg({\"Errors\": \"max\"})"
   ]
  },
  {
   "cell_type": "code",
   "execution_count": 36,
   "metadata": {},
   "outputs": [
    {
     "data": {
      "text/html": [
       "<div>\n",
       "<style scoped>\n",
       "    .dataframe tbody tr th:only-of-type {\n",
       "        vertical-align: middle;\n",
       "    }\n",
       "\n",
       "    .dataframe tbody tr th {\n",
       "        vertical-align: top;\n",
       "    }\n",
       "\n",
       "    .dataframe thead th {\n",
       "        text-align: right;\n",
       "    }\n",
       "</style>\n",
       "<table border=\"1\" class=\"dataframe\">\n",
       "  <thead>\n",
       "    <tr style=\"text-align: right;\">\n",
       "      <th></th>\n",
       "      <th>PutOuts</th>\n",
       "    </tr>\n",
       "    <tr>\n",
       "      <th>League</th>\n",
       "      <th></th>\n",
       "    </tr>\n",
       "  </thead>\n",
       "  <tbody>\n",
       "    <tr>\n",
       "      <th>A</th>\n",
       "      <td>1377</td>\n",
       "    </tr>\n",
       "    <tr>\n",
       "      <th>N</th>\n",
       "      <td>1378</td>\n",
       "    </tr>\n",
       "  </tbody>\n",
       "</table>\n",
       "</div>"
      ],
      "text/plain": [
       "        PutOuts\n",
       "League         \n",
       "A          1377\n",
       "N          1378"
      ]
     },
     "execution_count": 36,
     "metadata": {},
     "output_type": "execute_result"
    }
   ],
   "source": [
    "# Lig değişkenine göre gruplayıp 1986 yılında yapılan satış değerinin maksimum değerlerine erişilmiştir.\n",
    "df.groupby(\"League\").agg({\"PutOuts\": \"max\"})"
   ]
  },
  {
   "cell_type": "code",
   "execution_count": 37,
   "metadata": {},
   "outputs": [
    {
     "data": {
      "text/html": [
       "<div>\n",
       "<style scoped>\n",
       "    .dataframe tbody tr th:only-of-type {\n",
       "        vertical-align: middle;\n",
       "    }\n",
       "\n",
       "    .dataframe tbody tr th {\n",
       "        vertical-align: top;\n",
       "    }\n",
       "\n",
       "    .dataframe thead th {\n",
       "        text-align: right;\n",
       "    }\n",
       "</style>\n",
       "<table border=\"1\" class=\"dataframe\">\n",
       "  <thead>\n",
       "    <tr style=\"text-align: right;\">\n",
       "      <th></th>\n",
       "      <th>Assists</th>\n",
       "    </tr>\n",
       "    <tr>\n",
       "      <th>League</th>\n",
       "      <th></th>\n",
       "    </tr>\n",
       "  </thead>\n",
       "  <tbody>\n",
       "    <tr>\n",
       "      <th>A</th>\n",
       "      <td>482</td>\n",
       "    </tr>\n",
       "    <tr>\n",
       "      <th>N</th>\n",
       "      <td>492</td>\n",
       "    </tr>\n",
       "  </tbody>\n",
       "</table>\n",
       "</div>"
      ],
      "text/plain": [
       "        Assists\n",
       "League         \n",
       "A           482\n",
       "N           492"
      ]
     },
     "execution_count": 37,
     "metadata": {},
     "output_type": "execute_result"
    }
   ],
   "source": [
    "# Lig değişkenine göre gruplayıp liglerde maksimum kaç asist yapılmakta bu değere erişilmiştir.\n",
    "df.groupby(\"League\").agg({\"Assists\": \"max\"})"
   ]
  },
  {
   "cell_type": "code",
   "execution_count": 38,
   "metadata": {},
   "outputs": [
    {
     "data": {
      "text/html": [
       "<div>\n",
       "<style scoped>\n",
       "    .dataframe tbody tr th:only-of-type {\n",
       "        vertical-align: middle;\n",
       "    }\n",
       "\n",
       "    .dataframe tbody tr th {\n",
       "        vertical-align: top;\n",
       "    }\n",
       "\n",
       "    .dataframe thead th {\n",
       "        text-align: right;\n",
       "    }\n",
       "</style>\n",
       "<table border=\"1\" class=\"dataframe\">\n",
       "  <thead>\n",
       "    <tr style=\"text-align: right;\">\n",
       "      <th></th>\n",
       "      <th>CAtBat</th>\n",
       "    </tr>\n",
       "    <tr>\n",
       "      <th>Years</th>\n",
       "      <th></th>\n",
       "    </tr>\n",
       "  </thead>\n",
       "  <tbody>\n",
       "    <tr>\n",
       "      <th>1</th>\n",
       "      <td>593</td>\n",
       "    </tr>\n",
       "    <tr>\n",
       "      <th>2</th>\n",
       "      <td>1236</td>\n",
       "    </tr>\n",
       "    <tr>\n",
       "      <th>3</th>\n",
       "      <td>1928</td>\n",
       "    </tr>\n",
       "    <tr>\n",
       "      <th>4</th>\n",
       "      <td>2020</td>\n",
       "    </tr>\n",
       "    <tr>\n",
       "      <th>5</th>\n",
       "      <td>2778</td>\n",
       "    </tr>\n",
       "    <tr>\n",
       "      <th>6</th>\n",
       "      <td>3210</td>\n",
       "    </tr>\n",
       "    <tr>\n",
       "      <th>7</th>\n",
       "      <td>3754</td>\n",
       "    </tr>\n",
       "    <tr>\n",
       "      <th>8</th>\n",
       "      <td>4071</td>\n",
       "    </tr>\n",
       "    <tr>\n",
       "      <th>9</th>\n",
       "      <td>4739</td>\n",
       "    </tr>\n",
       "    <tr>\n",
       "      <th>10</th>\n",
       "      <td>5624</td>\n",
       "    </tr>\n",
       "    <tr>\n",
       "      <th>11</th>\n",
       "      <td>5628</td>\n",
       "    </tr>\n",
       "    <tr>\n",
       "      <th>12</th>\n",
       "      <td>5511</td>\n",
       "    </tr>\n",
       "    <tr>\n",
       "      <th>13</th>\n",
       "      <td>7127</td>\n",
       "    </tr>\n",
       "    <tr>\n",
       "      <th>14</th>\n",
       "      <td>7287</td>\n",
       "    </tr>\n",
       "    <tr>\n",
       "      <th>15</th>\n",
       "      <td>8068</td>\n",
       "    </tr>\n",
       "    <tr>\n",
       "      <th>16</th>\n",
       "      <td>7099</td>\n",
       "    </tr>\n",
       "    <tr>\n",
       "      <th>17</th>\n",
       "      <td>8247</td>\n",
       "    </tr>\n",
       "    <tr>\n",
       "      <th>18</th>\n",
       "      <td>8759</td>\n",
       "    </tr>\n",
       "    <tr>\n",
       "      <th>19</th>\n",
       "      <td>8396</td>\n",
       "    </tr>\n",
       "    <tr>\n",
       "      <th>20</th>\n",
       "      <td>9528</td>\n",
       "    </tr>\n",
       "    <tr>\n",
       "      <th>23</th>\n",
       "      <td>9778</td>\n",
       "    </tr>\n",
       "    <tr>\n",
       "      <th>24</th>\n",
       "      <td>14053</td>\n",
       "    </tr>\n",
       "  </tbody>\n",
       "</table>\n",
       "</div>"
      ],
      "text/plain": [
       "       CAtBat\n",
       "Years        \n",
       "1         593\n",
       "2        1236\n",
       "3        1928\n",
       "4        2020\n",
       "5        2778\n",
       "6        3210\n",
       "7        3754\n",
       "8        4071\n",
       "9        4739\n",
       "10       5624\n",
       "11       5628\n",
       "12       5511\n",
       "13       7127\n",
       "14       7287\n",
       "15       8068\n",
       "16       7099\n",
       "17       8247\n",
       "18       8759\n",
       "19       8396\n",
       "20       9528\n",
       "23       9778\n",
       "24      14053"
      ]
     },
     "execution_count": 38,
     "metadata": {},
     "output_type": "execute_result"
    }
   ],
   "source": [
    "# Kariyer süresine göre gruplayıp oyuncunun kariyeri boyunca beyzbol sopası ile yapılan vuruş sayısının maksimum değerlerine erişim sağlanmıştır.\n",
    "df.groupby(\"Years\").agg({\"CAtBat\": \"max\"})"
   ]
  },
  {
   "cell_type": "code",
   "execution_count": 39,
   "metadata": {},
   "outputs": [
    {
     "data": {
      "text/html": [
       "<div>\n",
       "<style scoped>\n",
       "    .dataframe tbody tr th:only-of-type {\n",
       "        vertical-align: middle;\n",
       "    }\n",
       "\n",
       "    .dataframe tbody tr th {\n",
       "        vertical-align: top;\n",
       "    }\n",
       "\n",
       "    .dataframe thead th {\n",
       "        text-align: right;\n",
       "    }\n",
       "</style>\n",
       "<table border=\"1\" class=\"dataframe\">\n",
       "  <thead>\n",
       "    <tr style=\"text-align: right;\">\n",
       "      <th></th>\n",
       "      <th></th>\n",
       "      <th>CAtBat</th>\n",
       "    </tr>\n",
       "    <tr>\n",
       "      <th>League</th>\n",
       "      <th>Years</th>\n",
       "      <th></th>\n",
       "    </tr>\n",
       "  </thead>\n",
       "  <tbody>\n",
       "    <tr>\n",
       "      <th rowspan=\"19\" valign=\"top\">A</th>\n",
       "      <th>1</th>\n",
       "      <td>593</td>\n",
       "    </tr>\n",
       "    <tr>\n",
       "      <th>2</th>\n",
       "      <td>1038</td>\n",
       "    </tr>\n",
       "    <tr>\n",
       "      <th>3</th>\n",
       "      <td>1928</td>\n",
       "    </tr>\n",
       "    <tr>\n",
       "      <th>4</th>\n",
       "      <td>1716</td>\n",
       "    </tr>\n",
       "    <tr>\n",
       "      <th>5</th>\n",
       "      <td>2778</td>\n",
       "    </tr>\n",
       "    <tr>\n",
       "      <th>6</th>\n",
       "      <td>3210</td>\n",
       "    </tr>\n",
       "    <tr>\n",
       "      <th>7</th>\n",
       "      <td>3754</td>\n",
       "    </tr>\n",
       "    <tr>\n",
       "      <th>8</th>\n",
       "      <td>4071</td>\n",
       "    </tr>\n",
       "    <tr>\n",
       "      <th>9</th>\n",
       "      <td>4478</td>\n",
       "    </tr>\n",
       "    <tr>\n",
       "      <th>10</th>\n",
       "      <td>5624</td>\n",
       "    </tr>\n",
       "    <tr>\n",
       "      <th>11</th>\n",
       "      <td>4908</td>\n",
       "    </tr>\n",
       "    <tr>\n",
       "      <th>12</th>\n",
       "      <td>5511</td>\n",
       "    </tr>\n",
       "    <tr>\n",
       "      <th>13</th>\n",
       "      <td>7127</td>\n",
       "    </tr>\n",
       "    <tr>\n",
       "      <th>14</th>\n",
       "      <td>7287</td>\n",
       "    </tr>\n",
       "    <tr>\n",
       "      <th>15</th>\n",
       "      <td>6661</td>\n",
       "    </tr>\n",
       "    <tr>\n",
       "      <th>16</th>\n",
       "      <td>7099</td>\n",
       "    </tr>\n",
       "    <tr>\n",
       "      <th>17</th>\n",
       "      <td>7546</td>\n",
       "    </tr>\n",
       "    <tr>\n",
       "      <th>18</th>\n",
       "      <td>8424</td>\n",
       "    </tr>\n",
       "    <tr>\n",
       "      <th>20</th>\n",
       "      <td>9528</td>\n",
       "    </tr>\n",
       "    <tr>\n",
       "      <th rowspan=\"22\" valign=\"top\">N</th>\n",
       "      <th>1</th>\n",
       "      <td>549</td>\n",
       "    </tr>\n",
       "    <tr>\n",
       "      <th>2</th>\n",
       "      <td>1236</td>\n",
       "    </tr>\n",
       "    <tr>\n",
       "      <th>3</th>\n",
       "      <td>1399</td>\n",
       "    </tr>\n",
       "    <tr>\n",
       "      <th>4</th>\n",
       "      <td>2020</td>\n",
       "    </tr>\n",
       "    <tr>\n",
       "      <th>5</th>\n",
       "      <td>2703</td>\n",
       "    </tr>\n",
       "    <tr>\n",
       "      <th>6</th>\n",
       "      <td>3146</td>\n",
       "    </tr>\n",
       "    <tr>\n",
       "      <th>7</th>\n",
       "      <td>3358</td>\n",
       "    </tr>\n",
       "    <tr>\n",
       "      <th>8</th>\n",
       "      <td>3372</td>\n",
       "    </tr>\n",
       "    <tr>\n",
       "      <th>9</th>\n",
       "      <td>4739</td>\n",
       "    </tr>\n",
       "    <tr>\n",
       "      <th>10</th>\n",
       "      <td>4086</td>\n",
       "    </tr>\n",
       "    <tr>\n",
       "      <th>11</th>\n",
       "      <td>5628</td>\n",
       "    </tr>\n",
       "    <tr>\n",
       "      <th>12</th>\n",
       "      <td>4992</td>\n",
       "    </tr>\n",
       "    <tr>\n",
       "      <th>13</th>\n",
       "      <td>6090</td>\n",
       "    </tr>\n",
       "    <tr>\n",
       "      <th>14</th>\n",
       "      <td>6727</td>\n",
       "    </tr>\n",
       "    <tr>\n",
       "      <th>15</th>\n",
       "      <td>8068</td>\n",
       "    </tr>\n",
       "    <tr>\n",
       "      <th>16</th>\n",
       "      <td>7058</td>\n",
       "    </tr>\n",
       "    <tr>\n",
       "      <th>17</th>\n",
       "      <td>8247</td>\n",
       "    </tr>\n",
       "    <tr>\n",
       "      <th>18</th>\n",
       "      <td>8759</td>\n",
       "    </tr>\n",
       "    <tr>\n",
       "      <th>19</th>\n",
       "      <td>8396</td>\n",
       "    </tr>\n",
       "    <tr>\n",
       "      <th>20</th>\n",
       "      <td>8716</td>\n",
       "    </tr>\n",
       "    <tr>\n",
       "      <th>23</th>\n",
       "      <td>9778</td>\n",
       "    </tr>\n",
       "    <tr>\n",
       "      <th>24</th>\n",
       "      <td>14053</td>\n",
       "    </tr>\n",
       "  </tbody>\n",
       "</table>\n",
       "</div>"
      ],
      "text/plain": [
       "              CAtBat\n",
       "League Years        \n",
       "A      1         593\n",
       "       2        1038\n",
       "       3        1928\n",
       "       4        1716\n",
       "       5        2778\n",
       "       6        3210\n",
       "       7        3754\n",
       "       8        4071\n",
       "       9        4478\n",
       "       10       5624\n",
       "       11       4908\n",
       "       12       5511\n",
       "       13       7127\n",
       "       14       7287\n",
       "       15       6661\n",
       "       16       7099\n",
       "       17       7546\n",
       "       18       8424\n",
       "       20       9528\n",
       "N      1         549\n",
       "       2        1236\n",
       "       3        1399\n",
       "       4        2020\n",
       "       5        2703\n",
       "       6        3146\n",
       "       7        3358\n",
       "       8        3372\n",
       "       9        4739\n",
       "       10       4086\n",
       "       11       5628\n",
       "       12       4992\n",
       "       13       6090\n",
       "       14       6727\n",
       "       15       8068\n",
       "       16       7058\n",
       "       17       8247\n",
       "       18       8759\n",
       "       19       8396\n",
       "       20       8716\n",
       "       23       9778\n",
       "       24      14053"
      ]
     },
     "execution_count": 39,
     "metadata": {},
     "output_type": "execute_result"
    }
   ],
   "source": [
    "# lig ve Kariyer süresine göre gruplayıp oyuncunun kariyeri boyunca beyzbol sopası ile yapılan vuruş sayısının maksimum değerlerine erişim sağlanmıştır.\n",
    "df.groupby([\"League\", \"Years\"]).agg({\"CAtBat\": \"max\"})"
   ]
  },
  {
   "cell_type": "code",
   "execution_count": 40,
   "metadata": {},
   "outputs": [
    {
     "data": {
      "text/html": [
       "<div>\n",
       "<style scoped>\n",
       "    .dataframe tbody tr th:only-of-type {\n",
       "        vertical-align: middle;\n",
       "    }\n",
       "\n",
       "    .dataframe tbody tr th {\n",
       "        vertical-align: top;\n",
       "    }\n",
       "\n",
       "    .dataframe thead th {\n",
       "        text-align: right;\n",
       "    }\n",
       "</style>\n",
       "<table border=\"1\" class=\"dataframe\">\n",
       "  <thead>\n",
       "    <tr style=\"text-align: right;\">\n",
       "      <th></th>\n",
       "      <th>CAtBat</th>\n",
       "    </tr>\n",
       "    <tr>\n",
       "      <th>League</th>\n",
       "      <th></th>\n",
       "    </tr>\n",
       "  </thead>\n",
       "  <tbody>\n",
       "    <tr>\n",
       "      <th>A</th>\n",
       "      <td>2709.805714</td>\n",
       "    </tr>\n",
       "    <tr>\n",
       "      <th>N</th>\n",
       "      <td>2575.918367</td>\n",
       "    </tr>\n",
       "  </tbody>\n",
       "</table>\n",
       "</div>"
      ],
      "text/plain": [
       "             CAtBat\n",
       "League             \n",
       "A       2709.805714\n",
       "N       2575.918367"
      ]
     },
     "execution_count": 40,
     "metadata": {},
     "output_type": "execute_result"
    }
   ],
   "source": [
    "# Lig değişkenine göre gruplayıp kariyeri boyunca acaba liglerde beyzbol sopası ile ortalama kaç atış gerçekleşmiştir buna erişim sağlandı.\n",
    "df.groupby(\"League\").agg({\"CAtBat\": \"mean\"})"
   ]
  },
  {
   "cell_type": "markdown",
   "metadata": {},
   "source": [
    "# 2) VERİ ÖN İŞLEME"
   ]
  },
  {
   "cell_type": "markdown",
   "metadata": {},
   "source": [
    "### 1) Yeni Değişkenler Oluşturma\n",
    "\n",
    "Yeni değişkenler oluşturmak modeller için önem arz etmektedir. Ancak mantıklı bir yeni değişken oluşturmak gerekir. Bu veri setinde oyuncunun kariyerine bağlı değişkenler yer almaktadır ve kariyer süresi yer almaktadır. Bu durumda **kariyere bağlı değişkenler / kariyer süresi** yapılırsa oyuncu için ortalama değerler elde edilerek mantıklı bir değişken oluşturulabilir. Aşağıda yapılan işlemde bunu ele alıyor olacağız."
   ]
  },
  {
   "cell_type": "code",
   "execution_count": 41,
   "metadata": {},
   "outputs": [
    {
     "data": {
      "text/html": [
       "<div>\n",
       "<style scoped>\n",
       "    .dataframe tbody tr th:only-of-type {\n",
       "        vertical-align: middle;\n",
       "    }\n",
       "\n",
       "    .dataframe tbody tr th {\n",
       "        vertical-align: top;\n",
       "    }\n",
       "\n",
       "    .dataframe thead th {\n",
       "        text-align: right;\n",
       "    }\n",
       "</style>\n",
       "<table border=\"1\" class=\"dataframe\">\n",
       "  <thead>\n",
       "    <tr style=\"text-align: right;\">\n",
       "      <th></th>\n",
       "      <th>AtBat</th>\n",
       "      <th>Hits</th>\n",
       "      <th>HmRun</th>\n",
       "      <th>Runs</th>\n",
       "      <th>RBI</th>\n",
       "      <th>Walks</th>\n",
       "      <th>Years</th>\n",
       "      <th>CAtBat</th>\n",
       "      <th>CHits</th>\n",
       "      <th>CHmRun</th>\n",
       "      <th>...</th>\n",
       "      <th>Assists</th>\n",
       "      <th>Errors</th>\n",
       "      <th>Salary</th>\n",
       "      <th>NewLeague</th>\n",
       "      <th>OrtCAtBat</th>\n",
       "      <th>OrtCHits</th>\n",
       "      <th>OrtCHmRun</th>\n",
       "      <th>OrtCruns</th>\n",
       "      <th>OrtCRBI</th>\n",
       "      <th>OrtCWalks</th>\n",
       "    </tr>\n",
       "  </thead>\n",
       "  <tbody>\n",
       "    <tr>\n",
       "      <th>0</th>\n",
       "      <td>293</td>\n",
       "      <td>66</td>\n",
       "      <td>1</td>\n",
       "      <td>30</td>\n",
       "      <td>29</td>\n",
       "      <td>14</td>\n",
       "      <td>1</td>\n",
       "      <td>293</td>\n",
       "      <td>66</td>\n",
       "      <td>1</td>\n",
       "      <td>...</td>\n",
       "      <td>33</td>\n",
       "      <td>20</td>\n",
       "      <td>NaN</td>\n",
       "      <td>A</td>\n",
       "      <td>293.000000</td>\n",
       "      <td>66.000000</td>\n",
       "      <td>1.000000</td>\n",
       "      <td>30.000000</td>\n",
       "      <td>29.000000</td>\n",
       "      <td>14.000000</td>\n",
       "    </tr>\n",
       "    <tr>\n",
       "      <th>1</th>\n",
       "      <td>315</td>\n",
       "      <td>81</td>\n",
       "      <td>7</td>\n",
       "      <td>24</td>\n",
       "      <td>38</td>\n",
       "      <td>39</td>\n",
       "      <td>14</td>\n",
       "      <td>3449</td>\n",
       "      <td>835</td>\n",
       "      <td>69</td>\n",
       "      <td>...</td>\n",
       "      <td>43</td>\n",
       "      <td>10</td>\n",
       "      <td>475.0</td>\n",
       "      <td>N</td>\n",
       "      <td>246.357143</td>\n",
       "      <td>59.642857</td>\n",
       "      <td>4.928571</td>\n",
       "      <td>22.928571</td>\n",
       "      <td>29.571429</td>\n",
       "      <td>26.785714</td>\n",
       "    </tr>\n",
       "    <tr>\n",
       "      <th>2</th>\n",
       "      <td>479</td>\n",
       "      <td>130</td>\n",
       "      <td>18</td>\n",
       "      <td>66</td>\n",
       "      <td>72</td>\n",
       "      <td>76</td>\n",
       "      <td>3</td>\n",
       "      <td>1624</td>\n",
       "      <td>457</td>\n",
       "      <td>63</td>\n",
       "      <td>...</td>\n",
       "      <td>82</td>\n",
       "      <td>14</td>\n",
       "      <td>480.0</td>\n",
       "      <td>A</td>\n",
       "      <td>541.333333</td>\n",
       "      <td>152.333333</td>\n",
       "      <td>21.000000</td>\n",
       "      <td>74.666667</td>\n",
       "      <td>88.666667</td>\n",
       "      <td>87.666667</td>\n",
       "    </tr>\n",
       "    <tr>\n",
       "      <th>3</th>\n",
       "      <td>496</td>\n",
       "      <td>141</td>\n",
       "      <td>20</td>\n",
       "      <td>65</td>\n",
       "      <td>78</td>\n",
       "      <td>37</td>\n",
       "      <td>11</td>\n",
       "      <td>5628</td>\n",
       "      <td>1575</td>\n",
       "      <td>225</td>\n",
       "      <td>...</td>\n",
       "      <td>11</td>\n",
       "      <td>3</td>\n",
       "      <td>500.0</td>\n",
       "      <td>N</td>\n",
       "      <td>511.636364</td>\n",
       "      <td>143.181818</td>\n",
       "      <td>20.454545</td>\n",
       "      <td>75.272727</td>\n",
       "      <td>76.181818</td>\n",
       "      <td>32.181818</td>\n",
       "    </tr>\n",
       "    <tr>\n",
       "      <th>4</th>\n",
       "      <td>321</td>\n",
       "      <td>87</td>\n",
       "      <td>10</td>\n",
       "      <td>39</td>\n",
       "      <td>42</td>\n",
       "      <td>30</td>\n",
       "      <td>2</td>\n",
       "      <td>396</td>\n",
       "      <td>101</td>\n",
       "      <td>12</td>\n",
       "      <td>...</td>\n",
       "      <td>40</td>\n",
       "      <td>4</td>\n",
       "      <td>91.5</td>\n",
       "      <td>N</td>\n",
       "      <td>198.000000</td>\n",
       "      <td>50.500000</td>\n",
       "      <td>6.000000</td>\n",
       "      <td>24.000000</td>\n",
       "      <td>23.000000</td>\n",
       "      <td>16.500000</td>\n",
       "    </tr>\n",
       "  </tbody>\n",
       "</table>\n",
       "<p>5 rows × 26 columns</p>\n",
       "</div>"
      ],
      "text/plain": [
       "   AtBat  Hits  HmRun  Runs  RBI  Walks  Years  CAtBat  CHits  CHmRun  ...  \\\n",
       "0    293    66      1    30   29     14      1     293     66       1  ...   \n",
       "1    315    81      7    24   38     39     14    3449    835      69  ...   \n",
       "2    479   130     18    66   72     76      3    1624    457      63  ...   \n",
       "3    496   141     20    65   78     37     11    5628   1575     225  ...   \n",
       "4    321    87     10    39   42     30      2     396    101      12  ...   \n",
       "\n",
       "   Assists  Errors  Salary NewLeague   OrtCAtBat    OrtCHits  OrtCHmRun  \\\n",
       "0       33      20     NaN         A  293.000000   66.000000   1.000000   \n",
       "1       43      10   475.0         N  246.357143   59.642857   4.928571   \n",
       "2       82      14   480.0         A  541.333333  152.333333  21.000000   \n",
       "3       11       3   500.0         N  511.636364  143.181818  20.454545   \n",
       "4       40       4    91.5         N  198.000000   50.500000   6.000000   \n",
       "\n",
       "    OrtCruns    OrtCRBI  OrtCWalks  \n",
       "0  30.000000  29.000000  14.000000  \n",
       "1  22.928571  29.571429  26.785714  \n",
       "2  74.666667  88.666667  87.666667  \n",
       "3  75.272727  76.181818  32.181818  \n",
       "4  24.000000  23.000000  16.500000  \n",
       "\n",
       "[5 rows x 26 columns]"
      ]
     },
     "execution_count": 41,
     "metadata": {},
     "output_type": "execute_result"
    }
   ],
   "source": [
    "# Kariyerleri ile ilgili olan değişkenler kariyer yıllarına bölünerek ortalama değerler elde edilerek veri setinde yeni değişkenler oluşturulmuştur.\n",
    "df[\"OrtCAtBat\"] = df[\"CAtBat\"] / df[\"Years\"]\n",
    "df[\"OrtCHits\"] = df[\"CHits\"] / df[\"Years\"]\n",
    "df[\"OrtCHmRun\"] = df[\"CHmRun\"] / df[\"Years\"]\n",
    "df[\"OrtCruns\"] = df[\"CRuns\"] / df[\"Years\"]\n",
    "df[\"OrtCRBI\"] = df[\"CRBI\"] / df[\"Years\"]\n",
    "df[\"OrtCWalks\"] = cwalks = df[\"CWalks\"] / df[\"Years\"]\n",
    "df.head()"
   ]
  },
  {
   "cell_type": "code",
   "execution_count": 42,
   "metadata": {},
   "outputs": [],
   "source": [
    "# Modele oyuncunun özellikleri ile ilgili değişkenleri verme işlemi gerçekleştiriyoruz. Diğer değişkenler sezon boyunca gerçekleşen değişkenler. \n",
    "# Amacımız bir oyuncuya maaş tahmini yapmak ise o oyuncunun kişisel değerlerine bakılarak tahmin yapılmak daha mantıklı olacaktır.\n",
    "df = df.drop(['AtBat','Hits','HmRun','Runs','RBI','Walks','Assists','Errors',\"PutOuts\",'League','NewLeague'], axis=1)"
   ]
  },
  {
   "cell_type": "code",
   "execution_count": 43,
   "metadata": {},
   "outputs": [
    {
     "data": {
      "text/html": [
       "<div>\n",
       "<style scoped>\n",
       "    .dataframe tbody tr th:only-of-type {\n",
       "        vertical-align: middle;\n",
       "    }\n",
       "\n",
       "    .dataframe tbody tr th {\n",
       "        vertical-align: top;\n",
       "    }\n",
       "\n",
       "    .dataframe thead th {\n",
       "        text-align: right;\n",
       "    }\n",
       "</style>\n",
       "<table border=\"1\" class=\"dataframe\">\n",
       "  <thead>\n",
       "    <tr style=\"text-align: right;\">\n",
       "      <th></th>\n",
       "      <th>Years</th>\n",
       "      <th>CAtBat</th>\n",
       "      <th>CHits</th>\n",
       "      <th>CHmRun</th>\n",
       "      <th>CRuns</th>\n",
       "      <th>CRBI</th>\n",
       "      <th>CWalks</th>\n",
       "      <th>Division</th>\n",
       "      <th>Salary</th>\n",
       "      <th>OrtCAtBat</th>\n",
       "      <th>OrtCHits</th>\n",
       "      <th>OrtCHmRun</th>\n",
       "      <th>OrtCruns</th>\n",
       "      <th>OrtCRBI</th>\n",
       "      <th>OrtCWalks</th>\n",
       "    </tr>\n",
       "  </thead>\n",
       "  <tbody>\n",
       "    <tr>\n",
       "      <th>0</th>\n",
       "      <td>1</td>\n",
       "      <td>293</td>\n",
       "      <td>66</td>\n",
       "      <td>1</td>\n",
       "      <td>30</td>\n",
       "      <td>29</td>\n",
       "      <td>14</td>\n",
       "      <td>E</td>\n",
       "      <td>NaN</td>\n",
       "      <td>293.000000</td>\n",
       "      <td>66.000000</td>\n",
       "      <td>1.000000</td>\n",
       "      <td>30.000000</td>\n",
       "      <td>29.000000</td>\n",
       "      <td>14.000000</td>\n",
       "    </tr>\n",
       "    <tr>\n",
       "      <th>1</th>\n",
       "      <td>14</td>\n",
       "      <td>3449</td>\n",
       "      <td>835</td>\n",
       "      <td>69</td>\n",
       "      <td>321</td>\n",
       "      <td>414</td>\n",
       "      <td>375</td>\n",
       "      <td>W</td>\n",
       "      <td>475.0</td>\n",
       "      <td>246.357143</td>\n",
       "      <td>59.642857</td>\n",
       "      <td>4.928571</td>\n",
       "      <td>22.928571</td>\n",
       "      <td>29.571429</td>\n",
       "      <td>26.785714</td>\n",
       "    </tr>\n",
       "    <tr>\n",
       "      <th>2</th>\n",
       "      <td>3</td>\n",
       "      <td>1624</td>\n",
       "      <td>457</td>\n",
       "      <td>63</td>\n",
       "      <td>224</td>\n",
       "      <td>266</td>\n",
       "      <td>263</td>\n",
       "      <td>W</td>\n",
       "      <td>480.0</td>\n",
       "      <td>541.333333</td>\n",
       "      <td>152.333333</td>\n",
       "      <td>21.000000</td>\n",
       "      <td>74.666667</td>\n",
       "      <td>88.666667</td>\n",
       "      <td>87.666667</td>\n",
       "    </tr>\n",
       "    <tr>\n",
       "      <th>3</th>\n",
       "      <td>11</td>\n",
       "      <td>5628</td>\n",
       "      <td>1575</td>\n",
       "      <td>225</td>\n",
       "      <td>828</td>\n",
       "      <td>838</td>\n",
       "      <td>354</td>\n",
       "      <td>E</td>\n",
       "      <td>500.0</td>\n",
       "      <td>511.636364</td>\n",
       "      <td>143.181818</td>\n",
       "      <td>20.454545</td>\n",
       "      <td>75.272727</td>\n",
       "      <td>76.181818</td>\n",
       "      <td>32.181818</td>\n",
       "    </tr>\n",
       "    <tr>\n",
       "      <th>4</th>\n",
       "      <td>2</td>\n",
       "      <td>396</td>\n",
       "      <td>101</td>\n",
       "      <td>12</td>\n",
       "      <td>48</td>\n",
       "      <td>46</td>\n",
       "      <td>33</td>\n",
       "      <td>E</td>\n",
       "      <td>91.5</td>\n",
       "      <td>198.000000</td>\n",
       "      <td>50.500000</td>\n",
       "      <td>6.000000</td>\n",
       "      <td>24.000000</td>\n",
       "      <td>23.000000</td>\n",
       "      <td>16.500000</td>\n",
       "    </tr>\n",
       "  </tbody>\n",
       "</table>\n",
       "</div>"
      ],
      "text/plain": [
       "   Years  CAtBat  CHits  CHmRun  CRuns  CRBI  CWalks Division  Salary  \\\n",
       "0      1     293     66       1     30    29      14        E     NaN   \n",
       "1     14    3449    835      69    321   414     375        W   475.0   \n",
       "2      3    1624    457      63    224   266     263        W   480.0   \n",
       "3     11    5628   1575     225    828   838     354        E   500.0   \n",
       "4      2     396    101      12     48    46      33        E    91.5   \n",
       "\n",
       "    OrtCAtBat    OrtCHits  OrtCHmRun   OrtCruns    OrtCRBI  OrtCWalks  \n",
       "0  293.000000   66.000000   1.000000  30.000000  29.000000  14.000000  \n",
       "1  246.357143   59.642857   4.928571  22.928571  29.571429  26.785714  \n",
       "2  541.333333  152.333333  21.000000  74.666667  88.666667  87.666667  \n",
       "3  511.636364  143.181818  20.454545  75.272727  76.181818  32.181818  \n",
       "4  198.000000   50.500000   6.000000  24.000000  23.000000  16.500000  "
      ]
     },
     "execution_count": 43,
     "metadata": {},
     "output_type": "execute_result"
    }
   ],
   "source": [
    "# df'in ilk 5 gözlem birimine erişim sağlandı.\n",
    "df.head()"
   ]
  },
  {
   "cell_type": "markdown",
   "metadata": {},
   "source": [
    "### 2) One Hot Encoding Dönüşümü"
   ]
  },
  {
   "cell_type": "code",
   "execution_count": 44,
   "metadata": {},
   "outputs": [],
   "source": [
    "# Veri setinde yer alan kategorik değişkenlerin sayısal değerlere dönüştürülmesi gerekmektedir. \n",
    "# Bu nedenle bu dönüşüm işlemleri Label Encoding ve One Hot Encoding yöntemi ile yapılmaktadır.\n",
    "# Burada One Hot Encoding dönüşümü yapılarak kategorik değişkenler sayısal değerlere dönüşülmüştür. Aynı zamanda Dummy değişken tuzağından da korunulmuştur.\n",
    "df = pd.get_dummies(df, columns =[\"Division\"], drop_first = True)"
   ]
  },
  {
   "cell_type": "code",
   "execution_count": 45,
   "metadata": {},
   "outputs": [
    {
     "data": {
      "text/html": [
       "<div>\n",
       "<style scoped>\n",
       "    .dataframe tbody tr th:only-of-type {\n",
       "        vertical-align: middle;\n",
       "    }\n",
       "\n",
       "    .dataframe tbody tr th {\n",
       "        vertical-align: top;\n",
       "    }\n",
       "\n",
       "    .dataframe thead th {\n",
       "        text-align: right;\n",
       "    }\n",
       "</style>\n",
       "<table border=\"1\" class=\"dataframe\">\n",
       "  <thead>\n",
       "    <tr style=\"text-align: right;\">\n",
       "      <th></th>\n",
       "      <th>Years</th>\n",
       "      <th>CAtBat</th>\n",
       "      <th>CHits</th>\n",
       "      <th>CHmRun</th>\n",
       "      <th>CRuns</th>\n",
       "      <th>CRBI</th>\n",
       "      <th>CWalks</th>\n",
       "      <th>Salary</th>\n",
       "      <th>OrtCAtBat</th>\n",
       "      <th>OrtCHits</th>\n",
       "      <th>OrtCHmRun</th>\n",
       "      <th>OrtCruns</th>\n",
       "      <th>OrtCRBI</th>\n",
       "      <th>OrtCWalks</th>\n",
       "      <th>Division_W</th>\n",
       "    </tr>\n",
       "  </thead>\n",
       "  <tbody>\n",
       "    <tr>\n",
       "      <th>0</th>\n",
       "      <td>1</td>\n",
       "      <td>293</td>\n",
       "      <td>66</td>\n",
       "      <td>1</td>\n",
       "      <td>30</td>\n",
       "      <td>29</td>\n",
       "      <td>14</td>\n",
       "      <td>NaN</td>\n",
       "      <td>293.000000</td>\n",
       "      <td>66.000000</td>\n",
       "      <td>1.000000</td>\n",
       "      <td>30.000000</td>\n",
       "      <td>29.000000</td>\n",
       "      <td>14.000000</td>\n",
       "      <td>0</td>\n",
       "    </tr>\n",
       "    <tr>\n",
       "      <th>1</th>\n",
       "      <td>14</td>\n",
       "      <td>3449</td>\n",
       "      <td>835</td>\n",
       "      <td>69</td>\n",
       "      <td>321</td>\n",
       "      <td>414</td>\n",
       "      <td>375</td>\n",
       "      <td>475.0</td>\n",
       "      <td>246.357143</td>\n",
       "      <td>59.642857</td>\n",
       "      <td>4.928571</td>\n",
       "      <td>22.928571</td>\n",
       "      <td>29.571429</td>\n",
       "      <td>26.785714</td>\n",
       "      <td>1</td>\n",
       "    </tr>\n",
       "    <tr>\n",
       "      <th>2</th>\n",
       "      <td>3</td>\n",
       "      <td>1624</td>\n",
       "      <td>457</td>\n",
       "      <td>63</td>\n",
       "      <td>224</td>\n",
       "      <td>266</td>\n",
       "      <td>263</td>\n",
       "      <td>480.0</td>\n",
       "      <td>541.333333</td>\n",
       "      <td>152.333333</td>\n",
       "      <td>21.000000</td>\n",
       "      <td>74.666667</td>\n",
       "      <td>88.666667</td>\n",
       "      <td>87.666667</td>\n",
       "      <td>1</td>\n",
       "    </tr>\n",
       "    <tr>\n",
       "      <th>3</th>\n",
       "      <td>11</td>\n",
       "      <td>5628</td>\n",
       "      <td>1575</td>\n",
       "      <td>225</td>\n",
       "      <td>828</td>\n",
       "      <td>838</td>\n",
       "      <td>354</td>\n",
       "      <td>500.0</td>\n",
       "      <td>511.636364</td>\n",
       "      <td>143.181818</td>\n",
       "      <td>20.454545</td>\n",
       "      <td>75.272727</td>\n",
       "      <td>76.181818</td>\n",
       "      <td>32.181818</td>\n",
       "      <td>0</td>\n",
       "    </tr>\n",
       "    <tr>\n",
       "      <th>4</th>\n",
       "      <td>2</td>\n",
       "      <td>396</td>\n",
       "      <td>101</td>\n",
       "      <td>12</td>\n",
       "      <td>48</td>\n",
       "      <td>46</td>\n",
       "      <td>33</td>\n",
       "      <td>91.5</td>\n",
       "      <td>198.000000</td>\n",
       "      <td>50.500000</td>\n",
       "      <td>6.000000</td>\n",
       "      <td>24.000000</td>\n",
       "      <td>23.000000</td>\n",
       "      <td>16.500000</td>\n",
       "      <td>0</td>\n",
       "    </tr>\n",
       "  </tbody>\n",
       "</table>\n",
       "</div>"
      ],
      "text/plain": [
       "   Years  CAtBat  CHits  CHmRun  CRuns  CRBI  CWalks  Salary   OrtCAtBat  \\\n",
       "0      1     293     66       1     30    29      14     NaN  293.000000   \n",
       "1     14    3449    835      69    321   414     375   475.0  246.357143   \n",
       "2      3    1624    457      63    224   266     263   480.0  541.333333   \n",
       "3     11    5628   1575     225    828   838     354   500.0  511.636364   \n",
       "4      2     396    101      12     48    46      33    91.5  198.000000   \n",
       "\n",
       "     OrtCHits  OrtCHmRun   OrtCruns    OrtCRBI  OrtCWalks  Division_W  \n",
       "0   66.000000   1.000000  30.000000  29.000000  14.000000           0  \n",
       "1   59.642857   4.928571  22.928571  29.571429  26.785714           1  \n",
       "2  152.333333  21.000000  74.666667  88.666667  87.666667           1  \n",
       "3  143.181818  20.454545  75.272727  76.181818  32.181818           0  \n",
       "4   50.500000   6.000000  24.000000  23.000000  16.500000           0  "
      ]
     },
     "execution_count": 45,
     "metadata": {},
     "output_type": "execute_result"
    }
   ],
   "source": [
    "df.head()"
   ]
  },
  {
   "cell_type": "markdown",
   "metadata": {},
   "source": [
    "### 3) Eksik Gözlem Analizi"
   ]
  },
  {
   "cell_type": "code",
   "execution_count": 46,
   "metadata": {},
   "outputs": [
    {
     "data": {
      "text/plain": [
       "Years          0\n",
       "CAtBat         0\n",
       "CHits          0\n",
       "CHmRun         0\n",
       "CRuns          0\n",
       "CRBI           0\n",
       "CWalks         0\n",
       "Salary        59\n",
       "OrtCAtBat      0\n",
       "OrtCHits       0\n",
       "OrtCHmRun      0\n",
       "OrtCruns       0\n",
       "OrtCRBI        0\n",
       "OrtCWalks      0\n",
       "Division_W     0\n",
       "dtype: int64"
      ]
     },
     "execution_count": 46,
     "metadata": {},
     "output_type": "execute_result"
    }
   ],
   "source": [
    "# Veri setinde eksik gözlem olup olmadığı sorgulanmaktadır.\n",
    "df.isnull().sum()"
   ]
  },
  {
   "cell_type": "code",
   "execution_count": 47,
   "metadata": {},
   "outputs": [
    {
     "data": {
      "image/png": "[encoded data removed]",
      "text/plain": [
       "<Figure size 1728x720 with 3 Axes>"
      ]
     },
     "metadata": {
      "needs_background": "light"
     },
     "output_type": "display_data"
    }
   ],
   "source": [
    "# Eksik gözlemlerin görselleştirilmesi için missingno kütüphanesi kullanılarak eksik gözlemler görselleştirilmiştir.\n",
    "import missingno as msno\n",
    "msno.bar(df);"
   ]
  },
  {
   "cell_type": "code",
   "execution_count": 48,
   "metadata": {},
   "outputs": [
    {
     "data": {
      "text/html": [
       "<div>\n",
       "<style scoped>\n",
       "    .dataframe tbody tr th:only-of-type {\n",
       "        vertical-align: middle;\n",
       "    }\n",
       "\n",
       "    .dataframe tbody tr th {\n",
       "        vertical-align: top;\n",
       "    }\n",
       "\n",
       "    .dataframe thead th {\n",
       "        text-align: right;\n",
       "    }\n",
       "</style>\n",
       "<table border=\"1\" class=\"dataframe\">\n",
       "  <thead>\n",
       "    <tr style=\"text-align: right;\">\n",
       "      <th></th>\n",
       "      <th>Years</th>\n",
       "      <th>CAtBat</th>\n",
       "      <th>CHits</th>\n",
       "      <th>CHmRun</th>\n",
       "      <th>CRuns</th>\n",
       "      <th>CRBI</th>\n",
       "      <th>CWalks</th>\n",
       "      <th>Salary</th>\n",
       "      <th>OrtCAtBat</th>\n",
       "      <th>OrtCHits</th>\n",
       "      <th>OrtCHmRun</th>\n",
       "      <th>OrtCruns</th>\n",
       "      <th>OrtCRBI</th>\n",
       "      <th>OrtCWalks</th>\n",
       "      <th>Division_W</th>\n",
       "    </tr>\n",
       "  </thead>\n",
       "  <tbody>\n",
       "    <tr>\n",
       "      <th>0</th>\n",
       "      <td>1</td>\n",
       "      <td>293</td>\n",
       "      <td>66</td>\n",
       "      <td>1</td>\n",
       "      <td>30</td>\n",
       "      <td>29</td>\n",
       "      <td>14</td>\n",
       "      <td>NaN</td>\n",
       "      <td>293.000000</td>\n",
       "      <td>66.000000</td>\n",
       "      <td>1.000000</td>\n",
       "      <td>30.000000</td>\n",
       "      <td>29.000000</td>\n",
       "      <td>14.000000</td>\n",
       "      <td>0</td>\n",
       "    </tr>\n",
       "    <tr>\n",
       "      <th>15</th>\n",
       "      <td>3</td>\n",
       "      <td>201</td>\n",
       "      <td>42</td>\n",
       "      <td>3</td>\n",
       "      <td>20</td>\n",
       "      <td>16</td>\n",
       "      <td>11</td>\n",
       "      <td>NaN</td>\n",
       "      <td>67.000000</td>\n",
       "      <td>14.000000</td>\n",
       "      <td>1.000000</td>\n",
       "      <td>6.666667</td>\n",
       "      <td>5.333333</td>\n",
       "      <td>3.666667</td>\n",
       "      <td>1</td>\n",
       "    </tr>\n",
       "    <tr>\n",
       "      <th>18</th>\n",
       "      <td>12</td>\n",
       "      <td>5233</td>\n",
       "      <td>1478</td>\n",
       "      <td>100</td>\n",
       "      <td>643</td>\n",
       "      <td>658</td>\n",
       "      <td>653</td>\n",
       "      <td>NaN</td>\n",
       "      <td>436.083333</td>\n",
       "      <td>123.166667</td>\n",
       "      <td>8.333333</td>\n",
       "      <td>53.583333</td>\n",
       "      <td>54.833333</td>\n",
       "      <td>54.416667</td>\n",
       "      <td>1</td>\n",
       "    </tr>\n",
       "    <tr>\n",
       "      <th>22</th>\n",
       "      <td>6</td>\n",
       "      <td>84</td>\n",
       "      <td>26</td>\n",
       "      <td>2</td>\n",
       "      <td>9</td>\n",
       "      <td>9</td>\n",
       "      <td>3</td>\n",
       "      <td>NaN</td>\n",
       "      <td>14.000000</td>\n",
       "      <td>4.333333</td>\n",
       "      <td>0.333333</td>\n",
       "      <td>1.500000</td>\n",
       "      <td>1.500000</td>\n",
       "      <td>0.500000</td>\n",
       "      <td>1</td>\n",
       "    </tr>\n",
       "    <tr>\n",
       "      <th>30</th>\n",
       "      <td>17</td>\n",
       "      <td>6890</td>\n",
       "      <td>1833</td>\n",
       "      <td>224</td>\n",
       "      <td>1033</td>\n",
       "      <td>864</td>\n",
       "      <td>1087</td>\n",
       "      <td>NaN</td>\n",
       "      <td>405.294118</td>\n",
       "      <td>107.823529</td>\n",
       "      <td>13.176471</td>\n",
       "      <td>60.764706</td>\n",
       "      <td>50.823529</td>\n",
       "      <td>63.941176</td>\n",
       "      <td>1</td>\n",
       "    </tr>\n",
       "  </tbody>\n",
       "</table>\n",
       "</div>"
      ],
      "text/plain": [
       "    Years  CAtBat  CHits  CHmRun  CRuns  CRBI  CWalks  Salary   OrtCAtBat  \\\n",
       "0       1     293     66       1     30    29      14     NaN  293.000000   \n",
       "15      3     201     42       3     20    16      11     NaN   67.000000   \n",
       "18     12    5233   1478     100    643   658     653     NaN  436.083333   \n",
       "22      6      84     26       2      9     9       3     NaN   14.000000   \n",
       "30     17    6890   1833     224   1033   864    1087     NaN  405.294118   \n",
       "\n",
       "      OrtCHits  OrtCHmRun   OrtCruns    OrtCRBI  OrtCWalks  Division_W  \n",
       "0    66.000000   1.000000  30.000000  29.000000  14.000000           0  \n",
       "15   14.000000   1.000000   6.666667   5.333333   3.666667           1  \n",
       "18  123.166667   8.333333  53.583333  54.833333  54.416667           1  \n",
       "22    4.333333   0.333333   1.500000   1.500000   0.500000           1  \n",
       "30  107.823529  13.176471  60.764706  50.823529  63.941176           1  "
      ]
     },
     "execution_count": 48,
     "metadata": {},
     "output_type": "execute_result"
    }
   ],
   "source": [
    "# Salary (Maaş) değişkeninde 59 adet eksik gözlem bulunmakta acaba bu eksik gözlemler kaç yıllık kariyere sahip ve hangi ligde oynamaktalar buna erişim sağlanmıştır.\n",
    "# Kısaca eksik gözlem olan değerler acaba kaç yıllık kariyer ve hangi ligde oynamaktalar buna erişim sağlandı.\n",
    "df_eksik = df[df[\"Salary\"].isnull()].head()\n",
    "df_eksik"
   ]
  },
  {
   "cell_type": "markdown",
   "metadata": {},
   "source": [
    "### 3.1) Eksik Gözlem Birimlerinin Doldurulması"
   ]
  },
  {
   "cell_type": "code",
   "execution_count": 49,
   "metadata": {},
   "outputs": [],
   "source": [
    "# Eksik gözlemler KNN Algoritması ile dolduruldu.\n",
    "from sklearn.impute import KNNImputer\n",
    "imputer = KNNImputer(n_neighbors = 5)\n",
    "df_filled = imputer.fit_transform(df)"
   ]
  },
  {
   "cell_type": "code",
   "execution_count": 50,
   "metadata": {},
   "outputs": [
    {
     "data": {
      "text/plain": [
       "Years         0\n",
       "CAtBat        0\n",
       "CHits         0\n",
       "CHmRun        0\n",
       "CRuns         0\n",
       "CRBI          0\n",
       "CWalks        0\n",
       "Salary        0\n",
       "OrtCAtBat     0\n",
       "OrtCHits      0\n",
       "OrtCHmRun     0\n",
       "OrtCruns      0\n",
       "OrtCRBI       0\n",
       "OrtCWalks     0\n",
       "Division_W    0\n",
       "dtype: int64"
      ]
     },
     "execution_count": 50,
     "metadata": {},
     "output_type": "execute_result"
    }
   ],
   "source": [
    "# Tekrar sorgulandı eksik değer var mı diye hepsinin KNN algoritması ile doldurulduğu gözlemlendi.\n",
    "df = pd.DataFrame(df_filled,columns = df.columns)\n",
    "df.isnull().sum()"
   ]
  },
  {
   "cell_type": "markdown",
   "metadata": {},
   "source": [
    "### 4) Aykırı Gözlem Analizi"
   ]
  },
  {
   "cell_type": "code",
   "execution_count": 51,
   "metadata": {},
   "outputs": [
    {
     "data": {
      "image/png": "[encoded data removed]",
      "text/plain": [
       "<Figure size 432x288 with 1 Axes>"
      ]
     },
     "metadata": {
      "needs_background": "light"
     },
     "output_type": "display_data"
    }
   ],
   "source": [
    "# Salary değişkenini boxplot yöntemi ile görselleştirme işlemi yapılmıştır. Aykırı gözlemlere grafikte rastlamaktayız.\n",
    "import seaborn as sns\n",
    "sns.boxplot(x = df[\"Salary\"]);"
   ]
  },
  {
   "cell_type": "code",
   "execution_count": 52,
   "metadata": {},
   "outputs": [
    {
     "data": {
      "text/plain": [
       "count     322.000000\n",
       "mean      527.402160\n",
       "std       428.282887\n",
       "min        67.500000\n",
       "25%       190.000000\n",
       "50%       430.750000\n",
       "75%       740.000000\n",
       "max      2460.000000\n",
       "Name: Salary, dtype: float64"
      ]
     },
     "execution_count": 52,
     "metadata": {},
     "output_type": "execute_result"
    }
   ],
   "source": [
    "# Bağımlı değişkenin betimsel istatistiklerine erişim sağlanmıştır.\n",
    "df[\"Salary\"].describe()"
   ]
  },
  {
   "cell_type": "code",
   "execution_count": 53,
   "metadata": {},
   "outputs": [
    {
     "name": "stdout",
     "output_type": "stream",
     "text": [
      "Years yes\n",
      "2\n",
      "CAtBat yes\n",
      "5\n",
      "CHits yes\n",
      "6\n",
      "CHmRun yes\n",
      "32\n",
      "CRuns yes\n",
      "5\n",
      "CRBI yes\n",
      "26\n",
      "CWalks yes\n",
      "20\n",
      "Salary yes\n",
      "11\n",
      "OrtCAtBat no\n",
      "OrtCHits no\n",
      "OrtCHmRun yes\n",
      "6\n",
      "OrtCruns no\n",
      "OrtCRBI no\n",
      "OrtCWalks yes\n",
      "4\n",
      "Division_W no\n"
     ]
    }
   ],
   "source": [
    "# İlk olarak % 1 lik çeyreklik ve % 99 daki çeyreklikler incelendiğinde aykırı gözleme rastlanmamıştır.\n",
    "# Daha sonra % 5 lik çeyreklik ve % 95 deki çeyreklikler incelendiğinde aykırı gözleme rastlanmamıştır.\n",
    "# Son olarak % 25 lik çeyreklik ve % 75 lik çeyreklikler incelendiğinde aykırı gözleme rastlanmıştır.\n",
    "# Sonuç: 25 ve 75'lik çeyrekliklere göre bağımlı değişkene aykırı gözlem analizi uygulanacktır. İş sektör bilgisi konusunda dokunulmayadabilir.\n",
    "# Burada 25 ve 75'lik çeyrekliklerde tüm değişkenlerde kaç adet aykırı gözlem var buna erişim sağlanmıştır.\n",
    "\n",
    "for feature in df:\n",
    "\n",
    "    Q1 = df[feature].quantile(0.25)\n",
    "    Q3 = df[feature].quantile(0.75)\n",
    "    IQR = Q3-Q1\n",
    "    upper = Q3 + 1.5*IQR\n",
    "    lower = Q1 - 1.5*IQR\n",
    "\n",
    "    if df[(df[feature] > upper) | (df[feature] < lower)].any(axis=None):\n",
    "        print(feature,\"yes\")\n",
    "        print(df[(df[feature] > upper) | (df[feature] < lower)].shape[0])\n",
    "    else:\n",
    "        print(feature, \"no\")"
   ]
  },
  {
   "cell_type": "code",
   "execution_count": 54,
   "metadata": {},
   "outputs": [],
   "source": [
    "# Salary değişkeni için akırı gözlem analizinde kullanılan IQR derinin hesaplanması ve alt ve üst sınırların belirlenilmesi işlemi gerçekleştirilmiştir.\n",
    "# Bulunan aykırı gözlemler üst sınır ile baskılanmıştır. Aykırı gözlem analizinde en yaygın olarak baskılama yöntemi kullanılmaktadır. \n",
    "Q1 = df.Salary.quantile(0.25)\n",
    "Q3 = df.Salary.quantile(0.75)\n",
    "IQR = Q3-Q1\n",
    "lower = Q1 - 1.5*IQR\n",
    "upper = Q3 + 1.5*IQR\n",
    "df.loc[df[\"Salary\"] > upper,\"Salary\"] = upper"
   ]
  },
  {
   "cell_type": "code",
   "execution_count": 55,
   "metadata": {},
   "outputs": [
    {
     "data": {
      "image/png": "[encoded data removed]",
      "text/plain": [
       "<Figure size 432x288 with 1 Axes>"
      ]
     },
     "metadata": {
      "needs_background": "light"
     },
     "output_type": "display_data"
    }
   ],
   "source": [
    "# Aykırı değerler üst sınır ile baskılandırılarak Salary değişkenin boxplot (kutu) grafiği çizdirilerek aykırı değerlerden kurtulduğunu gözlemlemekteyiz.\n",
    "import seaborn as sns\n",
    "sns.boxplot(x = df[\"Salary\"]);"
   ]
  },
  {
   "cell_type": "markdown",
   "metadata": {},
   "source": [
    "### 4.1) Local Outlier Factor Yöntemi ile Aykırı Gözlem Analizi (LOF)"
   ]
  },
  {
   "cell_type": "code",
   "execution_count": 56,
   "metadata": {},
   "outputs": [
    {
     "data": {
      "text/plain": [
       "array([ 1,  1,  1,  1,  1,  1,  1,  1,  1,  1,  1,  1,  1,  1,  1,  1,  1,\n",
       "        1,  1,  1,  1,  1, -1,  1,  1,  1,  1,  1,  1,  1,  1,  1,  1,  1,\n",
       "        1,  1,  1,  1,  1,  1,  1,  1,  1,  1,  1,  1,  1,  1,  1,  1,  1,\n",
       "        1, -1,  1,  1,  1,  1,  1,  1,  1,  1,  1,  1,  1,  1,  1,  1,  1,\n",
       "        1,  1,  1,  1,  1,  1,  1,  1,  1,  1,  1,  1,  1,  1, -1,  1,  1,\n",
       "        1,  1,  1,  1,  1,  1, -1,  1,  1,  1,  1,  1,  1,  1,  1,  1,  1,\n",
       "        1,  1,  1,  1,  1,  1,  1,  1,  1,  1,  1,  1,  1,  1,  1,  1,  1,\n",
       "        1,  1,  1,  1,  1,  1,  1,  1,  1,  1,  1,  1,  1,  1,  1,  1,  1,\n",
       "        1,  1,  1,  1,  1,  1,  1,  1,  1,  1,  1,  1,  1,  1,  1,  1,  1,\n",
       "        1,  1,  1,  1,  1,  1,  1,  1,  1,  1,  1,  1,  1,  1,  1,  1,  1,\n",
       "        1,  1,  1,  1,  1,  1,  1,  1,  1,  1,  1,  1,  1,  1,  1,  1,  1,\n",
       "        1,  1,  1,  1,  1,  1,  1,  1,  1,  1,  1,  1,  1,  1,  1,  1,  1,\n",
       "        1,  1,  1,  1,  1,  1,  1,  1,  1,  1,  1,  1,  1, -1,  1,  1,  1,\n",
       "        1,  1,  1,  1,  1,  1,  1,  1,  1,  1,  1,  1, -1,  1,  1, -1,  1,\n",
       "        1,  1,  1,  1,  1,  1,  1,  1,  1,  1, -1, -1, -1,  1,  1,  1,  1,\n",
       "        1,  1,  1,  1,  1,  1,  1,  1,  1,  1,  1,  1,  1, -1,  1,  1,  1,\n",
       "        1,  1,  1,  1,  1,  1,  1,  1,  1,  1,  1, -1,  1,  1,  1,  1,  1,\n",
       "        1,  1,  1,  1,  1,  1, -1,  1,  1,  1,  1,  1,  1, -1,  1,  1,  1,\n",
       "        1,  1,  1, -1,  1,  1,  1,  1,  1, -1,  1,  1,  1,  1,  1,  1])"
      ]
     },
     "execution_count": 56,
     "metadata": {},
     "output_type": "execute_result"
    }
   ],
   "source": [
    "from sklearn.neighbors import LocalOutlierFactor\n",
    "lof =LocalOutlierFactor(n_neighbors= 20)\n",
    "lof.fit_predict(df)"
   ]
  },
  {
   "cell_type": "code",
   "execution_count": 57,
   "metadata": {},
   "outputs": [
    {
     "data": {
      "text/plain": [
       "array([-6.56220735, -5.14766457, -4.35069729, -3.48856435, -3.47050448,\n",
       "       -3.40846636, -3.39213388, -2.00187456, -1.9228802 , -1.71751942,\n",
       "       -1.6841345 , -1.61831991, -1.60607412, -1.58545986, -1.50208784,\n",
       "       -1.50066937, -1.49737285, -1.49652573, -1.40712201, -1.39826949,\n",
       "       -1.39480135, -1.39149714, -1.3542251 , -1.33963683, -1.33529675,\n",
       "       -1.3331065 , -1.32184747, -1.31779825, -1.3169861 , -1.31424581])"
      ]
     },
     "execution_count": 57,
     "metadata": {},
     "output_type": "execute_result"
    }
   ],
   "source": [
    "# Skor değerleri gelmiştir.\n",
    "df_scores = lof.negative_outlier_factor_\n",
    "np.sort(df_scores)[0:30]"
   ]
  },
  {
   "cell_type": "code",
   "execution_count": 58,
   "metadata": {},
   "outputs": [
    {
     "data": {
      "text/plain": [
       "-1.7175194228638802"
      ]
     },
     "execution_count": 58,
     "metadata": {},
     "output_type": "execute_result"
    }
   ],
   "source": [
    "# Eşik değeri belirlenilmiştir.\n",
    "threshold = np.sort(df_scores)[9]\n",
    "threshold"
   ]
  },
  {
   "cell_type": "code",
   "execution_count": 59,
   "metadata": {},
   "outputs": [],
   "source": [
    "# Belirlenen eşik değer veri setine uyarlanarak aykırı gözlemlerden kurtulunmuş olundu.\n",
    "outlier = df_scores > threshold\n",
    "df = df[outlier]"
   ]
  },
  {
   "cell_type": "code",
   "execution_count": 60,
   "metadata": {},
   "outputs": [
    {
     "data": {
      "text/plain": [
       "(312, 15)"
      ]
     },
     "execution_count": 60,
     "metadata": {},
     "output_type": "execute_result"
    }
   ],
   "source": [
    "# Aykırı değerlerden kurtulduktan sonra veri setimizin boyutu incelenilmiştir.\n",
    "df.shape"
   ]
  },
  {
   "cell_type": "markdown",
   "metadata": {},
   "source": [
    "# 3) Doğrusal Regresyon Modelleri ile Modelleme \n",
    "\n",
    "- Basit Doğrusal Regresyon\n",
    "- Çoklu Doğrusal Regresyon\n",
    "- Ridge Regresyon\n",
    "- Lasso Regresyon\n",
    "- ElasticNet Regresyon\n",
    "\n",
    "Her bir model tüm veri seti ile modellenebilir ancak du durumun bir dezavantajı bulunmaktadır model daha önce hiç görmediği verilerde kötü sonuçlar üretecektir. Veri setini train ve test şeklinde ayırıp bu şekilde bir model kurulum işlemi gerçekleştirilip alınan hata değerleri gözlemlenecektir. İsterseniz tüm veri ile de modeller kurabilirsiniz."
   ]
  },
  {
   "cell_type": "markdown",
   "metadata": {},
   "source": [
    "## 1) Basit Doğrusal Regresyon"
   ]
  },
  {
   "cell_type": "code",
   "execution_count": 61,
   "metadata": {},
   "outputs": [],
   "source": [
    "# Gerekli import işlemleri gerçekleştirilmiştir.\n",
    "from sklearn.linear_model import LinearRegression\n",
    "from sklearn.model_selection import train_test_split\n",
    "from sklearn.preprocessing import StandardScaler"
   ]
  },
  {
   "cell_type": "code",
   "execution_count": 62,
   "metadata": {},
   "outputs": [],
   "source": [
    "# Bağımlı ve Bağımsız değişkenler seçilerek X ve y değişkenlerine atanmıştır. X bağımsız değişkeni standardize edilmiştir.\n",
    "# Veri setinde yer alan değişkenleri standardizasyon işlemi yapılarak model kurulumunda alınan hataların düşürülmesinde etkili bir faktördür. \n",
    "# Birden çok standardizasyon yöntemi bulunmaktadır. Bunlar \"Normalize\", \"MinMax\" ve \"Scale\" gibi yöntemlerdir.\n",
    "# Test ve Train ayırma işlemi gerçekleştirilmiştir. Train setinin % 20'si test setini oluşturmaktadır. Yani train = % 80 ve test = % 20 olarak ayrılmıştır.\n",
    "X = df[[\"OrtCHits\"]]\n",
    "y = df[[\"Salary\"]]\n",
    "scaler = StandardScaler()\n",
    "X = scaler.fit_transform(X)\n",
    "X_train, X_test, y_train, y_test = train_test_split(X, y, \n",
    "                                                    test_size=0.20, \n",
    "                                                    random_state=46)"
   ]
  },
  {
   "cell_type": "markdown",
   "metadata": {},
   "source": [
    "### 1.1) Model Kurulum"
   ]
  },
  {
   "cell_type": "code",
   "execution_count": 63,
   "metadata": {},
   "outputs": [
    {
     "data": {
      "text/plain": [
       "LinearRegression()"
      ]
     },
     "execution_count": 63,
     "metadata": {},
     "output_type": "execute_result"
    }
   ],
   "source": [
    "# Train setleri ile basit doğrusal regresyon model kurulum işlemi gerçekleştirilmiştir.\n",
    "reg_model = LinearRegression()\n",
    "reg_model.fit(X_train, y_train)"
   ]
  },
  {
   "cell_type": "code",
   "execution_count": 64,
   "metadata": {},
   "outputs": [
    {
     "name": "stdout",
     "output_type": "stream",
     "text": [
      "Formül: [508.25579759] [[250.04368222]]x1\n"
     ]
    }
   ],
   "source": [
    "# Basit Doğrusal Regresyonun model denklemi (formülü) yazdırılmıştır.\n",
    "# İntercept: Model denkleminde yer alan b0 değeridir. Yükseklikde denilebilir.\n",
    "# Coef: Model denkleminde yer alan b1, b2 ... bp değerleridir.\n",
    "print(\"Formül: \"+str(reg_model.intercept_)+\" \"+str(reg_model.coef_)+\"x1\")"
   ]
  },
  {
   "cell_type": "markdown",
   "metadata": {},
   "source": [
    "### 1.2) Eğitim Hatası"
   ]
  },
  {
   "cell_type": "code",
   "execution_count": 65,
   "metadata": {},
   "outputs": [
    {
     "data": {
      "text/plain": [
       "305.50801973625977"
      ]
     },
     "execution_count": 65,
     "metadata": {},
     "output_type": "execute_result"
    }
   ],
   "source": [
    "# Model eğitim hatası hesaplanmıştır.\n",
    "y_pred = reg_model.predict(X_train)\n",
    "reg_model_basit_egitim_hata = np.sqrt(mean_squared_error(y_train, y_pred))\n",
    "reg_model_basit_egitim_hata"
   ]
  },
  {
   "cell_type": "markdown",
   "metadata": {},
   "source": [
    "### 1.3) Test Hatası"
   ]
  },
  {
   "cell_type": "code",
   "execution_count": 66,
   "metadata": {},
   "outputs": [
    {
     "data": {
      "text/plain": [
       "199.33479501511692"
      ]
     },
     "execution_count": 66,
     "metadata": {},
     "output_type": "execute_result"
    }
   ],
   "source": [
    "# Test Hatası\n",
    "# Modelin daha önce görmediği veriler üzerinden test işlemi gerçekleştirilip RMSE Hata Değeri hesaplanmıştır.\n",
    "y_pred = reg_model.predict(X_test)\n",
    "reg_model_basit_test_hata = np.sqrt(mean_squared_error(y_test, y_pred))\n",
    "reg_model_basit_test_hata"
   ]
  },
  {
   "cell_type": "markdown",
   "metadata": {},
   "source": [
    "### 1.4) Model Doğrulama - K-Fold CV "
   ]
  },
  {
   "cell_type": "code",
   "execution_count": 67,
   "metadata": {},
   "outputs": [
    {
     "name": "stdout",
     "output_type": "stream",
     "text": [
      "Model Doğrulama RMSE Hata Değeri:307.5702326697859\n"
     ]
    }
   ],
   "source": [
    "# Model doğrulama yönetmlerinden K-Fold CV yöntemi kullanılarak model doğrulama işlemi gerçekleştirilmiştir.\n",
    "from sklearn.model_selection import cross_val_score\n",
    "print(\"Model Doğrulama RMSE Hata Değeri:\" + str(np.sqrt(np.mean(-cross_val_score(reg_model, X_train, y_train, cv = 10, scoring = \"neg_mean_squared_error\")))))"
   ]
  },
  {
   "cell_type": "markdown",
   "metadata": {},
   "source": [
    "## 2) Çoklu Doğrusal Regresyon"
   ]
  },
  {
   "cell_type": "code",
   "execution_count": 68,
   "metadata": {},
   "outputs": [],
   "source": [
    "# Gerekli import işlemleri gerçekleştirilmiştir.\n",
    "from sklearn.linear_model import LinearRegression\n",
    "from sklearn.model_selection import train_test_split"
   ]
  },
  {
   "cell_type": "code",
   "execution_count": 69,
   "metadata": {},
   "outputs": [],
   "source": [
    "# Bağımlı ve Bağımsız değişkenler belirlenip X ve y değişkenlerine atanmıştır.\n",
    "# Daha sonra bağımsız değişkenler standardize edilmiştir ancak one hot encoding kısmında oluşan yeni dummy değişkenleri standardize etmemek gerekmektedir.\n",
    "# Bu nedenle ilk önce bütün bağımsız değişkenler standardize edilip sonrasında dummy değişkenler 1-0 olarak dönüştürülmüştür.\n",
    "# Standardize işlemi sonucunda dummy değişkenlerde yer alan 0 değerleri negatfi değerlere 1 değerleri pozitif değerlere dönüştürülmüştür.\n",
    "# Bu nedenle 0'dan küçük olan değerlere 0, büyük olan değerlere 1 değeri bir for döngüsü yazılarak atanmıştır.\n",
    "y = df[\"Salary\"]\n",
    "X = df.drop(\"Salary\",axis=1)\n",
    "X = scaler.fit_transform(X)\n",
    "for i in range(len(X)):\n",
    "    if X[i][13]<0:\n",
    "        X[i][13]=0\n",
    "    else:\n",
    "        X[i][13]=1  \n",
    "X_train, X_test, y_train, y_test = train_test_split(X, y, \n",
    "                                                    test_size=0.20, \n",
    "                                                    random_state=46)"
   ]
  },
  {
   "cell_type": "code",
   "execution_count": 70,
   "metadata": {},
   "outputs": [
    {
     "name": "stdout",
     "output_type": "stream",
     "text": [
      "(249, 14) (63, 14) (249,) (63,)\n"
     ]
    }
   ],
   "source": [
    "# Ayrılmış olan veri setinin boyutlarına erişim sağlanmıştır.\n",
    "print(X_train.shape, X_test.shape, y_train.shape, y_test.shape)"
   ]
  },
  {
   "cell_type": "markdown",
   "metadata": {},
   "source": [
    "### 2.1) Model Kurulum"
   ]
  },
  {
   "cell_type": "code",
   "execution_count": 71,
   "metadata": {},
   "outputs": [
    {
     "data": {
      "text/plain": [
       "LinearRegression()"
      ]
     },
     "execution_count": 71,
     "metadata": {},
     "output_type": "execute_result"
    }
   ],
   "source": [
    "# Train setleri ile çoklu doğrusal regresyon model kurulum işlemi gerçekleştirilmiştir.\n",
    "reg_model = LinearRegression()\n",
    "reg_model.fit(X_train, y_train)"
   ]
  },
  {
   "cell_type": "code",
   "execution_count": 72,
   "metadata": {},
   "outputs": [
    {
     "data": {
      "text/plain": [
       "540.8147190244803"
      ]
     },
     "execution_count": 72,
     "metadata": {},
     "output_type": "execute_result"
    }
   ],
   "source": [
    "# Model denkleminde yer alan b0 değeridir. Yükseklikde denilebilir.\n",
    "reg_model.intercept_"
   ]
  },
  {
   "cell_type": "code",
   "execution_count": 73,
   "metadata": {},
   "outputs": [
    {
     "data": {
      "text/plain": [
       "array([  74.8093756 , -175.03632957, -296.9222592 ,  -21.23625085,\n",
       "        625.40993564,   83.93366566, -154.25248501, -314.62554981,\n",
       "        567.28992276,   46.77623013, -219.8671064 ,    2.16387392,\n",
       "        121.23948802,  -70.55563517])"
      ]
     },
     "execution_count": 73,
     "metadata": {},
     "output_type": "execute_result"
    }
   ],
   "source": [
    "# Model denkleminde yer alan b1, b2 ... bp değerleridir.\n",
    "reg_model.coef_"
   ]
  },
  {
   "cell_type": "markdown",
   "metadata": {},
   "source": [
    "### 2.2) Eğitim Hatası"
   ]
  },
  {
   "cell_type": "code",
   "execution_count": 74,
   "metadata": {},
   "outputs": [
    {
     "data": {
      "text/plain": [
       "242.23277533668204"
      ]
     },
     "execution_count": 74,
     "metadata": {},
     "output_type": "execute_result"
    }
   ],
   "source": [
    "# Model eğitim hatası hesaplanmıştır.\n",
    "y_pred = reg_model.predict(X_train)\n",
    "reg_model_egitim_hata = np.sqrt(mean_squared_error(y_train, y_pred))\n",
    "reg_model_egitim_hata"
   ]
  },
  {
   "cell_type": "markdown",
   "metadata": {},
   "source": [
    "### 2.3) Test Hatası"
   ]
  },
  {
   "cell_type": "code",
   "execution_count": 75,
   "metadata": {},
   "outputs": [
    {
     "data": {
      "text/plain": [
       "183.46682748847505"
      ]
     },
     "execution_count": 75,
     "metadata": {},
     "output_type": "execute_result"
    }
   ],
   "source": [
    "# Test Hatası\n",
    "# Modelin daha önce görmediği veriler üzerinden test işlemi gerçekleştirilip RMSE Hata Değeri hesaplanmıştır.\n",
    "y_pred = reg_model.predict(X_test)\n",
    "reg_model_test_hata = np.sqrt(mean_squared_error(y_test, y_pred))\n",
    "reg_model_test_hata"
   ]
  },
  {
   "cell_type": "markdown",
   "metadata": {},
   "source": [
    "### 2.4) Model Doğrulama - K-Fold CV "
   ]
  },
  {
   "cell_type": "code",
   "execution_count": 76,
   "metadata": {},
   "outputs": [
    {
     "name": "stdout",
     "output_type": "stream",
     "text": [
      "Model Doğrulama RMSE Hata Değeri:263.14224262610526\n"
     ]
    }
   ],
   "source": [
    "# Model doğrulama yönetmlerinden K-Fold CV yöntemi kullanılarak model doğrulama işlemi gerçekleştirilmiştir.\n",
    "from sklearn.model_selection import cross_val_score\n",
    "print(\"Model Doğrulama RMSE Hata Değeri:\" + str(np.sqrt(np.mean(-cross_val_score(reg_model, X_train, y_train, cv = 10, scoring = \"neg_mean_squared_error\")))))"
   ]
  },
  {
   "cell_type": "markdown",
   "metadata": {},
   "source": [
    "## 3) Ridge Regresyon"
   ]
  },
  {
   "cell_type": "code",
   "execution_count": 77,
   "metadata": {},
   "outputs": [],
   "source": [
    "# Gerekli import işlemleri yapılmıştır.\n",
    "import numpy as np\n",
    "import pandas as pd\n",
    "from sklearn.linear_model import Ridge\n",
    "from sklearn.metrics import mean_squared_error,r2_score\n",
    "from sklearn.model_selection import train_test_split, cross_val_score\n",
    "from sklearn import model_selection\n",
    "import matplotlib.pyplot as plt\n",
    "from sklearn.linear_model import RidgeCV"
   ]
  },
  {
   "cell_type": "markdown",
   "metadata": {},
   "source": [
    "### 3.1) Model Kurulum"
   ]
  },
  {
   "cell_type": "code",
   "execution_count": 78,
   "metadata": {},
   "outputs": [
    {
     "data": {
      "text/plain": [
       "Ridge()"
      ]
     },
     "execution_count": 78,
     "metadata": {},
     "output_type": "execute_result"
    }
   ],
   "source": [
    "# Train setleri ile ridge regresyon model kurulum işlemi gerçekleştirilmiştir.\n",
    "ridge_model = Ridge()\n",
    "ridge_model.fit(X_train, y_train)"
   ]
  },
  {
   "cell_type": "code",
   "execution_count": 79,
   "metadata": {},
   "outputs": [
    {
     "data": {
      "text/plain": [
       "541.5560825114876"
      ]
     },
     "execution_count": 79,
     "metadata": {},
     "output_type": "execute_result"
    }
   ],
   "source": [
    "# Model denkleminde yer alan b0 değeridir. Yükseklikde denilebilir.\n",
    "ridge_model.intercept_"
   ]
  },
  {
   "cell_type": "code",
   "execution_count": 80,
   "metadata": {},
   "outputs": [
    {
     "data": {
      "text/plain": [
       "array([  54.24754018, -162.11867482,   48.21645672,   71.89180512,\n",
       "        294.9005973 ,  -69.83130998,  -82.41572932, -278.11121771,\n",
       "        355.2194913 ,  -16.63123642,  -51.13878496,   91.53362313,\n",
       "         81.68820653,  -73.07711113])"
      ]
     },
     "execution_count": 80,
     "metadata": {},
     "output_type": "execute_result"
    }
   ],
   "source": [
    "# Model denkleminde yer alan b1, b2 ... bp değerleridir.\n",
    "ridge_model.coef_"
   ]
  },
  {
   "cell_type": "markdown",
   "metadata": {},
   "source": [
    "### 3.2) Eğitim Hatası"
   ]
  },
  {
   "cell_type": "code",
   "execution_count": 81,
   "metadata": {},
   "outputs": [
    {
     "data": {
      "text/plain": [
       "243.55922491050313"
      ]
     },
     "execution_count": 81,
     "metadata": {},
     "output_type": "execute_result"
    }
   ],
   "source": [
    "# Model eğitim hatası hesaplanmıştır.\n",
    "y_pred = ridge_model.predict(X_train)\n",
    "ridge_model_egitim_hata = np.sqrt(mean_squared_error(y_train, y_pred))\n",
    "ridge_model_egitim_hata"
   ]
  },
  {
   "cell_type": "markdown",
   "metadata": {},
   "source": [
    "### 3.3) Test Hatası"
   ]
  },
  {
   "cell_type": "code",
   "execution_count": 82,
   "metadata": {},
   "outputs": [
    {
     "data": {
      "text/plain": [
       "184.04577735421122"
      ]
     },
     "execution_count": 82,
     "metadata": {},
     "output_type": "execute_result"
    }
   ],
   "source": [
    "# Test Hatası\n",
    "# Modelin daha önce görmediği veriler üzerinden test işlemi gerçekleştirilip RMSE Hata Değeri hesaplanmıştır.\n",
    "y_pred = ridge_model.predict(X_test)\n",
    "ridge_model_test_hata = np.sqrt(mean_squared_error(y_test, y_pred))\n",
    "ridge_model_test_hata"
   ]
  },
  {
   "cell_type": "markdown",
   "metadata": {},
   "source": [
    "### 3.4) Model Doğrulama - K-Fold CV"
   ]
  },
  {
   "cell_type": "code",
   "execution_count": 83,
   "metadata": {},
   "outputs": [
    {
     "name": "stdout",
     "output_type": "stream",
     "text": [
      "Model Doğrulama RMSE Hata Değeri:259.4881504974487\n"
     ]
    }
   ],
   "source": [
    "# Model doğrulama yönetmlerinden K-Fold CV yöntemi kullanılarak model doğrulama işlemi gerçekleştirilmiştir.\n",
    "from sklearn.model_selection import cross_val_score\n",
    "print(\"Model Doğrulama RMSE Hata Değeri:\" + str(np.sqrt(np.mean(-cross_val_score(ridge_model, X_train, y_train, cv = 10, scoring = \"neg_mean_squared_error\")))))"
   ]
  },
  {
   "cell_type": "markdown",
   "metadata": {},
   "source": [
    "### 3.5) Model Hiperparametre Optimizasyonu"
   ]
  },
  {
   "cell_type": "code",
   "execution_count": 84,
   "metadata": {},
   "outputs": [
    {
     "data": {
      "text/plain": [
       "Ridge()"
      ]
     },
     "execution_count": 84,
     "metadata": {},
     "output_type": "execute_result"
    }
   ],
   "source": [
    "# Kurulmuş olunan modelin hiperparametre değerlerine erişim sağlanmıştır. \n",
    "# Hiperparametre optimizasyonunda alpha değerinin en uygun değeri bulunarak final modeli kurulacaktır.\n",
    "ridge_model"
   ]
  },
  {
   "cell_type": "code",
   "execution_count": 85,
   "metadata": {},
   "outputs": [],
   "source": [
    "# Bazı alpha setleri hazırlanılmıştır. Model için denenip en uygunu seçilecektir.\n",
    "alphas1 = np.random.randint(0,1000,100)\n",
    "alphas2 = 10**np.linspace(10,-2,100)*0.5\n",
    "alphas3 = np.linspace(0,1,1000)\n",
    "alphas4 = [1e-15, 1e-10, 1e-8, 1e-4, 1e-3,1e-2, 1]\n",
    "alphas5 = np.arange(100,10000,10) "
   ]
  },
  {
   "cell_type": "code",
   "execution_count": 86,
   "metadata": {},
   "outputs": [
    {
     "data": {
      "text/plain": [
       "RidgeCV(alphas=array([0.        , 0.001001  , 0.002002  , 0.003003  , 0.004004  ,\n",
       "       0.00500501, 0.00600601, 0.00700701, 0.00800801, 0.00900901,\n",
       "       0.01001001, 0.01101101, 0.01201201, 0.01301301, 0.01401401,\n",
       "       0.01501502, 0.01601602, 0.01701702, 0.01801802, 0.01901902,\n",
       "       0.02002002, 0.02102102, 0.02202202, 0.02302302, 0.02402402,\n",
       "       0.02502503, 0.02602603, 0.02702703, 0.02802803, 0.02902903,\n",
       "       0.03003003, 0.0...\n",
       "       0.97097097, 0.97197197, 0.97297297, 0.97397397, 0.97497497,\n",
       "       0.97597598, 0.97697698, 0.97797798, 0.97897898, 0.97997998,\n",
       "       0.98098098, 0.98198198, 0.98298298, 0.98398398, 0.98498498,\n",
       "       0.98598599, 0.98698699, 0.98798799, 0.98898899, 0.98998999,\n",
       "       0.99099099, 0.99199199, 0.99299299, 0.99399399, 0.99499499,\n",
       "       0.995996  , 0.996997  , 0.997998  , 0.998999  , 1.        ]),\n",
       "        cv=10, normalize=True, scoring='neg_mean_squared_error')"
      ]
     },
     "execution_count": 86,
     "metadata": {},
     "output_type": "execute_result"
    }
   ],
   "source": [
    "# Belli alpha setleri denenerek final modeli için en uygun alpha değeri belirlenecektir. Cross Validation için RidgeCV fonk. Kullanılmaktadır.\n",
    "ridge_cv = RidgeCV(alphas = alphas3, scoring = \"neg_mean_squared_error\", cv = 10, normalize = True)\n",
    "ridge_cv.fit(X_train, y_train)"
   ]
  },
  {
   "cell_type": "code",
   "execution_count": 87,
   "metadata": {},
   "outputs": [
    {
     "data": {
      "text/plain": [
       "0.005005005005005005"
      ]
     },
     "execution_count": 87,
     "metadata": {},
     "output_type": "execute_result"
    }
   ],
   "source": [
    "# Final modeli için en uygun alpha değeri seçilmiştir.\n",
    "ridge_cv.alpha_"
   ]
  },
  {
   "cell_type": "code",
   "execution_count": 88,
   "metadata": {},
   "outputs": [],
   "source": [
    "# Alpha değeri değişkene atanmıştır. Karşılaştırma dataframene eklemek için. \n",
    "ridge_alpha = ridge_cv.alpha_"
   ]
  },
  {
   "cell_type": "markdown",
   "metadata": {},
   "source": [
    "### 3.6) Hiperparametre Optimizasyonu sonrasında Final Model Kurulumu (Model Tuning)"
   ]
  },
  {
   "cell_type": "code",
   "execution_count": 89,
   "metadata": {},
   "outputs": [
    {
     "data": {
      "text/plain": [
       "Ridge(alpha=0.005005005005005005)"
      ]
     },
     "execution_count": 89,
     "metadata": {},
     "output_type": "execute_result"
    }
   ],
   "source": [
    "# Belirlenen alpha değerine göre final modeli kururlmuştur.\n",
    "ridge_tuned = Ridge(alpha = ridge_cv.alpha_)\n",
    "ridge_tuned.fit(X_train, y_train)"
   ]
  },
  {
   "cell_type": "markdown",
   "metadata": {},
   "source": [
    "### 3.7) Final Model Test Hatası"
   ]
  },
  {
   "cell_type": "code",
   "execution_count": 90,
   "metadata": {},
   "outputs": [
    {
     "data": {
      "text/plain": [
       "183.45696108934007"
      ]
     },
     "execution_count": 90,
     "metadata": {},
     "output_type": "execute_result"
    }
   ],
   "source": [
    "y_pred = ridge_tuned.predict(X_test)\n",
    "ridge_final_hata = np.sqrt(mean_squared_error(y_test, y_pred))\n",
    "ridge_final_hata"
   ]
  },
  {
   "cell_type": "markdown",
   "metadata": {},
   "source": [
    "## 4) Lasso Regresyon"
   ]
  },
  {
   "cell_type": "code",
   "execution_count": 91,
   "metadata": {},
   "outputs": [],
   "source": [
    "# Gerekli import işlemleri gerçekleştirilmiştir.\n",
    "import numpy as np\n",
    "import pandas as pd\n",
    "from sklearn.linear_model import Ridge, Lasso\n",
    "from sklearn.metrics import mean_squared_error,r2_score\n",
    "from sklearn.model_selection import train_test_split, cross_val_score\n",
    "from sklearn import model_selection\n",
    "import matplotlib.pyplot as plt\n",
    "from sklearn.linear_model import RidgeCV, LassoCV"
   ]
  },
  {
   "cell_type": "markdown",
   "metadata": {},
   "source": [
    "### 4.1) Model Kurulum"
   ]
  },
  {
   "cell_type": "code",
   "execution_count": 92,
   "metadata": {},
   "outputs": [
    {
     "data": {
      "text/plain": [
       "Lasso()"
      ]
     },
     "execution_count": 92,
     "metadata": {},
     "output_type": "execute_result"
    }
   ],
   "source": [
    "# Train setleri ile lasso regresyon model kurulum işlemi gerçekleştirilmiştir.\n",
    "lasso_model = Lasso()\n",
    "lasso_model.fit(X_train, y_train)"
   ]
  },
  {
   "cell_type": "code",
   "execution_count": 93,
   "metadata": {},
   "outputs": [
    {
     "data": {
      "text/plain": [
       "540.8378322342253"
      ]
     },
     "execution_count": 93,
     "metadata": {},
     "output_type": "execute_result"
    }
   ],
   "source": [
    "# Model denkleminde yer alan b0 değeridir. Yükseklikde denilebilir.\n",
    "lasso_model.intercept_"
   ]
  },
  {
   "cell_type": "code",
   "execution_count": 94,
   "metadata": {},
   "outputs": [
    {
     "data": {
      "text/plain": [
       "array([  34.02462811,  -87.03319124,   -0.        ,   36.24439389,\n",
       "        228.8311611 ,   -0.        ,  -55.04577573, -326.1514941 ,\n",
       "        387.26881295,    0.        ,  -11.10782921,   62.83264322,\n",
       "         65.59750522,  -71.69281394])"
      ]
     },
     "execution_count": 94,
     "metadata": {},
     "output_type": "execute_result"
    }
   ],
   "source": [
    "# Model denkleminde yer alan b1, b2 ... bp değerleridir.\n",
    "lasso_model.coef_"
   ]
  },
  {
   "cell_type": "markdown",
   "metadata": {},
   "source": [
    "### 4.2) Eğitim Hatası"
   ]
  },
  {
   "cell_type": "code",
   "execution_count": 95,
   "metadata": {},
   "outputs": [
    {
     "data": {
      "text/plain": [
       "244.2926611468897"
      ]
     },
     "execution_count": 95,
     "metadata": {},
     "output_type": "execute_result"
    }
   ],
   "source": [
    "# Model eğitim hatası hesaplanmıştır.\n",
    "y_pred = lasso_model.predict(X_train)\n",
    "lasso_model_egitim_hata = np.sqrt(mean_squared_error(y_train, y_pred))\n",
    "lasso_model_egitim_hata"
   ]
  },
  {
   "cell_type": "markdown",
   "metadata": {},
   "source": [
    "### 4.3) Test Hatası"
   ]
  },
  {
   "cell_type": "code",
   "execution_count": 96,
   "metadata": {},
   "outputs": [
    {
     "data": {
      "text/plain": [
       "186.99736011981014"
      ]
     },
     "execution_count": 96,
     "metadata": {},
     "output_type": "execute_result"
    }
   ],
   "source": [
    "# Test Hatası\n",
    "# Modelin daha önce görmediği veriler üzerinden test işlemi gerçekleştirilip RMSE Hata Değeri hesaplanmıştır.\n",
    "y_pred = lasso_model.predict(X_test)\n",
    "lasso_model_test_hata = np.sqrt(mean_squared_error(y_test, y_pred))\n",
    "lasso_model_test_hata"
   ]
  },
  {
   "cell_type": "markdown",
   "metadata": {},
   "source": [
    "### 4.4) Model Doğrulama - K-Fold CV"
   ]
  },
  {
   "cell_type": "code",
   "execution_count": 97,
   "metadata": {},
   "outputs": [
    {
     "name": "stdout",
     "output_type": "stream",
     "text": [
      "Model Doğrulama Hatası:259.9764808122278\n"
     ]
    }
   ],
   "source": [
    "# Model doğrulama yönetmlerinden K-Fold CV yöntemi kullanılarak model doğrulama işlemi gerçekleştirilmiştir.\n",
    "print(\"Model Doğrulama Hatası:\" + str(np.sqrt(np.mean(-cross_val_score(lasso_model, X_train, y_train, cv = 10, scoring = \"neg_mean_squared_error\")))))"
   ]
  },
  {
   "cell_type": "markdown",
   "metadata": {},
   "source": [
    "### 4.5) Model Hiperparametre Optimizasyonu"
   ]
  },
  {
   "cell_type": "code",
   "execution_count": 98,
   "metadata": {},
   "outputs": [
    {
     "data": {
      "text/plain": [
       "Lasso()"
      ]
     },
     "execution_count": 98,
     "metadata": {},
     "output_type": "execute_result"
    }
   ],
   "source": [
    "# Kurulmuş olunan modelin hiperparametre değerlerine erişim sağlanmıştır. \n",
    "# Hiperparametre optimizasyonunda alpha değerinin en uygun değeri bulunarak final modeli kurulacaktır.\n",
    "lasso_model"
   ]
  },
  {
   "cell_type": "code",
   "execution_count": 99,
   "metadata": {},
   "outputs": [],
   "source": [
    "# Bazı alpha setleri belirlenilmiştir.\n",
    "alphas1 = np.random.randint(0,1000,100)\n",
    "alphas2 = 10**np.linspace(10,-2,100)*0.5\n",
    "alphas3 = np.linspace(0,1,1000)\n",
    "alphas4 = [1e-15, 1e-10, 1e-8, 1e-4, 1e-3,1e-2, 1, 5, 10, 20]\n",
    "alphas5 = np.arange(100,10000,10) "
   ]
  },
  {
   "cell_type": "code",
   "execution_count": 100,
   "metadata": {},
   "outputs": [
    {
     "data": {
      "text/plain": [
       "LassoCV(alphas=array([0.        , 0.001001  , 0.002002  , 0.003003  , 0.004004  ,\n",
       "       0.00500501, 0.00600601, 0.00700701, 0.00800801, 0.00900901,\n",
       "       0.01001001, 0.01101101, 0.01201201, 0.01301301, 0.01401401,\n",
       "       0.01501502, 0.01601602, 0.01701702, 0.01801802, 0.01901902,\n",
       "       0.02002002, 0.02102102, 0.02202202, 0.02302302, 0.02402402,\n",
       "       0.02502503, 0.02602603, 0.02702703, 0.02802803, 0.02902903,\n",
       "       0.03003003, 0.0...\n",
       "       0.96596597, 0.96696697, 0.96796797, 0.96896897, 0.96996997,\n",
       "       0.97097097, 0.97197197, 0.97297297, 0.97397397, 0.97497497,\n",
       "       0.97597598, 0.97697698, 0.97797798, 0.97897898, 0.97997998,\n",
       "       0.98098098, 0.98198198, 0.98298298, 0.98398398, 0.98498498,\n",
       "       0.98598599, 0.98698699, 0.98798799, 0.98898899, 0.98998999,\n",
       "       0.99099099, 0.99199199, 0.99299299, 0.99399399, 0.99499499,\n",
       "       0.995996  , 0.996997  , 0.997998  , 0.998999  , 1.        ]),\n",
       "        cv=10)"
      ]
     },
     "execution_count": 100,
     "metadata": {},
     "output_type": "execute_result"
    }
   ],
   "source": [
    "# Belli alpha setleri denenerek final modeli için en uygun alpha değeri belirlenecektir. Cross Validation için LassoCV fonk. Kullanılmaktadır.\n",
    "lasso_cv = LassoCV(alphas = alphas3, cv = 10)\n",
    "lasso_cv.fit(X_train, y_train)"
   ]
  },
  {
   "cell_type": "code",
   "execution_count": 101,
   "metadata": {},
   "outputs": [
    {
     "data": {
      "text/plain": [
       "1.0"
      ]
     },
     "execution_count": 101,
     "metadata": {},
     "output_type": "execute_result"
    }
   ],
   "source": [
    "# Final modeli için gerekli olan alpha belirlenilmiştir.\n",
    "lasso_cv.alpha_"
   ]
  },
  {
   "cell_type": "code",
   "execution_count": 102,
   "metadata": {},
   "outputs": [],
   "source": [
    "# Alpha değeri değişkene atanmıştır. Karşılaştırma dataframene eklemek için. \n",
    "lasso_alpha = lasso_cv.alpha_"
   ]
  },
  {
   "cell_type": "markdown",
   "metadata": {},
   "source": [
    "### 4.6) Hiperparametre Optimizasyonu sonrasında Final Model Kurulumu (Model Tuning)"
   ]
  },
  {
   "cell_type": "code",
   "execution_count": 103,
   "metadata": {},
   "outputs": [
    {
     "data": {
      "text/plain": [
       "Lasso()"
      ]
     },
     "execution_count": 103,
     "metadata": {},
     "output_type": "execute_result"
    }
   ],
   "source": [
    "# Belirlenen alpha değeri ile final modeli kurulum işlemi gerçekleştirilmiştir.\n",
    "lasso_tuned = Lasso(alpha = lasso_cv.alpha_)\n",
    "lasso_tuned.fit(X_train, y_train)"
   ]
  },
  {
   "cell_type": "markdown",
   "metadata": {},
   "source": [
    "### 4.7) Final Modeli Test Hatası"
   ]
  },
  {
   "cell_type": "code",
   "execution_count": 104,
   "metadata": {},
   "outputs": [
    {
     "data": {
      "text/plain": [
       "186.99736011981014"
      ]
     },
     "execution_count": 104,
     "metadata": {},
     "output_type": "execute_result"
    }
   ],
   "source": [
    "# Final Modeli Test Hatası\n",
    "y_pred = lasso_tuned.predict(X_test)\n",
    "lasso_final_hata = np.sqrt(mean_squared_error(y_test, y_pred))\n",
    "lasso_final_hata"
   ]
  },
  {
   "cell_type": "markdown",
   "metadata": {},
   "source": [
    "## 5) ElasticNet Regresyon"
   ]
  },
  {
   "cell_type": "code",
   "execution_count": 105,
   "metadata": {},
   "outputs": [],
   "source": [
    "# Gerekli import işlemleri gerçekleştirilmiştir.\n",
    "import numpy as np\n",
    "import pandas as pd\n",
    "from sklearn.linear_model import Ridge, Lasso, ElasticNet\n",
    "from sklearn.metrics import mean_squared_error,r2_score\n",
    "from sklearn.model_selection import train_test_split, cross_val_score\n",
    "from sklearn import model_selection\n",
    "import matplotlib.pyplot as plt\n",
    "from sklearn.linear_model import RidgeCV, LassoCV,ElasticNetCV"
   ]
  },
  {
   "cell_type": "markdown",
   "metadata": {},
   "source": [
    "### 5.1) Model Kurulum"
   ]
  },
  {
   "cell_type": "code",
   "execution_count": 106,
   "metadata": {},
   "outputs": [
    {
     "data": {
      "text/plain": [
       "ElasticNet()"
      ]
     },
     "execution_count": 106,
     "metadata": {},
     "output_type": "execute_result"
    }
   ],
   "source": [
    "# ElasticNet Model kurulum işlemleri gerçekleştirilmiştir.\n",
    "enet_model = ElasticNet()\n",
    "enet_model.fit(X_train, y_train)"
   ]
  },
  {
   "cell_type": "code",
   "execution_count": 107,
   "metadata": {},
   "outputs": [
    {
     "data": {
      "text/plain": [
       "522.5645571930195"
      ]
     },
     "execution_count": 107,
     "metadata": {},
     "output_type": "execute_result"
    }
   ],
   "source": [
    "# Model denkleminde yer alan b0 değeridir. Yükseklikde denilebilir.\n",
    "enet_model.intercept_"
   ]
  },
  {
   "cell_type": "code",
   "execution_count": 108,
   "metadata": {},
   "outputs": [
    {
     "data": {
      "text/plain": [
       "array([ 17.1065229 ,  17.10886879,  32.11395115,  22.59747031,\n",
       "        37.53662701,  25.84971294,  13.9282492 ,   7.55859356,\n",
       "        41.8910954 ,  14.23594283,  34.35565384,  33.30462076,\n",
       "        25.13862855, -33.33576445])"
      ]
     },
     "execution_count": 108,
     "metadata": {},
     "output_type": "execute_result"
    }
   ],
   "source": [
    "# Model denkleminde yer alan b1, b2 ... bp değerleridir.\n",
    "enet_model.coef_"
   ]
  },
  {
   "cell_type": "markdown",
   "metadata": {},
   "source": [
    "### 5.2) Eğitim Hatası"
   ]
  },
  {
   "cell_type": "code",
   "execution_count": 109,
   "metadata": {},
   "outputs": [
    {
     "data": {
      "text/plain": [
       "263.3465526580905"
      ]
     },
     "execution_count": 109,
     "metadata": {},
     "output_type": "execute_result"
    }
   ],
   "source": [
    "# Eğitim Hatası\n",
    "y_pred = enet_model.predict(X_train)\n",
    "enet_model_egitim_hata = np.sqrt(mean_squared_error(y_train, y_pred))\n",
    "enet_model_egitim_hata"
   ]
  },
  {
   "cell_type": "markdown",
   "metadata": {},
   "source": [
    "### 5.3) Test Hatası"
   ]
  },
  {
   "cell_type": "code",
   "execution_count": 110,
   "metadata": {},
   "outputs": [
    {
     "data": {
      "text/plain": [
       "186.2553747469711"
      ]
     },
     "execution_count": 110,
     "metadata": {},
     "output_type": "execute_result"
    }
   ],
   "source": [
    "# Test Hatası\n",
    "y_pred = enet_model.predict(X_test)\n",
    "enet_model_test_hata = np.sqrt(mean_squared_error(y_test, y_pred))\n",
    "enet_model_test_hata"
   ]
  },
  {
   "cell_type": "markdown",
   "metadata": {},
   "source": [
    "### 5.4) Model Doğrulama - K-Fold CV"
   ]
  },
  {
   "cell_type": "code",
   "execution_count": 111,
   "metadata": {},
   "outputs": [
    {
     "name": "stdout",
     "output_type": "stream",
     "text": [
      "Model Doğrulama RMSE Hata Değeri:269.7061255415075\n"
     ]
    }
   ],
   "source": [
    "# Model doğrulama işlemi gerçekleştirilmiştir.\n",
    "print(\"Model Doğrulama RMSE Hata Değeri:\" + str(np.sqrt(np.mean(-cross_val_score(enet_model, X_train, y_train, cv = 10, scoring = \"neg_mean_squared_error\")))))"
   ]
  },
  {
   "cell_type": "markdown",
   "metadata": {},
   "source": [
    "### 5.5) Model Hiperparametre Optimizasyonu"
   ]
  },
  {
   "cell_type": "code",
   "execution_count": 112,
   "metadata": {},
   "outputs": [
    {
     "data": {
      "text/plain": [
       "ElasticNet()"
      ]
     },
     "execution_count": 112,
     "metadata": {},
     "output_type": "execute_result"
    }
   ],
   "source": [
    "enet_model"
   ]
  },
  {
   "cell_type": "code",
   "execution_count": 113,
   "metadata": {},
   "outputs": [],
   "source": [
    "# Parametre değerleri belirlenmiştir.\n",
    "enet_params = {\"l1_ratio\": [0.1,0.4,0.5,0.6,0.8,1],\n",
    "              \"alpha\": np.linspace(0,1,1000)}"
   ]
  },
  {
   "cell_type": "code",
   "execution_count": 114,
   "metadata": {},
   "outputs": [],
   "source": [
    "# Belirlenen parametrelere göre final modeli kurulacaktır.\n",
    "enet_model = ElasticNet()\n",
    "enet_model.fit(X_train, y_train)\n",
    "from sklearn.model_selection import GridSearchCV\n",
    "gs_cv_enet = GridSearchCV(enet_model, enet_params, cv = 10).fit(X_train, y_train)"
   ]
  },
  {
   "cell_type": "code",
   "execution_count": 115,
   "metadata": {},
   "outputs": [
    {
     "data": {
      "text/plain": [
       "{'alpha': 0.004004004004004004, 'l1_ratio': 0.1}"
      ]
     },
     "execution_count": 115,
     "metadata": {},
     "output_type": "execute_result"
    }
   ],
   "source": [
    "# En iyi parametreler belirlenilmiştir.\n",
    "gs_cv_enet.best_params_"
   ]
  },
  {
   "cell_type": "code",
   "execution_count": 116,
   "metadata": {},
   "outputs": [],
   "source": [
    "# Alpha değeri değişkene atanmıştır. Karşılaştırma dataframene eklemek için. \n",
    "enet_alpha = 0.004004004004004004"
   ]
  },
  {
   "cell_type": "markdown",
   "metadata": {},
   "source": [
    "### 5.6) Hiperparametre Optimizasyonu sonrasında Final Model Kurulumu (Model Tuning)"
   ]
  },
  {
   "cell_type": "code",
   "execution_count": 117,
   "metadata": {},
   "outputs": [
    {
     "data": {
      "text/plain": [
       "ElasticNet(alpha=0.004004004004004004, l1_ratio=0.1)"
      ]
     },
     "execution_count": 117,
     "metadata": {},
     "output_type": "execute_result"
    }
   ],
   "source": [
    "# Belirlenen parametrelere göre final modeli kurulumu yapılmıştır.\n",
    "enet_tuned = ElasticNet(**gs_cv_enet.best_params_)\n",
    "enet_tuned.fit(X_train, y_train)"
   ]
  },
  {
   "cell_type": "markdown",
   "metadata": {},
   "source": [
    "### 5.7) Final Modeli Test Hatası"
   ]
  },
  {
   "cell_type": "code",
   "execution_count": 118,
   "metadata": {},
   "outputs": [
    {
     "data": {
      "text/plain": [
       "183.97624058797436"
      ]
     },
     "execution_count": 118,
     "metadata": {},
     "output_type": "execute_result"
    }
   ],
   "source": [
    "# Final Model Hatası\n",
    "y_pred = enet_tuned.predict(X_test)\n",
    "enet_final_hata = np.sqrt(mean_squared_error(y_test, y_pred))\n",
    "enet_final_hata"
   ]
  },
  {
   "cell_type": "markdown",
   "metadata": {},
   "source": [
    "# 4) Tüm Modellerin Karşılaştırılması"
   ]
  },
  {
   "cell_type": "code",
   "execution_count": 119,
   "metadata": {},
   "outputs": [
    {
     "name": "stdout",
     "output_type": "stream",
     "text": [
      "----------------------------\n",
      "LinearRegression:\n",
      "Hata:183.46682748847505\n",
      "----------------------------\n",
      "Ridge:\n",
      "Hata:183.45696108934007\n",
      "----------------------------\n",
      "Lasso:\n",
      "Hata:186.99736011981014\n",
      "----------------------------\n",
      "ElasticNet:\n",
      "Hata:183.97624058797436\n"
     ]
    }
   ],
   "source": [
    "# Modellerin karşılaştırılması yapılmıştır. \n",
    "modeller = [\n",
    "    reg_model,\n",
    "    ridge_tuned,\n",
    "    lasso_tuned,\n",
    "    enet_tuned,]\n",
    "\n",
    "\n",
    "for model in modeller:\n",
    "    isimler = model.__class__.__name__\n",
    "    y_pred = model.predict(X_test)\n",
    "    hata = np.sqrt(mean_squared_error(y_test, y_pred))\n",
    "    print(\"-\"*28)\n",
    "    print(isimler + \":\" )\n",
    "    print(\"Hata:\" + str(hata))"
   ]
  },
  {
   "cell_type": "code",
   "execution_count": 120,
   "metadata": {},
   "outputs": [
    {
     "data": {
      "image/png": "[encoded data removed]",
      "text/plain": [
       "<Figure size 432x288 with 1 Axes>"
      ]
     },
     "metadata": {
      "needs_background": "light"
     },
     "output_type": "display_data"
    }
   ],
   "source": [
    "# Elde edilen hatalar görselleştirildi.\n",
    "sonuc = []\n",
    "\n",
    "sonuclar = pd.DataFrame(columns= [\"Modeller\",\"Hata\"])\n",
    "\n",
    "for model in modeller:\n",
    "    isimler = model.__class__.__name__\n",
    "    y_pred = model.predict(X_test)\n",
    "    hata = np.sqrt(mean_squared_error(y_test, y_pred))    \n",
    "    sonuc = pd.DataFrame([[isimler, hata]], columns= [\"Modeller\",\"Hata\"])\n",
    "    sonuclar = sonuclar.append(sonuc)\n",
    "    \n",
    "    \n",
    "sns.barplot(x= 'Hata', y = 'Modeller', data=sonuclar, color=\"r\")\n",
    "plt.xlabel('Hata')\n",
    "plt.title('Modellerin Hata Oranları');  "
   ]
  },
  {
   "cell_type": "code",
   "execution_count": 121,
   "metadata": {},
   "outputs": [],
   "source": [
    "# Elde edilen sonuçlar dataframe olarak kaydedildi.\n",
    "sonuclar_df = pd.DataFrame({\"Eğitim Hatası\":[reg_model_basit_egitim_hata, reg_model_egitim_hata, ridge_model_egitim_hata, lasso_model_egitim_hata, enet_model_egitim_hata],\n",
    "                              \"Test Hatası\":[reg_model_basit_test_hata, reg_model_test_hata, ridge_model_test_hata, lasso_model_test_hata, enet_model_test_hata],                              \n",
    "                              \"Test Tuned Hatası\":[\"Yoktur\",\"Yoktur\",ridge_final_hata, lasso_final_hata,enet_final_hata],\n",
    "                               \"Alpha Değerleri\": [\"Yoktur\", \"Yoktur\", ridge_alpha,lasso_alpha, enet_alpha]})\n",
    "sonuclar_df.index= [\"BASİT_LR_DETAY\", \"COKLU_LR_DETAY\",\"RIDGE_DETAY\",\"LASSO_DETAY\",\"ENET_DETAY\"]"
   ]
  },
  {
   "cell_type": "code",
   "execution_count": 122,
   "metadata": {},
   "outputs": [
    {
     "data": {
      "text/html": [
       "<div>\n",
       "<style scoped>\n",
       "    .dataframe tbody tr th:only-of-type {\n",
       "        vertical-align: middle;\n",
       "    }\n",
       "\n",
       "    .dataframe tbody tr th {\n",
       "        vertical-align: top;\n",
       "    }\n",
       "\n",
       "    .dataframe thead th {\n",
       "        text-align: right;\n",
       "    }\n",
       "</style>\n",
       "<table border=\"1\" class=\"dataframe\">\n",
       "  <thead>\n",
       "    <tr style=\"text-align: right;\">\n",
       "      <th></th>\n",
       "      <th>Eğitim Hatası</th>\n",
       "      <th>Test Hatası</th>\n",
       "      <th>Test Tuned Hatası</th>\n",
       "      <th>Alpha Değerleri</th>\n",
       "    </tr>\n",
       "  </thead>\n",
       "  <tbody>\n",
       "    <tr>\n",
       "      <th>BASİT_LR_DETAY</th>\n",
       "      <td>305.508020</td>\n",
       "      <td>199.334795</td>\n",
       "      <td>Yoktur</td>\n",
       "      <td>Yoktur</td>\n",
       "    </tr>\n",
       "    <tr>\n",
       "      <th>COKLU_LR_DETAY</th>\n",
       "      <td>242.232775</td>\n",
       "      <td>183.466827</td>\n",
       "      <td>Yoktur</td>\n",
       "      <td>Yoktur</td>\n",
       "    </tr>\n",
       "    <tr>\n",
       "      <th>RIDGE_DETAY</th>\n",
       "      <td>243.559225</td>\n",
       "      <td>184.045777</td>\n",
       "      <td>183.457</td>\n",
       "      <td>0.00500501</td>\n",
       "    </tr>\n",
       "    <tr>\n",
       "      <th>LASSO_DETAY</th>\n",
       "      <td>244.292661</td>\n",
       "      <td>186.997360</td>\n",
       "      <td>186.997</td>\n",
       "      <td>1</td>\n",
       "    </tr>\n",
       "    <tr>\n",
       "      <th>ENET_DETAY</th>\n",
       "      <td>263.346553</td>\n",
       "      <td>186.255375</td>\n",
       "      <td>183.976</td>\n",
       "      <td>0.004004</td>\n",
       "    </tr>\n",
       "  </tbody>\n",
       "</table>\n",
       "</div>"
      ],
      "text/plain": [
       "                Eğitim Hatası  Test Hatası Test Tuned Hatası Alpha Değerleri\n",
       "BASİT_LR_DETAY     305.508020   199.334795            Yoktur          Yoktur\n",
       "COKLU_LR_DETAY     242.232775   183.466827            Yoktur          Yoktur\n",
       "RIDGE_DETAY        243.559225   184.045777           183.457      0.00500501\n",
       "LASSO_DETAY        244.292661   186.997360           186.997               1\n",
       "ENET_DETAY         263.346553   186.255375           183.976        0.004004"
      ]
     },
     "execution_count": 122,
     "metadata": {},
     "output_type": "execute_result"
    }
   ],
   "source": [
    "# Sonuçlar incelendi.\n",
    "sonuclar_df"
   ]
  }
 ],
 "metadata": {
  "kernelspec": {
   "display_name": "Python 3",
   "language": "python",
   "name": "python3"
  },
  "language_info": {
   "codemirror_mode": {
    "name": "ipython",
    "version": 3
   },
   "file_extension": ".py",
   "mimetype": "text/x-python",
   "name": "python",
   "nbconvert_exporter": "python",
   "pygments_lexer": "ipython3",
   "version": "3.7.6"
  }
 },
 "nbformat": 4,
 "nbformat_minor": 4
}
