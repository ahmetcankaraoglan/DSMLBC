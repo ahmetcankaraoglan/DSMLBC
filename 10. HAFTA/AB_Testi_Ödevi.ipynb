{
 "cells": [
  {
   "cell_type": "markdown",
   "metadata": {},
   "source": [
    "# Data Science Case Study (A/B Test)"
   ]
  },
  {
   "cell_type": "markdown",
   "metadata": {},
   "source": [
    "## Analyze and Present A/B Test Results\n",
    "Facebook recently introduced a new bidding type, “average bidding”, as an alternative to its exisiting bidding\n",
    "type, called “maximum bidding”. One of our clients, HotelsForYou.com, has decided to test this new feature\n",
    "and wants to conduct an A/B test to understand if average bidding brings more conversions than maximum\n",
    "bidding.\n",
    "\n",
    "In this A/B test, HotelsForYou.com randomly splits its audience into two equally sized groups, e.g. the test\n",
    "and the control group. A Facebook ad campaign with “maximum bidding” is served to “control group” and\n",
    "another campaign with “average bidding” is served to the “test group”.\n",
    "\n",
    "The A/B test has run for 1 month and HotelsForYou.com now expects you to analyze and present the results\n",
    "of this A/B test.\n",
    "\n",
    "## You should answer the following questions in your presentation:\n",
    "1. How would you define the hypothesis of this A/B test?\n",
    "2. Can we conclude statistically significant results?\n",
    "3. Which statistical test did you use, and why?\n",
    "4. Based on your answer to Question 2, what would be your recommendation to client?\n",
    "\n",
    "## Hints:\n",
    "1. Your presentation should last about 15 minutes, and should be presented in English.\n",
    "2. The ultimate success metric for HotelsForYou.com is Number of Purchases. Therefore, you should focus\n",
    "on Purchase metrics for statistical testing.\n",
    "3. Explain the concept of statistical testing for a non-technical audience.\n",
    "4. The customer journey for this campaign is:\n",
    "    1. User sees an ad (Impression)\n",
    "    2. User clicks on the website link on the ad (Website Click)\n",
    "    3. User makes a search on the website (Search)\n",
    "    4. User views details of a product (View Content)\n",
    "    5. User adds the product to the cart (Add to Cart)\n",
    "    6. User purchases the product (Purchase)\n",
    "5. Use visualizations to compare test and control group metrics, such as Website Click Through Rate, Cost\n",
    "per Action, and Conversion Rates in addition to Purchase numbers.\n",
    "6. If you see trends, anomalies or other patterns, discuss these in your presentation.\n",
    "7. You can make assumptions if needed.\n",
    "\n",
    "## Appendix\n",
    "- **Impressions:** The number of times an ad is displayed.\n",
    "- **Reach:** The number of unique people who saw an ad.\n",
    "- **Website Clicks:** The number of clicks on ad links directed to Advertiser’s website.\n",
    "- **Website Click Through Rate:** Number of Website Clicks / Number of Impressions x 100\n",
    "- **Cost per Action:** Spend / Number of Actions\n",
    "- **Action:** Can be any conversion event, such as Search, View Content, Add to Cart and Purchase.\n",
    "- **Conversion Rate:** Number of Actions / Number of Website Clicks x 100"
   ]
  },
  {
   "cell_type": "markdown",
   "metadata": {},
   "source": [
    "# 1) Keşifci Veri Analizi & Veri Ön İşleme"
   ]
  },
  {
   "cell_type": "code",
   "execution_count": 117,
   "metadata": {},
   "outputs": [],
   "source": [
    "import pandas as pd\n",
    "\n",
    "control_grup  = pd.read_excel(\"Data_Science_Case_Study.xlsx\",  sheet_name = \"Control Group\")\n",
    "test_grup = pd.read_excel(\"Data_Science_Case_Study.xlsx\",  sheet_name = \"Test Group\")"
   ]
  },
  {
   "cell_type": "code",
   "execution_count": 118,
   "metadata": {},
   "outputs": [
    {
     "data": {
      "text/html": [
       "<div>\n",
       "<style scoped>\n",
       "    .dataframe tbody tr th:only-of-type {\n",
       "        vertical-align: middle;\n",
       "    }\n",
       "\n",
       "    .dataframe tbody tr th {\n",
       "        vertical-align: top;\n",
       "    }\n",
       "\n",
       "    .dataframe thead th {\n",
       "        text-align: right;\n",
       "    }\n",
       "</style>\n",
       "<table border=\"1\" class=\"dataframe\">\n",
       "  <thead>\n",
       "    <tr style=\"text-align: right;\">\n",
       "      <th></th>\n",
       "      <th>Campaign Name</th>\n",
       "      <th>Date</th>\n",
       "      <th>Spend [USD]</th>\n",
       "      <th># of Impressions</th>\n",
       "      <th>Reach</th>\n",
       "      <th># of Website Clicks</th>\n",
       "      <th># of Searches</th>\n",
       "      <th># of View Content</th>\n",
       "      <th># of Add to Cart</th>\n",
       "      <th># of Purchase</th>\n",
       "    </tr>\n",
       "  </thead>\n",
       "  <tbody>\n",
       "    <tr>\n",
       "      <th>0</th>\n",
       "      <td>Control Campaign</td>\n",
       "      <td>2017.01.01</td>\n",
       "      <td>2436.124529</td>\n",
       "      <td>90572.0</td>\n",
       "      <td>75440.0</td>\n",
       "      <td>4150.0</td>\n",
       "      <td>1657.0</td>\n",
       "      <td>1541.0</td>\n",
       "      <td>566.0</td>\n",
       "      <td>383.0</td>\n",
       "    </tr>\n",
       "    <tr>\n",
       "      <th>1</th>\n",
       "      <td>Control Campaign</td>\n",
       "      <td>2017.01.02</td>\n",
       "      <td>2621.043006</td>\n",
       "      <td>129612.0</td>\n",
       "      <td>95667.0</td>\n",
       "      <td>6387.0</td>\n",
       "      <td>2265.0</td>\n",
       "      <td>1563.0</td>\n",
       "      <td>1577.0</td>\n",
       "      <td>644.0</td>\n",
       "    </tr>\n",
       "    <tr>\n",
       "      <th>2</th>\n",
       "      <td>Control Campaign</td>\n",
       "      <td>2017.01.03</td>\n",
       "      <td>2427.021083</td>\n",
       "      <td>132803.0</td>\n",
       "      <td>121762.0</td>\n",
       "      <td>6887.0</td>\n",
       "      <td>3100.0</td>\n",
       "      <td>2048.0</td>\n",
       "      <td>1381.0</td>\n",
       "      <td>639.0</td>\n",
       "    </tr>\n",
       "    <tr>\n",
       "      <th>3</th>\n",
       "      <td>Control Campaign</td>\n",
       "      <td>2017.01.04</td>\n",
       "      <td>2565.414978</td>\n",
       "      <td>120570.0</td>\n",
       "      <td>104011.0</td>\n",
       "      <td>6478.0</td>\n",
       "      <td>2579.0</td>\n",
       "      <td>2083.0</td>\n",
       "      <td>1650.0</td>\n",
       "      <td>649.0</td>\n",
       "    </tr>\n",
       "    <tr>\n",
       "      <th>4</th>\n",
       "      <td>Control Campaign</td>\n",
       "      <td>2017.01.05</td>\n",
       "      <td>2648.683326</td>\n",
       "      <td>95822.0</td>\n",
       "      <td>69059.0</td>\n",
       "      <td>4532.0</td>\n",
       "      <td>1823.0</td>\n",
       "      <td>1220.0</td>\n",
       "      <td>940.0</td>\n",
       "      <td>455.0</td>\n",
       "    </tr>\n",
       "  </tbody>\n",
       "</table>\n",
       "</div>"
      ],
      "text/plain": [
       "      Campaign Name        Date  Spend [USD]  # of Impressions     Reach  \\\n",
       "0  Control Campaign  2017.01.01  2436.124529           90572.0   75440.0   \n",
       "1  Control Campaign  2017.01.02  2621.043006          129612.0   95667.0   \n",
       "2  Control Campaign  2017.01.03  2427.021083          132803.0  121762.0   \n",
       "3  Control Campaign  2017.01.04  2565.414978          120570.0  104011.0   \n",
       "4  Control Campaign  2017.01.05  2648.683326           95822.0   69059.0   \n",
       "\n",
       "   # of Website Clicks  # of Searches  # of View Content  # of Add to Cart  \\\n",
       "0               4150.0         1657.0             1541.0             566.0   \n",
       "1               6387.0         2265.0             1563.0            1577.0   \n",
       "2               6887.0         3100.0             2048.0            1381.0   \n",
       "3               6478.0         2579.0             2083.0            1650.0   \n",
       "4               4532.0         1823.0             1220.0             940.0   \n",
       "\n",
       "   # of Purchase  \n",
       "0          383.0  \n",
       "1          644.0  \n",
       "2          639.0  \n",
       "3          649.0  \n",
       "4          455.0  "
      ]
     },
     "execution_count": 118,
     "metadata": {},
     "output_type": "execute_result"
    }
   ],
   "source": [
    "control_grup.head()"
   ]
  },
  {
   "cell_type": "code",
   "execution_count": 119,
   "metadata": {},
   "outputs": [
    {
     "data": {
      "text/html": [
       "<div>\n",
       "<style scoped>\n",
       "    .dataframe tbody tr th:only-of-type {\n",
       "        vertical-align: middle;\n",
       "    }\n",
       "\n",
       "    .dataframe tbody tr th {\n",
       "        vertical-align: top;\n",
       "    }\n",
       "\n",
       "    .dataframe thead th {\n",
       "        text-align: right;\n",
       "    }\n",
       "</style>\n",
       "<table border=\"1\" class=\"dataframe\">\n",
       "  <thead>\n",
       "    <tr style=\"text-align: right;\">\n",
       "      <th></th>\n",
       "      <th>count</th>\n",
       "      <th>mean</th>\n",
       "      <th>std</th>\n",
       "      <th>min</th>\n",
       "      <th>25%</th>\n",
       "      <th>50%</th>\n",
       "      <th>75%</th>\n",
       "      <th>max</th>\n",
       "    </tr>\n",
       "  </thead>\n",
       "  <tbody>\n",
       "    <tr>\n",
       "      <th>Spend [USD]</th>\n",
       "      <td>30.0</td>\n",
       "      <td>2481.788026</td>\n",
       "      <td>270.352050</td>\n",
       "      <td>1723.719827</td>\n",
       "      <td>2321.526469</td>\n",
       "      <td>2499.630727</td>\n",
       "      <td>2648.65398</td>\n",
       "      <td>3105.836356</td>\n",
       "    </tr>\n",
       "    <tr>\n",
       "      <th># of Impressions</th>\n",
       "      <td>29.0</td>\n",
       "      <td>114608.827586</td>\n",
       "      <td>18122.017690</td>\n",
       "      <td>68766.000000</td>\n",
       "      <td>100769.000000</td>\n",
       "      <td>118268.000000</td>\n",
       "      <td>125097.00000</td>\n",
       "      <td>146702.000000</td>\n",
       "    </tr>\n",
       "    <tr>\n",
       "      <th>Reach</th>\n",
       "      <td>29.0</td>\n",
       "      <td>87628.482759</td>\n",
       "      <td>15958.827440</td>\n",
       "      <td>49422.000000</td>\n",
       "      <td>75440.000000</td>\n",
       "      <td>86442.000000</td>\n",
       "      <td>97334.00000</td>\n",
       "      <td>121762.000000</td>\n",
       "    </tr>\n",
       "    <tr>\n",
       "      <th># of Website Clicks</th>\n",
       "      <td>29.0</td>\n",
       "      <td>5150.896552</td>\n",
       "      <td>1432.388798</td>\n",
       "      <td>2244.000000</td>\n",
       "      <td>4247.000000</td>\n",
       "      <td>4975.000000</td>\n",
       "      <td>6387.00000</td>\n",
       "      <td>8139.000000</td>\n",
       "    </tr>\n",
       "    <tr>\n",
       "      <th># of Searches</th>\n",
       "      <td>29.0</td>\n",
       "      <td>2016.758621</td>\n",
       "      <td>621.055303</td>\n",
       "      <td>931.000000</td>\n",
       "      <td>1657.000000</td>\n",
       "      <td>1969.000000</td>\n",
       "      <td>2282.00000</td>\n",
       "      <td>3262.000000</td>\n",
       "    </tr>\n",
       "    <tr>\n",
       "      <th># of View Content</th>\n",
       "      <td>29.0</td>\n",
       "      <td>1546.310345</td>\n",
       "      <td>466.065990</td>\n",
       "      <td>500.000000</td>\n",
       "      <td>1220.000000</td>\n",
       "      <td>1541.000000</td>\n",
       "      <td>1898.00000</td>\n",
       "      <td>2559.000000</td>\n",
       "    </tr>\n",
       "    <tr>\n",
       "      <th># of Add to Cart</th>\n",
       "      <td>29.0</td>\n",
       "      <td>1061.862069</td>\n",
       "      <td>429.345326</td>\n",
       "      <td>303.000000</td>\n",
       "      <td>715.000000</td>\n",
       "      <td>1013.000000</td>\n",
       "      <td>1455.00000</td>\n",
       "      <td>1959.000000</td>\n",
       "    </tr>\n",
       "    <tr>\n",
       "      <th># of Purchase</th>\n",
       "      <td>29.0</td>\n",
       "      <td>507.379310</td>\n",
       "      <td>146.115027</td>\n",
       "      <td>217.000000</td>\n",
       "      <td>400.000000</td>\n",
       "      <td>484.000000</td>\n",
       "      <td>605.00000</td>\n",
       "      <td>799.000000</td>\n",
       "    </tr>\n",
       "  </tbody>\n",
       "</table>\n",
       "</div>"
      ],
      "text/plain": [
       "                     count           mean           std           min  \\\n",
       "Spend [USD]           30.0    2481.788026    270.352050   1723.719827   \n",
       "# of Impressions      29.0  114608.827586  18122.017690  68766.000000   \n",
       "Reach                 29.0   87628.482759  15958.827440  49422.000000   \n",
       "# of Website Clicks   29.0    5150.896552   1432.388798   2244.000000   \n",
       "# of Searches         29.0    2016.758621    621.055303    931.000000   \n",
       "# of View Content     29.0    1546.310345    466.065990    500.000000   \n",
       "# of Add to Cart      29.0    1061.862069    429.345326    303.000000   \n",
       "# of Purchase         29.0     507.379310    146.115027    217.000000   \n",
       "\n",
       "                               25%            50%           75%            max  \n",
       "Spend [USD]            2321.526469    2499.630727    2648.65398    3105.836356  \n",
       "# of Impressions     100769.000000  118268.000000  125097.00000  146702.000000  \n",
       "Reach                 75440.000000   86442.000000   97334.00000  121762.000000  \n",
       "# of Website Clicks    4247.000000    4975.000000    6387.00000    8139.000000  \n",
       "# of Searches          1657.000000    1969.000000    2282.00000    3262.000000  \n",
       "# of View Content      1220.000000    1541.000000    1898.00000    2559.000000  \n",
       "# of Add to Cart        715.000000    1013.000000    1455.00000    1959.000000  \n",
       "# of Purchase           400.000000     484.000000     605.00000     799.000000  "
      ]
     },
     "execution_count": 119,
     "metadata": {},
     "output_type": "execute_result"
    }
   ],
   "source": [
    "control_grup.describe().T"
   ]
  },
  {
   "cell_type": "code",
   "execution_count": 120,
   "metadata": {},
   "outputs": [
    {
     "data": {
      "text/html": [
       "<div>\n",
       "<style scoped>\n",
       "    .dataframe tbody tr th:only-of-type {\n",
       "        vertical-align: middle;\n",
       "    }\n",
       "\n",
       "    .dataframe tbody tr th {\n",
       "        vertical-align: top;\n",
       "    }\n",
       "\n",
       "    .dataframe thead th {\n",
       "        text-align: right;\n",
       "    }\n",
       "</style>\n",
       "<table border=\"1\" class=\"dataframe\">\n",
       "  <thead>\n",
       "    <tr style=\"text-align: right;\">\n",
       "      <th></th>\n",
       "      <th>Campaign Name</th>\n",
       "      <th>Date</th>\n",
       "      <th>Spend [USD]</th>\n",
       "      <th># of Impressions</th>\n",
       "      <th>Reach</th>\n",
       "      <th># of Website Clicks</th>\n",
       "      <th># of Searches</th>\n",
       "      <th># of View Content</th>\n",
       "      <th># of Add to Cart</th>\n",
       "      <th># of Purchase</th>\n",
       "    </tr>\n",
       "  </thead>\n",
       "  <tbody>\n",
       "    <tr>\n",
       "      <th>0</th>\n",
       "      <td>Test Campaign</td>\n",
       "      <td>2017.01.01</td>\n",
       "      <td>2335.586267</td>\n",
       "      <td>160244</td>\n",
       "      <td>121551</td>\n",
       "      <td>8223</td>\n",
       "      <td>2989</td>\n",
       "      <td>2949</td>\n",
       "      <td>1371</td>\n",
       "      <td>913</td>\n",
       "    </tr>\n",
       "    <tr>\n",
       "      <th>1</th>\n",
       "      <td>Test Campaign</td>\n",
       "      <td>2017.01.02</td>\n",
       "      <td>2899.490621</td>\n",
       "      <td>100793</td>\n",
       "      <td>68241</td>\n",
       "      <td>4972</td>\n",
       "      <td>2162</td>\n",
       "      <td>1388</td>\n",
       "      <td>1253</td>\n",
       "      <td>510</td>\n",
       "    </tr>\n",
       "    <tr>\n",
       "      <th>2</th>\n",
       "      <td>Test Campaign</td>\n",
       "      <td>2017.01.03</td>\n",
       "      <td>3031.740149</td>\n",
       "      <td>89525</td>\n",
       "      <td>83450</td>\n",
       "      <td>3514</td>\n",
       "      <td>1365</td>\n",
       "      <td>1251</td>\n",
       "      <td>995</td>\n",
       "      <td>391</td>\n",
       "    </tr>\n",
       "    <tr>\n",
       "      <th>3</th>\n",
       "      <td>Test Campaign</td>\n",
       "      <td>2017.01.04</td>\n",
       "      <td>2794.847648</td>\n",
       "      <td>110122</td>\n",
       "      <td>89985</td>\n",
       "      <td>4411</td>\n",
       "      <td>1533</td>\n",
       "      <td>1134</td>\n",
       "      <td>951</td>\n",
       "      <td>434</td>\n",
       "    </tr>\n",
       "    <tr>\n",
       "      <th>4</th>\n",
       "      <td>Test Campaign</td>\n",
       "      <td>2017.01.05</td>\n",
       "      <td>2201.845423</td>\n",
       "      <td>122204</td>\n",
       "      <td>84000</td>\n",
       "      <td>5165</td>\n",
       "      <td>1582</td>\n",
       "      <td>1007</td>\n",
       "      <td>810</td>\n",
       "      <td>492</td>\n",
       "    </tr>\n",
       "  </tbody>\n",
       "</table>\n",
       "</div>"
      ],
      "text/plain": [
       "   Campaign Name        Date  Spend [USD]  # of Impressions   Reach  \\\n",
       "0  Test Campaign  2017.01.01  2335.586267            160244  121551   \n",
       "1  Test Campaign  2017.01.02  2899.490621            100793   68241   \n",
       "2  Test Campaign  2017.01.03  3031.740149             89525   83450   \n",
       "3  Test Campaign  2017.01.04  2794.847648            110122   89985   \n",
       "4  Test Campaign  2017.01.05  2201.845423            122204   84000   \n",
       "\n",
       "   # of Website Clicks  # of Searches  # of View Content  # of Add to Cart  \\\n",
       "0                 8223           2989               2949              1371   \n",
       "1                 4972           2162               1388              1253   \n",
       "2                 3514           1365               1251               995   \n",
       "3                 4411           1533               1134               951   \n",
       "4                 5165           1582               1007               810   \n",
       "\n",
       "   # of Purchase  \n",
       "0            913  \n",
       "1            510  \n",
       "2            391  \n",
       "3            434  \n",
       "4            492  "
      ]
     },
     "execution_count": 120,
     "metadata": {},
     "output_type": "execute_result"
    }
   ],
   "source": [
    "test_grup.head()"
   ]
  },
  {
   "cell_type": "code",
   "execution_count": 121,
   "metadata": {},
   "outputs": [
    {
     "data": {
      "text/html": [
       "<div>\n",
       "<style scoped>\n",
       "    .dataframe tbody tr th:only-of-type {\n",
       "        vertical-align: middle;\n",
       "    }\n",
       "\n",
       "    .dataframe tbody tr th {\n",
       "        vertical-align: top;\n",
       "    }\n",
       "\n",
       "    .dataframe thead th {\n",
       "        text-align: right;\n",
       "    }\n",
       "</style>\n",
       "<table border=\"1\" class=\"dataframe\">\n",
       "  <thead>\n",
       "    <tr style=\"text-align: right;\">\n",
       "      <th></th>\n",
       "      <th>count</th>\n",
       "      <th>mean</th>\n",
       "      <th>std</th>\n",
       "      <th>min</th>\n",
       "      <th>25%</th>\n",
       "      <th>50%</th>\n",
       "      <th>75%</th>\n",
       "      <th>max</th>\n",
       "    </tr>\n",
       "  </thead>\n",
       "  <tbody>\n",
       "    <tr>\n",
       "      <th>Spend [USD]</th>\n",
       "      <td>30.0</td>\n",
       "      <td>2571.426085</td>\n",
       "      <td>298.015635</td>\n",
       "      <td>1974.357447</td>\n",
       "      <td>2344.072941</td>\n",
       "      <td>2641.858788</td>\n",
       "      <td>2807.265544</td>\n",
       "      <td>3091.272267</td>\n",
       "    </tr>\n",
       "    <tr>\n",
       "      <th># of Impressions</th>\n",
       "      <td>30.0</td>\n",
       "      <td>110497.300000</td>\n",
       "      <td>21330.440083</td>\n",
       "      <td>73246.000000</td>\n",
       "      <td>99564.250000</td>\n",
       "      <td>108999.000000</td>\n",
       "      <td>122314.250000</td>\n",
       "      <td>160244.000000</td>\n",
       "    </tr>\n",
       "    <tr>\n",
       "      <th>Reach</th>\n",
       "      <td>30.0</td>\n",
       "      <td>88826.833333</td>\n",
       "      <td>21373.019568</td>\n",
       "      <td>53002.000000</td>\n",
       "      <td>71442.000000</td>\n",
       "      <td>86525.500000</td>\n",
       "      <td>104221.000000</td>\n",
       "      <td>137273.000000</td>\n",
       "    </tr>\n",
       "    <tr>\n",
       "      <th># of Website Clicks</th>\n",
       "      <td>30.0</td>\n",
       "      <td>4863.866667</td>\n",
       "      <td>1178.616276</td>\n",
       "      <td>3086.000000</td>\n",
       "      <td>3991.250000</td>\n",
       "      <td>4910.000000</td>\n",
       "      <td>5471.000000</td>\n",
       "      <td>8223.000000</td>\n",
       "    </tr>\n",
       "    <tr>\n",
       "      <th># of Searches</th>\n",
       "      <td>30.0</td>\n",
       "      <td>1862.433333</td>\n",
       "      <td>482.162706</td>\n",
       "      <td>1157.000000</td>\n",
       "      <td>1540.500000</td>\n",
       "      <td>1822.000000</td>\n",
       "      <td>2176.250000</td>\n",
       "      <td>2989.000000</td>\n",
       "    </tr>\n",
       "    <tr>\n",
       "      <th># of View Content</th>\n",
       "      <td>30.0</td>\n",
       "      <td>1457.600000</td>\n",
       "      <td>484.110959</td>\n",
       "      <td>817.000000</td>\n",
       "      <td>1145.500000</td>\n",
       "      <td>1321.500000</td>\n",
       "      <td>1720.000000</td>\n",
       "      <td>2949.000000</td>\n",
       "    </tr>\n",
       "    <tr>\n",
       "      <th># of Add to Cart</th>\n",
       "      <td>30.0</td>\n",
       "      <td>885.333333</td>\n",
       "      <td>270.609317</td>\n",
       "      <td>226.000000</td>\n",
       "      <td>687.500000</td>\n",
       "      <td>880.500000</td>\n",
       "      <td>1062.250000</td>\n",
       "      <td>1371.000000</td>\n",
       "    </tr>\n",
       "    <tr>\n",
       "      <th># of Purchase</th>\n",
       "      <td>30.0</td>\n",
       "      <td>486.066667</td>\n",
       "      <td>125.648643</td>\n",
       "      <td>277.000000</td>\n",
       "      <td>410.000000</td>\n",
       "      <td>472.000000</td>\n",
       "      <td>549.000000</td>\n",
       "      <td>913.000000</td>\n",
       "    </tr>\n",
       "  </tbody>\n",
       "</table>\n",
       "</div>"
      ],
      "text/plain": [
       "                     count           mean           std           min  \\\n",
       "Spend [USD]           30.0    2571.426085    298.015635   1974.357447   \n",
       "# of Impressions      30.0  110497.300000  21330.440083  73246.000000   \n",
       "Reach                 30.0   88826.833333  21373.019568  53002.000000   \n",
       "# of Website Clicks   30.0    4863.866667   1178.616276   3086.000000   \n",
       "# of Searches         30.0    1862.433333    482.162706   1157.000000   \n",
       "# of View Content     30.0    1457.600000    484.110959    817.000000   \n",
       "# of Add to Cart      30.0     885.333333    270.609317    226.000000   \n",
       "# of Purchase         30.0     486.066667    125.648643    277.000000   \n",
       "\n",
       "                              25%            50%            75%            max  \n",
       "Spend [USD]           2344.072941    2641.858788    2807.265544    3091.272267  \n",
       "# of Impressions     99564.250000  108999.000000  122314.250000  160244.000000  \n",
       "Reach                71442.000000   86525.500000  104221.000000  137273.000000  \n",
       "# of Website Clicks   3991.250000    4910.000000    5471.000000    8223.000000  \n",
       "# of Searches         1540.500000    1822.000000    2176.250000    2989.000000  \n",
       "# of View Content     1145.500000    1321.500000    1720.000000    2949.000000  \n",
       "# of Add to Cart       687.500000     880.500000    1062.250000    1371.000000  \n",
       "# of Purchase          410.000000     472.000000     549.000000     913.000000  "
      ]
     },
     "execution_count": 121,
     "metadata": {},
     "output_type": "execute_result"
    }
   ],
   "source": [
    "test_grup.describe().T"
   ]
  },
  {
   "cell_type": "code",
   "execution_count": 122,
   "metadata": {},
   "outputs": [
    {
     "data": {
      "text/html": [
       "<div>\n",
       "<style scoped>\n",
       "    .dataframe tbody tr th:only-of-type {\n",
       "        vertical-align: middle;\n",
       "    }\n",
       "\n",
       "    .dataframe tbody tr th {\n",
       "        vertical-align: top;\n",
       "    }\n",
       "\n",
       "    .dataframe thead th {\n",
       "        text-align: right;\n",
       "    }\n",
       "</style>\n",
       "<table border=\"1\" class=\"dataframe\">\n",
       "  <thead>\n",
       "    <tr style=\"text-align: right;\">\n",
       "      <th></th>\n",
       "      <th>Control_Group</th>\n",
       "    </tr>\n",
       "  </thead>\n",
       "  <tbody>\n",
       "    <tr>\n",
       "      <th>0</th>\n",
       "      <td>383.0</td>\n",
       "    </tr>\n",
       "    <tr>\n",
       "      <th>1</th>\n",
       "      <td>644.0</td>\n",
       "    </tr>\n",
       "    <tr>\n",
       "      <th>2</th>\n",
       "      <td>639.0</td>\n",
       "    </tr>\n",
       "    <tr>\n",
       "      <th>3</th>\n",
       "      <td>649.0</td>\n",
       "    </tr>\n",
       "    <tr>\n",
       "      <th>4</th>\n",
       "      <td>455.0</td>\n",
       "    </tr>\n",
       "  </tbody>\n",
       "</table>\n",
       "</div>"
      ],
      "text/plain": [
       "   Control_Group\n",
       "0          383.0\n",
       "1          644.0\n",
       "2          639.0\n",
       "3          649.0\n",
       "4          455.0"
      ]
     },
     "execution_count": 122,
     "metadata": {},
     "output_type": "execute_result"
    }
   ],
   "source": [
    "control_grup = control_grup[[\"# of Purchase\"]]\n",
    "control_grup = control_grup.rename(columns = {'# of Purchase':'Control_Group'})\n",
    "control_grup.head()"
   ]
  },
  {
   "cell_type": "code",
   "execution_count": 123,
   "metadata": {},
   "outputs": [
    {
     "data": {
      "text/plain": [
       "Control_Group    3\n",
       "dtype: int64"
      ]
     },
     "execution_count": 123,
     "metadata": {},
     "output_type": "execute_result"
    }
   ],
   "source": [
    "control_grup.isnull().sum()"
   ]
  },
  {
   "cell_type": "code",
   "execution_count": 124,
   "metadata": {},
   "outputs": [
    {
     "data": {
      "text/plain": [
       "(32, 1)"
      ]
     },
     "execution_count": 124,
     "metadata": {},
     "output_type": "execute_result"
    }
   ],
   "source": [
    "control_grup.shape"
   ]
  },
  {
   "cell_type": "code",
   "execution_count": 125,
   "metadata": {},
   "outputs": [
    {
     "data": {
      "text/html": [
       "<div>\n",
       "<style scoped>\n",
       "    .dataframe tbody tr th:only-of-type {\n",
       "        vertical-align: middle;\n",
       "    }\n",
       "\n",
       "    .dataframe tbody tr th {\n",
       "        vertical-align: top;\n",
       "    }\n",
       "\n",
       "    .dataframe thead th {\n",
       "        text-align: right;\n",
       "    }\n",
       "</style>\n",
       "<table border=\"1\" class=\"dataframe\">\n",
       "  <thead>\n",
       "    <tr style=\"text-align: right;\">\n",
       "      <th></th>\n",
       "      <th>Test_Group</th>\n",
       "    </tr>\n",
       "  </thead>\n",
       "  <tbody>\n",
       "    <tr>\n",
       "      <th>0</th>\n",
       "      <td>913</td>\n",
       "    </tr>\n",
       "    <tr>\n",
       "      <th>1</th>\n",
       "      <td>510</td>\n",
       "    </tr>\n",
       "    <tr>\n",
       "      <th>2</th>\n",
       "      <td>391</td>\n",
       "    </tr>\n",
       "    <tr>\n",
       "      <th>3</th>\n",
       "      <td>434</td>\n",
       "    </tr>\n",
       "    <tr>\n",
       "      <th>4</th>\n",
       "      <td>492</td>\n",
       "    </tr>\n",
       "  </tbody>\n",
       "</table>\n",
       "</div>"
      ],
      "text/plain": [
       "   Test_Group\n",
       "0         913\n",
       "1         510\n",
       "2         391\n",
       "3         434\n",
       "4         492"
      ]
     },
     "execution_count": 125,
     "metadata": {},
     "output_type": "execute_result"
    }
   ],
   "source": [
    "test_grup = test_grup[[\"# of Purchase\"]]\n",
    "test_grup = test_grup.rename(columns = {'# of Purchase':'Test_Group'})\n",
    "test_grup.head()"
   ]
  },
  {
   "cell_type": "code",
   "execution_count": 126,
   "metadata": {},
   "outputs": [
    {
     "data": {
      "text/plain": [
       "Test_Group    0\n",
       "dtype: int64"
      ]
     },
     "execution_count": 126,
     "metadata": {},
     "output_type": "execute_result"
    }
   ],
   "source": [
    "test_grup.isnull().sum()"
   ]
  },
  {
   "cell_type": "code",
   "execution_count": 127,
   "metadata": {},
   "outputs": [
    {
     "data": {
      "text/plain": [
       "(30, 1)"
      ]
     },
     "execution_count": 127,
     "metadata": {},
     "output_type": "execute_result"
    }
   ],
   "source": [
    "test_grup.shape"
   ]
  },
  {
   "cell_type": "code",
   "execution_count": 128,
   "metadata": {},
   "outputs": [
    {
     "data": {
      "text/html": [
       "<div>\n",
       "<style scoped>\n",
       "    .dataframe tbody tr th:only-of-type {\n",
       "        vertical-align: middle;\n",
       "    }\n",
       "\n",
       "    .dataframe tbody tr th {\n",
       "        vertical-align: top;\n",
       "    }\n",
       "\n",
       "    .dataframe thead th {\n",
       "        text-align: right;\n",
       "    }\n",
       "</style>\n",
       "<table border=\"1\" class=\"dataframe\">\n",
       "  <thead>\n",
       "    <tr style=\"text-align: right;\">\n",
       "      <th></th>\n",
       "      <th>Control_Group</th>\n",
       "    </tr>\n",
       "  </thead>\n",
       "  <tbody>\n",
       "    <tr>\n",
       "      <th>0</th>\n",
       "      <td>383.0</td>\n",
       "    </tr>\n",
       "    <tr>\n",
       "      <th>1</th>\n",
       "      <td>644.0</td>\n",
       "    </tr>\n",
       "    <tr>\n",
       "      <th>2</th>\n",
       "      <td>639.0</td>\n",
       "    </tr>\n",
       "    <tr>\n",
       "      <th>3</th>\n",
       "      <td>649.0</td>\n",
       "    </tr>\n",
       "    <tr>\n",
       "      <th>4</th>\n",
       "      <td>455.0</td>\n",
       "    </tr>\n",
       "  </tbody>\n",
       "</table>\n",
       "</div>"
      ],
      "text/plain": [
       "   Control_Group\n",
       "0          383.0\n",
       "1          644.0\n",
       "2          639.0\n",
       "3          649.0\n",
       "4          455.0"
      ]
     },
     "execution_count": 128,
     "metadata": {},
     "output_type": "execute_result"
    }
   ],
   "source": [
    "control_grup = control_grup.iloc[0:30]\n",
    "control_grup.head()"
   ]
  },
  {
   "cell_type": "code",
   "execution_count": 129,
   "metadata": {},
   "outputs": [
    {
     "data": {
      "text/plain": [
       "(30, 1)"
      ]
     },
     "execution_count": 129,
     "metadata": {},
     "output_type": "execute_result"
    }
   ],
   "source": [
    "control_grup.shape"
   ]
  },
  {
   "cell_type": "code",
   "execution_count": 130,
   "metadata": {},
   "outputs": [
    {
     "data": {
      "text/plain": [
       "Control_Group    1\n",
       "dtype: int64"
      ]
     },
     "execution_count": 130,
     "metadata": {},
     "output_type": "execute_result"
    }
   ],
   "source": [
    "control_grup.isnull().sum()"
   ]
  },
  {
   "cell_type": "code",
   "execution_count": 131,
   "metadata": {},
   "outputs": [],
   "source": [
    "control_grup.fillna(control_grup.mean(), inplace = True)"
   ]
  },
  {
   "cell_type": "code",
   "execution_count": 132,
   "metadata": {},
   "outputs": [],
   "source": [
    "control_grup = control_grup.astype(int)\n",
    "print(control_grup.shape, test_grup.shape)"
   ]
  },
  {
   "cell_type": "code",
   "execution_count": 134,
   "metadata": {},
   "outputs": [
    {
     "data": {
      "text/html": [
       "<div>\n",
       "<style scoped>\n",
       "    .dataframe tbody tr th:only-of-type {\n",
       "        vertical-align: middle;\n",
       "    }\n",
       "\n",
       "    .dataframe tbody tr th {\n",
       "        vertical-align: top;\n",
       "    }\n",
       "\n",
       "    .dataframe thead th {\n",
       "        text-align: right;\n",
       "    }\n",
       "</style>\n",
       "<table border=\"1\" class=\"dataframe\">\n",
       "  <thead>\n",
       "    <tr style=\"text-align: right;\">\n",
       "      <th></th>\n",
       "      <th>Control_Group</th>\n",
       "      <th>Test_Group</th>\n",
       "    </tr>\n",
       "  </thead>\n",
       "  <tbody>\n",
       "    <tr>\n",
       "      <th>0</th>\n",
       "      <td>383</td>\n",
       "      <td>913</td>\n",
       "    </tr>\n",
       "    <tr>\n",
       "      <th>1</th>\n",
       "      <td>644</td>\n",
       "      <td>510</td>\n",
       "    </tr>\n",
       "    <tr>\n",
       "      <th>2</th>\n",
       "      <td>639</td>\n",
       "      <td>391</td>\n",
       "    </tr>\n",
       "    <tr>\n",
       "      <th>3</th>\n",
       "      <td>649</td>\n",
       "      <td>434</td>\n",
       "    </tr>\n",
       "    <tr>\n",
       "      <th>4</th>\n",
       "      <td>455</td>\n",
       "      <td>492</td>\n",
       "    </tr>\n",
       "  </tbody>\n",
       "</table>\n",
       "</div>"
      ],
      "text/plain": [
       "   Control_Group  Test_Group\n",
       "0            383         913\n",
       "1            644         510\n",
       "2            639         391\n",
       "3            649         434\n",
       "4            455         492"
      ]
     },
     "execution_count": 134,
     "metadata": {},
     "output_type": "execute_result"
    }
   ],
   "source": [
    "df = pd.concat([control_grup, test_grup], axis = 1)\n",
    "df.head()"
   ]
  },
  {
   "cell_type": "code",
   "execution_count": 135,
   "metadata": {},
   "outputs": [
    {
     "data": {
      "text/plain": [
       "(30, 2)"
      ]
     },
     "execution_count": 135,
     "metadata": {},
     "output_type": "execute_result"
    }
   ],
   "source": [
    "df.shape"
   ]
  },
  {
   "cell_type": "markdown",
   "metadata": {},
   "source": [
    "# 2) Bağımsız İki Örneklem T Testi\n",
    "\n",
    "**Hipotez :**\n",
    "\n",
    "H0 : \"Maximum Bidding\" ile \"Average Bidding\" söz konusu olduğunda iki grubun satın alma miktarları ortalamaları arasında istatistiksel olarak anlamlı bir farklılık yoktur. (m1 = m2)\n",
    "\n",
    "H1 : \"Maximum Bidding\" ile \"Average Bidding\" söz konusu olduğunda iki grubun satın alma miktarları ortalamaları arasında istatistiksel olarak anlamlı bir farklılık vardır. (m1 != m2)\n",
    "\n",
    "**Hipotezlerin sonucu p_value değerine göre yorumlanmaktadır.**\n",
    "\n",
    "- p-value < ise 0.05'ten HO RED.\n",
    "\n",
    "- p-value < değilse 0.05'ten H0 REDDEDILEMEZ.\n",
    "\n",
    "## 2.1) Varsayım Kontrolü\n",
    "### a) Normallik Varsayımı (Shapiro Testi)\n",
    "\n",
    "- H0 : Normal dağılım varsayımı sağlanmaktadır.\n",
    "\n",
    "- H1 : Normal dağılım varsayımı sağlanmamaktadır."
   ]
  },
  {
   "cell_type": "markdown",
   "metadata": {},
   "source": [
    "#### 2.1.1) Control_Group için Normallik Varsayımı"
   ]
  },
  {
   "cell_type": "code",
   "execution_count": 143,
   "metadata": {},
   "outputs": [
    {
     "data": {
      "image/png": "[encoded data removed]",
      "text/plain": [
       "<Figure size 432x288 with 1 Axes>"
      ]
     },
     "metadata": {
      "needs_background": "light"
     },
     "output_type": "display_data"
    }
   ],
   "source": [
    "import scipy.stats as stats\n",
    "import pylab\n",
    "stats.probplot(df[\"Control_Group\"], dist=\"norm\", plot=pylab)\n",
    "pylab.show()"
   ]
  },
  {
   "cell_type": "code",
   "execution_count": 144,
   "metadata": {},
   "outputs": [
    {
     "data": {
      "image/png": "[encoded data removed]",
      "text/plain": [
       "<Figure size 432x288 with 1 Axes>"
      ]
     },
     "metadata": {
      "needs_background": "light"
     },
     "output_type": "display_data"
    }
   ],
   "source": [
    "df[\"Control_Group\"].plot.hist(color = \"red\");"
   ]
  },
  {
   "cell_type": "code",
   "execution_count": 141,
   "metadata": {},
   "outputs": [
    {
     "data": {
      "text/plain": [
       "(0.9882097244262695, 0.9787935018539429)"
      ]
     },
     "execution_count": 141,
     "metadata": {},
     "output_type": "execute_result"
    }
   ],
   "source": [
    "from scipy.stats import shapiro\n",
    "shapiro(df.Control_Group)"
   ]
  },
  {
   "cell_type": "markdown",
   "metadata": {},
   "source": [
    "**Yorum :** p_value =  0.9787 > 0.05 olduğu için H0 hipotezi **reddedilemedi.**  Maximum Bidding'in (Kontrol Grup) dağılımı normaldir."
   ]
  },
  {
   "cell_type": "markdown",
   "metadata": {},
   "source": [
    "#### 2.1.2) Test_Group için Normallik Varsayımı"
   ]
  },
  {
   "cell_type": "code",
   "execution_count": 145,
   "metadata": {},
   "outputs": [
    {
     "data": {
      "image/png": "[encoded data removed]",
      "text/plain": [
       "<Figure size 432x288 with 1 Axes>"
      ]
     },
     "metadata": {
      "needs_background": "light"
     },
     "output_type": "display_data"
    }
   ],
   "source": [
    "stats.probplot(df[\"Test_Group\"], dist=\"norm\", plot=pylab)\n",
    "pylab.show()"
   ]
  },
  {
   "cell_type": "code",
   "execution_count": 146,
   "metadata": {},
   "outputs": [
    {
     "data": {
      "image/png": "[encoded data removed]",
      "text/plain": [
       "<Figure size 432x288 with 1 Axes>"
      ]
     },
     "metadata": {
      "needs_background": "light"
     },
     "output_type": "display_data"
    }
   ],
   "source": [
    "df[\"Test_Group\"].plot.hist(color = \"red\");"
   ]
  },
  {
   "cell_type": "code",
   "execution_count": 112,
   "metadata": {},
   "outputs": [
    {
     "data": {
      "text/plain": [
       "(0.9188652038574219, 0.02506561577320099)"
      ]
     },
     "execution_count": 112,
     "metadata": {},
     "output_type": "execute_result"
    }
   ],
   "source": [
    "shapiro(df.Test_Group)"
   ]
  },
  {
   "cell_type": "markdown",
   "metadata": {},
   "source": [
    "**Yorum:** p_value = 0.025 < 0.05 olduğu için H0 hiptotezi **reddedildi.** \n",
    "Average Bidding'in (Test Grup) dağılımı normal değildir."
   ]
  },
  {
   "cell_type": "markdown",
   "metadata": {},
   "source": [
    "### b). Varyans Homojenliği Varsayımı (Levene Testi)\n",
    "\n",
    "H0 : Varyanslar homojendir.\n",
    "\n",
    "H1 : Varyanslar homojen değildir."
   ]
  },
  {
   "cell_type": "code",
   "execution_count": 356,
   "metadata": {},
   "outputs": [
    {
     "data": {
      "text/plain": [
       "LeveneResult(statistic=1.4573242947259228, pvalue=0.23225655710383264)"
      ]
     },
     "execution_count": 356,
     "metadata": {},
     "output_type": "execute_result"
    }
   ],
   "source": [
    "stats.levene(df.Control_Group, df.Test_Group)"
   ]
  },
  {
   "cell_type": "markdown",
   "metadata": {},
   "source": [
    "**Yorum:** p_value = 0.2322 > 0.05 olduğu için H0 hipotezi **reddedilemez.**"
   ]
  },
  {
   "cell_type": "markdown",
   "metadata": {},
   "source": [
    "## 3) Nonparametrik Bağımsız İki Örneklem Testi\n",
    "\n",
    "Average Bidding (Test Grup) grubu normallik varsayımını sağlamadığı için NonParametrik Bağımsız İki Örneklem T Testi (Mannwhitneyu) uygulanmalıdır.\n",
    "\n",
    "**Hipotez :**\n",
    "\n",
    "H0 : \"Maximum Bidding\" ile \"Average Bidding\" söz konusu olduğunda iki grubun satın alma miktarları ortalamaları arasında istatistiksel olarak anlamlı bir farklılık yoktur. (m1 = m2)\n",
    "\n",
    "H1 : \"Maximum Bidding\" ile \"Average Bidding\" söz konusu olduğunda iki grubun satın alma miktarları ortalamaları arasında istatistiksel olarak anlamlı bir farklılık vardır. (m1 != m2)"
   ]
  },
  {
   "cell_type": "code",
   "execution_count": 113,
   "metadata": {},
   "outputs": [
    {
     "data": {
      "text/plain": [
       "MannwhitneyuResult(statistic=391.0, pvalue=0.19352350307853528)"
      ]
     },
     "execution_count": 113,
     "metadata": {},
     "output_type": "execute_result"
    }
   ],
   "source": [
    "stats.mannwhitneyu(df.Control_Group, df.Test_Group)"
   ]
  },
  {
   "cell_type": "markdown",
   "metadata": {},
   "source": [
    "**Yorum :** Nonparametrik Bağımsız İki Örneklerm T Testi sonucu çıkan p_value = 0.19 > 0.05 olduğu için H0 hipotezi **reddedilemedi.** Yani, Average Bidding ve Maximum Bidding sistemlerinin satın alma ortalamaları arasında istatistiksel olarak anlamlı bir farklılık yoktur."
   ]
  },
  {
   "cell_type": "markdown",
   "metadata": {},
   "source": [
    "# 4) Sonuç ve Değerlendirme"
   ]
  },
  {
   "cell_type": "markdown",
   "metadata": {},
   "source": [
    "**1. Bu A/B testinin hipotezini nasıl tanımlarsınız?**\n",
    "\n",
    "   **Hipotez:**\n",
    "   \n",
    "   - **H0 :** \"Maximum Bidding\" ile \"Average Bidding\" söz konusu olduğunda iki grubun satın alma miktarları ortalamaları arasında istatistiksel olarak anlamlı bir farklılık yoktur.\n",
    "    \n",
    "   - **H1 :** \"Maximum Bidding\" ile \"Average Bidding\" söz konusu olduğunda iki grubun satın alma miktarları ortalamaları arasında istatistiksel olarak anlamlı bir farklılık vardır.\n",
    "   \n",
    "**2. İstatistiksel olarak anlamlı sonuçlar çıkarabilir miyiz?**\n",
    "\n",
    "   Test ve Kontrol grubu veri setini kullanarak gerçekleştirilen **Nonparametrik Bağımsız İki Örneklem T Testi** için p_value değeri 0.05'ten büyük olduğundan, \"Maximum Bidding\" ve\n",
    "   \"Average Bidding\" metodları ile yapılan satın alma miktarları ortalamaları arasında istatistiksel olarak anlamlı bir farklılık olmadığı gözlemlenmiştir.\n",
    "\n",
    "**3. Hangi istatistiksel testi kullandınız ve neden?**\n",
    "    \n",
    "   Nonparametrik Bağımsız İki Örneklem T Testi (Mannwihtneyu) istatistiksel metodu kullanılmıştır. Çünkü, yeni bir sistemin getirisi test edilmek isteniyor. Bunun için eşit gözlem\n",
    "   sayılarını içeren eski sistemi kullanan Kontrol Grubu ve yeni sistemi kullanan Test Grubu ile kullanıcı davranışları inceleniyor ve birbirleri ile istatistiksel olarak\n",
    "   kıyaslanıyor. Bu 2 grup birbirinden bağımsız farklı sistemleri kullanacağı için, Nonparametrik Bağımsız İki Örneklem T Testi kullanılmıştır. Nonparametrik Bağımsız İki Örneklem T Testi iki grup ortalaması arasında karşılaştırma yapmak istenildiğinde kullanılmaktadır.\n",
    "    \n",
    "**4. Soru 2'ye verdiğiniz cevabınıza dayanarak, müşteriye tavsiyeniz ne olurdu?**\n",
    "\n",
    "   Bu test 30 gözlem birimi içeren veri setleri üzerinde yapılmıştır. Büyük Sayılar Yasası gereği, gözlem sayısı çoğaldıkça, yapılan testler gerçeğe en yakın sonuçları üretecektir. Bu\n",
    "   nedenle eski ve yeni sistemlerin getirileri arasında istatistiksel olarak anlamlı bir farklılık çıkmadığı için, veri setindeki gözlem sayısını artırarak sistemleri bir süre daha\n",
    "   incelemek iyi olabilecektir. Yani, her iki sistemdeki satın alma miktarlarının artması sağlanarak ve veri toplamaya devam edilerek, yeni veri setleri ile bu hipotez testinin \n",
    "   tekrarlanması, bize istatistiksel olarak anlamlı farklılık çıkartabilir bu sebeple bu  durum denenebilir."
   ]
  }
 ],
 "metadata": {
  "kernelspec": {
   "display_name": "Python 3",
   "language": "python",
   "name": "python3"
  },
  "language_info": {
   "codemirror_mode": {
    "name": "ipython",
    "version": 3
   },
   "file_extension": ".py",
   "mimetype": "text/x-python",
   "name": "python",
   "nbconvert_exporter": "python",
   "pygments_lexer": "ipython3",
   "version": "3.7.6"
  }
 },
 "nbformat": 4,
 "nbformat_minor": 4
}
