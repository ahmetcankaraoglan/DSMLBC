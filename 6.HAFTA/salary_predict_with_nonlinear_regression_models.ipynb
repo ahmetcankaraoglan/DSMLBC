{
 "cells": [
  {
   "cell_type": "markdown",
   "metadata": {},
   "source": [
    "# Salary Predict with Nonlinear Regression Models in Hitters Dataset\n",
    "\n",
    "This dataset was originally taken from the StatLib library which is maintained at Carnegie Mellon University. This is part of the data that was used in the 1988 ASA Graphics Section Poster Session. The salary data were originally from Sports Illustrated, April 20, 1987. The 1986 and career statistics were obtained from The 1987 Baseball Encyclopedia Update published by Collier Books, Macmillan Publishing Company, New York.\n",
    "\n",
    "**Nonlinear Regression Models:**\n",
    "- **KNN**\n",
    "- **Support Vector Regression (SVR)**\n",
    "- **CART**\n",
    "- **Random Forests (RF)**\n",
    "- **Gradient Boosting Machines (GBM)**\n",
    "- **eXtreme Gradient Boosting (XGBoost)**\n",
    "- **LightGBM**\n",
    "- **CatBoost**\n",
    "- **Neural Networks**\n",
    "\n",
    "\n",
    "- A data frame with 322 observations of major league players on the following 20 variables.\n",
    "- AtBat Number of times at bat in 1986\n",
    "- Hits Number of hits in 1986\n",
    "- HmRun Number of home runs in 1986\n",
    "- Runs Number of runs in 1986\n",
    "- RBI Number of runs batted in in 1986\n",
    "- Walks Number of walks in 1986\n",
    "- Years Number of years in the major leagues\n",
    "- CAtBat Number of times at bat during his career\n",
    "- CHits Number of hits during his career\n",
    "- CHmRun Number of home runs during his career\n",
    "- CRuns Number of runs during his career\n",
    "- CRBI Number of runs batted in during his career\n",
    "- CWalks Number of walks during his career\n",
    "- League A factor with levels A and N indicating player’s league at the end of 1986\n",
    "- Division A factor with levels E and W indicating player’s division at the end of 1986\n",
    "- PutOuts Number of put outs in 1986\n",
    "- Assists Number of assists in 1986\n",
    "- Errors Number of errors in 1986\n",
    "- Salary 1987 annual salary on opening day in thousands of dollars\n",
    "- NewLeague A factor with levels A and N indicating player’s league at the beginning of 1987\n",
    "\n",
    "**Number of Observation Units: 322**\n",
    "\n",
    "**Variable Number: 20**"
   ]
  },
  {
   "cell_type": "markdown",
   "metadata": {},
   "source": [
    "# 1) Exploratory Data Analysis"
   ]
  },
  {
   "cell_type": "code",
   "execution_count": 1,
   "metadata": {},
   "outputs": [],
   "source": [
    "#Installation of required libraries\n",
    "import numpy as np\n",
    "import pandas as pd \n",
    "from sklearn.model_selection import train_test_split, GridSearchCV\n",
    "from sklearn.metrics import mean_squared_error, r2_score\n",
    "import matplotlib.pyplot as plt\n",
    "from sklearn.preprocessing import scale \n",
    "from sklearn.preprocessing import StandardScaler\n",
    "from sklearn import model_selection\n",
    "from sklearn.tree import DecisionTreeRegressor\n",
    "from sklearn.neighbors import KNeighborsRegressor\n",
    "from sklearn.neural_network import MLPRegressor\n",
    "from sklearn.ensemble import RandomForestRegressor\n",
    "from sklearn.ensemble import GradientBoostingRegressor\n",
    "from sklearn import neighbors\n",
    "from sklearn.svm import SVR\n",
    "\n",
    "from warnings import filterwarnings\n",
    "filterwarnings('ignore')"
   ]
  },
  {
   "cell_type": "code",
   "execution_count": 2,
   "metadata": {},
   "outputs": [],
   "source": [
    "#Reading the dataset\n",
    "df = pd.read_csv(\"../input/hitters/Hitters.csv\")"
   ]
  },
  {
   "cell_type": "code",
   "execution_count": 3,
   "metadata": {},
   "outputs": [
    {
     "data": {
      "text/html": [
       "<div>\n",
       "<style scoped>\n",
       "    .dataframe tbody tr th:only-of-type {\n",
       "        vertical-align: middle;\n",
       "    }\n",
       "\n",
       "    .dataframe tbody tr th {\n",
       "        vertical-align: top;\n",
       "    }\n",
       "\n",
       "    .dataframe thead th {\n",
       "        text-align: right;\n",
       "    }\n",
       "</style>\n",
       "<table border=\"1\" class=\"dataframe\">\n",
       "  <thead>\n",
       "    <tr style=\"text-align: right;\">\n",
       "      <th></th>\n",
       "      <th>AtBat</th>\n",
       "      <th>Hits</th>\n",
       "      <th>HmRun</th>\n",
       "      <th>Runs</th>\n",
       "      <th>RBI</th>\n",
       "      <th>Walks</th>\n",
       "      <th>Years</th>\n",
       "      <th>CAtBat</th>\n",
       "      <th>CHits</th>\n",
       "      <th>CHmRun</th>\n",
       "      <th>CRuns</th>\n",
       "      <th>CRBI</th>\n",
       "      <th>CWalks</th>\n",
       "      <th>League</th>\n",
       "      <th>Division</th>\n",
       "      <th>PutOuts</th>\n",
       "      <th>Assists</th>\n",
       "      <th>Errors</th>\n",
       "      <th>Salary</th>\n",
       "      <th>NewLeague</th>\n",
       "    </tr>\n",
       "  </thead>\n",
       "  <tbody>\n",
       "    <tr>\n",
       "      <th>0</th>\n",
       "      <td>293</td>\n",
       "      <td>66</td>\n",
       "      <td>1</td>\n",
       "      <td>30</td>\n",
       "      <td>29</td>\n",
       "      <td>14</td>\n",
       "      <td>1</td>\n",
       "      <td>293</td>\n",
       "      <td>66</td>\n",
       "      <td>1</td>\n",
       "      <td>30</td>\n",
       "      <td>29</td>\n",
       "      <td>14</td>\n",
       "      <td>A</td>\n",
       "      <td>E</td>\n",
       "      <td>446</td>\n",
       "      <td>33</td>\n",
       "      <td>20</td>\n",
       "      <td>NaN</td>\n",
       "      <td>A</td>\n",
       "    </tr>\n",
       "    <tr>\n",
       "      <th>1</th>\n",
       "      <td>315</td>\n",
       "      <td>81</td>\n",
       "      <td>7</td>\n",
       "      <td>24</td>\n",
       "      <td>38</td>\n",
       "      <td>39</td>\n",
       "      <td>14</td>\n",
       "      <td>3449</td>\n",
       "      <td>835</td>\n",
       "      <td>69</td>\n",
       "      <td>321</td>\n",
       "      <td>414</td>\n",
       "      <td>375</td>\n",
       "      <td>N</td>\n",
       "      <td>W</td>\n",
       "      <td>632</td>\n",
       "      <td>43</td>\n",
       "      <td>10</td>\n",
       "      <td>475.0</td>\n",
       "      <td>N</td>\n",
       "    </tr>\n",
       "    <tr>\n",
       "      <th>2</th>\n",
       "      <td>479</td>\n",
       "      <td>130</td>\n",
       "      <td>18</td>\n",
       "      <td>66</td>\n",
       "      <td>72</td>\n",
       "      <td>76</td>\n",
       "      <td>3</td>\n",
       "      <td>1624</td>\n",
       "      <td>457</td>\n",
       "      <td>63</td>\n",
       "      <td>224</td>\n",
       "      <td>266</td>\n",
       "      <td>263</td>\n",
       "      <td>A</td>\n",
       "      <td>W</td>\n",
       "      <td>880</td>\n",
       "      <td>82</td>\n",
       "      <td>14</td>\n",
       "      <td>480.0</td>\n",
       "      <td>A</td>\n",
       "    </tr>\n",
       "    <tr>\n",
       "      <th>3</th>\n",
       "      <td>496</td>\n",
       "      <td>141</td>\n",
       "      <td>20</td>\n",
       "      <td>65</td>\n",
       "      <td>78</td>\n",
       "      <td>37</td>\n",
       "      <td>11</td>\n",
       "      <td>5628</td>\n",
       "      <td>1575</td>\n",
       "      <td>225</td>\n",
       "      <td>828</td>\n",
       "      <td>838</td>\n",
       "      <td>354</td>\n",
       "      <td>N</td>\n",
       "      <td>E</td>\n",
       "      <td>200</td>\n",
       "      <td>11</td>\n",
       "      <td>3</td>\n",
       "      <td>500.0</td>\n",
       "      <td>N</td>\n",
       "    </tr>\n",
       "    <tr>\n",
       "      <th>4</th>\n",
       "      <td>321</td>\n",
       "      <td>87</td>\n",
       "      <td>10</td>\n",
       "      <td>39</td>\n",
       "      <td>42</td>\n",
       "      <td>30</td>\n",
       "      <td>2</td>\n",
       "      <td>396</td>\n",
       "      <td>101</td>\n",
       "      <td>12</td>\n",
       "      <td>48</td>\n",
       "      <td>46</td>\n",
       "      <td>33</td>\n",
       "      <td>N</td>\n",
       "      <td>E</td>\n",
       "      <td>805</td>\n",
       "      <td>40</td>\n",
       "      <td>4</td>\n",
       "      <td>91.5</td>\n",
       "      <td>N</td>\n",
       "    </tr>\n",
       "  </tbody>\n",
       "</table>\n",
       "</div>"
      ],
      "text/plain": [
       "   AtBat  Hits  HmRun  Runs  RBI  Walks  Years  CAtBat  CHits  CHmRun  CRuns  \\\n",
       "0    293    66      1    30   29     14      1     293     66       1     30   \n",
       "1    315    81      7    24   38     39     14    3449    835      69    321   \n",
       "2    479   130     18    66   72     76      3    1624    457      63    224   \n",
       "3    496   141     20    65   78     37     11    5628   1575     225    828   \n",
       "4    321    87     10    39   42     30      2     396    101      12     48   \n",
       "\n",
       "   CRBI  CWalks League Division  PutOuts  Assists  Errors  Salary NewLeague  \n",
       "0    29      14      A        E      446       33      20     NaN         A  \n",
       "1   414     375      N        W      632       43      10   475.0         N  \n",
       "2   266     263      A        W      880       82      14   480.0         A  \n",
       "3   838     354      N        E      200       11       3   500.0         N  \n",
       "4    46      33      N        E      805       40       4    91.5         N  "
      ]
     },
     "execution_count": 3,
     "metadata": {},
     "output_type": "execute_result"
    }
   ],
   "source": [
    "# The first 5 observation units of the data set were accessed.\n",
    "df.head()"
   ]
  },
  {
   "cell_type": "code",
   "execution_count": 4,
   "metadata": {},
   "outputs": [
    {
     "data": {
      "text/plain": [
       "(322, 20)"
      ]
     },
     "execution_count": 4,
     "metadata": {},
     "output_type": "execute_result"
    }
   ],
   "source": [
    "# The size of the data set was examined. It consists of 322 observation units and 20 variables.\n",
    "df.shape"
   ]
  },
  {
   "cell_type": "code",
   "execution_count": 5,
   "metadata": {},
   "outputs": [
    {
     "name": "stdout",
     "output_type": "stream",
     "text": [
      "<class 'pandas.core.frame.DataFrame'>\n",
      "RangeIndex: 322 entries, 0 to 321\n",
      "Data columns (total 20 columns):\n",
      " #   Column     Non-Null Count  Dtype  \n",
      "---  ------     --------------  -----  \n",
      " 0   AtBat      322 non-null    int64  \n",
      " 1   Hits       322 non-null    int64  \n",
      " 2   HmRun      322 non-null    int64  \n",
      " 3   Runs       322 non-null    int64  \n",
      " 4   RBI        322 non-null    int64  \n",
      " 5   Walks      322 non-null    int64  \n",
      " 6   Years      322 non-null    int64  \n",
      " 7   CAtBat     322 non-null    int64  \n",
      " 8   CHits      322 non-null    int64  \n",
      " 9   CHmRun     322 non-null    int64  \n",
      " 10  CRuns      322 non-null    int64  \n",
      " 11  CRBI       322 non-null    int64  \n",
      " 12  CWalks     322 non-null    int64  \n",
      " 13  League     322 non-null    object \n",
      " 14  Division   322 non-null    object \n",
      " 15  PutOuts    322 non-null    int64  \n",
      " 16  Assists    322 non-null    int64  \n",
      " 17  Errors     322 non-null    int64  \n",
      " 18  Salary     263 non-null    float64\n",
      " 19  NewLeague  322 non-null    object \n",
      "dtypes: float64(1), int64(16), object(3)\n",
      "memory usage: 50.4+ KB\n"
     ]
    }
   ],
   "source": [
    "#Feature information\n",
    "df.info()"
   ]
  },
  {
   "cell_type": "code",
   "execution_count": 6,
   "metadata": {},
   "outputs": [
    {
     "data": {
      "text/plain": [
       "AtBat        247\n",
       "Hits         144\n",
       "HmRun         36\n",
       "Runs          96\n",
       "RBI          103\n",
       "Walks         89\n",
       "Years         22\n",
       "CAtBat       314\n",
       "CHits        288\n",
       "CHmRun       146\n",
       "CRuns        261\n",
       "CRBI         262\n",
       "CWalks       248\n",
       "League         2\n",
       "Division       2\n",
       "PutOuts      232\n",
       "Assists      161\n",
       "Errors        29\n",
       "Salary       150\n",
       "NewLeague      2\n",
       "dtype: int64"
      ]
     },
     "execution_count": 6,
     "metadata": {},
     "output_type": "execute_result"
    }
   ],
   "source": [
    "# Number of unique observations in variables\n",
    "df.nunique()"
   ]
  },
  {
   "cell_type": "code",
   "execution_count": 7,
   "metadata": {},
   "outputs": [
    {
     "data": {
      "text/plain": [
       "A    175\n",
       "N    147\n",
       "Name: League, dtype: int64"
      ]
     },
     "execution_count": 7,
     "metadata": {},
     "output_type": "execute_result"
    }
   ],
   "source": [
    "# Because League is a categorical variable, we examined how many of the classes there are.\n",
    "df[\"League\"].value_counts()"
   ]
  },
  {
   "cell_type": "code",
   "execution_count": 8,
   "metadata": {},
   "outputs": [
    {
     "data": {
      "image/png": "[encoded data removed]",
      "text/plain": [
       "<Figure size 432x288 with 1 Axes>"
      ]
     },
     "metadata": {
      "needs_background": "light"
     },
     "output_type": "display_data"
    }
   ],
   "source": [
    "df.League.value_counts().plot.barh();"
   ]
  },
  {
   "cell_type": "code",
   "execution_count": 9,
   "metadata": {},
   "outputs": [
    {
     "data": {
      "text/plain": [
       "A    176\n",
       "N    146\n",
       "Name: NewLeague, dtype: int64"
      ]
     },
     "execution_count": 9,
     "metadata": {},
     "output_type": "execute_result"
    }
   ],
   "source": [
    "# Since NewLeague is a categorical variable, we have examined how many of the classes there are.\n",
    "df[\"NewLeague\"].value_counts()"
   ]
  },
  {
   "cell_type": "code",
   "execution_count": 10,
   "metadata": {},
   "outputs": [
    {
     "data": {
      "image/png": "[encoded data removed]",
      "text/plain": [
       "<Figure size 432x288 with 1 Axes>"
      ]
     },
     "metadata": {
      "needs_background": "light"
     },
     "output_type": "display_data"
    }
   ],
   "source": [
    "df.NewLeague.value_counts().plot.barh();"
   ]
  },
  {
   "cell_type": "code",
   "execution_count": 11,
   "metadata": {},
   "outputs": [
    {
     "data": {
      "text/plain": [
       "W    165\n",
       "E    157\n",
       "Name: Division, dtype: int64"
      ]
     },
     "execution_count": 11,
     "metadata": {},
     "output_type": "execute_result"
    }
   ],
   "source": [
    "# Since Division is a categorical variable, we have examined how many of the classes there are.\n",
    "df[\"Division\"].value_counts()"
   ]
  },
  {
   "cell_type": "code",
   "execution_count": 12,
   "metadata": {},
   "outputs": [
    {
     "data": {
      "image/png": "[encoded data removed]",
      "text/plain": [
       "<Figure size 432x288 with 1 Axes>"
      ]
     },
     "metadata": {
      "needs_background": "light"
     },
     "output_type": "display_data"
    }
   ],
   "source": [
    "df.Division.value_counts().plot.barh();"
   ]
  },
  {
   "cell_type": "code",
   "execution_count": 13,
   "metadata": {},
   "outputs": [
    {
     "data": {
      "text/plain": [
       "2460.0"
      ]
     },
     "execution_count": 13,
     "metadata": {},
     "output_type": "execute_result"
    }
   ],
   "source": [
    "#  The maximum value of the Salary variable has been reached. It is also our dependent variable.\n",
    "df[\"Salary\"].max()"
   ]
  },
  {
   "cell_type": "code",
   "execution_count": 14,
   "metadata": {},
   "outputs": [
    {
     "data": {
      "text/plain": [
       "67.5"
      ]
     },
     "execution_count": 14,
     "metadata": {},
     "output_type": "execute_result"
    }
   ],
   "source": [
    "# The minimum value of the Salary variable has been reached.\n",
    "df[\"Salary\"].min()"
   ]
  },
  {
   "cell_type": "code",
   "execution_count": 15,
   "metadata": {},
   "outputs": [
    {
     "data": {
      "image/png": "[encoded data removed]",
      "text/plain": [
       "<Figure size 432x288 with 1 Axes>"
      ]
     },
     "metadata": {
      "needs_background": "light"
     },
     "output_type": "display_data"
    }
   ],
   "source": [
    "#Distribution of dependent variable\n",
    "import seaborn as sns\n",
    "sns.distplot(df.Salary);"
   ]
  },
  {
   "cell_type": "code",
   "execution_count": 16,
   "metadata": {},
   "outputs": [
    {
     "data": {
      "text/html": [
       "<div>\n",
       "<style scoped>\n",
       "    .dataframe tbody tr th:only-of-type {\n",
       "        vertical-align: middle;\n",
       "    }\n",
       "\n",
       "    .dataframe tbody tr th {\n",
       "        vertical-align: top;\n",
       "    }\n",
       "\n",
       "    .dataframe thead th {\n",
       "        text-align: right;\n",
       "    }\n",
       "</style>\n",
       "<table border=\"1\" class=\"dataframe\">\n",
       "  <thead>\n",
       "    <tr style=\"text-align: right;\">\n",
       "      <th></th>\n",
       "      <th>count</th>\n",
       "      <th>mean</th>\n",
       "      <th>std</th>\n",
       "      <th>min</th>\n",
       "      <th>25%</th>\n",
       "      <th>50%</th>\n",
       "      <th>75%</th>\n",
       "      <th>max</th>\n",
       "    </tr>\n",
       "  </thead>\n",
       "  <tbody>\n",
       "    <tr>\n",
       "      <th>AtBat</th>\n",
       "      <td>322.0</td>\n",
       "      <td>380.928571</td>\n",
       "      <td>153.404981</td>\n",
       "      <td>16.0</td>\n",
       "      <td>255.25</td>\n",
       "      <td>379.5</td>\n",
       "      <td>512.00</td>\n",
       "      <td>687.0</td>\n",
       "    </tr>\n",
       "    <tr>\n",
       "      <th>Hits</th>\n",
       "      <td>322.0</td>\n",
       "      <td>101.024845</td>\n",
       "      <td>46.454741</td>\n",
       "      <td>1.0</td>\n",
       "      <td>64.00</td>\n",
       "      <td>96.0</td>\n",
       "      <td>137.00</td>\n",
       "      <td>238.0</td>\n",
       "    </tr>\n",
       "    <tr>\n",
       "      <th>HmRun</th>\n",
       "      <td>322.0</td>\n",
       "      <td>10.770186</td>\n",
       "      <td>8.709037</td>\n",
       "      <td>0.0</td>\n",
       "      <td>4.00</td>\n",
       "      <td>8.0</td>\n",
       "      <td>16.00</td>\n",
       "      <td>40.0</td>\n",
       "    </tr>\n",
       "    <tr>\n",
       "      <th>Runs</th>\n",
       "      <td>322.0</td>\n",
       "      <td>50.909938</td>\n",
       "      <td>26.024095</td>\n",
       "      <td>0.0</td>\n",
       "      <td>30.25</td>\n",
       "      <td>48.0</td>\n",
       "      <td>69.00</td>\n",
       "      <td>130.0</td>\n",
       "    </tr>\n",
       "    <tr>\n",
       "      <th>RBI</th>\n",
       "      <td>322.0</td>\n",
       "      <td>48.027950</td>\n",
       "      <td>26.166895</td>\n",
       "      <td>0.0</td>\n",
       "      <td>28.00</td>\n",
       "      <td>44.0</td>\n",
       "      <td>64.75</td>\n",
       "      <td>121.0</td>\n",
       "    </tr>\n",
       "    <tr>\n",
       "      <th>Walks</th>\n",
       "      <td>322.0</td>\n",
       "      <td>38.742236</td>\n",
       "      <td>21.639327</td>\n",
       "      <td>0.0</td>\n",
       "      <td>22.00</td>\n",
       "      <td>35.0</td>\n",
       "      <td>53.00</td>\n",
       "      <td>105.0</td>\n",
       "    </tr>\n",
       "    <tr>\n",
       "      <th>Years</th>\n",
       "      <td>322.0</td>\n",
       "      <td>7.444099</td>\n",
       "      <td>4.926087</td>\n",
       "      <td>1.0</td>\n",
       "      <td>4.00</td>\n",
       "      <td>6.0</td>\n",
       "      <td>11.00</td>\n",
       "      <td>24.0</td>\n",
       "    </tr>\n",
       "    <tr>\n",
       "      <th>CAtBat</th>\n",
       "      <td>322.0</td>\n",
       "      <td>2648.683230</td>\n",
       "      <td>2324.205870</td>\n",
       "      <td>19.0</td>\n",
       "      <td>816.75</td>\n",
       "      <td>1928.0</td>\n",
       "      <td>3924.25</td>\n",
       "      <td>14053.0</td>\n",
       "    </tr>\n",
       "    <tr>\n",
       "      <th>CHits</th>\n",
       "      <td>322.0</td>\n",
       "      <td>717.571429</td>\n",
       "      <td>654.472627</td>\n",
       "      <td>4.0</td>\n",
       "      <td>209.00</td>\n",
       "      <td>508.0</td>\n",
       "      <td>1059.25</td>\n",
       "      <td>4256.0</td>\n",
       "    </tr>\n",
       "    <tr>\n",
       "      <th>CHmRun</th>\n",
       "      <td>322.0</td>\n",
       "      <td>69.490683</td>\n",
       "      <td>86.266061</td>\n",
       "      <td>0.0</td>\n",
       "      <td>14.00</td>\n",
       "      <td>37.5</td>\n",
       "      <td>90.00</td>\n",
       "      <td>548.0</td>\n",
       "    </tr>\n",
       "    <tr>\n",
       "      <th>CRuns</th>\n",
       "      <td>322.0</td>\n",
       "      <td>358.795031</td>\n",
       "      <td>334.105886</td>\n",
       "      <td>1.0</td>\n",
       "      <td>100.25</td>\n",
       "      <td>247.0</td>\n",
       "      <td>526.25</td>\n",
       "      <td>2165.0</td>\n",
       "    </tr>\n",
       "    <tr>\n",
       "      <th>CRBI</th>\n",
       "      <td>322.0</td>\n",
       "      <td>330.118012</td>\n",
       "      <td>333.219617</td>\n",
       "      <td>0.0</td>\n",
       "      <td>88.75</td>\n",
       "      <td>220.5</td>\n",
       "      <td>426.25</td>\n",
       "      <td>1659.0</td>\n",
       "    </tr>\n",
       "    <tr>\n",
       "      <th>CWalks</th>\n",
       "      <td>322.0</td>\n",
       "      <td>260.239130</td>\n",
       "      <td>267.058085</td>\n",
       "      <td>0.0</td>\n",
       "      <td>67.25</td>\n",
       "      <td>170.5</td>\n",
       "      <td>339.25</td>\n",
       "      <td>1566.0</td>\n",
       "    </tr>\n",
       "    <tr>\n",
       "      <th>PutOuts</th>\n",
       "      <td>322.0</td>\n",
       "      <td>288.937888</td>\n",
       "      <td>280.704614</td>\n",
       "      <td>0.0</td>\n",
       "      <td>109.25</td>\n",
       "      <td>212.0</td>\n",
       "      <td>325.00</td>\n",
       "      <td>1378.0</td>\n",
       "    </tr>\n",
       "    <tr>\n",
       "      <th>Assists</th>\n",
       "      <td>322.0</td>\n",
       "      <td>106.913043</td>\n",
       "      <td>136.854876</td>\n",
       "      <td>0.0</td>\n",
       "      <td>7.00</td>\n",
       "      <td>39.5</td>\n",
       "      <td>166.00</td>\n",
       "      <td>492.0</td>\n",
       "    </tr>\n",
       "    <tr>\n",
       "      <th>Errors</th>\n",
       "      <td>322.0</td>\n",
       "      <td>8.040373</td>\n",
       "      <td>6.368359</td>\n",
       "      <td>0.0</td>\n",
       "      <td>3.00</td>\n",
       "      <td>6.0</td>\n",
       "      <td>11.00</td>\n",
       "      <td>32.0</td>\n",
       "    </tr>\n",
       "    <tr>\n",
       "      <th>Salary</th>\n",
       "      <td>263.0</td>\n",
       "      <td>535.925882</td>\n",
       "      <td>451.118681</td>\n",
       "      <td>67.5</td>\n",
       "      <td>190.00</td>\n",
       "      <td>425.0</td>\n",
       "      <td>750.00</td>\n",
       "      <td>2460.0</td>\n",
       "    </tr>\n",
       "  </tbody>\n",
       "</table>\n",
       "</div>"
      ],
      "text/plain": [
       "         count         mean          std   min     25%     50%      75%  \\\n",
       "AtBat    322.0   380.928571   153.404981  16.0  255.25   379.5   512.00   \n",
       "Hits     322.0   101.024845    46.454741   1.0   64.00    96.0   137.00   \n",
       "HmRun    322.0    10.770186     8.709037   0.0    4.00     8.0    16.00   \n",
       "Runs     322.0    50.909938    26.024095   0.0   30.25    48.0    69.00   \n",
       "RBI      322.0    48.027950    26.166895   0.0   28.00    44.0    64.75   \n",
       "Walks    322.0    38.742236    21.639327   0.0   22.00    35.0    53.00   \n",
       "Years    322.0     7.444099     4.926087   1.0    4.00     6.0    11.00   \n",
       "CAtBat   322.0  2648.683230  2324.205870  19.0  816.75  1928.0  3924.25   \n",
       "CHits    322.0   717.571429   654.472627   4.0  209.00   508.0  1059.25   \n",
       "CHmRun   322.0    69.490683    86.266061   0.0   14.00    37.5    90.00   \n",
       "CRuns    322.0   358.795031   334.105886   1.0  100.25   247.0   526.25   \n",
       "CRBI     322.0   330.118012   333.219617   0.0   88.75   220.5   426.25   \n",
       "CWalks   322.0   260.239130   267.058085   0.0   67.25   170.5   339.25   \n",
       "PutOuts  322.0   288.937888   280.704614   0.0  109.25   212.0   325.00   \n",
       "Assists  322.0   106.913043   136.854876   0.0    7.00    39.5   166.00   \n",
       "Errors   322.0     8.040373     6.368359   0.0    3.00     6.0    11.00   \n",
       "Salary   263.0   535.925882   451.118681  67.5  190.00   425.0   750.00   \n",
       "\n",
       "             max  \n",
       "AtBat      687.0  \n",
       "Hits       238.0  \n",
       "HmRun       40.0  \n",
       "Runs       130.0  \n",
       "RBI        121.0  \n",
       "Walks      105.0  \n",
       "Years       24.0  \n",
       "CAtBat   14053.0  \n",
       "CHits     4256.0  \n",
       "CHmRun     548.0  \n",
       "CRuns     2165.0  \n",
       "CRBI      1659.0  \n",
       "CWalks    1566.0  \n",
       "PutOuts   1378.0  \n",
       "Assists    492.0  \n",
       "Errors      32.0  \n",
       "Salary    2460.0  "
      ]
     },
     "execution_count": 16,
     "metadata": {},
     "output_type": "execute_result"
    }
   ],
   "source": [
    "# Descriptive statistics of the data set accessed.\n",
    "df.describe().T"
   ]
  },
  {
   "cell_type": "code",
   "execution_count": 17,
   "metadata": {},
   "outputs": [
    {
     "data": {
      "text/html": [
       "<div>\n",
       "<style scoped>\n",
       "    .dataframe tbody tr th:only-of-type {\n",
       "        vertical-align: middle;\n",
       "    }\n",
       "\n",
       "    .dataframe tbody tr th {\n",
       "        vertical-align: top;\n",
       "    }\n",
       "\n",
       "    .dataframe thead th {\n",
       "        text-align: right;\n",
       "    }\n",
       "</style>\n",
       "<table border=\"1\" class=\"dataframe\">\n",
       "  <thead>\n",
       "    <tr style=\"text-align: right;\">\n",
       "      <th></th>\n",
       "      <th>AtBat</th>\n",
       "      <th>Hits</th>\n",
       "      <th>HmRun</th>\n",
       "      <th>Runs</th>\n",
       "      <th>RBI</th>\n",
       "      <th>Walks</th>\n",
       "      <th>Years</th>\n",
       "      <th>CAtBat</th>\n",
       "      <th>CHits</th>\n",
       "      <th>CHmRun</th>\n",
       "      <th>CRuns</th>\n",
       "      <th>CRBI</th>\n",
       "      <th>CWalks</th>\n",
       "      <th>PutOuts</th>\n",
       "      <th>Assists</th>\n",
       "      <th>Errors</th>\n",
       "      <th>Salary</th>\n",
       "    </tr>\n",
       "  </thead>\n",
       "  <tbody>\n",
       "    <tr>\n",
       "      <th>AtBat</th>\n",
       "      <td>1.000000</td>\n",
       "      <td>0.967939</td>\n",
       "      <td>0.592198</td>\n",
       "      <td>0.913060</td>\n",
       "      <td>0.820539</td>\n",
       "      <td>0.669845</td>\n",
       "      <td>0.047372</td>\n",
       "      <td>0.235526</td>\n",
       "      <td>0.252717</td>\n",
       "      <td>0.236659</td>\n",
       "      <td>0.266534</td>\n",
       "      <td>0.244053</td>\n",
       "      <td>0.166123</td>\n",
       "      <td>0.317550</td>\n",
       "      <td>0.353824</td>\n",
       "      <td>0.352117</td>\n",
       "      <td>0.394771</td>\n",
       "    </tr>\n",
       "    <tr>\n",
       "      <th>Hits</th>\n",
       "      <td>0.967939</td>\n",
       "      <td>1.000000</td>\n",
       "      <td>0.562158</td>\n",
       "      <td>0.922187</td>\n",
       "      <td>0.811073</td>\n",
       "      <td>0.641211</td>\n",
       "      <td>0.044767</td>\n",
       "      <td>0.227565</td>\n",
       "      <td>0.255815</td>\n",
       "      <td>0.202712</td>\n",
       "      <td>0.261787</td>\n",
       "      <td>0.232005</td>\n",
       "      <td>0.151818</td>\n",
       "      <td>0.310673</td>\n",
       "      <td>0.320455</td>\n",
       "      <td>0.310038</td>\n",
       "      <td>0.438675</td>\n",
       "    </tr>\n",
       "    <tr>\n",
       "      <th>HmRun</th>\n",
       "      <td>0.592198</td>\n",
       "      <td>0.562158</td>\n",
       "      <td>1.000000</td>\n",
       "      <td>0.650988</td>\n",
       "      <td>0.855122</td>\n",
       "      <td>0.481014</td>\n",
       "      <td>0.116318</td>\n",
       "      <td>0.221882</td>\n",
       "      <td>0.220627</td>\n",
       "      <td>0.493227</td>\n",
       "      <td>0.262361</td>\n",
       "      <td>0.351979</td>\n",
       "      <td>0.233154</td>\n",
       "      <td>0.282923</td>\n",
       "      <td>-0.106329</td>\n",
       "      <td>0.039318</td>\n",
       "      <td>0.343028</td>\n",
       "    </tr>\n",
       "    <tr>\n",
       "      <th>Runs</th>\n",
       "      <td>0.913060</td>\n",
       "      <td>0.922187</td>\n",
       "      <td>0.650988</td>\n",
       "      <td>1.000000</td>\n",
       "      <td>0.798206</td>\n",
       "      <td>0.732213</td>\n",
       "      <td>0.004541</td>\n",
       "      <td>0.186497</td>\n",
       "      <td>0.204830</td>\n",
       "      <td>0.227913</td>\n",
       "      <td>0.250556</td>\n",
       "      <td>0.205976</td>\n",
       "      <td>0.182168</td>\n",
       "      <td>0.279347</td>\n",
       "      <td>0.220567</td>\n",
       "      <td>0.240475</td>\n",
       "      <td>0.419859</td>\n",
       "    </tr>\n",
       "    <tr>\n",
       "      <th>RBI</th>\n",
       "      <td>0.820539</td>\n",
       "      <td>0.811073</td>\n",
       "      <td>0.855122</td>\n",
       "      <td>0.798206</td>\n",
       "      <td>1.000000</td>\n",
       "      <td>0.615997</td>\n",
       "      <td>0.146168</td>\n",
       "      <td>0.294688</td>\n",
       "      <td>0.308201</td>\n",
       "      <td>0.441771</td>\n",
       "      <td>0.323285</td>\n",
       "      <td>0.393184</td>\n",
       "      <td>0.250914</td>\n",
       "      <td>0.343186</td>\n",
       "      <td>0.106591</td>\n",
       "      <td>0.193370</td>\n",
       "      <td>0.449457</td>\n",
       "    </tr>\n",
       "    <tr>\n",
       "      <th>Walks</th>\n",
       "      <td>0.669845</td>\n",
       "      <td>0.641211</td>\n",
       "      <td>0.481014</td>\n",
       "      <td>0.732213</td>\n",
       "      <td>0.615997</td>\n",
       "      <td>1.000000</td>\n",
       "      <td>0.136475</td>\n",
       "      <td>0.277175</td>\n",
       "      <td>0.280671</td>\n",
       "      <td>0.332473</td>\n",
       "      <td>0.338478</td>\n",
       "      <td>0.308631</td>\n",
       "      <td>0.424507</td>\n",
       "      <td>0.299515</td>\n",
       "      <td>0.149656</td>\n",
       "      <td>0.129382</td>\n",
       "      <td>0.443867</td>\n",
       "    </tr>\n",
       "    <tr>\n",
       "      <th>Years</th>\n",
       "      <td>0.047372</td>\n",
       "      <td>0.044767</td>\n",
       "      <td>0.116318</td>\n",
       "      <td>0.004541</td>\n",
       "      <td>0.146168</td>\n",
       "      <td>0.136475</td>\n",
       "      <td>1.000000</td>\n",
       "      <td>0.920289</td>\n",
       "      <td>0.903631</td>\n",
       "      <td>0.726872</td>\n",
       "      <td>0.882877</td>\n",
       "      <td>0.868812</td>\n",
       "      <td>0.838533</td>\n",
       "      <td>-0.004684</td>\n",
       "      <td>-0.080638</td>\n",
       "      <td>-0.162140</td>\n",
       "      <td>0.400657</td>\n",
       "    </tr>\n",
       "    <tr>\n",
       "      <th>CAtBat</th>\n",
       "      <td>0.235526</td>\n",
       "      <td>0.227565</td>\n",
       "      <td>0.221882</td>\n",
       "      <td>0.186497</td>\n",
       "      <td>0.294688</td>\n",
       "      <td>0.277175</td>\n",
       "      <td>0.920289</td>\n",
       "      <td>1.000000</td>\n",
       "      <td>0.995063</td>\n",
       "      <td>0.798836</td>\n",
       "      <td>0.983345</td>\n",
       "      <td>0.949219</td>\n",
       "      <td>0.906501</td>\n",
       "      <td>0.062283</td>\n",
       "      <td>0.002038</td>\n",
       "      <td>-0.066922</td>\n",
       "      <td>0.526135</td>\n",
       "    </tr>\n",
       "    <tr>\n",
       "      <th>CHits</th>\n",
       "      <td>0.252717</td>\n",
       "      <td>0.255815</td>\n",
       "      <td>0.220627</td>\n",
       "      <td>0.204830</td>\n",
       "      <td>0.308201</td>\n",
       "      <td>0.280671</td>\n",
       "      <td>0.903631</td>\n",
       "      <td>0.995063</td>\n",
       "      <td>1.000000</td>\n",
       "      <td>0.783306</td>\n",
       "      <td>0.984609</td>\n",
       "      <td>0.945141</td>\n",
       "      <td>0.890954</td>\n",
       "      <td>0.076547</td>\n",
       "      <td>-0.002523</td>\n",
       "      <td>-0.062756</td>\n",
       "      <td>0.548910</td>\n",
       "    </tr>\n",
       "    <tr>\n",
       "      <th>CHmRun</th>\n",
       "      <td>0.236659</td>\n",
       "      <td>0.202712</td>\n",
       "      <td>0.493227</td>\n",
       "      <td>0.227913</td>\n",
       "      <td>0.441771</td>\n",
       "      <td>0.332473</td>\n",
       "      <td>0.726872</td>\n",
       "      <td>0.798836</td>\n",
       "      <td>0.783306</td>\n",
       "      <td>1.000000</td>\n",
       "      <td>0.820243</td>\n",
       "      <td>0.929484</td>\n",
       "      <td>0.799983</td>\n",
       "      <td>0.112724</td>\n",
       "      <td>-0.158511</td>\n",
       "      <td>-0.138115</td>\n",
       "      <td>0.524931</td>\n",
       "    </tr>\n",
       "    <tr>\n",
       "      <th>CRuns</th>\n",
       "      <td>0.266534</td>\n",
       "      <td>0.261787</td>\n",
       "      <td>0.262361</td>\n",
       "      <td>0.250556</td>\n",
       "      <td>0.323285</td>\n",
       "      <td>0.338478</td>\n",
       "      <td>0.882877</td>\n",
       "      <td>0.983345</td>\n",
       "      <td>0.984609</td>\n",
       "      <td>0.820243</td>\n",
       "      <td>1.000000</td>\n",
       "      <td>0.943769</td>\n",
       "      <td>0.927807</td>\n",
       "      <td>0.064180</td>\n",
       "      <td>-0.022978</td>\n",
       "      <td>-0.084395</td>\n",
       "      <td>0.562678</td>\n",
       "    </tr>\n",
       "    <tr>\n",
       "      <th>CRBI</th>\n",
       "      <td>0.244053</td>\n",
       "      <td>0.232005</td>\n",
       "      <td>0.351979</td>\n",
       "      <td>0.205976</td>\n",
       "      <td>0.393184</td>\n",
       "      <td>0.308631</td>\n",
       "      <td>0.868812</td>\n",
       "      <td>0.949219</td>\n",
       "      <td>0.945141</td>\n",
       "      <td>0.929484</td>\n",
       "      <td>0.943769</td>\n",
       "      <td>1.000000</td>\n",
       "      <td>0.884726</td>\n",
       "      <td>0.110098</td>\n",
       "      <td>-0.079387</td>\n",
       "      <td>-0.100990</td>\n",
       "      <td>0.566966</td>\n",
       "    </tr>\n",
       "    <tr>\n",
       "      <th>CWalks</th>\n",
       "      <td>0.166123</td>\n",
       "      <td>0.151818</td>\n",
       "      <td>0.233154</td>\n",
       "      <td>0.182168</td>\n",
       "      <td>0.250914</td>\n",
       "      <td>0.424507</td>\n",
       "      <td>0.838533</td>\n",
       "      <td>0.906501</td>\n",
       "      <td>0.890954</td>\n",
       "      <td>0.799983</td>\n",
       "      <td>0.927807</td>\n",
       "      <td>0.884726</td>\n",
       "      <td>1.000000</td>\n",
       "      <td>0.058638</td>\n",
       "      <td>-0.039130</td>\n",
       "      <td>-0.118475</td>\n",
       "      <td>0.489822</td>\n",
       "    </tr>\n",
       "    <tr>\n",
       "      <th>PutOuts</th>\n",
       "      <td>0.317550</td>\n",
       "      <td>0.310673</td>\n",
       "      <td>0.282923</td>\n",
       "      <td>0.279347</td>\n",
       "      <td>0.343186</td>\n",
       "      <td>0.299515</td>\n",
       "      <td>-0.004684</td>\n",
       "      <td>0.062283</td>\n",
       "      <td>0.076547</td>\n",
       "      <td>0.112724</td>\n",
       "      <td>0.064180</td>\n",
       "      <td>0.110098</td>\n",
       "      <td>0.058638</td>\n",
       "      <td>1.000000</td>\n",
       "      <td>-0.025024</td>\n",
       "      <td>0.109972</td>\n",
       "      <td>0.300480</td>\n",
       "    </tr>\n",
       "    <tr>\n",
       "      <th>Assists</th>\n",
       "      <td>0.353824</td>\n",
       "      <td>0.320455</td>\n",
       "      <td>-0.106329</td>\n",
       "      <td>0.220567</td>\n",
       "      <td>0.106591</td>\n",
       "      <td>0.149656</td>\n",
       "      <td>-0.080638</td>\n",
       "      <td>0.002038</td>\n",
       "      <td>-0.002523</td>\n",
       "      <td>-0.158511</td>\n",
       "      <td>-0.022978</td>\n",
       "      <td>-0.079387</td>\n",
       "      <td>-0.039130</td>\n",
       "      <td>-0.025024</td>\n",
       "      <td>1.000000</td>\n",
       "      <td>0.706362</td>\n",
       "      <td>0.025436</td>\n",
       "    </tr>\n",
       "    <tr>\n",
       "      <th>Errors</th>\n",
       "      <td>0.352117</td>\n",
       "      <td>0.310038</td>\n",
       "      <td>0.039318</td>\n",
       "      <td>0.240475</td>\n",
       "      <td>0.193370</td>\n",
       "      <td>0.129382</td>\n",
       "      <td>-0.162140</td>\n",
       "      <td>-0.066922</td>\n",
       "      <td>-0.062756</td>\n",
       "      <td>-0.138115</td>\n",
       "      <td>-0.084395</td>\n",
       "      <td>-0.100990</td>\n",
       "      <td>-0.118475</td>\n",
       "      <td>0.109972</td>\n",
       "      <td>0.706362</td>\n",
       "      <td>1.000000</td>\n",
       "      <td>-0.005401</td>\n",
       "    </tr>\n",
       "    <tr>\n",
       "      <th>Salary</th>\n",
       "      <td>0.394771</td>\n",
       "      <td>0.438675</td>\n",
       "      <td>0.343028</td>\n",
       "      <td>0.419859</td>\n",
       "      <td>0.449457</td>\n",
       "      <td>0.443867</td>\n",
       "      <td>0.400657</td>\n",
       "      <td>0.526135</td>\n",
       "      <td>0.548910</td>\n",
       "      <td>0.524931</td>\n",
       "      <td>0.562678</td>\n",
       "      <td>0.566966</td>\n",
       "      <td>0.489822</td>\n",
       "      <td>0.300480</td>\n",
       "      <td>0.025436</td>\n",
       "      <td>-0.005401</td>\n",
       "      <td>1.000000</td>\n",
       "    </tr>\n",
       "  </tbody>\n",
       "</table>\n",
       "</div>"
      ],
      "text/plain": [
       "            AtBat      Hits     HmRun      Runs       RBI     Walks     Years  \\\n",
       "AtBat    1.000000  0.967939  0.592198  0.913060  0.820539  0.669845  0.047372   \n",
       "Hits     0.967939  1.000000  0.562158  0.922187  0.811073  0.641211  0.044767   \n",
       "HmRun    0.592198  0.562158  1.000000  0.650988  0.855122  0.481014  0.116318   \n",
       "Runs     0.913060  0.922187  0.650988  1.000000  0.798206  0.732213  0.004541   \n",
       "RBI      0.820539  0.811073  0.855122  0.798206  1.000000  0.615997  0.146168   \n",
       "Walks    0.669845  0.641211  0.481014  0.732213  0.615997  1.000000  0.136475   \n",
       "Years    0.047372  0.044767  0.116318  0.004541  0.146168  0.136475  1.000000   \n",
       "CAtBat   0.235526  0.227565  0.221882  0.186497  0.294688  0.277175  0.920289   \n",
       "CHits    0.252717  0.255815  0.220627  0.204830  0.308201  0.280671  0.903631   \n",
       "CHmRun   0.236659  0.202712  0.493227  0.227913  0.441771  0.332473  0.726872   \n",
       "CRuns    0.266534  0.261787  0.262361  0.250556  0.323285  0.338478  0.882877   \n",
       "CRBI     0.244053  0.232005  0.351979  0.205976  0.393184  0.308631  0.868812   \n",
       "CWalks   0.166123  0.151818  0.233154  0.182168  0.250914  0.424507  0.838533   \n",
       "PutOuts  0.317550  0.310673  0.282923  0.279347  0.343186  0.299515 -0.004684   \n",
       "Assists  0.353824  0.320455 -0.106329  0.220567  0.106591  0.149656 -0.080638   \n",
       "Errors   0.352117  0.310038  0.039318  0.240475  0.193370  0.129382 -0.162140   \n",
       "Salary   0.394771  0.438675  0.343028  0.419859  0.449457  0.443867  0.400657   \n",
       "\n",
       "           CAtBat     CHits    CHmRun     CRuns      CRBI    CWalks   PutOuts  \\\n",
       "AtBat    0.235526  0.252717  0.236659  0.266534  0.244053  0.166123  0.317550   \n",
       "Hits     0.227565  0.255815  0.202712  0.261787  0.232005  0.151818  0.310673   \n",
       "HmRun    0.221882  0.220627  0.493227  0.262361  0.351979  0.233154  0.282923   \n",
       "Runs     0.186497  0.204830  0.227913  0.250556  0.205976  0.182168  0.279347   \n",
       "RBI      0.294688  0.308201  0.441771  0.323285  0.393184  0.250914  0.343186   \n",
       "Walks    0.277175  0.280671  0.332473  0.338478  0.308631  0.424507  0.299515   \n",
       "Years    0.920289  0.903631  0.726872  0.882877  0.868812  0.838533 -0.004684   \n",
       "CAtBat   1.000000  0.995063  0.798836  0.983345  0.949219  0.906501  0.062283   \n",
       "CHits    0.995063  1.000000  0.783306  0.984609  0.945141  0.890954  0.076547   \n",
       "CHmRun   0.798836  0.783306  1.000000  0.820243  0.929484  0.799983  0.112724   \n",
       "CRuns    0.983345  0.984609  0.820243  1.000000  0.943769  0.927807  0.064180   \n",
       "CRBI     0.949219  0.945141  0.929484  0.943769  1.000000  0.884726  0.110098   \n",
       "CWalks   0.906501  0.890954  0.799983  0.927807  0.884726  1.000000  0.058638   \n",
       "PutOuts  0.062283  0.076547  0.112724  0.064180  0.110098  0.058638  1.000000   \n",
       "Assists  0.002038 -0.002523 -0.158511 -0.022978 -0.079387 -0.039130 -0.025024   \n",
       "Errors  -0.066922 -0.062756 -0.138115 -0.084395 -0.100990 -0.118475  0.109972   \n",
       "Salary   0.526135  0.548910  0.524931  0.562678  0.566966  0.489822  0.300480   \n",
       "\n",
       "          Assists    Errors    Salary  \n",
       "AtBat    0.353824  0.352117  0.394771  \n",
       "Hits     0.320455  0.310038  0.438675  \n",
       "HmRun   -0.106329  0.039318  0.343028  \n",
       "Runs     0.220567  0.240475  0.419859  \n",
       "RBI      0.106591  0.193370  0.449457  \n",
       "Walks    0.149656  0.129382  0.443867  \n",
       "Years   -0.080638 -0.162140  0.400657  \n",
       "CAtBat   0.002038 -0.066922  0.526135  \n",
       "CHits   -0.002523 -0.062756  0.548910  \n",
       "CHmRun  -0.158511 -0.138115  0.524931  \n",
       "CRuns   -0.022978 -0.084395  0.562678  \n",
       "CRBI    -0.079387 -0.100990  0.566966  \n",
       "CWalks  -0.039130 -0.118475  0.489822  \n",
       "PutOuts -0.025024  0.109972  0.300480  \n",
       "Assists  1.000000  0.706362  0.025436  \n",
       "Errors   0.706362  1.000000 -0.005401  \n",
       "Salary   0.025436 -0.005401  1.000000  "
      ]
     },
     "execution_count": 17,
     "metadata": {},
     "output_type": "execute_result"
    }
   ],
   "source": [
    "# Access to the correlation of the data set was provided. What kind of relationship is examined between the variables. \n",
    "# If the correlation value is> 0, there is a positive correlation. While the value of one variable increases, the value of the other variable also increases.\n",
    "# Correlation = 0 means no correlation.\n",
    "# If the correlation is <0, there is a negative correlation. While one variable increases, the other variable decreases. \n",
    "# When the correlations are examined, there are 2 variables that act as a positive correlation to the Salary dependent variable.\n",
    "# These variables are CRBI and CRuns. As these increase, Salary variable increases.\n",
    "df.corr()"
   ]
  },
  {
   "cell_type": "code",
   "execution_count": 18,
   "metadata": {},
   "outputs": [
    {
     "data": {
      "image/png": "[encoded data removed]",
      "text/plain": [
       "<Figure size 1440x1080 with 2 Axes>"
      ]
     },
     "metadata": {
      "needs_background": "light"
     },
     "output_type": "display_data"
    }
   ],
   "source": [
    "# Correlation matrix graph of the data set\n",
    "f, ax = plt.subplots(figsize= [20,15])\n",
    "sns.heatmap(df.corr(), annot=True, fmt=\".2f\", ax=ax, cmap = \"magma\" )\n",
    "ax.set_title(\"Correlation Matrix\", fontsize=20)\n",
    "plt.show()"
   ]
  },
  {
   "cell_type": "code",
   "execution_count": 19,
   "metadata": {},
   "outputs": [
    {
     "data": {
      "text/html": [
       "<div>\n",
       "<style scoped>\n",
       "    .dataframe tbody tr th:only-of-type {\n",
       "        vertical-align: middle;\n",
       "    }\n",
       "\n",
       "    .dataframe tbody tr th {\n",
       "        vertical-align: top;\n",
       "    }\n",
       "\n",
       "    .dataframe thead th {\n",
       "        text-align: right;\n",
       "    }\n",
       "</style>\n",
       "<table border=\"1\" class=\"dataframe\">\n",
       "  <thead>\n",
       "    <tr style=\"text-align: right;\">\n",
       "      <th></th>\n",
       "      <th>Salary</th>\n",
       "    </tr>\n",
       "    <tr>\n",
       "      <th>League</th>\n",
       "      <th></th>\n",
       "    </tr>\n",
       "  </thead>\n",
       "  <tbody>\n",
       "    <tr>\n",
       "      <th>A</th>\n",
       "      <td>541.999547</td>\n",
       "    </tr>\n",
       "    <tr>\n",
       "      <th>N</th>\n",
       "      <td>529.117500</td>\n",
       "    </tr>\n",
       "  </tbody>\n",
       "</table>\n",
       "</div>"
      ],
      "text/plain": [
       "            Salary\n",
       "League            \n",
       "A       541.999547\n",
       "N       529.117500"
      ]
     },
     "execution_count": 19,
     "metadata": {},
     "output_type": "execute_result"
    }
   ],
   "source": [
    "# According to the league variable, groupby is made and how much salary is taken in which league on average.\n",
    "df.groupby(\"League\").agg({\"Salary\": \"mean\"})"
   ]
  },
  {
   "cell_type": "code",
   "execution_count": 20,
   "metadata": {},
   "outputs": [
    {
     "data": {
      "text/html": [
       "<div>\n",
       "<style scoped>\n",
       "    .dataframe tbody tr th:only-of-type {\n",
       "        vertical-align: middle;\n",
       "    }\n",
       "\n",
       "    .dataframe tbody tr th {\n",
       "        vertical-align: top;\n",
       "    }\n",
       "\n",
       "    .dataframe thead th {\n",
       "        text-align: right;\n",
       "    }\n",
       "</style>\n",
       "<table border=\"1\" class=\"dataframe\">\n",
       "  <thead>\n",
       "    <tr style=\"text-align: right;\">\n",
       "      <th></th>\n",
       "      <th>Salary</th>\n",
       "    </tr>\n",
       "    <tr>\n",
       "      <th>NewLeague</th>\n",
       "      <th></th>\n",
       "    </tr>\n",
       "  </thead>\n",
       "  <tbody>\n",
       "    <tr>\n",
       "      <th>A</th>\n",
       "      <td>537.113028</td>\n",
       "    </tr>\n",
       "    <tr>\n",
       "      <th>N</th>\n",
       "      <td>534.553852</td>\n",
       "    </tr>\n",
       "  </tbody>\n",
       "</table>\n",
       "</div>"
      ],
      "text/plain": [
       "               Salary\n",
       "NewLeague            \n",
       "A          537.113028\n",
       "N          534.553852"
      ]
     },
     "execution_count": 20,
     "metadata": {},
     "output_type": "execute_result"
    }
   ],
   "source": [
    "# In 1987, the average salary of the new leagues was examined.\n",
    "df.groupby(\"NewLeague\").agg({\"Salary\": \"mean\"})"
   ]
  },
  {
   "cell_type": "code",
   "execution_count": 21,
   "metadata": {},
   "outputs": [
    {
     "data": {
      "text/html": [
       "<div>\n",
       "<style scoped>\n",
       "    .dataframe tbody tr th:only-of-type {\n",
       "        vertical-align: middle;\n",
       "    }\n",
       "\n",
       "    .dataframe tbody tr th {\n",
       "        vertical-align: top;\n",
       "    }\n",
       "\n",
       "    .dataframe thead th {\n",
       "        text-align: right;\n",
       "    }\n",
       "</style>\n",
       "<table border=\"1\" class=\"dataframe\">\n",
       "  <thead>\n",
       "    <tr style=\"text-align: right;\">\n",
       "      <th></th>\n",
       "      <th>Salary</th>\n",
       "    </tr>\n",
       "    <tr>\n",
       "      <th>Division</th>\n",
       "      <th></th>\n",
       "    </tr>\n",
       "  </thead>\n",
       "  <tbody>\n",
       "    <tr>\n",
       "      <th>E</th>\n",
       "      <td>624.271364</td>\n",
       "    </tr>\n",
       "    <tr>\n",
       "      <th>W</th>\n",
       "      <td>450.876873</td>\n",
       "    </tr>\n",
       "  </tbody>\n",
       "</table>\n",
       "</div>"
      ],
      "text/plain": [
       "              Salary\n",
       "Division            \n",
       "E         624.271364\n",
       "W         450.876873"
      ]
     },
     "execution_count": 21,
     "metadata": {},
     "output_type": "execute_result"
    }
   ],
   "source": [
    "# According to the position of the player, how much salary is on average, this is examined.\n",
    "df.groupby(\"Division\").agg({\"Salary\": \"mean\"})"
   ]
  },
  {
   "cell_type": "code",
   "execution_count": 22,
   "metadata": {},
   "outputs": [
    {
     "data": {
      "text/html": [
       "<div>\n",
       "<style scoped>\n",
       "    .dataframe tbody tr th:only-of-type {\n",
       "        vertical-align: middle;\n",
       "    }\n",
       "\n",
       "    .dataframe tbody tr th {\n",
       "        vertical-align: top;\n",
       "    }\n",
       "\n",
       "    .dataframe thead th {\n",
       "        text-align: right;\n",
       "    }\n",
       "</style>\n",
       "<table border=\"1\" class=\"dataframe\">\n",
       "  <thead>\n",
       "    <tr style=\"text-align: right;\">\n",
       "      <th></th>\n",
       "      <th>Salary</th>\n",
       "    </tr>\n",
       "    <tr>\n",
       "      <th>CRBI</th>\n",
       "      <th></th>\n",
       "    </tr>\n",
       "  </thead>\n",
       "  <tbody>\n",
       "    <tr>\n",
       "      <th>0</th>\n",
       "      <td>NaN</td>\n",
       "    </tr>\n",
       "    <tr>\n",
       "      <th>3</th>\n",
       "      <td>920.000</td>\n",
       "    </tr>\n",
       "    <tr>\n",
       "      <th>4</th>\n",
       "      <td>NaN</td>\n",
       "    </tr>\n",
       "    <tr>\n",
       "      <th>7</th>\n",
       "      <td>2127.333</td>\n",
       "    </tr>\n",
       "    <tr>\n",
       "      <th>9</th>\n",
       "      <td>70.000</td>\n",
       "    </tr>\n",
       "    <tr>\n",
       "      <th>...</th>\n",
       "      <td>...</td>\n",
       "    </tr>\n",
       "    <tr>\n",
       "      <th>1299</th>\n",
       "      <td>1450.000</td>\n",
       "    </tr>\n",
       "    <tr>\n",
       "      <th>1314</th>\n",
       "      <td>750.000</td>\n",
       "    </tr>\n",
       "    <tr>\n",
       "      <th>1348</th>\n",
       "      <td>500.000</td>\n",
       "    </tr>\n",
       "    <tr>\n",
       "      <th>1652</th>\n",
       "      <td>NaN</td>\n",
       "    </tr>\n",
       "    <tr>\n",
       "      <th>1659</th>\n",
       "      <td>487.500</td>\n",
       "    </tr>\n",
       "  </tbody>\n",
       "</table>\n",
       "<p>262 rows × 1 columns</p>\n",
       "</div>"
      ],
      "text/plain": [
       "        Salary\n",
       "CRBI          \n",
       "0          NaN\n",
       "3      920.000\n",
       "4          NaN\n",
       "7     2127.333\n",
       "9       70.000\n",
       "...        ...\n",
       "1299  1450.000\n",
       "1314   750.000\n",
       "1348   500.000\n",
       "1652       NaN\n",
       "1659   487.500\n",
       "\n",
       "[262 rows x 1 columns]"
      ]
     },
     "execution_count": 22,
     "metadata": {},
     "output_type": "execute_result"
    }
   ],
   "source": [
    "# When the correlation of the data set was examined, the CRBI variable had a positive correlation.\n",
    "# As this variable increases, it should increase in Salary variable.\n",
    "# Based on this, the CRBI variable is the number of innings he has made during his career.\n",
    "# The mean of the Salary variable was examined by grouping it accordingly.\n",
    "df.groupby(\"CRBI\").agg({\"Salary\": \"mean\"})"
   ]
  },
  {
   "cell_type": "code",
   "execution_count": 23,
   "metadata": {},
   "outputs": [
    {
     "data": {
      "text/html": [
       "<div>\n",
       "<style scoped>\n",
       "    .dataframe tbody tr th:only-of-type {\n",
       "        vertical-align: middle;\n",
       "    }\n",
       "\n",
       "    .dataframe tbody tr th {\n",
       "        vertical-align: top;\n",
       "    }\n",
       "\n",
       "    .dataframe thead th {\n",
       "        text-align: right;\n",
       "    }\n",
       "</style>\n",
       "<table border=\"1\" class=\"dataframe\">\n",
       "  <thead>\n",
       "    <tr style=\"text-align: right;\">\n",
       "      <th></th>\n",
       "      <th>Salary</th>\n",
       "    </tr>\n",
       "    <tr>\n",
       "      <th>CRuns</th>\n",
       "      <th></th>\n",
       "    </tr>\n",
       "  </thead>\n",
       "  <tbody>\n",
       "    <tr>\n",
       "      <th>1</th>\n",
       "      <td>NaN</td>\n",
       "    </tr>\n",
       "    <tr>\n",
       "      <th>2</th>\n",
       "      <td>920.000</td>\n",
       "    </tr>\n",
       "    <tr>\n",
       "      <th>3</th>\n",
       "      <td>NaN</td>\n",
       "    </tr>\n",
       "    <tr>\n",
       "      <th>6</th>\n",
       "      <td>2127.333</td>\n",
       "    </tr>\n",
       "    <tr>\n",
       "      <th>9</th>\n",
       "      <td>NaN</td>\n",
       "    </tr>\n",
       "    <tr>\n",
       "      <th>...</th>\n",
       "      <td>...</td>\n",
       "    </tr>\n",
       "    <tr>\n",
       "      <th>1172</th>\n",
       "      <td>200.000</td>\n",
       "    </tr>\n",
       "    <tr>\n",
       "      <th>1175</th>\n",
       "      <td>535.000</td>\n",
       "    </tr>\n",
       "    <tr>\n",
       "      <th>1272</th>\n",
       "      <td>NaN</td>\n",
       "    </tr>\n",
       "    <tr>\n",
       "      <th>1509</th>\n",
       "      <td>487.500</td>\n",
       "    </tr>\n",
       "    <tr>\n",
       "      <th>2165</th>\n",
       "      <td>750.000</td>\n",
       "    </tr>\n",
       "  </tbody>\n",
       "</table>\n",
       "<p>261 rows × 1 columns</p>\n",
       "</div>"
      ],
      "text/plain": [
       "         Salary\n",
       "CRuns          \n",
       "1           NaN\n",
       "2       920.000\n",
       "3           NaN\n",
       "6      2127.333\n",
       "9           NaN\n",
       "...         ...\n",
       "1172    200.000\n",
       "1175    535.000\n",
       "1272        NaN\n",
       "1509    487.500\n",
       "2165    750.000\n",
       "\n",
       "[261 rows x 1 columns]"
      ]
     },
     "execution_count": 23,
     "metadata": {},
     "output_type": "execute_result"
    }
   ],
   "source": [
    "# When the correlation of the data set was examined, the CRuns variable had a positive correlation.\n",
    "# As this variable increases, it should increase in Salary variable.\n",
    "# Based on this, the CRuns variable is the number of innings he has made during his career.\n",
    "# The mean of the Salary variable was examined by grouping it accordingly.\n",
    "df.groupby(\"CRuns\").agg({\"Salary\": \"mean\"})"
   ]
  },
  {
   "cell_type": "code",
   "execution_count": 24,
   "metadata": {},
   "outputs": [
    {
     "data": {
      "text/html": [
       "<div>\n",
       "<style scoped>\n",
       "    .dataframe tbody tr th:only-of-type {\n",
       "        vertical-align: middle;\n",
       "    }\n",
       "\n",
       "    .dataframe tbody tr th {\n",
       "        vertical-align: top;\n",
       "    }\n",
       "\n",
       "    .dataframe thead th {\n",
       "        text-align: right;\n",
       "    }\n",
       "</style>\n",
       "<table border=\"1\" class=\"dataframe\">\n",
       "  <thead>\n",
       "    <tr style=\"text-align: right;\">\n",
       "      <th></th>\n",
       "      <th></th>\n",
       "      <th>Salary</th>\n",
       "    </tr>\n",
       "    <tr>\n",
       "      <th>League</th>\n",
       "      <th>Years</th>\n",
       "      <th></th>\n",
       "    </tr>\n",
       "  </thead>\n",
       "  <tbody>\n",
       "    <tr>\n",
       "      <th rowspan=\"19\" valign=\"top\">A</th>\n",
       "      <th>1</th>\n",
       "      <td>101.944444</td>\n",
       "    </tr>\n",
       "    <tr>\n",
       "      <th>2</th>\n",
       "      <td>128.055556</td>\n",
       "    </tr>\n",
       "    <tr>\n",
       "      <th>3</th>\n",
       "      <td>178.615385</td>\n",
       "    </tr>\n",
       "    <tr>\n",
       "      <th>4</th>\n",
       "      <td>269.423077</td>\n",
       "    </tr>\n",
       "    <tr>\n",
       "      <th>5</th>\n",
       "      <td>602.147059</td>\n",
       "    </tr>\n",
       "    <tr>\n",
       "      <th>6</th>\n",
       "      <td>630.441176</td>\n",
       "    </tr>\n",
       "    <tr>\n",
       "      <th>7</th>\n",
       "      <td>623.500000</td>\n",
       "    </tr>\n",
       "    <tr>\n",
       "      <th>8</th>\n",
       "      <td>767.395875</td>\n",
       "    </tr>\n",
       "    <tr>\n",
       "      <th>9</th>\n",
       "      <td>894.000000</td>\n",
       "    </tr>\n",
       "    <tr>\n",
       "      <th>10</th>\n",
       "      <td>831.468333</td>\n",
       "    </tr>\n",
       "    <tr>\n",
       "      <th>11</th>\n",
       "      <td>866.666667</td>\n",
       "    </tr>\n",
       "    <tr>\n",
       "      <th>12</th>\n",
       "      <td>516.428571</td>\n",
       "    </tr>\n",
       "    <tr>\n",
       "      <th>13</th>\n",
       "      <td>1104.166667</td>\n",
       "    </tr>\n",
       "    <tr>\n",
       "      <th>14</th>\n",
       "      <td>1019.494286</td>\n",
       "    </tr>\n",
       "    <tr>\n",
       "      <th>15</th>\n",
       "      <td>563.333250</td>\n",
       "    </tr>\n",
       "    <tr>\n",
       "      <th>16</th>\n",
       "      <td>480.000000</td>\n",
       "    </tr>\n",
       "    <tr>\n",
       "      <th>17</th>\n",
       "      <td>686.666667</td>\n",
       "    </tr>\n",
       "    <tr>\n",
       "      <th>18</th>\n",
       "      <td>509.166750</td>\n",
       "    </tr>\n",
       "    <tr>\n",
       "      <th>20</th>\n",
       "      <td>487.500000</td>\n",
       "    </tr>\n",
       "    <tr>\n",
       "      <th rowspan=\"22\" valign=\"top\">N</th>\n",
       "      <th>1</th>\n",
       "      <td>203.312500</td>\n",
       "    </tr>\n",
       "    <tr>\n",
       "      <th>2</th>\n",
       "      <td>283.861083</td>\n",
       "    </tr>\n",
       "    <tr>\n",
       "      <th>3</th>\n",
       "      <td>165.454545</td>\n",
       "    </tr>\n",
       "    <tr>\n",
       "      <th>4</th>\n",
       "      <td>371.833333</td>\n",
       "    </tr>\n",
       "    <tr>\n",
       "      <th>5</th>\n",
       "      <td>507.777778</td>\n",
       "    </tr>\n",
       "    <tr>\n",
       "      <th>6</th>\n",
       "      <td>613.757545</td>\n",
       "    </tr>\n",
       "    <tr>\n",
       "      <th>7</th>\n",
       "      <td>719.166643</td>\n",
       "    </tr>\n",
       "    <tr>\n",
       "      <th>8</th>\n",
       "      <td>462.222333</td>\n",
       "    </tr>\n",
       "    <tr>\n",
       "      <th>9</th>\n",
       "      <td>800.833286</td>\n",
       "    </tr>\n",
       "    <tr>\n",
       "      <th>10</th>\n",
       "      <td>581.666667</td>\n",
       "    </tr>\n",
       "    <tr>\n",
       "      <th>11</th>\n",
       "      <td>817.500000</td>\n",
       "    </tr>\n",
       "    <tr>\n",
       "      <th>12</th>\n",
       "      <td>770.555667</td>\n",
       "    </tr>\n",
       "    <tr>\n",
       "      <th>13</th>\n",
       "      <td>1141.392750</td>\n",
       "    </tr>\n",
       "    <tr>\n",
       "      <th>14</th>\n",
       "      <td>613.333400</td>\n",
       "    </tr>\n",
       "    <tr>\n",
       "      <th>15</th>\n",
       "      <td>652.777667</td>\n",
       "    </tr>\n",
       "    <tr>\n",
       "      <th>16</th>\n",
       "      <td>662.500000</td>\n",
       "    </tr>\n",
       "    <tr>\n",
       "      <th>17</th>\n",
       "      <td>546.666500</td>\n",
       "    </tr>\n",
       "    <tr>\n",
       "      <th>18</th>\n",
       "      <td>1450.000000</td>\n",
       "    </tr>\n",
       "    <tr>\n",
       "      <th>19</th>\n",
       "      <td>500.000000</td>\n",
       "    </tr>\n",
       "    <tr>\n",
       "      <th>20</th>\n",
       "      <td>200.000000</td>\n",
       "    </tr>\n",
       "    <tr>\n",
       "      <th>23</th>\n",
       "      <td>NaN</td>\n",
       "    </tr>\n",
       "    <tr>\n",
       "      <th>24</th>\n",
       "      <td>750.000000</td>\n",
       "    </tr>\n",
       "  </tbody>\n",
       "</table>\n",
       "</div>"
      ],
      "text/plain": [
       "                   Salary\n",
       "League Years             \n",
       "A      1       101.944444\n",
       "       2       128.055556\n",
       "       3       178.615385\n",
       "       4       269.423077\n",
       "       5       602.147059\n",
       "       6       630.441176\n",
       "       7       623.500000\n",
       "       8       767.395875\n",
       "       9       894.000000\n",
       "       10      831.468333\n",
       "       11      866.666667\n",
       "       12      516.428571\n",
       "       13     1104.166667\n",
       "       14     1019.494286\n",
       "       15      563.333250\n",
       "       16      480.000000\n",
       "       17      686.666667\n",
       "       18      509.166750\n",
       "       20      487.500000\n",
       "N      1       203.312500\n",
       "       2       283.861083\n",
       "       3       165.454545\n",
       "       4       371.833333\n",
       "       5       507.777778\n",
       "       6       613.757545\n",
       "       7       719.166643\n",
       "       8       462.222333\n",
       "       9       800.833286\n",
       "       10      581.666667\n",
       "       11      817.500000\n",
       "       12      770.555667\n",
       "       13     1141.392750\n",
       "       14      613.333400\n",
       "       15      652.777667\n",
       "       16      662.500000\n",
       "       17      546.666500\n",
       "       18     1450.000000\n",
       "       19      500.000000\n",
       "       20      200.000000\n",
       "       23             NaN\n",
       "       24      750.000000"
      ]
     },
     "execution_count": 24,
     "metadata": {},
     "output_type": "execute_result"
    }
   ],
   "source": [
    "# What is the average salary based on League and Years?\n",
    "# What is the average salary the player receives, grouped by league and total career years? \n",
    "df.groupby([\"League\",\"Years\"]).agg({\"Salary\": \"mean\"})"
   ]
  },
  {
   "cell_type": "code",
   "execution_count": 25,
   "metadata": {},
   "outputs": [
    {
     "data": {
      "text/html": [
       "<div>\n",
       "<style scoped>\n",
       "    .dataframe tbody tr th:only-of-type {\n",
       "        vertical-align: middle;\n",
       "    }\n",
       "\n",
       "    .dataframe tbody tr th {\n",
       "        vertical-align: top;\n",
       "    }\n",
       "\n",
       "    .dataframe thead th {\n",
       "        text-align: right;\n",
       "    }\n",
       "</style>\n",
       "<table border=\"1\" class=\"dataframe\">\n",
       "  <thead>\n",
       "    <tr style=\"text-align: right;\">\n",
       "      <th></th>\n",
       "      <th></th>\n",
       "      <th>Salary</th>\n",
       "    </tr>\n",
       "    <tr>\n",
       "      <th>NewLeague</th>\n",
       "      <th>Years</th>\n",
       "      <th></th>\n",
       "    </tr>\n",
       "  </thead>\n",
       "  <tbody>\n",
       "    <tr>\n",
       "      <th rowspan=\"19\" valign=\"top\">A</th>\n",
       "      <th>1</th>\n",
       "      <td>191.388889</td>\n",
       "    </tr>\n",
       "    <tr>\n",
       "      <th>2</th>\n",
       "      <td>124.722222</td>\n",
       "    </tr>\n",
       "    <tr>\n",
       "      <th>3</th>\n",
       "      <td>187.250000</td>\n",
       "    </tr>\n",
       "    <tr>\n",
       "      <th>4</th>\n",
       "      <td>265.178571</td>\n",
       "    </tr>\n",
       "    <tr>\n",
       "      <th>5</th>\n",
       "      <td>580.078947</td>\n",
       "    </tr>\n",
       "    <tr>\n",
       "      <th>6</th>\n",
       "      <td>630.441176</td>\n",
       "    </tr>\n",
       "    <tr>\n",
       "      <th>7</th>\n",
       "      <td>590.416667</td>\n",
       "    </tr>\n",
       "    <tr>\n",
       "      <th>8</th>\n",
       "      <td>767.395875</td>\n",
       "    </tr>\n",
       "    <tr>\n",
       "      <th>9</th>\n",
       "      <td>854.000000</td>\n",
       "    </tr>\n",
       "    <tr>\n",
       "      <th>10</th>\n",
       "      <td>837.762000</td>\n",
       "    </tr>\n",
       "    <tr>\n",
       "      <th>11</th>\n",
       "      <td>775.000000</td>\n",
       "    </tr>\n",
       "    <tr>\n",
       "      <th>12</th>\n",
       "      <td>516.428571</td>\n",
       "    </tr>\n",
       "    <tr>\n",
       "      <th>13</th>\n",
       "      <td>1275.000000</td>\n",
       "    </tr>\n",
       "    <tr>\n",
       "      <th>14</th>\n",
       "      <td>912.351429</td>\n",
       "    </tr>\n",
       "    <tr>\n",
       "      <th>15</th>\n",
       "      <td>563.333250</td>\n",
       "    </tr>\n",
       "    <tr>\n",
       "      <th>16</th>\n",
       "      <td>670.000000</td>\n",
       "    </tr>\n",
       "    <tr>\n",
       "      <th>17</th>\n",
       "      <td>686.666667</td>\n",
       "    </tr>\n",
       "    <tr>\n",
       "      <th>18</th>\n",
       "      <td>509.166750</td>\n",
       "    </tr>\n",
       "    <tr>\n",
       "      <th>20</th>\n",
       "      <td>487.500000</td>\n",
       "    </tr>\n",
       "    <tr>\n",
       "      <th rowspan=\"22\" valign=\"top\">N</th>\n",
       "      <th>1</th>\n",
       "      <td>102.687500</td>\n",
       "    </tr>\n",
       "    <tr>\n",
       "      <th>2</th>\n",
       "      <td>286.361083</td>\n",
       "    </tr>\n",
       "    <tr>\n",
       "      <th>3</th>\n",
       "      <td>157.916667</td>\n",
       "    </tr>\n",
       "    <tr>\n",
       "      <th>4</th>\n",
       "      <td>383.392857</td>\n",
       "    </tr>\n",
       "    <tr>\n",
       "      <th>5</th>\n",
       "      <td>540.714286</td>\n",
       "    </tr>\n",
       "    <tr>\n",
       "      <th>6</th>\n",
       "      <td>613.757545</td>\n",
       "    </tr>\n",
       "    <tr>\n",
       "      <th>7</th>\n",
       "      <td>741.794846</td>\n",
       "    </tr>\n",
       "    <tr>\n",
       "      <th>8</th>\n",
       "      <td>462.222333</td>\n",
       "    </tr>\n",
       "    <tr>\n",
       "      <th>9</th>\n",
       "      <td>829.404714</td>\n",
       "    </tr>\n",
       "    <tr>\n",
       "      <th>10</th>\n",
       "      <td>612.857143</td>\n",
       "    </tr>\n",
       "    <tr>\n",
       "      <th>11</th>\n",
       "      <td>896.875000</td>\n",
       "    </tr>\n",
       "    <tr>\n",
       "      <th>12</th>\n",
       "      <td>770.555667</td>\n",
       "    </tr>\n",
       "    <tr>\n",
       "      <th>13</th>\n",
       "      <td>1015.095167</td>\n",
       "    </tr>\n",
       "    <tr>\n",
       "      <th>14</th>\n",
       "      <td>763.333400</td>\n",
       "    </tr>\n",
       "    <tr>\n",
       "      <th>15</th>\n",
       "      <td>652.777667</td>\n",
       "    </tr>\n",
       "    <tr>\n",
       "      <th>16</th>\n",
       "      <td>275.000000</td>\n",
       "    </tr>\n",
       "    <tr>\n",
       "      <th>17</th>\n",
       "      <td>546.666500</td>\n",
       "    </tr>\n",
       "    <tr>\n",
       "      <th>18</th>\n",
       "      <td>1450.000000</td>\n",
       "    </tr>\n",
       "    <tr>\n",
       "      <th>19</th>\n",
       "      <td>500.000000</td>\n",
       "    </tr>\n",
       "    <tr>\n",
       "      <th>20</th>\n",
       "      <td>200.000000</td>\n",
       "    </tr>\n",
       "    <tr>\n",
       "      <th>23</th>\n",
       "      <td>NaN</td>\n",
       "    </tr>\n",
       "    <tr>\n",
       "      <th>24</th>\n",
       "      <td>750.000000</td>\n",
       "    </tr>\n",
       "  </tbody>\n",
       "</table>\n",
       "</div>"
      ],
      "text/plain": [
       "                      Salary\n",
       "NewLeague Years             \n",
       "A         1       191.388889\n",
       "          2       124.722222\n",
       "          3       187.250000\n",
       "          4       265.178571\n",
       "          5       580.078947\n",
       "          6       630.441176\n",
       "          7       590.416667\n",
       "          8       767.395875\n",
       "          9       854.000000\n",
       "          10      837.762000\n",
       "          11      775.000000\n",
       "          12      516.428571\n",
       "          13     1275.000000\n",
       "          14      912.351429\n",
       "          15      563.333250\n",
       "          16      670.000000\n",
       "          17      686.666667\n",
       "          18      509.166750\n",
       "          20      487.500000\n",
       "N         1       102.687500\n",
       "          2       286.361083\n",
       "          3       157.916667\n",
       "          4       383.392857\n",
       "          5       540.714286\n",
       "          6       613.757545\n",
       "          7       741.794846\n",
       "          8       462.222333\n",
       "          9       829.404714\n",
       "          10      612.857143\n",
       "          11      896.875000\n",
       "          12      770.555667\n",
       "          13     1015.095167\n",
       "          14      763.333400\n",
       "          15      652.777667\n",
       "          16      275.000000\n",
       "          17      546.666500\n",
       "          18     1450.000000\n",
       "          19      500.000000\n",
       "          20      200.000000\n",
       "          23             NaN\n",
       "          24      750.000000"
      ]
     },
     "execution_count": 25,
     "metadata": {},
     "output_type": "execute_result"
    }
   ],
   "source": [
    "# What is the average salary based on the league he played in 1987 and the duration of his career,grouped by NewLeague and Years variables?\n",
    "#  What is the average salary the player receives, grouped by new league and total career duration?\n",
    "df.groupby([\"NewLeague\",\"Years\"]).agg({\"Salary\": \"mean\"})"
   ]
  },
  {
   "cell_type": "code",
   "execution_count": 26,
   "metadata": {},
   "outputs": [
    {
     "data": {
      "text/html": [
       "<div>\n",
       "<style scoped>\n",
       "    .dataframe tbody tr th:only-of-type {\n",
       "        vertical-align: middle;\n",
       "    }\n",
       "\n",
       "    .dataframe tbody tr th {\n",
       "        vertical-align: top;\n",
       "    }\n",
       "\n",
       "    .dataframe thead th {\n",
       "        text-align: right;\n",
       "    }\n",
       "</style>\n",
       "<table border=\"1\" class=\"dataframe\">\n",
       "  <thead>\n",
       "    <tr style=\"text-align: right;\">\n",
       "      <th></th>\n",
       "      <th></th>\n",
       "      <th>Salary</th>\n",
       "    </tr>\n",
       "    <tr>\n",
       "      <th>Division</th>\n",
       "      <th>Years</th>\n",
       "      <th></th>\n",
       "    </tr>\n",
       "  </thead>\n",
       "  <tbody>\n",
       "    <tr>\n",
       "      <th rowspan=\"18\" valign=\"top\">E</th>\n",
       "      <th>1</th>\n",
       "      <td>80.000000</td>\n",
       "    </tr>\n",
       "    <tr>\n",
       "      <th>2</th>\n",
       "      <td>297.166636</td>\n",
       "    </tr>\n",
       "    <tr>\n",
       "      <th>3</th>\n",
       "      <td>146.666667</td>\n",
       "    </tr>\n",
       "    <tr>\n",
       "      <th>4</th>\n",
       "      <td>344.464286</td>\n",
       "    </tr>\n",
       "    <tr>\n",
       "      <th>5</th>\n",
       "      <td>692.142857</td>\n",
       "    </tr>\n",
       "    <tr>\n",
       "      <th>6</th>\n",
       "      <td>709.559500</td>\n",
       "    </tr>\n",
       "    <tr>\n",
       "      <th>7</th>\n",
       "      <td>749.083300</td>\n",
       "    </tr>\n",
       "    <tr>\n",
       "      <th>8</th>\n",
       "      <td>808.020875</td>\n",
       "    </tr>\n",
       "    <tr>\n",
       "      <th>9</th>\n",
       "      <td>1050.555500</td>\n",
       "    </tr>\n",
       "    <tr>\n",
       "      <th>10</th>\n",
       "      <td>820.773833</td>\n",
       "    </tr>\n",
       "    <tr>\n",
       "      <th>11</th>\n",
       "      <td>616.666667</td>\n",
       "    </tr>\n",
       "    <tr>\n",
       "      <th>12</th>\n",
       "      <td>620.833333</td>\n",
       "    </tr>\n",
       "    <tr>\n",
       "      <th>13</th>\n",
       "      <td>1222.258875</td>\n",
       "    </tr>\n",
       "    <tr>\n",
       "      <th>14</th>\n",
       "      <td>1045.486667</td>\n",
       "    </tr>\n",
       "    <tr>\n",
       "      <th>15</th>\n",
       "      <td>572.777667</td>\n",
       "    </tr>\n",
       "    <tr>\n",
       "      <th>16</th>\n",
       "      <td>662.500000</td>\n",
       "    </tr>\n",
       "    <tr>\n",
       "      <th>17</th>\n",
       "      <td>950.000000</td>\n",
       "    </tr>\n",
       "    <tr>\n",
       "      <th>18</th>\n",
       "      <td>570.555667</td>\n",
       "    </tr>\n",
       "    <tr>\n",
       "      <th rowspan=\"22\" valign=\"top\">W</th>\n",
       "      <th>1</th>\n",
       "      <td>178.666667</td>\n",
       "    </tr>\n",
       "    <tr>\n",
       "      <th>2</th>\n",
       "      <td>129.000000</td>\n",
       "    </tr>\n",
       "    <tr>\n",
       "      <th>3</th>\n",
       "      <td>188.133333</td>\n",
       "    </tr>\n",
       "    <tr>\n",
       "      <th>4</th>\n",
       "      <td>304.107143</td>\n",
       "    </tr>\n",
       "    <tr>\n",
       "      <th>5</th>\n",
       "      <td>426.375000</td>\n",
       "    </tr>\n",
       "    <tr>\n",
       "      <th>6</th>\n",
       "      <td>538.214286</td>\n",
       "    </tr>\n",
       "    <tr>\n",
       "      <th>7</th>\n",
       "      <td>632.777778</td>\n",
       "    </tr>\n",
       "    <tr>\n",
       "      <th>8</th>\n",
       "      <td>353.889000</td>\n",
       "    </tr>\n",
       "    <tr>\n",
       "      <th>9</th>\n",
       "      <td>628.750000</td>\n",
       "    </tr>\n",
       "    <tr>\n",
       "      <th>10</th>\n",
       "      <td>592.361167</td>\n",
       "    </tr>\n",
       "    <tr>\n",
       "      <th>11</th>\n",
       "      <td>967.500000</td>\n",
       "    </tr>\n",
       "    <tr>\n",
       "      <th>12</th>\n",
       "      <td>550.416750</td>\n",
       "    </tr>\n",
       "    <tr>\n",
       "      <th>13</th>\n",
       "      <td>706.250000</td>\n",
       "    </tr>\n",
       "    <tr>\n",
       "      <th>14</th>\n",
       "      <td>785.185222</td>\n",
       "    </tr>\n",
       "    <tr>\n",
       "      <th>15</th>\n",
       "      <td>775.000000</td>\n",
       "    </tr>\n",
       "    <tr>\n",
       "      <th>16</th>\n",
       "      <td>480.000000</td>\n",
       "    </tr>\n",
       "    <tr>\n",
       "      <th>17</th>\n",
       "      <td>550.833250</td>\n",
       "    </tr>\n",
       "    <tr>\n",
       "      <th>18</th>\n",
       "      <td>887.500000</td>\n",
       "    </tr>\n",
       "    <tr>\n",
       "      <th>19</th>\n",
       "      <td>500.000000</td>\n",
       "    </tr>\n",
       "    <tr>\n",
       "      <th>20</th>\n",
       "      <td>343.750000</td>\n",
       "    </tr>\n",
       "    <tr>\n",
       "      <th>23</th>\n",
       "      <td>NaN</td>\n",
       "    </tr>\n",
       "    <tr>\n",
       "      <th>24</th>\n",
       "      <td>750.000000</td>\n",
       "    </tr>\n",
       "  </tbody>\n",
       "</table>\n",
       "</div>"
      ],
      "text/plain": [
       "                     Salary\n",
       "Division Years             \n",
       "E        1        80.000000\n",
       "         2       297.166636\n",
       "         3       146.666667\n",
       "         4       344.464286\n",
       "         5       692.142857\n",
       "         6       709.559500\n",
       "         7       749.083300\n",
       "         8       808.020875\n",
       "         9      1050.555500\n",
       "         10      820.773833\n",
       "         11      616.666667\n",
       "         12      620.833333\n",
       "         13     1222.258875\n",
       "         14     1045.486667\n",
       "         15      572.777667\n",
       "         16      662.500000\n",
       "         17      950.000000\n",
       "         18      570.555667\n",
       "W        1       178.666667\n",
       "         2       129.000000\n",
       "         3       188.133333\n",
       "         4       304.107143\n",
       "         5       426.375000\n",
       "         6       538.214286\n",
       "         7       632.777778\n",
       "         8       353.889000\n",
       "         9       628.750000\n",
       "         10      592.361167\n",
       "         11      967.500000\n",
       "         12      550.416750\n",
       "         13      706.250000\n",
       "         14      785.185222\n",
       "         15      775.000000\n",
       "         16      480.000000\n",
       "         17      550.833250\n",
       "         18      887.500000\n",
       "         19      500.000000\n",
       "         20      343.750000\n",
       "         23             NaN\n",
       "         24      750.000000"
      ]
     },
     "execution_count": 26,
     "metadata": {},
     "output_type": "execute_result"
    }
   ],
   "source": [
    "# What is the average salary the players receive based on the region they play in?\n",
    "df.groupby([\"Division\",\"Years\"]).agg({\"Salary\": \"mean\"})"
   ]
  },
  {
   "cell_type": "code",
   "execution_count": 27,
   "metadata": {},
   "outputs": [
    {
     "data": {
      "text/html": [
       "<div>\n",
       "<style scoped>\n",
       "    .dataframe tbody tr th:only-of-type {\n",
       "        vertical-align: middle;\n",
       "    }\n",
       "\n",
       "    .dataframe tbody tr th {\n",
       "        vertical-align: top;\n",
       "    }\n",
       "\n",
       "    .dataframe thead th {\n",
       "        text-align: right;\n",
       "    }\n",
       "</style>\n",
       "<table border=\"1\" class=\"dataframe\">\n",
       "  <thead>\n",
       "    <tr style=\"text-align: right;\">\n",
       "      <th></th>\n",
       "      <th>AtBat</th>\n",
       "      <th>Hits</th>\n",
       "      <th>HmRun</th>\n",
       "      <th>Runs</th>\n",
       "      <th>RBI</th>\n",
       "      <th>Walks</th>\n",
       "      <th>Years</th>\n",
       "      <th>CAtBat</th>\n",
       "      <th>CHits</th>\n",
       "      <th>CHmRun</th>\n",
       "      <th>CRuns</th>\n",
       "      <th>CRBI</th>\n",
       "      <th>CWalks</th>\n",
       "      <th>League</th>\n",
       "      <th>Division</th>\n",
       "      <th>PutOuts</th>\n",
       "      <th>Assists</th>\n",
       "      <th>Errors</th>\n",
       "      <th>Salary</th>\n",
       "      <th>NewLeague</th>\n",
       "    </tr>\n",
       "  </thead>\n",
       "  <tbody>\n",
       "    <tr>\n",
       "      <th>236</th>\n",
       "      <td>237</td>\n",
       "      <td>52</td>\n",
       "      <td>0</td>\n",
       "      <td>15</td>\n",
       "      <td>25</td>\n",
       "      <td>30</td>\n",
       "      <td>24</td>\n",
       "      <td>14053</td>\n",
       "      <td>4256</td>\n",
       "      <td>160</td>\n",
       "      <td>2165</td>\n",
       "      <td>1314</td>\n",
       "      <td>1566</td>\n",
       "      <td>N</td>\n",
       "      <td>W</td>\n",
       "      <td>523</td>\n",
       "      <td>43</td>\n",
       "      <td>6</td>\n",
       "      <td>750.000</td>\n",
       "      <td>N</td>\n",
       "    </tr>\n",
       "    <tr>\n",
       "      <th>302</th>\n",
       "      <td>200</td>\n",
       "      <td>51</td>\n",
       "      <td>2</td>\n",
       "      <td>14</td>\n",
       "      <td>29</td>\n",
       "      <td>25</td>\n",
       "      <td>23</td>\n",
       "      <td>9778</td>\n",
       "      <td>2732</td>\n",
       "      <td>379</td>\n",
       "      <td>1272</td>\n",
       "      <td>1652</td>\n",
       "      <td>925</td>\n",
       "      <td>N</td>\n",
       "      <td>W</td>\n",
       "      <td>398</td>\n",
       "      <td>29</td>\n",
       "      <td>7</td>\n",
       "      <td>NaN</td>\n",
       "      <td>N</td>\n",
       "    </tr>\n",
       "    <tr>\n",
       "      <th>278</th>\n",
       "      <td>557</td>\n",
       "      <td>142</td>\n",
       "      <td>21</td>\n",
       "      <td>58</td>\n",
       "      <td>81</td>\n",
       "      <td>23</td>\n",
       "      <td>18</td>\n",
       "      <td>8759</td>\n",
       "      <td>2583</td>\n",
       "      <td>271</td>\n",
       "      <td>1138</td>\n",
       "      <td>1299</td>\n",
       "      <td>478</td>\n",
       "      <td>N</td>\n",
       "      <td>W</td>\n",
       "      <td>1160</td>\n",
       "      <td>53</td>\n",
       "      <td>7</td>\n",
       "      <td>1450.000</td>\n",
       "      <td>N</td>\n",
       "    </tr>\n",
       "    <tr>\n",
       "      <th>249</th>\n",
       "      <td>419</td>\n",
       "      <td>101</td>\n",
       "      <td>18</td>\n",
       "      <td>65</td>\n",
       "      <td>58</td>\n",
       "      <td>92</td>\n",
       "      <td>20</td>\n",
       "      <td>9528</td>\n",
       "      <td>2510</td>\n",
       "      <td>548</td>\n",
       "      <td>1509</td>\n",
       "      <td>1659</td>\n",
       "      <td>1342</td>\n",
       "      <td>A</td>\n",
       "      <td>W</td>\n",
       "      <td>0</td>\n",
       "      <td>0</td>\n",
       "      <td>0</td>\n",
       "      <td>487.500</td>\n",
       "      <td>A</td>\n",
       "    </tr>\n",
       "    <tr>\n",
       "      <th>24</th>\n",
       "      <td>629</td>\n",
       "      <td>168</td>\n",
       "      <td>18</td>\n",
       "      <td>73</td>\n",
       "      <td>102</td>\n",
       "      <td>40</td>\n",
       "      <td>18</td>\n",
       "      <td>8424</td>\n",
       "      <td>2464</td>\n",
       "      <td>164</td>\n",
       "      <td>1008</td>\n",
       "      <td>1072</td>\n",
       "      <td>402</td>\n",
       "      <td>A</td>\n",
       "      <td>E</td>\n",
       "      <td>1067</td>\n",
       "      <td>157</td>\n",
       "      <td>14</td>\n",
       "      <td>776.667</td>\n",
       "      <td>A</td>\n",
       "    </tr>\n",
       "    <tr>\n",
       "      <th>...</th>\n",
       "      <td>...</td>\n",
       "      <td>...</td>\n",
       "      <td>...</td>\n",
       "      <td>...</td>\n",
       "      <td>...</td>\n",
       "      <td>...</td>\n",
       "      <td>...</td>\n",
       "      <td>...</td>\n",
       "      <td>...</td>\n",
       "      <td>...</td>\n",
       "      <td>...</td>\n",
       "      <td>...</td>\n",
       "      <td>...</td>\n",
       "      <td>...</td>\n",
       "      <td>...</td>\n",
       "      <td>...</td>\n",
       "      <td>...</td>\n",
       "      <td>...</td>\n",
       "      <td>...</td>\n",
       "      <td>...</td>\n",
       "    </tr>\n",
       "    <tr>\n",
       "      <th>52</th>\n",
       "      <td>19</td>\n",
       "      <td>7</td>\n",
       "      <td>0</td>\n",
       "      <td>1</td>\n",
       "      <td>2</td>\n",
       "      <td>1</td>\n",
       "      <td>4</td>\n",
       "      <td>41</td>\n",
       "      <td>13</td>\n",
       "      <td>1</td>\n",
       "      <td>3</td>\n",
       "      <td>4</td>\n",
       "      <td>4</td>\n",
       "      <td>A</td>\n",
       "      <td>E</td>\n",
       "      <td>0</td>\n",
       "      <td>0</td>\n",
       "      <td>0</td>\n",
       "      <td>NaN</td>\n",
       "      <td>A</td>\n",
       "    </tr>\n",
       "    <tr>\n",
       "      <th>217</th>\n",
       "      <td>20</td>\n",
       "      <td>1</td>\n",
       "      <td>0</td>\n",
       "      <td>0</td>\n",
       "      <td>0</td>\n",
       "      <td>0</td>\n",
       "      <td>2</td>\n",
       "      <td>41</td>\n",
       "      <td>9</td>\n",
       "      <td>2</td>\n",
       "      <td>6</td>\n",
       "      <td>7</td>\n",
       "      <td>4</td>\n",
       "      <td>N</td>\n",
       "      <td>E</td>\n",
       "      <td>78</td>\n",
       "      <td>220</td>\n",
       "      <td>6</td>\n",
       "      <td>2127.333</td>\n",
       "      <td>N</td>\n",
       "    </tr>\n",
       "    <tr>\n",
       "      <th>250</th>\n",
       "      <td>33</td>\n",
       "      <td>6</td>\n",
       "      <td>0</td>\n",
       "      <td>2</td>\n",
       "      <td>4</td>\n",
       "      <td>7</td>\n",
       "      <td>1</td>\n",
       "      <td>33</td>\n",
       "      <td>6</td>\n",
       "      <td>0</td>\n",
       "      <td>2</td>\n",
       "      <td>4</td>\n",
       "      <td>7</td>\n",
       "      <td>A</td>\n",
       "      <td>W</td>\n",
       "      <td>205</td>\n",
       "      <td>5</td>\n",
       "      <td>4</td>\n",
       "      <td>NaN</td>\n",
       "      <td>A</td>\n",
       "    </tr>\n",
       "    <tr>\n",
       "      <th>283</th>\n",
       "      <td>16</td>\n",
       "      <td>2</td>\n",
       "      <td>0</td>\n",
       "      <td>1</td>\n",
       "      <td>0</td>\n",
       "      <td>0</td>\n",
       "      <td>2</td>\n",
       "      <td>28</td>\n",
       "      <td>4</td>\n",
       "      <td>0</td>\n",
       "      <td>1</td>\n",
       "      <td>0</td>\n",
       "      <td>0</td>\n",
       "      <td>A</td>\n",
       "      <td>E</td>\n",
       "      <td>247</td>\n",
       "      <td>4</td>\n",
       "      <td>8</td>\n",
       "      <td>NaN</td>\n",
       "      <td>A</td>\n",
       "    </tr>\n",
       "    <tr>\n",
       "      <th>295</th>\n",
       "      <td>19</td>\n",
       "      <td>4</td>\n",
       "      <td>1</td>\n",
       "      <td>2</td>\n",
       "      <td>3</td>\n",
       "      <td>1</td>\n",
       "      <td>1</td>\n",
       "      <td>19</td>\n",
       "      <td>4</td>\n",
       "      <td>1</td>\n",
       "      <td>2</td>\n",
       "      <td>3</td>\n",
       "      <td>1</td>\n",
       "      <td>N</td>\n",
       "      <td>W</td>\n",
       "      <td>692</td>\n",
       "      <td>70</td>\n",
       "      <td>8</td>\n",
       "      <td>920.000</td>\n",
       "      <td>A</td>\n",
       "    </tr>\n",
       "  </tbody>\n",
       "</table>\n",
       "<p>322 rows × 20 columns</p>\n",
       "</div>"
      ],
      "text/plain": [
       "     AtBat  Hits  HmRun  Runs  RBI  Walks  Years  CAtBat  CHits  CHmRun  \\\n",
       "236    237    52      0    15   25     30     24   14053   4256     160   \n",
       "302    200    51      2    14   29     25     23    9778   2732     379   \n",
       "278    557   142     21    58   81     23     18    8759   2583     271   \n",
       "249    419   101     18    65   58     92     20    9528   2510     548   \n",
       "24     629   168     18    73  102     40     18    8424   2464     164   \n",
       "..     ...   ...    ...   ...  ...    ...    ...     ...    ...     ...   \n",
       "52      19     7      0     1    2      1      4      41     13       1   \n",
       "217     20     1      0     0    0      0      2      41      9       2   \n",
       "250     33     6      0     2    4      7      1      33      6       0   \n",
       "283     16     2      0     1    0      0      2      28      4       0   \n",
       "295     19     4      1     2    3      1      1      19      4       1   \n",
       "\n",
       "     CRuns  CRBI  CWalks League Division  PutOuts  Assists  Errors    Salary  \\\n",
       "236   2165  1314    1566      N        W      523       43       6   750.000   \n",
       "302   1272  1652     925      N        W      398       29       7       NaN   \n",
       "278   1138  1299     478      N        W     1160       53       7  1450.000   \n",
       "249   1509  1659    1342      A        W        0        0       0   487.500   \n",
       "24    1008  1072     402      A        E     1067      157      14   776.667   \n",
       "..     ...   ...     ...    ...      ...      ...      ...     ...       ...   \n",
       "52       3     4       4      A        E        0        0       0       NaN   \n",
       "217      6     7       4      N        E       78      220       6  2127.333   \n",
       "250      2     4       7      A        W      205        5       4       NaN   \n",
       "283      1     0       0      A        E      247        4       8       NaN   \n",
       "295      2     3       1      N        W      692       70       8   920.000   \n",
       "\n",
       "    NewLeague  \n",
       "236         N  \n",
       "302         N  \n",
       "278         N  \n",
       "249         A  \n",
       "24          A  \n",
       "..        ...  \n",
       "52          A  \n",
       "217         N  \n",
       "250         A  \n",
       "283         A  \n",
       "295         A  \n",
       "\n",
       "[322 rows x 20 columns]"
      ]
     },
     "execution_count": 27,
     "metadata": {},
     "output_type": "execute_result"
    }
   ],
   "source": [
    "# The observation units with the highest number of hits during his career were accessed by ranking the data set in descending order.  \n",
    "df.sort_values(\"CHits\",ascending = False)"
   ]
  },
  {
   "cell_type": "code",
   "execution_count": 28,
   "metadata": {},
   "outputs": [
    {
     "data": {
      "text/html": [
       "<div>\n",
       "<style scoped>\n",
       "    .dataframe tbody tr th:only-of-type {\n",
       "        vertical-align: middle;\n",
       "    }\n",
       "\n",
       "    .dataframe tbody tr th {\n",
       "        vertical-align: top;\n",
       "    }\n",
       "\n",
       "    .dataframe thead th {\n",
       "        text-align: right;\n",
       "    }\n",
       "</style>\n",
       "<table border=\"1\" class=\"dataframe\">\n",
       "  <thead>\n",
       "    <tr style=\"text-align: right;\">\n",
       "      <th></th>\n",
       "      <th>CHits</th>\n",
       "    </tr>\n",
       "    <tr>\n",
       "      <th>League</th>\n",
       "      <th></th>\n",
       "    </tr>\n",
       "  </thead>\n",
       "  <tbody>\n",
       "    <tr>\n",
       "      <th>A</th>\n",
       "      <td>2510</td>\n",
       "    </tr>\n",
       "    <tr>\n",
       "      <th>N</th>\n",
       "      <td>4256</td>\n",
       "    </tr>\n",
       "  </tbody>\n",
       "</table>\n",
       "</div>"
      ],
      "text/plain": [
       "        CHits\n",
       "League       \n",
       "A        2510\n",
       "N        4256"
      ]
     },
     "execution_count": 28,
     "metadata": {},
     "output_type": "execute_result"
    }
   ],
   "source": [
    "# He was grouped by leagues and reached the maximum number of hits made during his career.\n",
    "df.groupby(\"League\").agg({\"CHits\": \"max\"})"
   ]
  },
  {
   "cell_type": "code",
   "execution_count": 29,
   "metadata": {},
   "outputs": [
    {
     "data": {
      "text/html": [
       "<div>\n",
       "<style scoped>\n",
       "    .dataframe tbody tr th:only-of-type {\n",
       "        vertical-align: middle;\n",
       "    }\n",
       "\n",
       "    .dataframe tbody tr th {\n",
       "        vertical-align: top;\n",
       "    }\n",
       "\n",
       "    .dataframe thead th {\n",
       "        text-align: right;\n",
       "    }\n",
       "</style>\n",
       "<table border=\"1\" class=\"dataframe\">\n",
       "  <thead>\n",
       "    <tr style=\"text-align: right;\">\n",
       "      <th></th>\n",
       "      <th>CHits</th>\n",
       "    </tr>\n",
       "    <tr>\n",
       "      <th>Division</th>\n",
       "      <th></th>\n",
       "    </tr>\n",
       "  </thead>\n",
       "  <tbody>\n",
       "    <tr>\n",
       "      <th>E</th>\n",
       "      <td>2464</td>\n",
       "    </tr>\n",
       "    <tr>\n",
       "      <th>W</th>\n",
       "      <td>4256</td>\n",
       "    </tr>\n",
       "  </tbody>\n",
       "</table>\n",
       "</div>"
      ],
      "text/plain": [
       "          CHits\n",
       "Division       \n",
       "E          2464\n",
       "W          4256"
      ]
     },
     "execution_count": 29,
     "metadata": {},
     "output_type": "execute_result"
    }
   ],
   "source": [
    "# Players are grouped according to the region they play and the maximum number of hits is reached during their career.\n",
    "df.groupby(\"Division\").agg({\"CHits\": \"max\"})"
   ]
  },
  {
   "cell_type": "code",
   "execution_count": 30,
   "metadata": {},
   "outputs": [
    {
     "data": {
      "text/html": [
       "<div>\n",
       "<style scoped>\n",
       "    .dataframe tbody tr th:only-of-type {\n",
       "        vertical-align: middle;\n",
       "    }\n",
       "\n",
       "    .dataframe tbody tr th {\n",
       "        vertical-align: top;\n",
       "    }\n",
       "\n",
       "    .dataframe thead th {\n",
       "        text-align: right;\n",
       "    }\n",
       "</style>\n",
       "<table border=\"1\" class=\"dataframe\">\n",
       "  <thead>\n",
       "    <tr style=\"text-align: right;\">\n",
       "      <th></th>\n",
       "      <th>Hits</th>\n",
       "    </tr>\n",
       "    <tr>\n",
       "      <th>League</th>\n",
       "      <th></th>\n",
       "    </tr>\n",
       "  </thead>\n",
       "  <tbody>\n",
       "    <tr>\n",
       "      <th>A</th>\n",
       "      <td>238</td>\n",
       "    </tr>\n",
       "    <tr>\n",
       "      <th>N</th>\n",
       "      <td>211</td>\n",
       "    </tr>\n",
       "  </tbody>\n",
       "</table>\n",
       "</div>"
      ],
      "text/plain": [
       "        Hits\n",
       "League      \n",
       "A        238\n",
       "N        211"
      ]
     },
     "execution_count": 30,
     "metadata": {},
     "output_type": "execute_result"
    }
   ],
   "source": [
    "# The maximum hit values in 1986 were reached by grouping them according to the league variable.\n",
    "df.groupby(\"League\").agg({\"Hits\": \"max\"})"
   ]
  },
  {
   "cell_type": "code",
   "execution_count": 31,
   "metadata": {},
   "outputs": [
    {
     "data": {
      "text/html": [
       "<div>\n",
       "<style scoped>\n",
       "    .dataframe tbody tr th:only-of-type {\n",
       "        vertical-align: middle;\n",
       "    }\n",
       "\n",
       "    .dataframe tbody tr th {\n",
       "        vertical-align: top;\n",
       "    }\n",
       "\n",
       "    .dataframe thead th {\n",
       "        text-align: right;\n",
       "    }\n",
       "</style>\n",
       "<table border=\"1\" class=\"dataframe\">\n",
       "  <thead>\n",
       "    <tr style=\"text-align: right;\">\n",
       "      <th></th>\n",
       "      <th>AtBat</th>\n",
       "    </tr>\n",
       "    <tr>\n",
       "      <th>League</th>\n",
       "      <th></th>\n",
       "    </tr>\n",
       "  </thead>\n",
       "  <tbody>\n",
       "    <tr>\n",
       "      <th>A</th>\n",
       "      <td>687</td>\n",
       "    </tr>\n",
       "    <tr>\n",
       "      <th>N</th>\n",
       "      <td>642</td>\n",
       "    </tr>\n",
       "  </tbody>\n",
       "</table>\n",
       "</div>"
      ],
      "text/plain": [
       "        AtBat\n",
       "League       \n",
       "A         687\n",
       "N         642"
      ]
     },
     "execution_count": 31,
     "metadata": {},
     "output_type": "execute_result"
    }
   ],
   "source": [
    "# The maximum number of innings with a baseball bat was reached in 1986, grouped by league variable.\n",
    "df.groupby(\"League\").agg({\"AtBat\": \"max\"})"
   ]
  },
  {
   "cell_type": "code",
   "execution_count": 32,
   "metadata": {},
   "outputs": [
    {
     "data": {
      "text/html": [
       "<div>\n",
       "<style scoped>\n",
       "    .dataframe tbody tr th:only-of-type {\n",
       "        vertical-align: middle;\n",
       "    }\n",
       "\n",
       "    .dataframe tbody tr th {\n",
       "        vertical-align: top;\n",
       "    }\n",
       "\n",
       "    .dataframe thead th {\n",
       "        text-align: right;\n",
       "    }\n",
       "</style>\n",
       "<table border=\"1\" class=\"dataframe\">\n",
       "  <thead>\n",
       "    <tr style=\"text-align: right;\">\n",
       "      <th></th>\n",
       "      <th>Years</th>\n",
       "    </tr>\n",
       "    <tr>\n",
       "      <th>League</th>\n",
       "      <th></th>\n",
       "    </tr>\n",
       "  </thead>\n",
       "  <tbody>\n",
       "    <tr>\n",
       "      <th>A</th>\n",
       "      <td>7.657143</td>\n",
       "    </tr>\n",
       "    <tr>\n",
       "      <th>N</th>\n",
       "      <td>7.190476</td>\n",
       "    </tr>\n",
       "  </tbody>\n",
       "</table>\n",
       "</div>"
      ],
      "text/plain": [
       "           Years\n",
       "League          \n",
       "A       7.657143\n",
       "N       7.190476"
      ]
     },
     "execution_count": 32,
     "metadata": {},
     "output_type": "execute_result"
    }
   ],
   "source": [
    "# Average values of career duration were grouped according to the league variable.\n",
    "df.groupby(\"League\").agg({\"Years\": \"mean\"})"
   ]
  },
  {
   "cell_type": "code",
   "execution_count": 33,
   "metadata": {},
   "outputs": [
    {
     "data": {
      "text/html": [
       "<div>\n",
       "<style scoped>\n",
       "    .dataframe tbody tr th:only-of-type {\n",
       "        vertical-align: middle;\n",
       "    }\n",
       "\n",
       "    .dataframe tbody tr th {\n",
       "        vertical-align: top;\n",
       "    }\n",
       "\n",
       "    .dataframe thead th {\n",
       "        text-align: right;\n",
       "    }\n",
       "</style>\n",
       "<table border=\"1\" class=\"dataframe\">\n",
       "  <thead>\n",
       "    <tr style=\"text-align: right;\">\n",
       "      <th></th>\n",
       "      <th>Years</th>\n",
       "    </tr>\n",
       "    <tr>\n",
       "      <th>League</th>\n",
       "      <th></th>\n",
       "    </tr>\n",
       "  </thead>\n",
       "  <tbody>\n",
       "    <tr>\n",
       "      <th>A</th>\n",
       "      <td>20</td>\n",
       "    </tr>\n",
       "    <tr>\n",
       "      <th>N</th>\n",
       "      <td>24</td>\n",
       "    </tr>\n",
       "  </tbody>\n",
       "</table>\n",
       "</div>"
      ],
      "text/plain": [
       "        Years\n",
       "League       \n",
       "A          20\n",
       "N          24"
      ]
     },
     "execution_count": 33,
     "metadata": {},
     "output_type": "execute_result"
    }
   ],
   "source": [
    "# The maximum values of career duration were reached by grouping by league variable.\n",
    "df.groupby(\"League\").agg({\"Years\": \"max\"})"
   ]
  },
  {
   "cell_type": "code",
   "execution_count": 34,
   "metadata": {},
   "outputs": [
    {
     "data": {
      "text/html": [
       "<div>\n",
       "<style scoped>\n",
       "    .dataframe tbody tr th:only-of-type {\n",
       "        vertical-align: middle;\n",
       "    }\n",
       "\n",
       "    .dataframe tbody tr th {\n",
       "        vertical-align: top;\n",
       "    }\n",
       "\n",
       "    .dataframe thead th {\n",
       "        text-align: right;\n",
       "    }\n",
       "</style>\n",
       "<table border=\"1\" class=\"dataframe\">\n",
       "  <thead>\n",
       "    <tr style=\"text-align: right;\">\n",
       "      <th></th>\n",
       "      <th>Errors</th>\n",
       "    </tr>\n",
       "    <tr>\n",
       "      <th>League</th>\n",
       "      <th></th>\n",
       "    </tr>\n",
       "  </thead>\n",
       "  <tbody>\n",
       "    <tr>\n",
       "      <th>A</th>\n",
       "      <td>7.582857</td>\n",
       "    </tr>\n",
       "    <tr>\n",
       "      <th>N</th>\n",
       "      <td>8.585034</td>\n",
       "    </tr>\n",
       "  </tbody>\n",
       "</table>\n",
       "</div>"
      ],
      "text/plain": [
       "          Errors\n",
       "League          \n",
       "A       7.582857\n",
       "N       8.585034"
      ]
     },
     "execution_count": 34,
     "metadata": {},
     "output_type": "execute_result"
    }
   ],
   "source": [
    "# The average values of how many errors are made in which league are grouped according to the league variable.\n",
    "df.groupby(\"League\").agg({\"Errors\": \"mean\"})"
   ]
  },
  {
   "cell_type": "code",
   "execution_count": 35,
   "metadata": {},
   "outputs": [
    {
     "data": {
      "text/html": [
       "<div>\n",
       "<style scoped>\n",
       "    .dataframe tbody tr th:only-of-type {\n",
       "        vertical-align: middle;\n",
       "    }\n",
       "\n",
       "    .dataframe tbody tr th {\n",
       "        vertical-align: top;\n",
       "    }\n",
       "\n",
       "    .dataframe thead th {\n",
       "        text-align: right;\n",
       "    }\n",
       "</style>\n",
       "<table border=\"1\" class=\"dataframe\">\n",
       "  <thead>\n",
       "    <tr style=\"text-align: right;\">\n",
       "      <th></th>\n",
       "      <th>Errors</th>\n",
       "    </tr>\n",
       "    <tr>\n",
       "      <th>League</th>\n",
       "      <th></th>\n",
       "    </tr>\n",
       "  </thead>\n",
       "  <tbody>\n",
       "    <tr>\n",
       "      <th>A</th>\n",
       "      <td>26</td>\n",
       "    </tr>\n",
       "    <tr>\n",
       "      <th>N</th>\n",
       "      <td>32</td>\n",
       "    </tr>\n",
       "  </tbody>\n",
       "</table>\n",
       "</div>"
      ],
      "text/plain": [
       "        Errors\n",
       "League        \n",
       "A           26\n",
       "N           32"
      ]
     },
     "execution_count": 35,
     "metadata": {},
     "output_type": "execute_result"
    }
   ],
   "source": [
    "# The maximum values of how many errors are made in the league are reached by grouping them according to the league variable.\n",
    "df.groupby(\"League\").agg({\"Errors\": \"max\"})"
   ]
  },
  {
   "cell_type": "code",
   "execution_count": 36,
   "metadata": {},
   "outputs": [
    {
     "data": {
      "text/html": [
       "<div>\n",
       "<style scoped>\n",
       "    .dataframe tbody tr th:only-of-type {\n",
       "        vertical-align: middle;\n",
       "    }\n",
       "\n",
       "    .dataframe tbody tr th {\n",
       "        vertical-align: top;\n",
       "    }\n",
       "\n",
       "    .dataframe thead th {\n",
       "        text-align: right;\n",
       "    }\n",
       "</style>\n",
       "<table border=\"1\" class=\"dataframe\">\n",
       "  <thead>\n",
       "    <tr style=\"text-align: right;\">\n",
       "      <th></th>\n",
       "      <th>PutOuts</th>\n",
       "    </tr>\n",
       "    <tr>\n",
       "      <th>League</th>\n",
       "      <th></th>\n",
       "    </tr>\n",
       "  </thead>\n",
       "  <tbody>\n",
       "    <tr>\n",
       "      <th>A</th>\n",
       "      <td>1377</td>\n",
       "    </tr>\n",
       "    <tr>\n",
       "      <th>N</th>\n",
       "      <td>1378</td>\n",
       "    </tr>\n",
       "  </tbody>\n",
       "</table>\n",
       "</div>"
      ],
      "text/plain": [
       "        PutOuts\n",
       "League         \n",
       "A          1377\n",
       "N          1378"
      ]
     },
     "execution_count": 36,
     "metadata": {},
     "output_type": "execute_result"
    }
   ],
   "source": [
    "df.groupby(\"League\").agg({\"PutOuts\": \"max\"})"
   ]
  },
  {
   "cell_type": "code",
   "execution_count": 37,
   "metadata": {},
   "outputs": [
    {
     "data": {
      "text/html": [
       "<div>\n",
       "<style scoped>\n",
       "    .dataframe tbody tr th:only-of-type {\n",
       "        vertical-align: middle;\n",
       "    }\n",
       "\n",
       "    .dataframe tbody tr th {\n",
       "        vertical-align: top;\n",
       "    }\n",
       "\n",
       "    .dataframe thead th {\n",
       "        text-align: right;\n",
       "    }\n",
       "</style>\n",
       "<table border=\"1\" class=\"dataframe\">\n",
       "  <thead>\n",
       "    <tr style=\"text-align: right;\">\n",
       "      <th></th>\n",
       "      <th>Assists</th>\n",
       "    </tr>\n",
       "    <tr>\n",
       "      <th>League</th>\n",
       "      <th></th>\n",
       "    </tr>\n",
       "  </thead>\n",
       "  <tbody>\n",
       "    <tr>\n",
       "      <th>A</th>\n",
       "      <td>482</td>\n",
       "    </tr>\n",
       "    <tr>\n",
       "      <th>N</th>\n",
       "      <td>492</td>\n",
       "    </tr>\n",
       "  </tbody>\n",
       "</table>\n",
       "</div>"
      ],
      "text/plain": [
       "        Assists\n",
       "League         \n",
       "A           482\n",
       "N           492"
      ]
     },
     "execution_count": 37,
     "metadata": {},
     "output_type": "execute_result"
    }
   ],
   "source": [
    "# The maximum number of assists in leagues is reached by grouping them according to the league variable.\n",
    "df.groupby(\"League\").agg({\"Assists\": \"max\"})"
   ]
  },
  {
   "cell_type": "code",
   "execution_count": 38,
   "metadata": {},
   "outputs": [
    {
     "data": {
      "text/html": [
       "<div>\n",
       "<style scoped>\n",
       "    .dataframe tbody tr th:only-of-type {\n",
       "        vertical-align: middle;\n",
       "    }\n",
       "\n",
       "    .dataframe tbody tr th {\n",
       "        vertical-align: top;\n",
       "    }\n",
       "\n",
       "    .dataframe thead th {\n",
       "        text-align: right;\n",
       "    }\n",
       "</style>\n",
       "<table border=\"1\" class=\"dataframe\">\n",
       "  <thead>\n",
       "    <tr style=\"text-align: right;\">\n",
       "      <th></th>\n",
       "      <th>CAtBat</th>\n",
       "    </tr>\n",
       "    <tr>\n",
       "      <th>Years</th>\n",
       "      <th></th>\n",
       "    </tr>\n",
       "  </thead>\n",
       "  <tbody>\n",
       "    <tr>\n",
       "      <th>1</th>\n",
       "      <td>593</td>\n",
       "    </tr>\n",
       "    <tr>\n",
       "      <th>2</th>\n",
       "      <td>1236</td>\n",
       "    </tr>\n",
       "    <tr>\n",
       "      <th>3</th>\n",
       "      <td>1928</td>\n",
       "    </tr>\n",
       "    <tr>\n",
       "      <th>4</th>\n",
       "      <td>2020</td>\n",
       "    </tr>\n",
       "    <tr>\n",
       "      <th>5</th>\n",
       "      <td>2778</td>\n",
       "    </tr>\n",
       "    <tr>\n",
       "      <th>6</th>\n",
       "      <td>3210</td>\n",
       "    </tr>\n",
       "    <tr>\n",
       "      <th>7</th>\n",
       "      <td>3754</td>\n",
       "    </tr>\n",
       "    <tr>\n",
       "      <th>8</th>\n",
       "      <td>4071</td>\n",
       "    </tr>\n",
       "    <tr>\n",
       "      <th>9</th>\n",
       "      <td>4739</td>\n",
       "    </tr>\n",
       "    <tr>\n",
       "      <th>10</th>\n",
       "      <td>5624</td>\n",
       "    </tr>\n",
       "    <tr>\n",
       "      <th>11</th>\n",
       "      <td>5628</td>\n",
       "    </tr>\n",
       "    <tr>\n",
       "      <th>12</th>\n",
       "      <td>5511</td>\n",
       "    </tr>\n",
       "    <tr>\n",
       "      <th>13</th>\n",
       "      <td>7127</td>\n",
       "    </tr>\n",
       "    <tr>\n",
       "      <th>14</th>\n",
       "      <td>7287</td>\n",
       "    </tr>\n",
       "    <tr>\n",
       "      <th>15</th>\n",
       "      <td>8068</td>\n",
       "    </tr>\n",
       "    <tr>\n",
       "      <th>16</th>\n",
       "      <td>7099</td>\n",
       "    </tr>\n",
       "    <tr>\n",
       "      <th>17</th>\n",
       "      <td>8247</td>\n",
       "    </tr>\n",
       "    <tr>\n",
       "      <th>18</th>\n",
       "      <td>8759</td>\n",
       "    </tr>\n",
       "    <tr>\n",
       "      <th>19</th>\n",
       "      <td>8396</td>\n",
       "    </tr>\n",
       "    <tr>\n",
       "      <th>20</th>\n",
       "      <td>9528</td>\n",
       "    </tr>\n",
       "    <tr>\n",
       "      <th>23</th>\n",
       "      <td>9778</td>\n",
       "    </tr>\n",
       "    <tr>\n",
       "      <th>24</th>\n",
       "      <td>14053</td>\n",
       "    </tr>\n",
       "  </tbody>\n",
       "</table>\n",
       "</div>"
      ],
      "text/plain": [
       "       CAtBat\n",
       "Years        \n",
       "1         593\n",
       "2        1236\n",
       "3        1928\n",
       "4        2020\n",
       "5        2778\n",
       "6        3210\n",
       "7        3754\n",
       "8        4071\n",
       "9        4739\n",
       "10       5624\n",
       "11       5628\n",
       "12       5511\n",
       "13       7127\n",
       "14       7287\n",
       "15       8068\n",
       "16       7099\n",
       "17       8247\n",
       "18       8759\n",
       "19       8396\n",
       "20       9528\n",
       "23       9778\n",
       "24      14053"
      ]
     },
     "execution_count": 38,
     "metadata": {},
     "output_type": "execute_result"
    }
   ],
   "source": [
    "df.groupby(\"Years\").agg({\"CAtBat\": \"max\"})"
   ]
  },
  {
   "cell_type": "code",
   "execution_count": 39,
   "metadata": {},
   "outputs": [
    {
     "data": {
      "text/html": [
       "<div>\n",
       "<style scoped>\n",
       "    .dataframe tbody tr th:only-of-type {\n",
       "        vertical-align: middle;\n",
       "    }\n",
       "\n",
       "    .dataframe tbody tr th {\n",
       "        vertical-align: top;\n",
       "    }\n",
       "\n",
       "    .dataframe thead th {\n",
       "        text-align: right;\n",
       "    }\n",
       "</style>\n",
       "<table border=\"1\" class=\"dataframe\">\n",
       "  <thead>\n",
       "    <tr style=\"text-align: right;\">\n",
       "      <th></th>\n",
       "      <th></th>\n",
       "      <th>CAtBat</th>\n",
       "    </tr>\n",
       "    <tr>\n",
       "      <th>League</th>\n",
       "      <th>Years</th>\n",
       "      <th></th>\n",
       "    </tr>\n",
       "  </thead>\n",
       "  <tbody>\n",
       "    <tr>\n",
       "      <th rowspan=\"19\" valign=\"top\">A</th>\n",
       "      <th>1</th>\n",
       "      <td>593</td>\n",
       "    </tr>\n",
       "    <tr>\n",
       "      <th>2</th>\n",
       "      <td>1038</td>\n",
       "    </tr>\n",
       "    <tr>\n",
       "      <th>3</th>\n",
       "      <td>1928</td>\n",
       "    </tr>\n",
       "    <tr>\n",
       "      <th>4</th>\n",
       "      <td>1716</td>\n",
       "    </tr>\n",
       "    <tr>\n",
       "      <th>5</th>\n",
       "      <td>2778</td>\n",
       "    </tr>\n",
       "    <tr>\n",
       "      <th>6</th>\n",
       "      <td>3210</td>\n",
       "    </tr>\n",
       "    <tr>\n",
       "      <th>7</th>\n",
       "      <td>3754</td>\n",
       "    </tr>\n",
       "    <tr>\n",
       "      <th>8</th>\n",
       "      <td>4071</td>\n",
       "    </tr>\n",
       "    <tr>\n",
       "      <th>9</th>\n",
       "      <td>4478</td>\n",
       "    </tr>\n",
       "    <tr>\n",
       "      <th>10</th>\n",
       "      <td>5624</td>\n",
       "    </tr>\n",
       "    <tr>\n",
       "      <th>11</th>\n",
       "      <td>4908</td>\n",
       "    </tr>\n",
       "    <tr>\n",
       "      <th>12</th>\n",
       "      <td>5511</td>\n",
       "    </tr>\n",
       "    <tr>\n",
       "      <th>13</th>\n",
       "      <td>7127</td>\n",
       "    </tr>\n",
       "    <tr>\n",
       "      <th>14</th>\n",
       "      <td>7287</td>\n",
       "    </tr>\n",
       "    <tr>\n",
       "      <th>15</th>\n",
       "      <td>6661</td>\n",
       "    </tr>\n",
       "    <tr>\n",
       "      <th>16</th>\n",
       "      <td>7099</td>\n",
       "    </tr>\n",
       "    <tr>\n",
       "      <th>17</th>\n",
       "      <td>7546</td>\n",
       "    </tr>\n",
       "    <tr>\n",
       "      <th>18</th>\n",
       "      <td>8424</td>\n",
       "    </tr>\n",
       "    <tr>\n",
       "      <th>20</th>\n",
       "      <td>9528</td>\n",
       "    </tr>\n",
       "    <tr>\n",
       "      <th rowspan=\"22\" valign=\"top\">N</th>\n",
       "      <th>1</th>\n",
       "      <td>549</td>\n",
       "    </tr>\n",
       "    <tr>\n",
       "      <th>2</th>\n",
       "      <td>1236</td>\n",
       "    </tr>\n",
       "    <tr>\n",
       "      <th>3</th>\n",
       "      <td>1399</td>\n",
       "    </tr>\n",
       "    <tr>\n",
       "      <th>4</th>\n",
       "      <td>2020</td>\n",
       "    </tr>\n",
       "    <tr>\n",
       "      <th>5</th>\n",
       "      <td>2703</td>\n",
       "    </tr>\n",
       "    <tr>\n",
       "      <th>6</th>\n",
       "      <td>3146</td>\n",
       "    </tr>\n",
       "    <tr>\n",
       "      <th>7</th>\n",
       "      <td>3358</td>\n",
       "    </tr>\n",
       "    <tr>\n",
       "      <th>8</th>\n",
       "      <td>3372</td>\n",
       "    </tr>\n",
       "    <tr>\n",
       "      <th>9</th>\n",
       "      <td>4739</td>\n",
       "    </tr>\n",
       "    <tr>\n",
       "      <th>10</th>\n",
       "      <td>4086</td>\n",
       "    </tr>\n",
       "    <tr>\n",
       "      <th>11</th>\n",
       "      <td>5628</td>\n",
       "    </tr>\n",
       "    <tr>\n",
       "      <th>12</th>\n",
       "      <td>4992</td>\n",
       "    </tr>\n",
       "    <tr>\n",
       "      <th>13</th>\n",
       "      <td>6090</td>\n",
       "    </tr>\n",
       "    <tr>\n",
       "      <th>14</th>\n",
       "      <td>6727</td>\n",
       "    </tr>\n",
       "    <tr>\n",
       "      <th>15</th>\n",
       "      <td>8068</td>\n",
       "    </tr>\n",
       "    <tr>\n",
       "      <th>16</th>\n",
       "      <td>7058</td>\n",
       "    </tr>\n",
       "    <tr>\n",
       "      <th>17</th>\n",
       "      <td>8247</td>\n",
       "    </tr>\n",
       "    <tr>\n",
       "      <th>18</th>\n",
       "      <td>8759</td>\n",
       "    </tr>\n",
       "    <tr>\n",
       "      <th>19</th>\n",
       "      <td>8396</td>\n",
       "    </tr>\n",
       "    <tr>\n",
       "      <th>20</th>\n",
       "      <td>8716</td>\n",
       "    </tr>\n",
       "    <tr>\n",
       "      <th>23</th>\n",
       "      <td>9778</td>\n",
       "    </tr>\n",
       "    <tr>\n",
       "      <th>24</th>\n",
       "      <td>14053</td>\n",
       "    </tr>\n",
       "  </tbody>\n",
       "</table>\n",
       "</div>"
      ],
      "text/plain": [
       "              CAtBat\n",
       "League Years        \n",
       "A      1         593\n",
       "       2        1038\n",
       "       3        1928\n",
       "       4        1716\n",
       "       5        2778\n",
       "       6        3210\n",
       "       7        3754\n",
       "       8        4071\n",
       "       9        4478\n",
       "       10       5624\n",
       "       11       4908\n",
       "       12       5511\n",
       "       13       7127\n",
       "       14       7287\n",
       "       15       6661\n",
       "       16       7099\n",
       "       17       7546\n",
       "       18       8424\n",
       "       20       9528\n",
       "N      1         549\n",
       "       2        1236\n",
       "       3        1399\n",
       "       4        2020\n",
       "       5        2703\n",
       "       6        3146\n",
       "       7        3358\n",
       "       8        3372\n",
       "       9        4739\n",
       "       10       4086\n",
       "       11       5628\n",
       "       12       4992\n",
       "       13       6090\n",
       "       14       6727\n",
       "       15       8068\n",
       "       16       7058\n",
       "       17       8247\n",
       "       18       8759\n",
       "       19       8396\n",
       "       20       8716\n",
       "       23       9778\n",
       "       24      14053"
      ]
     },
     "execution_count": 39,
     "metadata": {},
     "output_type": "execute_result"
    }
   ],
   "source": [
    "df.groupby([\"League\", \"Years\"]).agg({\"CAtBat\": \"max\"})"
   ]
  },
  {
   "cell_type": "code",
   "execution_count": 40,
   "metadata": {},
   "outputs": [
    {
     "data": {
      "text/html": [
       "<div>\n",
       "<style scoped>\n",
       "    .dataframe tbody tr th:only-of-type {\n",
       "        vertical-align: middle;\n",
       "    }\n",
       "\n",
       "    .dataframe tbody tr th {\n",
       "        vertical-align: top;\n",
       "    }\n",
       "\n",
       "    .dataframe thead th {\n",
       "        text-align: right;\n",
       "    }\n",
       "</style>\n",
       "<table border=\"1\" class=\"dataframe\">\n",
       "  <thead>\n",
       "    <tr style=\"text-align: right;\">\n",
       "      <th></th>\n",
       "      <th>CAtBat</th>\n",
       "    </tr>\n",
       "    <tr>\n",
       "      <th>League</th>\n",
       "      <th></th>\n",
       "    </tr>\n",
       "  </thead>\n",
       "  <tbody>\n",
       "    <tr>\n",
       "      <th>A</th>\n",
       "      <td>2709.805714</td>\n",
       "    </tr>\n",
       "    <tr>\n",
       "      <th>N</th>\n",
       "      <td>2575.918367</td>\n",
       "    </tr>\n",
       "  </tbody>\n",
       "</table>\n",
       "</div>"
      ],
      "text/plain": [
       "             CAtBat\n",
       "League             \n",
       "A       2709.805714\n",
       "N       2575.918367"
      ]
     },
     "execution_count": 40,
     "metadata": {},
     "output_type": "execute_result"
    }
   ],
   "source": [
    "df.groupby(\"League\").agg({\"CAtBat\": \"mean\"})"
   ]
  },
  {
   "cell_type": "markdown",
   "metadata": {},
   "source": [
    "# 2) Data Preprocessing"
   ]
  },
  {
   "cell_type": "markdown",
   "metadata": {},
   "source": [
    "### 1) Creating New Variables\n",
    "\n",
    "Creating new variables is important for models. But you need to create a logical new variable. This data set contains variables linked to the player's career and includes career duration. In this case **career-related variables / career duration** is done, a logical variable can be created by obtaining average values for the player. We'll be addressing that in the process below."
   ]
  },
  {
   "cell_type": "code",
   "execution_count": 41,
   "metadata": {},
   "outputs": [
    {
     "data": {
      "text/html": [
       "<div>\n",
       "<style scoped>\n",
       "    .dataframe tbody tr th:only-of-type {\n",
       "        vertical-align: middle;\n",
       "    }\n",
       "\n",
       "    .dataframe tbody tr th {\n",
       "        vertical-align: top;\n",
       "    }\n",
       "\n",
       "    .dataframe thead th {\n",
       "        text-align: right;\n",
       "    }\n",
       "</style>\n",
       "<table border=\"1\" class=\"dataframe\">\n",
       "  <thead>\n",
       "    <tr style=\"text-align: right;\">\n",
       "      <th></th>\n",
       "      <th>AtBat</th>\n",
       "      <th>Hits</th>\n",
       "      <th>HmRun</th>\n",
       "      <th>Runs</th>\n",
       "      <th>RBI</th>\n",
       "      <th>Walks</th>\n",
       "      <th>Years</th>\n",
       "      <th>CAtBat</th>\n",
       "      <th>CHits</th>\n",
       "      <th>CHmRun</th>\n",
       "      <th>...</th>\n",
       "      <th>Assists</th>\n",
       "      <th>Errors</th>\n",
       "      <th>Salary</th>\n",
       "      <th>NewLeague</th>\n",
       "      <th>OrtCAtBat</th>\n",
       "      <th>OrtCHits</th>\n",
       "      <th>OrtCHmRun</th>\n",
       "      <th>OrtCruns</th>\n",
       "      <th>OrtCRBI</th>\n",
       "      <th>OrtCWalks</th>\n",
       "    </tr>\n",
       "  </thead>\n",
       "  <tbody>\n",
       "    <tr>\n",
       "      <th>0</th>\n",
       "      <td>293</td>\n",
       "      <td>66</td>\n",
       "      <td>1</td>\n",
       "      <td>30</td>\n",
       "      <td>29</td>\n",
       "      <td>14</td>\n",
       "      <td>1</td>\n",
       "      <td>293</td>\n",
       "      <td>66</td>\n",
       "      <td>1</td>\n",
       "      <td>...</td>\n",
       "      <td>33</td>\n",
       "      <td>20</td>\n",
       "      <td>NaN</td>\n",
       "      <td>A</td>\n",
       "      <td>293.000000</td>\n",
       "      <td>66.000000</td>\n",
       "      <td>1.000000</td>\n",
       "      <td>30.000000</td>\n",
       "      <td>29.000000</td>\n",
       "      <td>14.000000</td>\n",
       "    </tr>\n",
       "    <tr>\n",
       "      <th>1</th>\n",
       "      <td>315</td>\n",
       "      <td>81</td>\n",
       "      <td>7</td>\n",
       "      <td>24</td>\n",
       "      <td>38</td>\n",
       "      <td>39</td>\n",
       "      <td>14</td>\n",
       "      <td>3449</td>\n",
       "      <td>835</td>\n",
       "      <td>69</td>\n",
       "      <td>...</td>\n",
       "      <td>43</td>\n",
       "      <td>10</td>\n",
       "      <td>475.0</td>\n",
       "      <td>N</td>\n",
       "      <td>246.357143</td>\n",
       "      <td>59.642857</td>\n",
       "      <td>4.928571</td>\n",
       "      <td>22.928571</td>\n",
       "      <td>29.571429</td>\n",
       "      <td>26.785714</td>\n",
       "    </tr>\n",
       "    <tr>\n",
       "      <th>2</th>\n",
       "      <td>479</td>\n",
       "      <td>130</td>\n",
       "      <td>18</td>\n",
       "      <td>66</td>\n",
       "      <td>72</td>\n",
       "      <td>76</td>\n",
       "      <td>3</td>\n",
       "      <td>1624</td>\n",
       "      <td>457</td>\n",
       "      <td>63</td>\n",
       "      <td>...</td>\n",
       "      <td>82</td>\n",
       "      <td>14</td>\n",
       "      <td>480.0</td>\n",
       "      <td>A</td>\n",
       "      <td>541.333333</td>\n",
       "      <td>152.333333</td>\n",
       "      <td>21.000000</td>\n",
       "      <td>74.666667</td>\n",
       "      <td>88.666667</td>\n",
       "      <td>87.666667</td>\n",
       "    </tr>\n",
       "    <tr>\n",
       "      <th>3</th>\n",
       "      <td>496</td>\n",
       "      <td>141</td>\n",
       "      <td>20</td>\n",
       "      <td>65</td>\n",
       "      <td>78</td>\n",
       "      <td>37</td>\n",
       "      <td>11</td>\n",
       "      <td>5628</td>\n",
       "      <td>1575</td>\n",
       "      <td>225</td>\n",
       "      <td>...</td>\n",
       "      <td>11</td>\n",
       "      <td>3</td>\n",
       "      <td>500.0</td>\n",
       "      <td>N</td>\n",
       "      <td>511.636364</td>\n",
       "      <td>143.181818</td>\n",
       "      <td>20.454545</td>\n",
       "      <td>75.272727</td>\n",
       "      <td>76.181818</td>\n",
       "      <td>32.181818</td>\n",
       "    </tr>\n",
       "    <tr>\n",
       "      <th>4</th>\n",
       "      <td>321</td>\n",
       "      <td>87</td>\n",
       "      <td>10</td>\n",
       "      <td>39</td>\n",
       "      <td>42</td>\n",
       "      <td>30</td>\n",
       "      <td>2</td>\n",
       "      <td>396</td>\n",
       "      <td>101</td>\n",
       "      <td>12</td>\n",
       "      <td>...</td>\n",
       "      <td>40</td>\n",
       "      <td>4</td>\n",
       "      <td>91.5</td>\n",
       "      <td>N</td>\n",
       "      <td>198.000000</td>\n",
       "      <td>50.500000</td>\n",
       "      <td>6.000000</td>\n",
       "      <td>24.000000</td>\n",
       "      <td>23.000000</td>\n",
       "      <td>16.500000</td>\n",
       "    </tr>\n",
       "  </tbody>\n",
       "</table>\n",
       "<p>5 rows × 26 columns</p>\n",
       "</div>"
      ],
      "text/plain": [
       "   AtBat  Hits  HmRun  Runs  RBI  Walks  Years  CAtBat  CHits  CHmRun  ...  \\\n",
       "0    293    66      1    30   29     14      1     293     66       1  ...   \n",
       "1    315    81      7    24   38     39     14    3449    835      69  ...   \n",
       "2    479   130     18    66   72     76      3    1624    457      63  ...   \n",
       "3    496   141     20    65   78     37     11    5628   1575     225  ...   \n",
       "4    321    87     10    39   42     30      2     396    101      12  ...   \n",
       "\n",
       "   Assists  Errors  Salary NewLeague   OrtCAtBat    OrtCHits  OrtCHmRun  \\\n",
       "0       33      20     NaN         A  293.000000   66.000000   1.000000   \n",
       "1       43      10   475.0         N  246.357143   59.642857   4.928571   \n",
       "2       82      14   480.0         A  541.333333  152.333333  21.000000   \n",
       "3       11       3   500.0         N  511.636364  143.181818  20.454545   \n",
       "4       40       4    91.5         N  198.000000   50.500000   6.000000   \n",
       "\n",
       "    OrtCruns    OrtCRBI  OrtCWalks  \n",
       "0  30.000000  29.000000  14.000000  \n",
       "1  22.928571  29.571429  26.785714  \n",
       "2  74.666667  88.666667  87.666667  \n",
       "3  75.272727  76.181818  32.181818  \n",
       "4  24.000000  23.000000  16.500000  \n",
       "\n",
       "[5 rows x 26 columns]"
      ]
     },
     "execution_count": 41,
     "metadata": {},
     "output_type": "execute_result"
    }
   ],
   "source": [
    "# The variables related to their careers were divided into career years and new values were created in the data set by obtaining average values.\n",
    "df[\"OrtCAtBat\"] = df[\"CAtBat\"] / df[\"Years\"]\n",
    "df[\"OrtCHits\"] = df[\"CHits\"] / df[\"Years\"]\n",
    "df[\"OrtCHmRun\"] = df[\"CHmRun\"] / df[\"Years\"]\n",
    "df[\"OrtCruns\"] = df[\"CRuns\"] / df[\"Years\"]\n",
    "df[\"OrtCRBI\"] = df[\"CRBI\"] / df[\"Years\"]\n",
    "df[\"OrtCWalks\"] = cwalks = df[\"CWalks\"] / df[\"Years\"]\n",
    "df.head()"
   ]
  },
  {
   "cell_type": "code",
   "execution_count": 42,
   "metadata": {},
   "outputs": [],
   "source": [
    "# Based on some trials and correlation results, we subtract variables that do not contribute to the model from our data set.\n",
    "df = df.drop(['AtBat','Hits','HmRun','Runs','RBI','Walks','Assists','Errors',\"PutOuts\",'League','NewLeague', 'Division'], axis=1)"
   ]
  },
  {
   "cell_type": "code",
   "execution_count": 43,
   "metadata": {},
   "outputs": [
    {
     "data": {
      "text/html": [
       "<div>\n",
       "<style scoped>\n",
       "    .dataframe tbody tr th:only-of-type {\n",
       "        vertical-align: middle;\n",
       "    }\n",
       "\n",
       "    .dataframe tbody tr th {\n",
       "        vertical-align: top;\n",
       "    }\n",
       "\n",
       "    .dataframe thead th {\n",
       "        text-align: right;\n",
       "    }\n",
       "</style>\n",
       "<table border=\"1\" class=\"dataframe\">\n",
       "  <thead>\n",
       "    <tr style=\"text-align: right;\">\n",
       "      <th></th>\n",
       "      <th>Years</th>\n",
       "      <th>CAtBat</th>\n",
       "      <th>CHits</th>\n",
       "      <th>CHmRun</th>\n",
       "      <th>CRuns</th>\n",
       "      <th>CRBI</th>\n",
       "      <th>CWalks</th>\n",
       "      <th>Salary</th>\n",
       "      <th>OrtCAtBat</th>\n",
       "      <th>OrtCHits</th>\n",
       "      <th>OrtCHmRun</th>\n",
       "      <th>OrtCruns</th>\n",
       "      <th>OrtCRBI</th>\n",
       "      <th>OrtCWalks</th>\n",
       "    </tr>\n",
       "  </thead>\n",
       "  <tbody>\n",
       "    <tr>\n",
       "      <th>0</th>\n",
       "      <td>1</td>\n",
       "      <td>293</td>\n",
       "      <td>66</td>\n",
       "      <td>1</td>\n",
       "      <td>30</td>\n",
       "      <td>29</td>\n",
       "      <td>14</td>\n",
       "      <td>NaN</td>\n",
       "      <td>293.000000</td>\n",
       "      <td>66.000000</td>\n",
       "      <td>1.000000</td>\n",
       "      <td>30.000000</td>\n",
       "      <td>29.000000</td>\n",
       "      <td>14.000000</td>\n",
       "    </tr>\n",
       "    <tr>\n",
       "      <th>1</th>\n",
       "      <td>14</td>\n",
       "      <td>3449</td>\n",
       "      <td>835</td>\n",
       "      <td>69</td>\n",
       "      <td>321</td>\n",
       "      <td>414</td>\n",
       "      <td>375</td>\n",
       "      <td>475.0</td>\n",
       "      <td>246.357143</td>\n",
       "      <td>59.642857</td>\n",
       "      <td>4.928571</td>\n",
       "      <td>22.928571</td>\n",
       "      <td>29.571429</td>\n",
       "      <td>26.785714</td>\n",
       "    </tr>\n",
       "    <tr>\n",
       "      <th>2</th>\n",
       "      <td>3</td>\n",
       "      <td>1624</td>\n",
       "      <td>457</td>\n",
       "      <td>63</td>\n",
       "      <td>224</td>\n",
       "      <td>266</td>\n",
       "      <td>263</td>\n",
       "      <td>480.0</td>\n",
       "      <td>541.333333</td>\n",
       "      <td>152.333333</td>\n",
       "      <td>21.000000</td>\n",
       "      <td>74.666667</td>\n",
       "      <td>88.666667</td>\n",
       "      <td>87.666667</td>\n",
       "    </tr>\n",
       "    <tr>\n",
       "      <th>3</th>\n",
       "      <td>11</td>\n",
       "      <td>5628</td>\n",
       "      <td>1575</td>\n",
       "      <td>225</td>\n",
       "      <td>828</td>\n",
       "      <td>838</td>\n",
       "      <td>354</td>\n",
       "      <td>500.0</td>\n",
       "      <td>511.636364</td>\n",
       "      <td>143.181818</td>\n",
       "      <td>20.454545</td>\n",
       "      <td>75.272727</td>\n",
       "      <td>76.181818</td>\n",
       "      <td>32.181818</td>\n",
       "    </tr>\n",
       "    <tr>\n",
       "      <th>4</th>\n",
       "      <td>2</td>\n",
       "      <td>396</td>\n",
       "      <td>101</td>\n",
       "      <td>12</td>\n",
       "      <td>48</td>\n",
       "      <td>46</td>\n",
       "      <td>33</td>\n",
       "      <td>91.5</td>\n",
       "      <td>198.000000</td>\n",
       "      <td>50.500000</td>\n",
       "      <td>6.000000</td>\n",
       "      <td>24.000000</td>\n",
       "      <td>23.000000</td>\n",
       "      <td>16.500000</td>\n",
       "    </tr>\n",
       "  </tbody>\n",
       "</table>\n",
       "</div>"
      ],
      "text/plain": [
       "   Years  CAtBat  CHits  CHmRun  CRuns  CRBI  CWalks  Salary   OrtCAtBat  \\\n",
       "0      1     293     66       1     30    29      14     NaN  293.000000   \n",
       "1     14    3449    835      69    321   414     375   475.0  246.357143   \n",
       "2      3    1624    457      63    224   266     263   480.0  541.333333   \n",
       "3     11    5628   1575     225    828   838     354   500.0  511.636364   \n",
       "4      2     396    101      12     48    46      33    91.5  198.000000   \n",
       "\n",
       "     OrtCHits  OrtCHmRun   OrtCruns    OrtCRBI  OrtCWalks  \n",
       "0   66.000000   1.000000  30.000000  29.000000  14.000000  \n",
       "1   59.642857   4.928571  22.928571  29.571429  26.785714  \n",
       "2  152.333333  21.000000  74.666667  88.666667  87.666667  \n",
       "3  143.181818  20.454545  75.272727  76.181818  32.181818  \n",
       "4   50.500000   6.000000  24.000000  23.000000  16.500000  "
      ]
     },
     "execution_count": 43,
     "metadata": {},
     "output_type": "execute_result"
    }
   ],
   "source": [
    "# access to the first 5 observation units of the df was provided.\n",
    "df.head()"
   ]
  },
  {
   "cell_type": "markdown",
   "metadata": {},
   "source": [
    "### 2) Missing Observation Analysis"
   ]
  },
  {
   "cell_type": "code",
   "execution_count": 44,
   "metadata": {},
   "outputs": [
    {
     "data": {
      "text/plain": [
       "Years         0\n",
       "CAtBat        0\n",
       "CHits         0\n",
       "CHmRun        0\n",
       "CRuns         0\n",
       "CRBI          0\n",
       "CWalks        0\n",
       "Salary       59\n",
       "OrtCAtBat     0\n",
       "OrtCHits      0\n",
       "OrtCHmRun     0\n",
       "OrtCruns      0\n",
       "OrtCRBI       0\n",
       "OrtCWalks     0\n",
       "dtype: int64"
      ]
     },
     "execution_count": 44,
     "metadata": {},
     "output_type": "execute_result"
    }
   ],
   "source": [
    "#How many missing values?\n",
    "df.isnull().sum()"
   ]
  },
  {
   "cell_type": "code",
   "execution_count": 45,
   "metadata": {},
   "outputs": [
    {
     "data": {
      "image/png": "[encoded data removed]",
      "text/plain": [
       "<Figure size 1728x720 with 3 Axes>"
      ]
     },
     "metadata": {
      "needs_background": "light"
     },
     "output_type": "display_data"
    }
   ],
   "source": [
    "# Have been visualized using the missingno library for the visualization of missing observations.\n",
    "import missingno as msno\n",
    "msno.bar(df);"
   ]
  },
  {
   "cell_type": "code",
   "execution_count": 46,
   "metadata": {},
   "outputs": [
    {
     "data": {
      "text/html": [
       "<div>\n",
       "<style scoped>\n",
       "    .dataframe tbody tr th:only-of-type {\n",
       "        vertical-align: middle;\n",
       "    }\n",
       "\n",
       "    .dataframe tbody tr th {\n",
       "        vertical-align: top;\n",
       "    }\n",
       "\n",
       "    .dataframe thead th {\n",
       "        text-align: right;\n",
       "    }\n",
       "</style>\n",
       "<table border=\"1\" class=\"dataframe\">\n",
       "  <thead>\n",
       "    <tr style=\"text-align: right;\">\n",
       "      <th></th>\n",
       "      <th>Years</th>\n",
       "      <th>CAtBat</th>\n",
       "      <th>CHits</th>\n",
       "      <th>CHmRun</th>\n",
       "      <th>CRuns</th>\n",
       "      <th>CRBI</th>\n",
       "      <th>CWalks</th>\n",
       "      <th>Salary</th>\n",
       "      <th>OrtCAtBat</th>\n",
       "      <th>OrtCHits</th>\n",
       "      <th>OrtCHmRun</th>\n",
       "      <th>OrtCruns</th>\n",
       "      <th>OrtCRBI</th>\n",
       "      <th>OrtCWalks</th>\n",
       "    </tr>\n",
       "  </thead>\n",
       "  <tbody>\n",
       "    <tr>\n",
       "      <th>0</th>\n",
       "      <td>1</td>\n",
       "      <td>293</td>\n",
       "      <td>66</td>\n",
       "      <td>1</td>\n",
       "      <td>30</td>\n",
       "      <td>29</td>\n",
       "      <td>14</td>\n",
       "      <td>NaN</td>\n",
       "      <td>293.000000</td>\n",
       "      <td>66.000000</td>\n",
       "      <td>1.000000</td>\n",
       "      <td>30.000000</td>\n",
       "      <td>29.000000</td>\n",
       "      <td>14.000000</td>\n",
       "    </tr>\n",
       "    <tr>\n",
       "      <th>15</th>\n",
       "      <td>3</td>\n",
       "      <td>201</td>\n",
       "      <td>42</td>\n",
       "      <td>3</td>\n",
       "      <td>20</td>\n",
       "      <td>16</td>\n",
       "      <td>11</td>\n",
       "      <td>NaN</td>\n",
       "      <td>67.000000</td>\n",
       "      <td>14.000000</td>\n",
       "      <td>1.000000</td>\n",
       "      <td>6.666667</td>\n",
       "      <td>5.333333</td>\n",
       "      <td>3.666667</td>\n",
       "    </tr>\n",
       "    <tr>\n",
       "      <th>18</th>\n",
       "      <td>12</td>\n",
       "      <td>5233</td>\n",
       "      <td>1478</td>\n",
       "      <td>100</td>\n",
       "      <td>643</td>\n",
       "      <td>658</td>\n",
       "      <td>653</td>\n",
       "      <td>NaN</td>\n",
       "      <td>436.083333</td>\n",
       "      <td>123.166667</td>\n",
       "      <td>8.333333</td>\n",
       "      <td>53.583333</td>\n",
       "      <td>54.833333</td>\n",
       "      <td>54.416667</td>\n",
       "    </tr>\n",
       "    <tr>\n",
       "      <th>22</th>\n",
       "      <td>6</td>\n",
       "      <td>84</td>\n",
       "      <td>26</td>\n",
       "      <td>2</td>\n",
       "      <td>9</td>\n",
       "      <td>9</td>\n",
       "      <td>3</td>\n",
       "      <td>NaN</td>\n",
       "      <td>14.000000</td>\n",
       "      <td>4.333333</td>\n",
       "      <td>0.333333</td>\n",
       "      <td>1.500000</td>\n",
       "      <td>1.500000</td>\n",
       "      <td>0.500000</td>\n",
       "    </tr>\n",
       "    <tr>\n",
       "      <th>30</th>\n",
       "      <td>17</td>\n",
       "      <td>6890</td>\n",
       "      <td>1833</td>\n",
       "      <td>224</td>\n",
       "      <td>1033</td>\n",
       "      <td>864</td>\n",
       "      <td>1087</td>\n",
       "      <td>NaN</td>\n",
       "      <td>405.294118</td>\n",
       "      <td>107.823529</td>\n",
       "      <td>13.176471</td>\n",
       "      <td>60.764706</td>\n",
       "      <td>50.823529</td>\n",
       "      <td>63.941176</td>\n",
       "    </tr>\n",
       "  </tbody>\n",
       "</table>\n",
       "</div>"
      ],
      "text/plain": [
       "    Years  CAtBat  CHits  CHmRun  CRuns  CRBI  CWalks  Salary   OrtCAtBat  \\\n",
       "0       1     293     66       1     30    29      14     NaN  293.000000   \n",
       "15      3     201     42       3     20    16      11     NaN   67.000000   \n",
       "18     12    5233   1478     100    643   658     653     NaN  436.083333   \n",
       "22      6      84     26       2      9     9       3     NaN   14.000000   \n",
       "30     17    6890   1833     224   1033   864    1087     NaN  405.294118   \n",
       "\n",
       "      OrtCHits  OrtCHmRun   OrtCruns    OrtCRBI  OrtCWalks  \n",
       "0    66.000000   1.000000  30.000000  29.000000  14.000000  \n",
       "15   14.000000   1.000000   6.666667   5.333333   3.666667  \n",
       "18  123.166667   8.333333  53.583333  54.833333  54.416667  \n",
       "22    4.333333   0.333333   1.500000   1.500000   0.500000  \n",
       "30  107.823529  13.176471  60.764706  50.823529  63.941176  "
      ]
     },
     "execution_count": 46,
     "metadata": {},
     "output_type": "execute_result"
    }
   ],
   "source": [
    "df_eksik = df[df[\"Salary\"].isnull()].head()\n",
    "df_eksik"
   ]
  },
  {
   "cell_type": "markdown",
   "metadata": {},
   "source": [
    "### 2.1) Filling of Missing Observation Units"
   ]
  },
  {
   "cell_type": "code",
   "execution_count": 47,
   "metadata": {},
   "outputs": [],
   "source": [
    "#We fill in the missing observations with the KNN method.\n",
    "from sklearn.impute import KNNImputer\n",
    "imputer = KNNImputer(n_neighbors = 4)\n",
    "df_filled = imputer.fit_transform(df)"
   ]
  },
  {
   "cell_type": "code",
   "execution_count": 48,
   "metadata": {},
   "outputs": [
    {
     "data": {
      "text/plain": [
       "Years        0\n",
       "CAtBat       0\n",
       "CHits        0\n",
       "CHmRun       0\n",
       "CRuns        0\n",
       "CRBI         0\n",
       "CWalks       0\n",
       "Salary       0\n",
       "OrtCAtBat    0\n",
       "OrtCHits     0\n",
       "OrtCHmRun    0\n",
       "OrtCruns     0\n",
       "OrtCRBI      0\n",
       "OrtCWalks    0\n",
       "dtype: int64"
      ]
     },
     "execution_count": 48,
     "metadata": {},
     "output_type": "execute_result"
    }
   ],
   "source": [
    "df = pd.DataFrame(df_filled,columns = df.columns)\n",
    "df.isnull().sum()"
   ]
  },
  {
   "cell_type": "markdown",
   "metadata": {},
   "source": [
    "### 3) Outlier Observation Analysis"
   ]
  },
  {
   "cell_type": "code",
   "execution_count": 49,
   "metadata": {},
   "outputs": [
    {
     "data": {
      "image/png": "[encoded data removed]",
      "text/plain": [
       "<Figure size 432x288 with 1 Axes>"
      ]
     },
     "metadata": {
      "needs_background": "light"
     },
     "output_type": "display_data"
    }
   ],
   "source": [
    "# The process of visualizing the Salary variable with boxplot method was done. We find the outlier observations on the chart.\n",
    "import seaborn as sns\n",
    "sns.boxplot(x = df[\"Salary\"]);"
   ]
  },
  {
   "cell_type": "code",
   "execution_count": 50,
   "metadata": {},
   "outputs": [
    {
     "data": {
      "text/plain": [
       "count     322.000000\n",
       "mean      529.809193\n",
       "std       429.681983\n",
       "min        67.500000\n",
       "25%       190.000000\n",
       "50%       430.750000\n",
       "75%       750.000000\n",
       "max      2460.000000\n",
       "Name: Salary, dtype: float64"
      ]
     },
     "execution_count": 50,
     "metadata": {},
     "output_type": "execute_result"
    }
   ],
   "source": [
    "df[\"Salary\"].describe()"
   ]
  },
  {
   "cell_type": "code",
   "execution_count": 51,
   "metadata": {},
   "outputs": [
    {
     "name": "stdout",
     "output_type": "stream",
     "text": [
      "Years yes\n",
      "2\n",
      "CAtBat yes\n",
      "5\n",
      "CHits yes\n",
      "6\n",
      "CHmRun yes\n",
      "32\n",
      "CRuns yes\n",
      "5\n",
      "CRBI yes\n",
      "26\n",
      "CWalks yes\n",
      "20\n",
      "Salary yes\n",
      "11\n",
      "OrtCAtBat no\n",
      "OrtCHits no\n",
      "OrtCHmRun yes\n",
      "6\n",
      "OrtCruns no\n",
      "OrtCRBI no\n",
      "OrtCWalks yes\n",
      "4\n"
     ]
    }
   ],
   "source": [
    "# First, when the quarters of 1% and 99% were examined, there were no outlier.\n",
    "# Later when the quarters of 5% and 95% were examined, there were no outlier.\n",
    "# Finally, when 25% quarters and 75% quarters were examined, outlier observations were found.\n",
    "\n",
    "for feature in df:\n",
    "\n",
    "    Q1 = df[feature].quantile(0.25)\n",
    "    Q3 = df[feature].quantile(0.75)\n",
    "    IQR = Q3-Q1\n",
    "    upper = Q3 + 1.5*IQR\n",
    "    lower = Q1 - 1.5*IQR\n",
    "\n",
    "    if df[(df[feature] > upper) | (df[feature] < lower)].any(axis=None):\n",
    "        print(feature,\"yes\")\n",
    "        print(df[(df[feature] > upper) | (df[feature] < lower)].shape[0])\n",
    "    else:\n",
    "        print(feature, \"no\")"
   ]
  },
  {
   "cell_type": "code",
   "execution_count": 52,
   "metadata": {},
   "outputs": [],
   "source": [
    "#We conduct a stand alone observation review for the salary variable\n",
    "#We suppress contradictory values\n",
    "Q1 = df.Salary.quantile(0.25)\n",
    "Q3 = df.Salary.quantile(0.75)\n",
    "IQR = Q3-Q1\n",
    "lower = Q1 - 1.5*IQR\n",
    "upper = Q3 + 1.5*IQR\n",
    "df.loc[df[\"Salary\"] > upper,\"Salary\"] = upper"
   ]
  },
  {
   "cell_type": "code",
   "execution_count": 53,
   "metadata": {},
   "outputs": [
    {
     "data": {
      "image/png": "[encoded data removed]",
      "text/plain": [
       "<Figure size 432x288 with 1 Axes>"
      ]
     },
     "metadata": {
      "needs_background": "light"
     },
     "output_type": "display_data"
    }
   ],
   "source": [
    "import seaborn as sns\n",
    "sns.boxplot(x = df[\"Salary\"]);"
   ]
  },
  {
   "cell_type": "markdown",
   "metadata": {},
   "source": [
    "### 3.1) Local Outlier Factor (LOF)"
   ]
  },
  {
   "cell_type": "code",
   "execution_count": 54,
   "metadata": {},
   "outputs": [
    {
     "data": {
      "text/plain": [
       "array([ 1,  1,  1,  1,  1,  1,  1,  1,  1,  1,  1,  1,  1,  1,  1,  1,  1,\n",
       "        1,  1,  1,  1,  1, -1,  1,  1,  1,  1,  1,  1,  1,  1,  1,  1,  1,\n",
       "        1,  1,  1,  1,  1,  1,  1,  1,  1,  1,  1,  1,  1,  1,  1,  1,  1,\n",
       "        1, -1,  1,  1,  1,  1,  1,  1,  1,  1,  1,  1,  1,  1,  1,  1,  1,\n",
       "        1,  1,  1,  1,  1,  1,  1,  1,  1,  1,  1,  1,  1,  1,  1,  1,  1,\n",
       "        1,  1,  1,  1,  1,  1, -1,  1,  1,  1,  1,  1,  1,  1,  1,  1,  1,\n",
       "        1,  1,  1,  1,  1,  1, -1,  1,  1,  1,  1,  1,  1,  1,  1,  1,  1,\n",
       "        1,  1,  1,  1,  1,  1,  1,  1,  1,  1,  1,  1,  1,  1,  1,  1,  1,\n",
       "        1,  1,  1,  1,  1,  1,  1,  1,  1,  1,  1,  1,  1,  1,  1,  1,  1,\n",
       "        1,  1,  1,  1,  1,  1,  1,  1,  1,  1,  1,  1,  1,  1,  1,  1,  1,\n",
       "        1,  1,  1,  1,  1,  1,  1,  1,  1,  1,  1,  1,  1,  1,  1,  1,  1,\n",
       "        1,  1,  1,  1,  1,  1,  1,  1,  1,  1,  1,  1,  1,  1,  1,  1,  1,\n",
       "        1,  1,  1,  1,  1,  1,  1,  1,  1,  1,  1,  1,  1, -1,  1,  1,  1,\n",
       "        1,  1,  1,  1,  1,  1,  1,  1,  1,  1,  1,  1,  1,  1,  1, -1,  1,\n",
       "        1,  1,  1,  1,  1,  1,  1,  1,  1,  1, -1, -1, -1,  1,  1,  1,  1,\n",
       "        1,  1,  1,  1,  1,  1,  1,  1,  1,  1,  1,  1,  1,  1,  1,  1,  1,\n",
       "        1,  1,  1,  1,  1,  1,  1,  1,  1,  1,  1, -1,  1,  1,  1,  1,  1,\n",
       "        1,  1,  1,  1,  1,  1, -1,  1,  1,  1,  1,  1,  1, -1,  1,  1,  1,\n",
       "        1,  1,  1,  1,  1,  1,  1,  1,  1,  1,  1,  1,  1,  1,  1,  1])"
      ]
     },
     "execution_count": 54,
     "metadata": {},
     "output_type": "execute_result"
    }
   ],
   "source": [
    "#We determine outliers between all variables with the LOF method\n",
    "from sklearn.neighbors import LocalOutlierFactor\n",
    "lof =LocalOutlierFactor(n_neighbors= 10)\n",
    "lof.fit_predict(df)"
   ]
  },
  {
   "cell_type": "code",
   "execution_count": 55,
   "metadata": {},
   "outputs": [
    {
     "data": {
      "text/plain": [
       "array([-5.54162663, -4.81973809, -4.62812671, -4.62728308, -4.61787559,\n",
       "       -4.61613196, -4.55560988, -1.80160101, -1.72009937, -1.66395107,\n",
       "       -1.58042035, -1.51613115, -1.49327573, -1.49116767, -1.47100199,\n",
       "       -1.46339584, -1.44804009, -1.42081883, -1.41319949, -1.38592254,\n",
       "       -1.33683984, -1.32584031, -1.32251276, -1.3224799 , -1.31487229,\n",
       "       -1.31380446, -1.3073428 , -1.30715075, -1.30192549, -1.2960993 ])"
      ]
     },
     "execution_count": 55,
     "metadata": {},
     "output_type": "execute_result"
    }
   ],
   "source": [
    "df_scores = lof.negative_outlier_factor_\n",
    "np.sort(df_scores)[0:30]"
   ]
  },
  {
   "cell_type": "code",
   "execution_count": 56,
   "metadata": {},
   "outputs": [
    {
     "data": {
      "text/plain": [
       "-1.8016010062553822"
      ]
     },
     "execution_count": 56,
     "metadata": {},
     "output_type": "execute_result"
    }
   ],
   "source": [
    "#We choose the threshold value according to lof scores\n",
    "threshold = np.sort(df_scores)[7]\n",
    "threshold"
   ]
  },
  {
   "cell_type": "code",
   "execution_count": 57,
   "metadata": {},
   "outputs": [],
   "source": [
    "#We delete those that are higher than the threshold\n",
    "outlier = df_scores > threshold\n",
    "df = df[outlier]"
   ]
  },
  {
   "cell_type": "code",
   "execution_count": 58,
   "metadata": {},
   "outputs": [
    {
     "data": {
      "text/plain": [
       "(314, 14)"
      ]
     },
     "execution_count": 58,
     "metadata": {},
     "output_type": "execute_result"
    }
   ],
   "source": [
    "# The size of the data set was examined.\n",
    "df.shape"
   ]
  },
  {
   "cell_type": "markdown",
   "metadata": {},
   "source": [
    "# 3) Modeling with Nonlinear Regression Models\n",
    "\n",
    "- **KNN**\n",
    "- **Support Vector Regression (SVR)**\n",
    "- **CART**\n",
    "- **Random Forests (RF)**\n",
    "- **Gradient Boosting Machines (GBM)**\n",
    "- **eXtreme Gradient Boosting (XGBoost)**\n",
    "- **LightGBM**\n",
    "- **CatBoost**\n",
    "- **Neural Networks**\n",
    "\n",
    "Each model can be modeled with the whole data set, but this has a disadvantage. The model will produce bad results in data it has never seen before. By separating the data set as train and test, a model installation process will be performed and error values will be observed. If you want, you can also build models with all data."
   ]
  },
  {
   "cell_type": "markdown",
   "metadata": {},
   "source": [
    "## 1) KNN"
   ]
  },
  {
   "cell_type": "code",
   "execution_count": 149,
   "metadata": {},
   "outputs": [],
   "source": [
    "y = df[\"Salary\"]\n",
    "X = df.drop(\"Salary\",axis=1)"
   ]
  },
  {
   "cell_type": "code",
   "execution_count": 150,
   "metadata": {},
   "outputs": [
    {
     "data": {
      "text/html": [
       "<div>\n",
       "<style scoped>\n",
       "    .dataframe tbody tr th:only-of-type {\n",
       "        vertical-align: middle;\n",
       "    }\n",
       "\n",
       "    .dataframe tbody tr th {\n",
       "        vertical-align: top;\n",
       "    }\n",
       "\n",
       "    .dataframe thead th {\n",
       "        text-align: right;\n",
       "    }\n",
       "</style>\n",
       "<table border=\"1\" class=\"dataframe\">\n",
       "  <thead>\n",
       "    <tr style=\"text-align: right;\">\n",
       "      <th></th>\n",
       "      <th>Years</th>\n",
       "      <th>CAtBat</th>\n",
       "      <th>CHits</th>\n",
       "      <th>CHmRun</th>\n",
       "      <th>CRuns</th>\n",
       "      <th>CRBI</th>\n",
       "      <th>CWalks</th>\n",
       "      <th>OrtCAtBat</th>\n",
       "      <th>OrtCHits</th>\n",
       "      <th>OrtCHmRun</th>\n",
       "      <th>OrtCruns</th>\n",
       "      <th>OrtCRBI</th>\n",
       "      <th>OrtCWalks</th>\n",
       "    </tr>\n",
       "  </thead>\n",
       "  <tbody>\n",
       "    <tr>\n",
       "      <th>0</th>\n",
       "      <td>1.0</td>\n",
       "      <td>293.0</td>\n",
       "      <td>66.0</td>\n",
       "      <td>1.0</td>\n",
       "      <td>30.0</td>\n",
       "      <td>29.0</td>\n",
       "      <td>14.0</td>\n",
       "      <td>293.000000</td>\n",
       "      <td>66.000000</td>\n",
       "      <td>1.000000</td>\n",
       "      <td>30.000000</td>\n",
       "      <td>29.000000</td>\n",
       "      <td>14.000000</td>\n",
       "    </tr>\n",
       "    <tr>\n",
       "      <th>1</th>\n",
       "      <td>14.0</td>\n",
       "      <td>3449.0</td>\n",
       "      <td>835.0</td>\n",
       "      <td>69.0</td>\n",
       "      <td>321.0</td>\n",
       "      <td>414.0</td>\n",
       "      <td>375.0</td>\n",
       "      <td>246.357143</td>\n",
       "      <td>59.642857</td>\n",
       "      <td>4.928571</td>\n",
       "      <td>22.928571</td>\n",
       "      <td>29.571429</td>\n",
       "      <td>26.785714</td>\n",
       "    </tr>\n",
       "    <tr>\n",
       "      <th>2</th>\n",
       "      <td>3.0</td>\n",
       "      <td>1624.0</td>\n",
       "      <td>457.0</td>\n",
       "      <td>63.0</td>\n",
       "      <td>224.0</td>\n",
       "      <td>266.0</td>\n",
       "      <td>263.0</td>\n",
       "      <td>541.333333</td>\n",
       "      <td>152.333333</td>\n",
       "      <td>21.000000</td>\n",
       "      <td>74.666667</td>\n",
       "      <td>88.666667</td>\n",
       "      <td>87.666667</td>\n",
       "    </tr>\n",
       "    <tr>\n",
       "      <th>3</th>\n",
       "      <td>11.0</td>\n",
       "      <td>5628.0</td>\n",
       "      <td>1575.0</td>\n",
       "      <td>225.0</td>\n",
       "      <td>828.0</td>\n",
       "      <td>838.0</td>\n",
       "      <td>354.0</td>\n",
       "      <td>511.636364</td>\n",
       "      <td>143.181818</td>\n",
       "      <td>20.454545</td>\n",
       "      <td>75.272727</td>\n",
       "      <td>76.181818</td>\n",
       "      <td>32.181818</td>\n",
       "    </tr>\n",
       "    <tr>\n",
       "      <th>4</th>\n",
       "      <td>2.0</td>\n",
       "      <td>396.0</td>\n",
       "      <td>101.0</td>\n",
       "      <td>12.0</td>\n",
       "      <td>48.0</td>\n",
       "      <td>46.0</td>\n",
       "      <td>33.0</td>\n",
       "      <td>198.000000</td>\n",
       "      <td>50.500000</td>\n",
       "      <td>6.000000</td>\n",
       "      <td>24.000000</td>\n",
       "      <td>23.000000</td>\n",
       "      <td>16.500000</td>\n",
       "    </tr>\n",
       "  </tbody>\n",
       "</table>\n",
       "</div>"
      ],
      "text/plain": [
       "   Years  CAtBat   CHits  CHmRun  CRuns   CRBI  CWalks   OrtCAtBat  \\\n",
       "0    1.0   293.0    66.0     1.0   30.0   29.0    14.0  293.000000   \n",
       "1   14.0  3449.0   835.0    69.0  321.0  414.0   375.0  246.357143   \n",
       "2    3.0  1624.0   457.0    63.0  224.0  266.0   263.0  541.333333   \n",
       "3   11.0  5628.0  1575.0   225.0  828.0  838.0   354.0  511.636364   \n",
       "4    2.0   396.0   101.0    12.0   48.0   46.0    33.0  198.000000   \n",
       "\n",
       "     OrtCHits  OrtCHmRun   OrtCruns    OrtCRBI  OrtCWalks  \n",
       "0   66.000000   1.000000  30.000000  29.000000  14.000000  \n",
       "1   59.642857   4.928571  22.928571  29.571429  26.785714  \n",
       "2  152.333333  21.000000  74.666667  88.666667  87.666667  \n",
       "3  143.181818  20.454545  75.272727  76.181818  32.181818  \n",
       "4   50.500000   6.000000  24.000000  23.000000  16.500000  "
      ]
     },
     "execution_count": 150,
     "metadata": {},
     "output_type": "execute_result"
    }
   ],
   "source": [
    "X.head()"
   ]
  },
  {
   "cell_type": "code",
   "execution_count": 151,
   "metadata": {},
   "outputs": [
    {
     "name": "stdout",
     "output_type": "stream",
     "text": [
      "['CRuns', 'CWalks', 'OrtCAtBat', 'OrtCHits', 'OrtCRBI', 'OrtCWalks']\n"
     ]
    }
   ],
   "source": [
    "#Feature Selection\n",
    "#Wrapper Method\n",
    "#Backward Elimination\n",
    "#https://towardsdatascience.com/feature-selection-with-pandas-e3690ad8504b\n",
    "cols = X.columns\n",
    "\n",
    "import statsmodels.api as sm\n",
    "from sklearn.feature_selection import RFE\n",
    "#Backward Elimination\n",
    "cols = list(X.columns)\n",
    "pmax = 1\n",
    "while (len(cols)>0):\n",
    "    p= []\n",
    "    X_1 = X[cols]\n",
    "    X_1 = sm.add_constant(X_1)\n",
    "    model = sm.OLS(y,X_1).fit()\n",
    "    p = pd.Series(model.pvalues.values[1:],index = cols)      \n",
    "    pmax = max(p)\n",
    "    feature_with_p_max = p.idxmax()\n",
    "    if(pmax>0.05):\n",
    "        cols.remove(feature_with_p_max)\n",
    "    else:\n",
    "        break\n",
    "selected_features_BE = cols\n",
    "print(selected_features_BE)"
   ]
  },
  {
   "cell_type": "code",
   "execution_count": 152,
   "metadata": {},
   "outputs": [
    {
     "data": {
      "text/html": [
       "<div>\n",
       "<style scoped>\n",
       "    .dataframe tbody tr th:only-of-type {\n",
       "        vertical-align: middle;\n",
       "    }\n",
       "\n",
       "    .dataframe tbody tr th {\n",
       "        vertical-align: top;\n",
       "    }\n",
       "\n",
       "    .dataframe thead th {\n",
       "        text-align: right;\n",
       "    }\n",
       "</style>\n",
       "<table border=\"1\" class=\"dataframe\">\n",
       "  <thead>\n",
       "    <tr style=\"text-align: right;\">\n",
       "      <th></th>\n",
       "      <th>CRuns</th>\n",
       "      <th>CWalks</th>\n",
       "      <th>OrtCAtBat</th>\n",
       "      <th>OrtCHits</th>\n",
       "      <th>OrtCRBI</th>\n",
       "      <th>OrtCWalks</th>\n",
       "    </tr>\n",
       "  </thead>\n",
       "  <tbody>\n",
       "    <tr>\n",
       "      <th>0</th>\n",
       "      <td>30.0</td>\n",
       "      <td>14.0</td>\n",
       "      <td>293.000000</td>\n",
       "      <td>66.000000</td>\n",
       "      <td>29.000000</td>\n",
       "      <td>14.000000</td>\n",
       "    </tr>\n",
       "    <tr>\n",
       "      <th>1</th>\n",
       "      <td>321.0</td>\n",
       "      <td>375.0</td>\n",
       "      <td>246.357143</td>\n",
       "      <td>59.642857</td>\n",
       "      <td>29.571429</td>\n",
       "      <td>26.785714</td>\n",
       "    </tr>\n",
       "    <tr>\n",
       "      <th>2</th>\n",
       "      <td>224.0</td>\n",
       "      <td>263.0</td>\n",
       "      <td>541.333333</td>\n",
       "      <td>152.333333</td>\n",
       "      <td>88.666667</td>\n",
       "      <td>87.666667</td>\n",
       "    </tr>\n",
       "    <tr>\n",
       "      <th>3</th>\n",
       "      <td>828.0</td>\n",
       "      <td>354.0</td>\n",
       "      <td>511.636364</td>\n",
       "      <td>143.181818</td>\n",
       "      <td>76.181818</td>\n",
       "      <td>32.181818</td>\n",
       "    </tr>\n",
       "    <tr>\n",
       "      <th>4</th>\n",
       "      <td>48.0</td>\n",
       "      <td>33.0</td>\n",
       "      <td>198.000000</td>\n",
       "      <td>50.500000</td>\n",
       "      <td>23.000000</td>\n",
       "      <td>16.500000</td>\n",
       "    </tr>\n",
       "  </tbody>\n",
       "</table>\n",
       "</div>"
      ],
      "text/plain": [
       "   CRuns  CWalks   OrtCAtBat    OrtCHits    OrtCRBI  OrtCWalks\n",
       "0   30.0    14.0  293.000000   66.000000  29.000000  14.000000\n",
       "1  321.0   375.0  246.357143   59.642857  29.571429  26.785714\n",
       "2  224.0   263.0  541.333333  152.333333  88.666667  87.666667\n",
       "3  828.0   354.0  511.636364  143.181818  76.181818  32.181818\n",
       "4   48.0    33.0  198.000000   50.500000  23.000000  16.500000"
      ]
     },
     "execution_count": 152,
     "metadata": {},
     "output_type": "execute_result"
    }
   ],
   "source": [
    "X = df[selected_features_BE]\n",
    "X.head()"
   ]
  },
  {
   "cell_type": "code",
   "execution_count": 153,
   "metadata": {},
   "outputs": [],
   "source": [
    "from sklearn.preprocessing import StandardScaler\n",
    "scaler = StandardScaler()\n",
    "X = scaler.fit_transform(X)\n",
    "X_train, X_test, y_train, y_test = train_test_split(X, y, \n",
    "                                                    test_size=0.20, \n",
    "                                                    random_state=46)"
   ]
  },
  {
   "cell_type": "markdown",
   "metadata": {},
   "source": [
    "### 1.1) Model Installation"
   ]
  },
  {
   "cell_type": "code",
   "execution_count": 64,
   "metadata": {},
   "outputs": [],
   "source": [
    "knn_model = KNeighborsRegressor().fit(X_train, y_train)"
   ]
  },
  {
   "cell_type": "markdown",
   "metadata": {},
   "source": [
    "### 1.2) Test Error"
   ]
  },
  {
   "cell_type": "code",
   "execution_count": 65,
   "metadata": {},
   "outputs": [
    {
     "data": {
      "text/plain": [
       "144.2481136326769"
      ]
     },
     "execution_count": 65,
     "metadata": {},
     "output_type": "execute_result"
    }
   ],
   "source": [
    "y_pred = knn_model.predict(X_test)\n",
    "knn_base = np.sqrt(mean_squared_error(y_test, y_pred))\n",
    "knn_base"
   ]
  },
  {
   "cell_type": "markdown",
   "metadata": {},
   "source": [
    "### 1.3) Model Tuning"
   ]
  },
  {
   "cell_type": "code",
   "execution_count": 66,
   "metadata": {},
   "outputs": [],
   "source": [
    "knn_params = {\"n_neighbors\": np.arange(2,30,1)}\n",
    "\n",
    "knn_model = KNeighborsRegressor()\n",
    "\n",
    "knn_cv_model = GridSearchCV(knn_model, knn_params, cv = 10).fit(X_train, y_train)"
   ]
  },
  {
   "cell_type": "code",
   "execution_count": 67,
   "metadata": {},
   "outputs": [
    {
     "data": {
      "text/plain": [
       "{'n_neighbors': 6}"
      ]
     },
     "execution_count": 67,
     "metadata": {},
     "output_type": "execute_result"
    }
   ],
   "source": [
    "knn_cv_model.best_params_"
   ]
  },
  {
   "cell_type": "markdown",
   "metadata": {},
   "source": [
    "### 1.4) Final Model Installation"
   ]
  },
  {
   "cell_type": "code",
   "execution_count": 68,
   "metadata": {},
   "outputs": [],
   "source": [
    "knn_tuned = KNeighborsRegressor(**knn_cv_model.best_params_).fit(X_train, y_train)"
   ]
  },
  {
   "cell_type": "markdown",
   "metadata": {},
   "source": [
    "### 1.5) Final Model Test Error"
   ]
  },
  {
   "cell_type": "code",
   "execution_count": 69,
   "metadata": {},
   "outputs": [
    {
     "data": {
      "text/plain": [
       "144.53422633110452"
      ]
     },
     "execution_count": 69,
     "metadata": {},
     "output_type": "execute_result"
    }
   ],
   "source": [
    "y_pred = knn_tuned.predict(X_test)\n",
    "knn_final = np.sqrt(mean_squared_error(y_test, y_pred))\n",
    "knn_final"
   ]
  },
  {
   "cell_type": "markdown",
   "metadata": {},
   "source": [
    "## 2)SVR"
   ]
  },
  {
   "cell_type": "markdown",
   "metadata": {},
   "source": [
    "### 2.1) Model Installation"
   ]
  },
  {
   "cell_type": "code",
   "execution_count": 70,
   "metadata": {},
   "outputs": [],
   "source": [
    "svr_model = SVR().fit(X_train, y_train)"
   ]
  },
  {
   "cell_type": "markdown",
   "metadata": {},
   "source": [
    "### 2.2) Test Error"
   ]
  },
  {
   "cell_type": "code",
   "execution_count": 71,
   "metadata": {},
   "outputs": [
    {
     "data": {
      "text/plain": [
       "290.01291439586316"
      ]
     },
     "execution_count": 71,
     "metadata": {},
     "output_type": "execute_result"
    }
   ],
   "source": [
    "y_pred = svr_model.predict(X_test)\n",
    "svr_base = np.sqrt(mean_squared_error(y_test, y_pred))\n",
    "svr_base"
   ]
  },
  {
   "cell_type": "markdown",
   "metadata": {},
   "source": [
    "### 2.3) Model Tuning"
   ]
  },
  {
   "cell_type": "code",
   "execution_count": 72,
   "metadata": {},
   "outputs": [
    {
     "name": "stdout",
     "output_type": "stream",
     "text": [
      "Fitting 10 folds for each of 12 candidates, totalling 120 fits\n"
     ]
    },
    {
     "name": "stderr",
     "output_type": "stream",
     "text": [
      "[Parallel(n_jobs=-1)]: Using backend LokyBackend with 4 concurrent workers.\n",
      "[Parallel(n_jobs=-1)]: Done  38 tasks      | elapsed:    1.4s\n",
      "[Parallel(n_jobs=-1)]: Done 120 out of 120 | elapsed:    1.6s finished\n"
     ]
    }
   ],
   "source": [
    "svr_model = SVR() \n",
    "\n",
    "svr_params = {\"C\": [0.01,0.001, 0.2, 0.1,0.5,0.8,0.9,1, 10, 100, 500,1000]}\n",
    "\n",
    "svr_cv_model = GridSearchCV(svr_model, svr_params, cv = 10, n_jobs = -1, verbose =  2).fit(X_train, y_train)"
   ]
  },
  {
   "cell_type": "code",
   "execution_count": 73,
   "metadata": {},
   "outputs": [
    {
     "data": {
      "text/plain": [
       "{'C': 1000}"
      ]
     },
     "execution_count": 73,
     "metadata": {},
     "output_type": "execute_result"
    }
   ],
   "source": [
    "svr_cv_model.best_params_"
   ]
  },
  {
   "cell_type": "markdown",
   "metadata": {},
   "source": [
    "### 2.4) Final Model Installation"
   ]
  },
  {
   "cell_type": "code",
   "execution_count": 74,
   "metadata": {},
   "outputs": [],
   "source": [
    "svr_tuned = SVR(**svr_cv_model.best_params_).fit(X_train, y_train)"
   ]
  },
  {
   "cell_type": "markdown",
   "metadata": {},
   "source": [
    "### 2.5) Final Model Test Error"
   ]
  },
  {
   "cell_type": "code",
   "execution_count": 75,
   "metadata": {},
   "outputs": [
    {
     "data": {
      "text/plain": [
       "134.02976168002692"
      ]
     },
     "execution_count": 75,
     "metadata": {},
     "output_type": "execute_result"
    }
   ],
   "source": [
    "y_pred = svr_tuned.predict(X_test)\n",
    "svr_final = np.sqrt(mean_squared_error(y_test, y_pred))\n",
    "svr_final"
   ]
  },
  {
   "cell_type": "markdown",
   "metadata": {},
   "source": [
    "## 3) CART"
   ]
  },
  {
   "cell_type": "markdown",
   "metadata": {},
   "source": [
    "### 3.1) Model Installation"
   ]
  },
  {
   "cell_type": "code",
   "execution_count": 76,
   "metadata": {},
   "outputs": [
    {
     "data": {
      "text/plain": [
       "DecisionTreeRegressor()"
      ]
     },
     "execution_count": 76,
     "metadata": {},
     "output_type": "execute_result"
    }
   ],
   "source": [
    "cart_model = DecisionTreeRegressor()\n",
    "cart_model.fit(X_train, y_train)"
   ]
  },
  {
   "cell_type": "markdown",
   "metadata": {},
   "source": [
    "### 3.2) Test Error"
   ]
  },
  {
   "cell_type": "code",
   "execution_count": 77,
   "metadata": {},
   "outputs": [
    {
     "data": {
      "text/plain": [
       "184.66273911976472"
      ]
     },
     "execution_count": 77,
     "metadata": {},
     "output_type": "execute_result"
    }
   ],
   "source": [
    "y_pred = cart_model.predict(X_test)\n",
    "cart_base = np.sqrt(mean_squared_error(y_test, y_pred))\n",
    "cart_base"
   ]
  },
  {
   "cell_type": "markdown",
   "metadata": {},
   "source": [
    "### 3.3) Model Tuning"
   ]
  },
  {
   "cell_type": "code",
   "execution_count": 78,
   "metadata": {},
   "outputs": [],
   "source": [
    "cart_model = DecisionTreeRegressor()"
   ]
  },
  {
   "cell_type": "code",
   "execution_count": 79,
   "metadata": {},
   "outputs": [],
   "source": [
    "cart_params = {\"max_depth\": [2,3,4,5,10,20,100, 1000],\n",
    "              \"min_samples_split\": [2,10,5,30,50,10]}"
   ]
  },
  {
   "cell_type": "code",
   "execution_count": 80,
   "metadata": {},
   "outputs": [
    {
     "name": "stdout",
     "output_type": "stream",
     "text": [
      "Fitting 10 folds for each of 48 candidates, totalling 480 fits\n"
     ]
    },
    {
     "name": "stderr",
     "output_type": "stream",
     "text": [
      "[Parallel(n_jobs=-1)]: Using backend LokyBackend with 4 concurrent workers.\n",
      "[Parallel(n_jobs=-1)]: Done 136 tasks      | elapsed:    0.2s\n",
      "[Parallel(n_jobs=-1)]: Done 480 out of 480 | elapsed:    0.6s finished\n"
     ]
    }
   ],
   "source": [
    "cart_cv_model = GridSearchCV(cart_model, cart_params, cv = 10, n_jobs = -1, verbose =  2).fit(X_train, y_train)"
   ]
  },
  {
   "cell_type": "code",
   "execution_count": 81,
   "metadata": {},
   "outputs": [
    {
     "data": {
      "text/plain": [
       "{'max_depth': 5, 'min_samples_split': 50}"
      ]
     },
     "execution_count": 81,
     "metadata": {},
     "output_type": "execute_result"
    }
   ],
   "source": [
    "cart_cv_model.best_params_"
   ]
  },
  {
   "cell_type": "markdown",
   "metadata": {},
   "source": [
    "### 3.4) Final Model Installation"
   ]
  },
  {
   "cell_type": "code",
   "execution_count": 82,
   "metadata": {},
   "outputs": [],
   "source": [
    "cart_tuned = DecisionTreeRegressor(**cart_cv_model.best_params_).fit(X_train, y_train)"
   ]
  },
  {
   "cell_type": "markdown",
   "metadata": {},
   "source": [
    "### 3.5) Final Model Test Error"
   ]
  },
  {
   "cell_type": "code",
   "execution_count": 83,
   "metadata": {},
   "outputs": [
    {
     "data": {
      "text/plain": [
       "148.38020582922016"
      ]
     },
     "execution_count": 83,
     "metadata": {},
     "output_type": "execute_result"
    }
   ],
   "source": [
    "y_pred = cart_tuned.predict(X_test)\n",
    "cart_final = np.sqrt(mean_squared_error(y_test, y_pred))\n",
    "cart_final"
   ]
  },
  {
   "cell_type": "markdown",
   "metadata": {},
   "source": [
    "## 4) Random Forests"
   ]
  },
  {
   "cell_type": "markdown",
   "metadata": {},
   "source": [
    "### 4.1) Model Installation "
   ]
  },
  {
   "cell_type": "code",
   "execution_count": 84,
   "metadata": {},
   "outputs": [],
   "source": [
    "rf_model = RandomForestRegressor(random_state = 42).fit(X_train, y_train)"
   ]
  },
  {
   "cell_type": "markdown",
   "metadata": {},
   "source": [
    "### 4.2) Test Error"
   ]
  },
  {
   "cell_type": "code",
   "execution_count": 85,
   "metadata": {},
   "outputs": [
    {
     "data": {
      "text/plain": [
       "125.26896185555334"
      ]
     },
     "execution_count": 85,
     "metadata": {},
     "output_type": "execute_result"
    }
   ],
   "source": [
    "y_pred = rf_model.predict(X_test)\n",
    "rf_base = np.sqrt(mean_squared_error(y_test, y_pred))\n",
    "rf_base"
   ]
  },
  {
   "cell_type": "markdown",
   "metadata": {},
   "source": [
    "### 4.3) Model Tuning"
   ]
  },
  {
   "cell_type": "code",
   "execution_count": 86,
   "metadata": {},
   "outputs": [],
   "source": [
    "rf_params = {\"max_depth\": [5,10,None],\n",
    "            \"max_features\": [2,5,10],\n",
    "            \"n_estimators\": [100, 500, 900],\n",
    "            \"min_samples_split\": [2,10,30]}"
   ]
  },
  {
   "cell_type": "code",
   "execution_count": 87,
   "metadata": {},
   "outputs": [
    {
     "name": "stdout",
     "output_type": "stream",
     "text": [
      "Fitting 10 folds for each of 81 candidates, totalling 810 fits\n"
     ]
    },
    {
     "name": "stderr",
     "output_type": "stream",
     "text": [
      "[Parallel(n_jobs=-1)]: Using backend LokyBackend with 4 concurrent workers.\n",
      "[Parallel(n_jobs=-1)]: Done  33 tasks      | elapsed:    9.5s\n",
      "[Parallel(n_jobs=-1)]: Done 154 tasks      | elapsed:   46.1s\n",
      "[Parallel(n_jobs=-1)]: Done 357 tasks      | elapsed:  1.5min\n",
      "[Parallel(n_jobs=-1)]: Done 640 tasks      | elapsed:  2.7min\n",
      "[Parallel(n_jobs=-1)]: Done 810 out of 810 | elapsed:  3.3min finished\n"
     ]
    }
   ],
   "source": [
    "rf_cv_model = GridSearchCV(rf_model, rf_params, cv = 10, n_jobs = -1, verbose = 2).fit(X_train , y_train)"
   ]
  },
  {
   "cell_type": "code",
   "execution_count": 88,
   "metadata": {},
   "outputs": [
    {
     "data": {
      "text/plain": [
       "{'max_depth': 5,\n",
       " 'max_features': 2,\n",
       " 'min_samples_split': 2,\n",
       " 'n_estimators': 900}"
      ]
     },
     "execution_count": 88,
     "metadata": {},
     "output_type": "execute_result"
    }
   ],
   "source": [
    "rf_cv_model.best_params_"
   ]
  },
  {
   "cell_type": "markdown",
   "metadata": {},
   "source": [
    "### 4.4) Final Model Installation"
   ]
  },
  {
   "cell_type": "code",
   "execution_count": 89,
   "metadata": {},
   "outputs": [],
   "source": [
    "rf_tuned = RandomForestRegressor(**rf_cv_model.best_params_).fit(X_train, y_train)"
   ]
  },
  {
   "cell_type": "markdown",
   "metadata": {},
   "source": [
    "### 4.5) Final Model Test Error"
   ]
  },
  {
   "cell_type": "code",
   "execution_count": 90,
   "metadata": {},
   "outputs": [
    {
     "data": {
      "text/plain": [
       "122.1108370641809"
      ]
     },
     "execution_count": 90,
     "metadata": {},
     "output_type": "execute_result"
    }
   ],
   "source": [
    "y_pred = rf_tuned.predict(X_test)\n",
    "rf_final = np.sqrt(mean_squared_error(y_test, y_pred))\n",
    "rf_final"
   ]
  },
  {
   "cell_type": "code",
   "execution_count": 91,
   "metadata": {},
   "outputs": [
    {
     "data": {
      "text/plain": [
       "array([0.28872506, 0.23279499, 0.12323407, 0.16391823, 0.14019943,\n",
       "       0.05112823])"
      ]
     },
     "execution_count": 91,
     "metadata": {},
     "output_type": "execute_result"
    }
   ],
   "source": [
    "rf_tuned.feature_importances_"
   ]
  },
  {
   "cell_type": "code",
   "execution_count": 92,
   "metadata": {},
   "outputs": [
    {
     "data": {
      "image/png": "[encoded data removed]",
      "text/plain": [
       "<Figure size 432x288 with 1 Axes>"
      ]
     },
     "metadata": {
      "needs_background": "light"
     },
     "output_type": "display_data"
    }
   ],
   "source": [
    "Importance = pd.DataFrame({'Importance':rf_tuned.feature_importances_*100}, \n",
    "                          index = ['CRuns', 'CWalks', 'OrtCAtBat', 'OrtCHits', 'OrtCRBI', 'OrtCWalks'])\n",
    "\n",
    "Importance.sort_values(by = 'Importance', \n",
    "                       axis = 0, \n",
    "                       ascending = True).plot(kind = 'barh', \n",
    "                                              color = 'r', )\n",
    "\n",
    "plt.xlabel('Variable Importance')\n",
    "plt.gca().legend_ = None"
   ]
  },
  {
   "cell_type": "markdown",
   "metadata": {},
   "source": [
    "## 5) GBM"
   ]
  },
  {
   "cell_type": "markdown",
   "metadata": {},
   "source": [
    "### 5.1) Model Installation"
   ]
  },
  {
   "cell_type": "code",
   "execution_count": 154,
   "metadata": {},
   "outputs": [],
   "source": [
    "gbm_model = GradientBoostingRegressor().fit(X_train, y_train)"
   ]
  },
  {
   "cell_type": "markdown",
   "metadata": {},
   "source": [
    "### 5.2) Test Error"
   ]
  },
  {
   "cell_type": "code",
   "execution_count": 155,
   "metadata": {},
   "outputs": [
    {
     "data": {
      "text/plain": [
       "145.85352925631975"
      ]
     },
     "execution_count": 155,
     "metadata": {},
     "output_type": "execute_result"
    }
   ],
   "source": [
    "y_pred = gbm_model.predict(X_test)\n",
    "gbm_base = np.sqrt(mean_squared_error(y_test, y_pred))\n",
    "gbm_base"
   ]
  },
  {
   "cell_type": "markdown",
   "metadata": {},
   "source": [
    "### 5.3) Model Tuning"
   ]
  },
  {
   "cell_type": "code",
   "execution_count": 162,
   "metadata": {},
   "outputs": [],
   "source": [
    "gbm_params = {\"learning_rate\": [0.001,0.1,0.01],\n",
    "             \"max_depth\": [3,5,8,10],\n",
    "             \"n_estimators\": [200,500,1000],\n",
    "             \"subsample\": [1,0.5,0.8],\n",
    "             \"loss\": [\"ls\",\"lad\",\"quantile\"]}"
   ]
  },
  {
   "cell_type": "code",
   "execution_count": 163,
   "metadata": {},
   "outputs": [],
   "source": [
    "gbm_model = GradientBoostingRegressor().fit(X_train, y_train)"
   ]
  },
  {
   "cell_type": "code",
   "execution_count": 164,
   "metadata": {},
   "outputs": [
    {
     "name": "stdout",
     "output_type": "stream",
     "text": [
      "Fitting 10 folds for each of 324 candidates, totalling 3240 fits\n"
     ]
    },
    {
     "name": "stderr",
     "output_type": "stream",
     "text": [
      "[Parallel(n_jobs=-1)]: Using backend LokyBackend with 4 concurrent workers.\n",
      "[Parallel(n_jobs=-1)]: Done  33 tasks      | elapsed:    3.6s\n",
      "[Parallel(n_jobs=-1)]: Done 154 tasks      | elapsed:   20.6s\n",
      "[Parallel(n_jobs=-1)]: Done 357 tasks      | elapsed:  1.1min\n",
      "[Parallel(n_jobs=-1)]: Done 640 tasks      | elapsed:  4.2min\n",
      "[Parallel(n_jobs=-1)]: Done 1005 tasks      | elapsed:  8.7min\n",
      "[Parallel(n_jobs=-1)]: Done 1450 tasks      | elapsed: 11.1min\n",
      "[Parallel(n_jobs=-1)]: Done 1977 tasks      | elapsed: 17.2min\n",
      "[Parallel(n_jobs=-1)]: Done 2584 tasks      | elapsed: 21.4min\n",
      "[Parallel(n_jobs=-1)]: Done 3240 out of 3240 | elapsed: 30.4min finished\n"
     ]
    }
   ],
   "source": [
    "gbm_cv_model = GridSearchCV(gbm_model, \n",
    "                            gbm_params, \n",
    "                            cv = 10, \n",
    "                            n_jobs=-1, \n",
    "                            verbose = 2).fit(X_train, y_train)"
   ]
  },
  {
   "cell_type": "code",
   "execution_count": 165,
   "metadata": {},
   "outputs": [
    {
     "data": {
      "text/plain": [
       "{'learning_rate': 0.01,\n",
       " 'loss': 'lad',\n",
       " 'max_depth': 5,\n",
       " 'n_estimators': 500,\n",
       " 'subsample': 0.5}"
      ]
     },
     "execution_count": 165,
     "metadata": {},
     "output_type": "execute_result"
    }
   ],
   "source": [
    "gbm_cv_model.best_params_"
   ]
  },
  {
   "cell_type": "markdown",
   "metadata": {},
   "source": [
    "### 5.4) Final Model Installation"
   ]
  },
  {
   "cell_type": "code",
   "execution_count": 168,
   "metadata": {},
   "outputs": [],
   "source": [
    "gbm_tuned = GradientBoostingRegressor(**gbm_cv_model.best_params_).fit(X_train, y_train)"
   ]
  },
  {
   "cell_type": "markdown",
   "metadata": {},
   "source": [
    "### 5.5) Final Model Test Error"
   ]
  },
  {
   "cell_type": "code",
   "execution_count": 169,
   "metadata": {},
   "outputs": [
    {
     "data": {
      "text/plain": [
       "114.93846803328381"
      ]
     },
     "execution_count": 169,
     "metadata": {},
     "output_type": "execute_result"
    }
   ],
   "source": [
    "y_pred = gbm_tuned.predict(X_test)\n",
    "gbm_final = np.sqrt(mean_squared_error(y_test, y_pred))\n",
    "gbm_final"
   ]
  },
  {
   "cell_type": "code",
   "execution_count": 101,
   "metadata": {},
   "outputs": [
    {
     "data": {
      "image/png": "[encoded data removed]",
      "text/plain": [
       "<Figure size 432x288 with 1 Axes>"
      ]
     },
     "metadata": {
      "needs_background": "light"
     },
     "output_type": "display_data"
    }
   ],
   "source": [
    "Importance = pd.DataFrame({'Importance':gbm_tuned.feature_importances_*100}, \n",
    "                          index = ['CRuns', 'CWalks', 'OrtCAtBat', 'OrtCHits', 'OrtCRBI', 'OrtCWalks'])\n",
    "\n",
    "Importance.sort_values(by = 'Importance', \n",
    "                       axis = 0, \n",
    "                       ascending = True).plot(kind = 'barh', \n",
    "                                              color = 'r', )\n",
    "\n",
    "plt.xlabel('Variable Importance')\n",
    "plt.gca().legend_ = None"
   ]
  },
  {
   "cell_type": "markdown",
   "metadata": {},
   "source": [
    "## 6) XGBoost"
   ]
  },
  {
   "cell_type": "code",
   "execution_count": 102,
   "metadata": {},
   "outputs": [],
   "source": [
    "import xgboost\n",
    "from xgboost import XGBRegressor"
   ]
  },
  {
   "cell_type": "markdown",
   "metadata": {},
   "source": [
    "### 6.1) Model Installation"
   ]
  },
  {
   "cell_type": "code",
   "execution_count": 103,
   "metadata": {},
   "outputs": [],
   "source": [
    "xgb = XGBRegressor().fit(X_train, y_train)"
   ]
  },
  {
   "cell_type": "markdown",
   "metadata": {},
   "source": [
    "### 6.2) Test Error"
   ]
  },
  {
   "cell_type": "code",
   "execution_count": 104,
   "metadata": {},
   "outputs": [
    {
     "data": {
      "text/plain": [
       "135.60938284304453"
      ]
     },
     "execution_count": 104,
     "metadata": {},
     "output_type": "execute_result"
    }
   ],
   "source": [
    "y_pred = xgb.predict(X_test)\n",
    "xgb_base = np.sqrt(mean_squared_error(y_test, y_pred))\n",
    "xgb_base"
   ]
  },
  {
   "cell_type": "markdown",
   "metadata": {},
   "source": [
    "### 6.3) Model Tuning"
   ]
  },
  {
   "cell_type": "code",
   "execution_count": 105,
   "metadata": {},
   "outputs": [],
   "source": [
    "xgb_params = {\"learning_rate\": [0.1,0.01,1],\n",
    "             \"max_depth\": [2,5,8],\n",
    "             \"n_estimators\": [100,500,1000],\n",
    "             \"colsample_bytree\": [0.3,0.6,1]}"
   ]
  },
  {
   "cell_type": "code",
   "execution_count": 106,
   "metadata": {},
   "outputs": [
    {
     "name": "stdout",
     "output_type": "stream",
     "text": [
      "Fitting 10 folds for each of 81 candidates, totalling 810 fits\n"
     ]
    },
    {
     "name": "stderr",
     "output_type": "stream",
     "text": [
      "[Parallel(n_jobs=-1)]: Using backend LokyBackend with 4 concurrent workers.\n",
      "[Parallel(n_jobs=-1)]: Done  38 tasks      | elapsed:    1.5s\n",
      "[Parallel(n_jobs=-1)]: Done 508 tasks      | elapsed:   17.4s\n",
      "[Parallel(n_jobs=-1)]: Done 810 out of 810 | elapsed:   30.9s finished\n"
     ]
    }
   ],
   "source": [
    "xgb_cv_model  = GridSearchCV(xgb,xgb_params, cv = 10, n_jobs = -1, verbose = 2).fit(X_train, y_train)"
   ]
  },
  {
   "cell_type": "code",
   "execution_count": 107,
   "metadata": {},
   "outputs": [
    {
     "data": {
      "text/plain": [
       "{'colsample_bytree': 1,\n",
       " 'learning_rate': 0.01,\n",
       " 'max_depth': 2,\n",
       " 'n_estimators': 500}"
      ]
     },
     "execution_count": 107,
     "metadata": {},
     "output_type": "execute_result"
    }
   ],
   "source": [
    "xgb_cv_model.best_params_"
   ]
  },
  {
   "cell_type": "markdown",
   "metadata": {},
   "source": [
    "### 6.4) Final Model Installation"
   ]
  },
  {
   "cell_type": "code",
   "execution_count": 108,
   "metadata": {},
   "outputs": [],
   "source": [
    "xgb_tuned = XGBRegressor(**xgb_cv_model.best_params_).fit(X_train, y_train)"
   ]
  },
  {
   "cell_type": "markdown",
   "metadata": {},
   "source": [
    "### 6.5) Final Model Test Error"
   ]
  },
  {
   "cell_type": "code",
   "execution_count": 109,
   "metadata": {},
   "outputs": [
    {
     "data": {
      "text/plain": [
       "125.12258371475984"
      ]
     },
     "execution_count": 109,
     "metadata": {},
     "output_type": "execute_result"
    }
   ],
   "source": [
    "y_pred = xgb_tuned.predict(X_test)\n",
    "xgb_final = np.sqrt(mean_squared_error(y_test, y_pred))\n",
    "xgb_final"
   ]
  },
  {
   "cell_type": "code",
   "execution_count": 110,
   "metadata": {},
   "outputs": [
    {
     "data": {
      "image/png": "[encoded data removed]",
      "text/plain": [
       "<Figure size 432x288 with 1 Axes>"
      ]
     },
     "metadata": {
      "needs_background": "light"
     },
     "output_type": "display_data"
    }
   ],
   "source": [
    "Importance = pd.DataFrame({'Importance':xgb_tuned.feature_importances_*100}, \n",
    "                          index = ['CRuns', 'CWalks', 'OrtCAtBat', 'OrtCHits', 'OrtCRBI', 'OrtCWalks'])\n",
    "\n",
    "Importance.sort_values(by = 'Importance', \n",
    "                       axis = 0, \n",
    "                       ascending = True).plot(kind = 'barh', \n",
    "                                              color = 'r', )\n",
    "\n",
    "plt.xlabel('Variable Importance')\n",
    "plt.gca().legend_ = None"
   ]
  },
  {
   "cell_type": "markdown",
   "metadata": {},
   "source": [
    "## 7) LightGBM"
   ]
  },
  {
   "cell_type": "code",
   "execution_count": 111,
   "metadata": {},
   "outputs": [],
   "source": [
    "from lightgbm import LGBMRegressor"
   ]
  },
  {
   "cell_type": "markdown",
   "metadata": {},
   "source": [
    "### 7.1) Model Installation"
   ]
  },
  {
   "cell_type": "code",
   "execution_count": 112,
   "metadata": {},
   "outputs": [],
   "source": [
    "lgb_model = LGBMRegressor().fit(X_train, y_train)"
   ]
  },
  {
   "cell_type": "markdown",
   "metadata": {},
   "source": [
    "### 7.2) Test Error"
   ]
  },
  {
   "cell_type": "code",
   "execution_count": 113,
   "metadata": {},
   "outputs": [
    {
     "data": {
      "text/plain": [
       "139.64470935637962"
      ]
     },
     "execution_count": 113,
     "metadata": {},
     "output_type": "execute_result"
    }
   ],
   "source": [
    "y_pred = lgb_model.predict(X_test)\n",
    "lbg_base = np.sqrt(mean_squared_error(y_test, y_pred))\n",
    "lbg_base"
   ]
  },
  {
   "cell_type": "markdown",
   "metadata": {},
   "source": [
    "### 7.3) Model Tuning"
   ]
  },
  {
   "cell_type": "code",
   "execution_count": 114,
   "metadata": {},
   "outputs": [],
   "source": [
    "lgb_model = LGBMRegressor()"
   ]
  },
  {
   "cell_type": "code",
   "execution_count": 115,
   "metadata": {},
   "outputs": [],
   "source": [
    "lgbm_params = {\"learning_rate\": [0.01, 0.1, 1],\n",
    "              \"n_estimators\": [200,1000,10000],\n",
    "              \"max_depth\": [2,5,10],\n",
    "              \"colsample_bytree\": [1,0.5,0.3]}"
   ]
  },
  {
   "cell_type": "code",
   "execution_count": 116,
   "metadata": {
    "collapsed": true,
    "jupyter": {
     "outputs_hidden": true
    }
   },
   "outputs": [
    {
     "name": "stdout",
     "output_type": "stream",
     "text": [
      "Fitting 10 folds for each of 81 candidates, totalling 810 fits\n"
     ]
    },
    {
     "name": "stderr",
     "output_type": "stream",
     "text": [
      "[Parallel(n_jobs=-1)]: Using backend LokyBackend with 4 concurrent workers.\n",
      "[Parallel(n_jobs=-1)]: Done  48 tasks      | elapsed:    7.3s\n",
      "[Parallel(n_jobs=-1)]: Done 170 tasks      | elapsed:   40.3s\n",
      "[Parallel(n_jobs=-1)]: Done 373 tasks      | elapsed:  1.6min\n",
      "[Parallel(n_jobs=-1)]: Done 656 tasks      | elapsed:  2.6min\n",
      "[Parallel(n_jobs=-1)]: Done 810 out of 810 | elapsed:  3.2min finished\n"
     ]
    }
   ],
   "source": [
    "lgbm_cv_model = GridSearchCV(lgb_model, \n",
    "                             lgbm_params, \n",
    "                             cv = 10, \n",
    "                             n_jobs = -1, \n",
    "                             verbose =2).fit(X_train, y_train)"
   ]
  },
  {
   "cell_type": "code",
   "execution_count": 117,
   "metadata": {},
   "outputs": [
    {
     "data": {
      "text/plain": [
       "{'colsample_bytree': 1,\n",
       " 'learning_rate': 0.01,\n",
       " 'max_depth': 5,\n",
       " 'n_estimators': 200}"
      ]
     },
     "execution_count": 117,
     "metadata": {},
     "output_type": "execute_result"
    }
   ],
   "source": [
    "lgbm_cv_model.best_params_"
   ]
  },
  {
   "cell_type": "markdown",
   "metadata": {},
   "source": [
    "### 7.4) Final Model Installation"
   ]
  },
  {
   "cell_type": "code",
   "execution_count": 118,
   "metadata": {},
   "outputs": [],
   "source": [
    "lgbm_tuned = LGBMRegressor(**lgbm_cv_model.best_params_).fit(X_train, y_train)"
   ]
  },
  {
   "cell_type": "markdown",
   "metadata": {},
   "source": [
    "### 7.5) Final Model Test Error"
   ]
  },
  {
   "cell_type": "code",
   "execution_count": 119,
   "metadata": {},
   "outputs": [
    {
     "data": {
      "text/plain": [
       "121.81670906677196"
      ]
     },
     "execution_count": 119,
     "metadata": {},
     "output_type": "execute_result"
    }
   ],
   "source": [
    "y_pred = lgbm_tuned.predict(X_test)\n",
    "lbg_final = np.sqrt(mean_squared_error(y_test, y_pred))\n",
    "lbg_final"
   ]
  },
  {
   "cell_type": "code",
   "execution_count": 120,
   "metadata": {},
   "outputs": [
    {
     "data": {
      "image/png": "[encoded data removed]",
      "text/plain": [
       "<Figure size 432x288 with 1 Axes>"
      ]
     },
     "metadata": {
      "needs_background": "light"
     },
     "output_type": "display_data"
    }
   ],
   "source": [
    "Importance = pd.DataFrame({'Importance':lgbm_tuned.feature_importances_*100}, \n",
    "                          index = ['CRuns', 'CWalks', 'OrtCAtBat', 'OrtCHits', 'OrtCRBI', 'OrtCWalks'])\n",
    "\n",
    "Importance.sort_values(by = 'Importance', \n",
    "                       axis = 0, \n",
    "                       ascending = True).plot(kind = 'barh', \n",
    "                                              color = 'r', )\n",
    "\n",
    "plt.xlabel('Variable Importance')\n",
    "plt.gca().legend_ = None"
   ]
  },
  {
   "cell_type": "markdown",
   "metadata": {},
   "source": [
    "## 8) CatBoost"
   ]
  },
  {
   "cell_type": "code",
   "execution_count": 121,
   "metadata": {},
   "outputs": [],
   "source": [
    "from catboost import CatBoostRegressor"
   ]
  },
  {
   "cell_type": "markdown",
   "metadata": {},
   "source": [
    "### 8.1) Model Installation"
   ]
  },
  {
   "cell_type": "code",
   "execution_count": 122,
   "metadata": {},
   "outputs": [],
   "source": [
    "catb_model = CatBoostRegressor(verbose = False).fit(X_train, y_train)"
   ]
  },
  {
   "cell_type": "markdown",
   "metadata": {},
   "source": [
    "### 8.2) Test Error"
   ]
  },
  {
   "cell_type": "code",
   "execution_count": 123,
   "metadata": {},
   "outputs": [
    {
     "data": {
      "text/plain": [
       "130.40882937355306"
      ]
     },
     "execution_count": 123,
     "metadata": {},
     "output_type": "execute_result"
    }
   ],
   "source": [
    "y_pred = catb_model.predict(X_test)\n",
    "cat_base = np.sqrt(mean_squared_error(y_test, y_pred))\n",
    "cat_base"
   ]
  },
  {
   "cell_type": "markdown",
   "metadata": {},
   "source": [
    "### 8.3) Model Tuning"
   ]
  },
  {
   "cell_type": "code",
   "execution_count": 124,
   "metadata": {},
   "outputs": [],
   "source": [
    "catb_params = {\"iterations\": [500,1000,10000],\n",
    "              \"learning_rate\": [0.01,0.1,1],\n",
    "              \"depth\": [2,6,10]}"
   ]
  },
  {
   "cell_type": "code",
   "execution_count": 125,
   "metadata": {},
   "outputs": [],
   "source": [
    "catb_model = CatBoostRegressor()"
   ]
  },
  {
   "cell_type": "code",
   "execution_count": 126,
   "metadata": {
    "collapsed": true,
    "jupyter": {
     "outputs_hidden": true
    }
   },
   "outputs": [
    {
     "name": "stdout",
     "output_type": "stream",
     "text": [
      "Fitting 5 folds for each of 27 candidates, totalling 135 fits\n"
     ]
    },
    {
     "name": "stderr",
     "output_type": "stream",
     "text": [
      "[Parallel(n_jobs=-1)]: Using backend LokyBackend with 4 concurrent workers.\n",
      "[Parallel(n_jobs=-1)]: Done  33 tasks      | elapsed:   18.4s\n",
      "[Parallel(n_jobs=-1)]: Done 135 out of 135 | elapsed: 23.5min finished\n"
     ]
    },
    {
     "name": "stdout",
     "output_type": "stream",
     "text": [
      "0:\tlearn: 376.2421417\ttotal: 31.9ms\tremaining: 15.9s\n",
      "1:\tlearn: 358.7310913\ttotal: 49.8ms\tremaining: 12.4s\n",
      "2:\tlearn: 341.9548442\ttotal: 66.8ms\tremaining: 11.1s\n",
      "3:\tlearn: 326.5407673\ttotal: 82.9ms\tremaining: 10.3s\n",
      "4:\tlearn: 312.1424757\ttotal: 94.2ms\tremaining: 9.32s\n",
      "5:\tlearn: 299.8744010\ttotal: 106ms\tremaining: 8.69s\n",
      "6:\tlearn: 289.1460779\ttotal: 116ms\tremaining: 8.15s\n",
      "7:\tlearn: 279.3035420\ttotal: 125ms\tremaining: 7.7s\n",
      "8:\tlearn: 269.0798997\ttotal: 134ms\tremaining: 7.32s\n",
      "9:\tlearn: 260.1915025\ttotal: 145ms\tremaining: 7.11s\n",
      "10:\tlearn: 251.6088730\ttotal: 155ms\tremaining: 6.9s\n",
      "11:\tlearn: 244.3510282\ttotal: 165ms\tremaining: 6.69s\n",
      "12:\tlearn: 236.4782672\ttotal: 174ms\tremaining: 6.51s\n",
      "13:\tlearn: 229.8707437\ttotal: 187ms\tremaining: 6.5s\n",
      "14:\tlearn: 223.2277350\ttotal: 198ms\tremaining: 6.4s\n",
      "15:\tlearn: 217.5695223\ttotal: 207ms\tremaining: 6.26s\n",
      "16:\tlearn: 211.6290598\ttotal: 217ms\tremaining: 6.17s\n",
      "17:\tlearn: 206.0440874\ttotal: 228ms\tremaining: 6.1s\n",
      "18:\tlearn: 201.4040461\ttotal: 238ms\tremaining: 6.04s\n",
      "19:\tlearn: 196.2417809\ttotal: 249ms\tremaining: 5.97s\n",
      "20:\tlearn: 191.3651461\ttotal: 260ms\tremaining: 5.92s\n",
      "21:\tlearn: 186.8984898\ttotal: 269ms\tremaining: 5.84s\n",
      "22:\tlearn: 182.0681015\ttotal: 279ms\tremaining: 5.79s\n",
      "23:\tlearn: 178.6059929\ttotal: 288ms\tremaining: 5.72s\n",
      "24:\tlearn: 175.0488017\ttotal: 298ms\tremaining: 5.67s\n",
      "25:\tlearn: 171.2271864\ttotal: 309ms\tremaining: 5.64s\n",
      "26:\tlearn: 168.1377018\ttotal: 319ms\tremaining: 5.59s\n",
      "27:\tlearn: 165.8448065\ttotal: 328ms\tremaining: 5.54s\n",
      "28:\tlearn: 163.4598736\ttotal: 338ms\tremaining: 5.49s\n",
      "29:\tlearn: 161.1451738\ttotal: 348ms\tremaining: 5.46s\n",
      "30:\tlearn: 158.4651158\ttotal: 358ms\tremaining: 5.41s\n",
      "31:\tlearn: 155.8872471\ttotal: 368ms\tremaining: 5.38s\n",
      "32:\tlearn: 153.7155791\ttotal: 377ms\tremaining: 5.34s\n",
      "33:\tlearn: 150.6051863\ttotal: 387ms\tremaining: 5.3s\n",
      "34:\tlearn: 148.5138584\ttotal: 397ms\tremaining: 5.27s\n",
      "35:\tlearn: 145.0588032\ttotal: 406ms\tremaining: 5.23s\n",
      "36:\tlearn: 143.8509381\ttotal: 417ms\tremaining: 5.21s\n",
      "37:\tlearn: 141.4497679\ttotal: 427ms\tremaining: 5.19s\n",
      "38:\tlearn: 139.4894244\ttotal: 441ms\tremaining: 5.21s\n",
      "39:\tlearn: 137.3023808\ttotal: 451ms\tremaining: 5.18s\n",
      "40:\tlearn: 135.9802919\ttotal: 460ms\tremaining: 5.14s\n",
      "41:\tlearn: 134.1110179\ttotal: 471ms\tremaining: 5.13s\n",
      "42:\tlearn: 131.8020451\ttotal: 480ms\tremaining: 5.11s\n",
      "43:\tlearn: 130.0734876\ttotal: 490ms\tremaining: 5.08s\n",
      "44:\tlearn: 128.0914281\ttotal: 500ms\tremaining: 5.06s\n",
      "45:\tlearn: 125.8783923\ttotal: 509ms\tremaining: 5.03s\n",
      "46:\tlearn: 124.7979708\ttotal: 519ms\tremaining: 5s\n",
      "47:\tlearn: 123.5090311\ttotal: 529ms\tremaining: 4.98s\n",
      "48:\tlearn: 121.4238406\ttotal: 539ms\tremaining: 4.96s\n",
      "49:\tlearn: 119.6684739\ttotal: 548ms\tremaining: 4.93s\n",
      "50:\tlearn: 117.8478885\ttotal: 559ms\tremaining: 4.92s\n",
      "51:\tlearn: 116.2706663\ttotal: 569ms\tremaining: 4.9s\n",
      "52:\tlearn: 114.6477223\ttotal: 579ms\tremaining: 4.88s\n",
      "53:\tlearn: 113.1861170\ttotal: 588ms\tremaining: 4.86s\n",
      "54:\tlearn: 112.3834882\ttotal: 598ms\tremaining: 4.84s\n",
      "55:\tlearn: 111.2442014\ttotal: 607ms\tremaining: 4.81s\n",
      "56:\tlearn: 109.3078246\ttotal: 617ms\tremaining: 4.79s\n",
      "57:\tlearn: 107.9052985\ttotal: 627ms\tremaining: 4.78s\n",
      "58:\tlearn: 106.6327737\ttotal: 639ms\tremaining: 4.77s\n",
      "59:\tlearn: 105.3827480\ttotal: 649ms\tremaining: 4.76s\n",
      "60:\tlearn: 104.1057301\ttotal: 659ms\tremaining: 4.74s\n",
      "61:\tlearn: 102.4843928\ttotal: 670ms\tremaining: 4.73s\n",
      "62:\tlearn: 101.2069781\ttotal: 679ms\tremaining: 4.71s\n",
      "63:\tlearn: 100.0693582\ttotal: 689ms\tremaining: 4.69s\n",
      "64:\tlearn: 99.3008397\ttotal: 698ms\tremaining: 4.67s\n",
      "65:\tlearn: 98.1052573\ttotal: 708ms\tremaining: 4.66s\n",
      "66:\tlearn: 96.8629108\ttotal: 719ms\tremaining: 4.64s\n",
      "67:\tlearn: 95.5956991\ttotal: 729ms\tremaining: 4.63s\n",
      "68:\tlearn: 94.7723141\ttotal: 738ms\tremaining: 4.61s\n",
      "69:\tlearn: 93.0553432\ttotal: 748ms\tremaining: 4.59s\n",
      "70:\tlearn: 91.8892865\ttotal: 758ms\tremaining: 4.58s\n",
      "71:\tlearn: 90.7317501\ttotal: 769ms\tremaining: 4.57s\n",
      "72:\tlearn: 89.3909323\ttotal: 779ms\tremaining: 4.55s\n",
      "73:\tlearn: 88.4992888\ttotal: 788ms\tremaining: 4.54s\n",
      "74:\tlearn: 87.1192549\ttotal: 798ms\tremaining: 4.52s\n",
      "75:\tlearn: 85.7910915\ttotal: 807ms\tremaining: 4.5s\n",
      "76:\tlearn: 84.9946746\ttotal: 817ms\tremaining: 4.49s\n",
      "77:\tlearn: 84.8771131\ttotal: 818ms\tremaining: 4.42s\n",
      "78:\tlearn: 84.3821440\ttotal: 828ms\tremaining: 4.41s\n",
      "79:\tlearn: 83.7488939\ttotal: 839ms\tremaining: 4.4s\n",
      "80:\tlearn: 83.2223300\ttotal: 848ms\tremaining: 4.39s\n",
      "81:\tlearn: 82.5644009\ttotal: 858ms\tremaining: 4.37s\n",
      "82:\tlearn: 81.1714595\ttotal: 868ms\tremaining: 4.36s\n",
      "83:\tlearn: 79.8112669\ttotal: 877ms\tremaining: 4.34s\n",
      "84:\tlearn: 79.4099152\ttotal: 887ms\tremaining: 4.33s\n",
      "85:\tlearn: 78.9105372\ttotal: 896ms\tremaining: 4.32s\n",
      "86:\tlearn: 78.2306447\ttotal: 906ms\tremaining: 4.3s\n",
      "87:\tlearn: 77.6163163\ttotal: 916ms\tremaining: 4.29s\n",
      "88:\tlearn: 76.8980535\ttotal: 925ms\tremaining: 4.27s\n",
      "89:\tlearn: 76.1187068\ttotal: 935ms\tremaining: 4.26s\n",
      "90:\tlearn: 75.7089563\ttotal: 944ms\tremaining: 4.24s\n",
      "91:\tlearn: 74.9821169\ttotal: 954ms\tremaining: 4.23s\n",
      "92:\tlearn: 74.5744186\ttotal: 964ms\tremaining: 4.22s\n",
      "93:\tlearn: 73.8131880\ttotal: 973ms\tremaining: 4.2s\n",
      "94:\tlearn: 73.1965539\ttotal: 983ms\tremaining: 4.19s\n",
      "95:\tlearn: 72.7262494\ttotal: 994ms\tremaining: 4.18s\n",
      "96:\tlearn: 72.0081641\ttotal: 1s\tremaining: 4.17s\n",
      "97:\tlearn: 71.4544419\ttotal: 1.01s\tremaining: 4.16s\n",
      "98:\tlearn: 71.1709854\ttotal: 1.02s\tremaining: 4.14s\n",
      "99:\tlearn: 70.9439972\ttotal: 1.03s\tremaining: 4.13s\n",
      "100:\tlearn: 70.2104830\ttotal: 1.04s\tremaining: 4.13s\n",
      "101:\tlearn: 69.7883591\ttotal: 1.05s\tremaining: 4.12s\n",
      "102:\tlearn: 68.5652742\ttotal: 1.06s\tremaining: 4.1s\n",
      "103:\tlearn: 67.9894595\ttotal: 1.07s\tremaining: 4.09s\n",
      "104:\tlearn: 67.5155356\ttotal: 1.08s\tremaining: 4.07s\n",
      "105:\tlearn: 67.0527323\ttotal: 1.09s\tremaining: 4.06s\n",
      "106:\tlearn: 66.8086734\ttotal: 1.1s\tremaining: 4.05s\n",
      "107:\tlearn: 65.9834386\ttotal: 1.11s\tremaining: 4.04s\n",
      "108:\tlearn: 65.2043013\ttotal: 1.12s\tremaining: 4.02s\n",
      "109:\tlearn: 64.7288574\ttotal: 1.13s\tremaining: 4.01s\n",
      "110:\tlearn: 64.1659539\ttotal: 1.14s\tremaining: 4s\n",
      "111:\tlearn: 63.9001923\ttotal: 1.15s\tremaining: 3.98s\n",
      "112:\tlearn: 63.3125453\ttotal: 1.16s\tremaining: 3.97s\n",
      "113:\tlearn: 62.3565510\ttotal: 1.17s\tremaining: 3.96s\n",
      "114:\tlearn: 61.7280269\ttotal: 1.18s\tremaining: 3.95s\n",
      "115:\tlearn: 61.1539067\ttotal: 1.19s\tremaining: 3.94s\n",
      "116:\tlearn: 60.8195601\ttotal: 1.2s\tremaining: 3.93s\n",
      "117:\tlearn: 60.3326114\ttotal: 1.21s\tremaining: 3.92s\n",
      "118:\tlearn: 60.0016392\ttotal: 1.22s\tremaining: 3.91s\n",
      "119:\tlearn: 59.2808274\ttotal: 1.23s\tremaining: 3.9s\n",
      "120:\tlearn: 58.7405904\ttotal: 1.24s\tremaining: 3.88s\n",
      "121:\tlearn: 58.1842679\ttotal: 1.25s\tremaining: 3.88s\n",
      "122:\tlearn: 57.3068139\ttotal: 1.26s\tremaining: 3.87s\n",
      "123:\tlearn: 57.0185336\ttotal: 1.27s\tremaining: 3.86s\n",
      "124:\tlearn: 56.7323699\ttotal: 1.28s\tremaining: 3.85s\n",
      "125:\tlearn: 55.9736352\ttotal: 1.29s\tremaining: 3.84s\n",
      "126:\tlearn: 55.2137730\ttotal: 1.3s\tremaining: 3.83s\n",
      "127:\tlearn: 55.1220127\ttotal: 1.31s\tremaining: 3.81s\n",
      "128:\tlearn: 54.8073689\ttotal: 1.32s\tremaining: 3.8s\n",
      "129:\tlearn: 54.5244073\ttotal: 1.33s\tremaining: 3.79s\n",
      "130:\tlearn: 53.7776121\ttotal: 1.34s\tremaining: 3.78s\n",
      "131:\tlearn: 53.3203360\ttotal: 1.35s\tremaining: 3.77s\n",
      "132:\tlearn: 52.8897027\ttotal: 1.36s\tremaining: 3.76s\n",
      "133:\tlearn: 52.5183422\ttotal: 1.37s\tremaining: 3.75s\n",
      "134:\tlearn: 52.4627716\ttotal: 1.37s\tremaining: 3.71s\n",
      "135:\tlearn: 51.7776942\ttotal: 1.38s\tremaining: 3.7s\n",
      "136:\tlearn: 51.5074045\ttotal: 1.39s\tremaining: 3.67s\n",
      "137:\tlearn: 50.9557185\ttotal: 1.4s\tremaining: 3.66s\n",
      "138:\tlearn: 50.7726998\ttotal: 1.4s\tremaining: 3.64s\n",
      "139:\tlearn: 50.4246709\ttotal: 1.41s\tremaining: 3.63s\n",
      "140:\tlearn: 49.7589835\ttotal: 1.42s\tremaining: 3.62s\n",
      "141:\tlearn: 49.1708790\ttotal: 1.43s\tremaining: 3.61s\n",
      "142:\tlearn: 48.9788231\ttotal: 1.44s\tremaining: 3.58s\n",
      "143:\tlearn: 48.4702022\ttotal: 1.44s\tremaining: 3.57s\n",
      "144:\tlearn: 47.9762458\ttotal: 1.46s\tremaining: 3.57s\n",
      "145:\tlearn: 47.7851490\ttotal: 1.47s\tremaining: 3.56s\n",
      "146:\tlearn: 47.2151310\ttotal: 1.48s\tremaining: 3.55s\n",
      "147:\tlearn: 46.5262566\ttotal: 1.49s\tremaining: 3.54s\n",
      "148:\tlearn: 46.4397980\ttotal: 1.5s\tremaining: 3.53s\n",
      "149:\tlearn: 45.7208111\ttotal: 1.51s\tremaining: 3.52s\n",
      "150:\tlearn: 45.5331132\ttotal: 1.52s\tremaining: 3.51s\n",
      "151:\tlearn: 44.9267305\ttotal: 1.53s\tremaining: 3.5s\n",
      "152:\tlearn: 44.7768315\ttotal: 1.54s\tremaining: 3.49s\n",
      "153:\tlearn: 44.4350367\ttotal: 1.55s\tremaining: 3.48s\n",
      "154:\tlearn: 43.8616491\ttotal: 1.56s\tremaining: 3.47s\n",
      "155:\tlearn: 43.3443708\ttotal: 1.57s\tremaining: 3.46s\n",
      "156:\tlearn: 43.2087865\ttotal: 1.58s\tremaining: 3.45s\n",
      "157:\tlearn: 42.7227771\ttotal: 1.59s\tremaining: 3.44s\n",
      "158:\tlearn: 42.5837396\ttotal: 1.6s\tremaining: 3.42s\n",
      "159:\tlearn: 41.9815580\ttotal: 1.61s\tremaining: 3.42s\n",
      "160:\tlearn: 41.2195580\ttotal: 1.62s\tremaining: 3.4s\n",
      "161:\tlearn: 41.0311828\ttotal: 1.62s\tremaining: 3.38s\n",
      "162:\tlearn: 40.8268203\ttotal: 1.63s\tremaining: 3.37s\n",
      "163:\tlearn: 40.4836254\ttotal: 1.64s\tremaining: 3.35s\n",
      "164:\tlearn: 40.4299769\ttotal: 1.64s\tremaining: 3.33s\n",
      "165:\tlearn: 39.8138249\ttotal: 1.65s\tremaining: 3.32s\n",
      "166:\tlearn: 39.3648286\ttotal: 1.66s\tremaining: 3.32s\n",
      "167:\tlearn: 38.7718914\ttotal: 1.67s\tremaining: 3.31s\n",
      "168:\tlearn: 38.7115940\ttotal: 1.68s\tremaining: 3.29s\n",
      "169:\tlearn: 38.4999919\ttotal: 1.69s\tremaining: 3.28s\n",
      "170:\tlearn: 38.1586669\ttotal: 1.7s\tremaining: 3.27s\n",
      "171:\tlearn: 37.9512649\ttotal: 1.71s\tremaining: 3.26s\n",
      "172:\tlearn: 37.4899041\ttotal: 1.72s\tremaining: 3.25s\n",
      "173:\tlearn: 37.2520866\ttotal: 1.73s\tremaining: 3.23s\n",
      "174:\tlearn: 36.8870462\ttotal: 1.74s\tremaining: 3.22s\n",
      "175:\tlearn: 36.6327123\ttotal: 1.74s\tremaining: 3.21s\n",
      "176:\tlearn: 36.0982465\ttotal: 1.75s\tremaining: 3.2s\n",
      "177:\tlearn: 36.0184864\ttotal: 1.76s\tremaining: 3.19s\n",
      "178:\tlearn: 35.7296023\ttotal: 1.77s\tremaining: 3.18s\n",
      "179:\tlearn: 35.2194509\ttotal: 1.78s\tremaining: 3.17s\n",
      "180:\tlearn: 35.1687616\ttotal: 1.79s\tremaining: 3.15s\n",
      "181:\tlearn: 35.0277500\ttotal: 1.8s\tremaining: 3.14s\n",
      "182:\tlearn: 34.6637475\ttotal: 1.81s\tremaining: 3.13s\n",
      "183:\tlearn: 34.4918687\ttotal: 1.81s\tremaining: 3.12s\n",
      "184:\tlearn: 34.1509829\ttotal: 1.83s\tremaining: 3.11s\n",
      "185:\tlearn: 33.7770117\ttotal: 1.84s\tremaining: 3.1s\n",
      "186:\tlearn: 33.1566405\ttotal: 1.85s\tremaining: 3.09s\n",
      "187:\tlearn: 33.1283055\ttotal: 1.85s\tremaining: 3.06s\n",
      "188:\tlearn: 32.5411933\ttotal: 1.86s\tremaining: 3.06s\n",
      "189:\tlearn: 32.2545322\ttotal: 1.87s\tremaining: 3.05s\n",
      "190:\tlearn: 31.8830357\ttotal: 1.88s\tremaining: 3.04s\n",
      "191:\tlearn: 31.6441650\ttotal: 1.89s\tremaining: 3.03s\n",
      "192:\tlearn: 31.0693574\ttotal: 1.9s\tremaining: 3.02s\n",
      "193:\tlearn: 31.0250638\ttotal: 1.91s\tremaining: 3.01s\n",
      "194:\tlearn: 30.9096444\ttotal: 1.91s\tremaining: 2.99s\n",
      "195:\tlearn: 30.5213106\ttotal: 1.92s\tremaining: 2.98s\n",
      "196:\tlearn: 30.2190356\ttotal: 1.93s\tremaining: 2.97s\n",
      "197:\tlearn: 29.8834750\ttotal: 1.94s\tremaining: 2.96s\n",
      "198:\tlearn: 29.7536299\ttotal: 1.95s\tremaining: 2.95s\n",
      "199:\tlearn: 29.5610226\ttotal: 1.96s\tremaining: 2.94s\n",
      "200:\tlearn: 29.4356954\ttotal: 1.97s\tremaining: 2.93s\n",
      "201:\tlearn: 29.3414976\ttotal: 1.98s\tremaining: 2.92s\n",
      "202:\tlearn: 28.9233229\ttotal: 1.99s\tremaining: 2.91s\n",
      "203:\tlearn: 28.4777656\ttotal: 2s\tremaining: 2.9s\n",
      "204:\tlearn: 28.3015994\ttotal: 2.01s\tremaining: 2.89s\n",
      "205:\tlearn: 27.9616609\ttotal: 2.02s\tremaining: 2.88s\n",
      "206:\tlearn: 27.7459639\ttotal: 2.03s\tremaining: 2.87s\n",
      "207:\tlearn: 27.6567110\ttotal: 2.04s\tremaining: 2.86s\n",
      "208:\tlearn: 27.2384807\ttotal: 2.05s\tremaining: 2.85s\n",
      "209:\tlearn: 26.7955173\ttotal: 2.06s\tremaining: 2.84s\n",
      "210:\tlearn: 26.7238713\ttotal: 2.07s\tremaining: 2.83s\n",
      "211:\tlearn: 26.5886655\ttotal: 2.08s\tremaining: 2.83s\n",
      "212:\tlearn: 26.4695039\ttotal: 2.09s\tremaining: 2.82s\n",
      "213:\tlearn: 26.3741332\ttotal: 2.1s\tremaining: 2.81s\n",
      "214:\tlearn: 26.1771489\ttotal: 2.11s\tremaining: 2.79s\n",
      "215:\tlearn: 25.8152312\ttotal: 2.12s\tremaining: 2.79s\n",
      "216:\tlearn: 25.6233936\ttotal: 2.13s\tremaining: 2.77s\n",
      "217:\tlearn: 25.5122674\ttotal: 2.14s\tremaining: 2.77s\n",
      "218:\tlearn: 25.3012166\ttotal: 2.15s\tremaining: 2.75s\n",
      "219:\tlearn: 25.2118222\ttotal: 2.16s\tremaining: 2.75s\n",
      "220:\tlearn: 24.9276271\ttotal: 2.17s\tremaining: 2.73s\n",
      "221:\tlearn: 24.7842720\ttotal: 2.18s\tremaining: 2.73s\n",
      "222:\tlearn: 24.7350058\ttotal: 2.19s\tremaining: 2.71s\n",
      "223:\tlearn: 24.5382891\ttotal: 2.2s\tremaining: 2.71s\n",
      "224:\tlearn: 24.5156822\ttotal: 2.2s\tremaining: 2.69s\n",
      "225:\tlearn: 24.2702231\ttotal: 2.2s\tremaining: 2.67s\n",
      "226:\tlearn: 24.0069381\ttotal: 2.21s\tremaining: 2.66s\n",
      "227:\tlearn: 23.9807979\ttotal: 2.21s\tremaining: 2.64s\n",
      "228:\tlearn: 23.5637052\ttotal: 2.22s\tremaining: 2.63s\n",
      "229:\tlearn: 23.3977227\ttotal: 2.23s\tremaining: 2.62s\n",
      "230:\tlearn: 23.3410627\ttotal: 2.24s\tremaining: 2.61s\n",
      "231:\tlearn: 23.0018803\ttotal: 2.25s\tremaining: 2.6s\n",
      "232:\tlearn: 22.7984398\ttotal: 2.26s\tremaining: 2.59s\n",
      "233:\tlearn: 22.7770113\ttotal: 2.27s\tremaining: 2.58s\n",
      "234:\tlearn: 22.4275421\ttotal: 2.28s\tremaining: 2.57s\n",
      "235:\tlearn: 22.2671159\ttotal: 2.29s\tremaining: 2.56s\n",
      "236:\tlearn: 22.1641570\ttotal: 2.3s\tremaining: 2.55s\n",
      "237:\tlearn: 21.9891976\ttotal: 2.31s\tremaining: 2.54s\n",
      "238:\tlearn: 21.7444749\ttotal: 2.32s\tremaining: 2.53s\n",
      "239:\tlearn: 21.7230301\ttotal: 2.32s\tremaining: 2.51s\n",
      "240:\tlearn: 21.7033108\ttotal: 2.32s\tremaining: 2.5s\n",
      "241:\tlearn: 21.5280567\ttotal: 2.33s\tremaining: 2.48s\n",
      "242:\tlearn: 21.2999265\ttotal: 2.34s\tremaining: 2.48s\n",
      "243:\tlearn: 21.0502805\ttotal: 2.35s\tremaining: 2.46s\n",
      "244:\tlearn: 20.7601402\ttotal: 2.36s\tremaining: 2.46s\n",
      "245:\tlearn: 20.5578144\ttotal: 2.37s\tremaining: 2.45s\n",
      "246:\tlearn: 20.2055970\ttotal: 2.38s\tremaining: 2.44s\n",
      "247:\tlearn: 20.0010552\ttotal: 2.39s\tremaining: 2.43s\n",
      "248:\tlearn: 19.6463908\ttotal: 2.4s\tremaining: 2.42s\n",
      "249:\tlearn: 19.4333034\ttotal: 2.41s\tremaining: 2.41s\n",
      "250:\tlearn: 19.3328019\ttotal: 2.42s\tremaining: 2.4s\n",
      "251:\tlearn: 19.1247837\ttotal: 2.43s\tremaining: 2.39s\n",
      "252:\tlearn: 18.9168612\ttotal: 2.44s\tremaining: 2.38s\n",
      "253:\tlearn: 18.7097441\ttotal: 2.45s\tremaining: 2.37s\n",
      "254:\tlearn: 18.6356531\ttotal: 2.46s\tremaining: 2.36s\n",
      "255:\tlearn: 18.6037597\ttotal: 2.47s\tremaining: 2.35s\n",
      "256:\tlearn: 18.3253636\ttotal: 2.48s\tremaining: 2.34s\n",
      "257:\tlearn: 18.2113681\ttotal: 2.49s\tremaining: 2.33s\n",
      "258:\tlearn: 17.9265447\ttotal: 2.5s\tremaining: 2.32s\n",
      "259:\tlearn: 17.8509598\ttotal: 2.51s\tremaining: 2.31s\n",
      "260:\tlearn: 17.5988219\ttotal: 2.52s\tremaining: 2.3s\n",
      "261:\tlearn: 17.4655399\ttotal: 2.52s\tremaining: 2.29s\n",
      "262:\tlearn: 17.3515024\ttotal: 2.53s\tremaining: 2.28s\n",
      "263:\tlearn: 17.3091662\ttotal: 2.54s\tremaining: 2.27s\n",
      "264:\tlearn: 17.1481062\ttotal: 2.55s\tremaining: 2.26s\n",
      "265:\tlearn: 16.9533657\ttotal: 2.56s\tremaining: 2.25s\n",
      "266:\tlearn: 16.9428696\ttotal: 2.56s\tremaining: 2.23s\n",
      "267:\tlearn: 16.8137962\ttotal: 2.57s\tremaining: 2.23s\n",
      "268:\tlearn: 16.5895842\ttotal: 2.58s\tremaining: 2.22s\n",
      "269:\tlearn: 16.5009327\ttotal: 2.59s\tremaining: 2.21s\n",
      "270:\tlearn: 16.4139082\ttotal: 2.6s\tremaining: 2.2s\n",
      "271:\tlearn: 16.3873839\ttotal: 2.61s\tremaining: 2.19s\n",
      "272:\tlearn: 16.3434074\ttotal: 2.62s\tremaining: 2.18s\n",
      "273:\tlearn: 16.2571582\ttotal: 2.63s\tremaining: 2.17s\n",
      "274:\tlearn: 16.1355099\ttotal: 2.64s\tremaining: 2.16s\n",
      "275:\tlearn: 16.1231019\ttotal: 2.65s\tremaining: 2.15s\n",
      "276:\tlearn: 15.9368248\ttotal: 2.66s\tremaining: 2.14s\n",
      "277:\tlearn: 15.8612219\ttotal: 2.67s\tremaining: 2.13s\n",
      "278:\tlearn: 15.7800588\ttotal: 2.68s\tremaining: 2.12s\n",
      "279:\tlearn: 15.6291190\ttotal: 2.69s\tremaining: 2.11s\n",
      "280:\tlearn: 15.4377915\ttotal: 2.7s\tremaining: 2.1s\n",
      "281:\tlearn: 15.4276165\ttotal: 2.7s\tremaining: 2.09s\n",
      "282:\tlearn: 15.3410654\ttotal: 2.71s\tremaining: 2.08s\n",
      "283:\tlearn: 15.2162338\ttotal: 2.72s\tremaining: 2.07s\n",
      "284:\tlearn: 15.0751126\ttotal: 2.73s\tremaining: 2.06s\n",
      "285:\tlearn: 15.0066773\ttotal: 2.74s\tremaining: 2.05s\n",
      "286:\tlearn: 14.8349562\ttotal: 2.75s\tremaining: 2.04s\n",
      "287:\tlearn: 14.6992102\ttotal: 2.76s\tremaining: 2.03s\n",
      "288:\tlearn: 14.6618999\ttotal: 2.77s\tremaining: 2.02s\n",
      "289:\tlearn: 14.5060173\ttotal: 2.78s\tremaining: 2.01s\n",
      "290:\tlearn: 14.4396187\ttotal: 2.79s\tremaining: 2s\n",
      "291:\tlearn: 14.2863283\ttotal: 2.8s\tremaining: 1.99s\n",
      "292:\tlearn: 14.2342261\ttotal: 2.81s\tremaining: 1.98s\n",
      "293:\tlearn: 14.0747912\ttotal: 2.82s\tremaining: 1.97s\n",
      "294:\tlearn: 14.0299700\ttotal: 2.83s\tremaining: 1.97s\n",
      "295:\tlearn: 13.9470472\ttotal: 2.84s\tremaining: 1.96s\n",
      "296:\tlearn: 13.9105446\ttotal: 2.85s\tremaining: 1.95s\n",
      "297:\tlearn: 13.8392427\ttotal: 2.86s\tremaining: 1.94s\n",
      "298:\tlearn: 13.7189148\ttotal: 2.86s\tremaining: 1.92s\n",
      "299:\tlearn: 13.6430155\ttotal: 2.87s\tremaining: 1.92s\n",
      "300:\tlearn: 13.5706077\ttotal: 2.88s\tremaining: 1.91s\n",
      "301:\tlearn: 13.5261326\ttotal: 2.89s\tremaining: 1.9s\n",
      "302:\tlearn: 13.3608230\ttotal: 2.9s\tremaining: 1.89s\n",
      "303:\tlearn: 13.3020630\ttotal: 2.91s\tremaining: 1.88s\n",
      "304:\tlearn: 13.1459890\ttotal: 2.92s\tremaining: 1.87s\n",
      "305:\tlearn: 13.0281994\ttotal: 2.93s\tremaining: 1.86s\n",
      "306:\tlearn: 12.8940451\ttotal: 2.94s\tremaining: 1.85s\n",
      "307:\tlearn: 12.7755270\ttotal: 2.95s\tremaining: 1.84s\n",
      "308:\tlearn: 12.6145141\ttotal: 2.96s\tremaining: 1.83s\n",
      "309:\tlearn: 12.4237297\ttotal: 2.97s\tremaining: 1.82s\n",
      "310:\tlearn: 12.3439000\ttotal: 2.98s\tremaining: 1.81s\n",
      "311:\tlearn: 12.2285445\ttotal: 2.99s\tremaining: 1.8s\n",
      "312:\tlearn: 12.2083814\ttotal: 2.99s\tremaining: 1.79s\n",
      "313:\tlearn: 12.1505789\ttotal: 3s\tremaining: 1.78s\n",
      "314:\tlearn: 12.0076758\ttotal: 3.01s\tremaining: 1.77s\n",
      "315:\tlearn: 11.9944036\ttotal: 3.02s\tremaining: 1.76s\n",
      "316:\tlearn: 11.9067771\ttotal: 3.03s\tremaining: 1.75s\n",
      "317:\tlearn: 11.8035202\ttotal: 3.04s\tremaining: 1.74s\n",
      "318:\tlearn: 11.7524858\ttotal: 3.05s\tremaining: 1.73s\n",
      "319:\tlearn: 11.6620567\ttotal: 3.06s\tremaining: 1.72s\n",
      "320:\tlearn: 11.5633161\ttotal: 3.07s\tremaining: 1.71s\n",
      "321:\tlearn: 11.5030863\ttotal: 3.08s\tremaining: 1.7s\n",
      "322:\tlearn: 11.4336778\ttotal: 3.08s\tremaining: 1.69s\n",
      "323:\tlearn: 11.3835888\ttotal: 3.1s\tremaining: 1.68s\n",
      "324:\tlearn: 11.3392263\ttotal: 3.1s\tremaining: 1.67s\n",
      "325:\tlearn: 11.2050158\ttotal: 3.11s\tremaining: 1.66s\n",
      "326:\tlearn: 11.1618459\ttotal: 3.12s\tremaining: 1.65s\n",
      "327:\tlearn: 11.1049812\ttotal: 3.13s\tremaining: 1.64s\n",
      "328:\tlearn: 10.9987022\ttotal: 3.14s\tremaining: 1.63s\n",
      "329:\tlearn: 10.8862635\ttotal: 3.15s\tremaining: 1.63s\n",
      "330:\tlearn: 10.8648398\ttotal: 3.17s\tremaining: 1.62s\n",
      "331:\tlearn: 10.7949856\ttotal: 3.17s\tremaining: 1.61s\n",
      "332:\tlearn: 10.7129472\ttotal: 3.19s\tremaining: 1.6s\n",
      "333:\tlearn: 10.6839785\ttotal: 3.19s\tremaining: 1.59s\n",
      "334:\tlearn: 10.6603451\ttotal: 3.2s\tremaining: 1.57s\n",
      "335:\tlearn: 10.5456851\ttotal: 3.21s\tremaining: 1.56s\n",
      "336:\tlearn: 10.4659490\ttotal: 3.22s\tremaining: 1.56s\n",
      "337:\tlearn: 10.4072089\ttotal: 3.23s\tremaining: 1.55s\n",
      "338:\tlearn: 10.3765272\ttotal: 3.24s\tremaining: 1.54s\n",
      "339:\tlearn: 10.3608805\ttotal: 3.25s\tremaining: 1.53s\n",
      "340:\tlearn: 10.3458418\ttotal: 3.25s\tremaining: 1.51s\n",
      "341:\tlearn: 10.2475755\ttotal: 3.26s\tremaining: 1.51s\n",
      "342:\tlearn: 10.1929094\ttotal: 3.27s\tremaining: 1.5s\n",
      "343:\tlearn: 10.1663168\ttotal: 3.28s\tremaining: 1.49s\n",
      "344:\tlearn: 10.1311943\ttotal: 3.29s\tremaining: 1.48s\n",
      "345:\tlearn: 10.0813482\ttotal: 3.3s\tremaining: 1.47s\n",
      "346:\tlearn: 9.9442442\ttotal: 3.31s\tremaining: 1.46s\n",
      "347:\tlearn: 9.8252220\ttotal: 3.32s\tremaining: 1.45s\n",
      "348:\tlearn: 9.6603348\ttotal: 3.33s\tremaining: 1.44s\n",
      "349:\tlearn: 9.6517137\ttotal: 3.34s\tremaining: 1.43s\n",
      "350:\tlearn: 9.5993160\ttotal: 3.35s\tremaining: 1.42s\n",
      "351:\tlearn: 9.5739891\ttotal: 3.36s\tremaining: 1.41s\n",
      "352:\tlearn: 9.4487685\ttotal: 3.37s\tremaining: 1.4s\n",
      "353:\tlearn: 9.4420048\ttotal: 3.38s\tremaining: 1.39s\n",
      "354:\tlearn: 9.3581734\ttotal: 3.39s\tremaining: 1.38s\n",
      "355:\tlearn: 9.2782807\ttotal: 3.4s\tremaining: 1.37s\n",
      "356:\tlearn: 9.2580992\ttotal: 3.41s\tremaining: 1.36s\n",
      "357:\tlearn: 9.1685858\ttotal: 3.42s\tremaining: 1.36s\n",
      "358:\tlearn: 9.1481671\ttotal: 3.43s\tremaining: 1.35s\n",
      "359:\tlearn: 9.0334828\ttotal: 3.44s\tremaining: 1.34s\n",
      "360:\tlearn: 8.9688467\ttotal: 3.45s\tremaining: 1.33s\n",
      "361:\tlearn: 8.9599919\ttotal: 3.46s\tremaining: 1.32s\n",
      "362:\tlearn: 8.9443551\ttotal: 3.47s\tremaining: 1.31s\n",
      "363:\tlearn: 8.8900186\ttotal: 3.48s\tremaining: 1.3s\n",
      "364:\tlearn: 8.7802243\ttotal: 3.49s\tremaining: 1.29s\n",
      "365:\tlearn: 8.6720608\ttotal: 3.5s\tremaining: 1.28s\n",
      "366:\tlearn: 8.5466256\ttotal: 3.51s\tremaining: 1.27s\n",
      "367:\tlearn: 8.5079582\ttotal: 3.52s\tremaining: 1.26s\n",
      "368:\tlearn: 8.4994228\ttotal: 3.53s\tremaining: 1.25s\n",
      "369:\tlearn: 8.4939723\ttotal: 3.54s\tremaining: 1.24s\n",
      "370:\tlearn: 8.4438043\ttotal: 3.55s\tremaining: 1.23s\n",
      "371:\tlearn: 8.4285320\ttotal: 3.56s\tremaining: 1.22s\n",
      "372:\tlearn: 8.3417154\ttotal: 3.57s\tremaining: 1.21s\n",
      "373:\tlearn: 8.3327076\ttotal: 3.58s\tremaining: 1.2s\n",
      "374:\tlearn: 8.2779154\ttotal: 3.58s\tremaining: 1.2s\n",
      "375:\tlearn: 8.2453989\ttotal: 3.6s\tremaining: 1.19s\n",
      "376:\tlearn: 8.1389477\ttotal: 3.6s\tremaining: 1.18s\n",
      "377:\tlearn: 8.0956276\ttotal: 3.62s\tremaining: 1.17s\n",
      "378:\tlearn: 8.0592091\ttotal: 3.63s\tremaining: 1.16s\n",
      "379:\tlearn: 7.9906319\ttotal: 3.63s\tremaining: 1.15s\n",
      "380:\tlearn: 7.9448576\ttotal: 3.64s\tremaining: 1.14s\n",
      "381:\tlearn: 7.8980476\ttotal: 3.65s\tremaining: 1.13s\n",
      "382:\tlearn: 7.8648155\ttotal: 3.66s\tremaining: 1.12s\n",
      "383:\tlearn: 7.7782363\ttotal: 3.67s\tremaining: 1.11s\n",
      "384:\tlearn: 7.7246792\ttotal: 3.68s\tremaining: 1.1s\n",
      "385:\tlearn: 7.6916917\ttotal: 3.69s\tremaining: 1.09s\n",
      "386:\tlearn: 7.6855108\ttotal: 3.71s\tremaining: 1.08s\n",
      "387:\tlearn: 7.6699247\ttotal: 3.71s\tremaining: 1.07s\n",
      "388:\tlearn: 7.6509199\ttotal: 3.71s\tremaining: 1.06s\n",
      "389:\tlearn: 7.5738444\ttotal: 3.73s\tremaining: 1.05s\n",
      "390:\tlearn: 7.5018538\ttotal: 3.73s\tremaining: 1.04s\n",
      "391:\tlearn: 7.4953092\ttotal: 3.75s\tremaining: 1.03s\n",
      "392:\tlearn: 7.4891546\ttotal: 3.75s\tremaining: 1.02s\n",
      "393:\tlearn: 7.4096776\ttotal: 3.76s\tremaining: 1.01s\n",
      "394:\tlearn: 7.3897193\ttotal: 3.76s\tremaining: 1s\n",
      "395:\tlearn: 7.2663317\ttotal: 3.77s\tremaining: 991ms\n",
      "396:\tlearn: 7.2027902\ttotal: 3.78s\tremaining: 982ms\n",
      "397:\tlearn: 7.1373862\ttotal: 3.79s\tremaining: 972ms\n",
      "398:\tlearn: 7.1013182\ttotal: 3.8s\tremaining: 963ms\n",
      "399:\tlearn: 7.0507277\ttotal: 3.81s\tremaining: 953ms\n",
      "400:\tlearn: 7.0303427\ttotal: 3.82s\tremaining: 944ms\n",
      "401:\tlearn: 6.9932003\ttotal: 3.83s\tremaining: 934ms\n",
      "402:\tlearn: 6.9043273\ttotal: 3.84s\tremaining: 925ms\n",
      "403:\tlearn: 6.8483138\ttotal: 3.85s\tremaining: 915ms\n",
      "404:\tlearn: 6.8069759\ttotal: 3.86s\tremaining: 905ms\n",
      "405:\tlearn: 6.8009111\ttotal: 3.87s\tremaining: 896ms\n",
      "406:\tlearn: 6.7908128\ttotal: 3.88s\tremaining: 887ms\n",
      "407:\tlearn: 6.7360699\ttotal: 3.89s\tremaining: 877ms\n",
      "408:\tlearn: 6.7256464\ttotal: 3.9s\tremaining: 868ms\n",
      "409:\tlearn: 6.6437216\ttotal: 3.91s\tremaining: 859ms\n",
      "410:\tlearn: 6.6380222\ttotal: 3.92s\tremaining: 849ms\n",
      "411:\tlearn: 6.6314707\ttotal: 3.93s\tremaining: 839ms\n",
      "412:\tlearn: 6.5934212\ttotal: 3.94s\tremaining: 830ms\n",
      "413:\tlearn: 6.5242273\ttotal: 3.95s\tremaining: 820ms\n",
      "414:\tlearn: 6.4963466\ttotal: 3.96s\tremaining: 811ms\n",
      "415:\tlearn: 6.4668488\ttotal: 3.97s\tremaining: 801ms\n",
      "416:\tlearn: 6.4399512\ttotal: 3.98s\tremaining: 792ms\n",
      "417:\tlearn: 6.4100488\ttotal: 3.99s\tremaining: 783ms\n",
      "418:\tlearn: 6.4022682\ttotal: 4s\tremaining: 773ms\n",
      "419:\tlearn: 6.3486178\ttotal: 4.01s\tremaining: 764ms\n",
      "420:\tlearn: 6.2712904\ttotal: 4.02s\tremaining: 754ms\n",
      "421:\tlearn: 6.2411299\ttotal: 4.03s\tremaining: 745ms\n",
      "422:\tlearn: 6.2000703\ttotal: 4.04s\tremaining: 736ms\n",
      "423:\tlearn: 6.1834749\ttotal: 4.05s\tremaining: 726ms\n",
      "424:\tlearn: 6.1319560\ttotal: 4.06s\tremaining: 717ms\n",
      "425:\tlearn: 6.1058491\ttotal: 4.07s\tremaining: 707ms\n",
      "426:\tlearn: 6.0091099\ttotal: 4.08s\tremaining: 697ms\n",
      "427:\tlearn: 5.9396852\ttotal: 4.09s\tremaining: 688ms\n",
      "428:\tlearn: 5.9368387\ttotal: 4.09s\tremaining: 677ms\n",
      "429:\tlearn: 5.8892626\ttotal: 4.1s\tremaining: 668ms\n",
      "430:\tlearn: 5.8873328\ttotal: 4.11s\tremaining: 657ms\n",
      "431:\tlearn: 5.8837743\ttotal: 4.11s\tremaining: 646ms\n",
      "432:\tlearn: 5.8599000\ttotal: 4.12s\tremaining: 637ms\n",
      "433:\tlearn: 5.8006446\ttotal: 4.13s\tremaining: 628ms\n",
      "434:\tlearn: 5.7855373\ttotal: 4.14s\tremaining: 618ms\n",
      "435:\tlearn: 5.7792008\ttotal: 4.14s\tremaining: 607ms\n",
      "436:\tlearn: 5.7066627\ttotal: 4.15s\tremaining: 598ms\n",
      "437:\tlearn: 5.6687927\ttotal: 4.16s\tremaining: 589ms\n",
      "438:\tlearn: 5.6536497\ttotal: 4.17s\tremaining: 579ms\n",
      "439:\tlearn: 5.6098955\ttotal: 4.18s\tremaining: 570ms\n",
      "440:\tlearn: 5.5929535\ttotal: 4.19s\tremaining: 560ms\n",
      "441:\tlearn: 5.5878090\ttotal: 4.19s\tremaining: 550ms\n",
      "442:\tlearn: 5.5533907\ttotal: 4.2s\tremaining: 540ms\n",
      "443:\tlearn: 5.5495647\ttotal: 4.21s\tremaining: 531ms\n",
      "444:\tlearn: 5.5415501\ttotal: 4.22s\tremaining: 522ms\n",
      "445:\tlearn: 5.4893559\ttotal: 4.23s\tremaining: 512ms\n",
      "446:\tlearn: 5.4337574\ttotal: 4.24s\tremaining: 503ms\n",
      "447:\tlearn: 5.3789595\ttotal: 4.25s\tremaining: 493ms\n",
      "448:\tlearn: 5.3579334\ttotal: 4.26s\tremaining: 484ms\n",
      "449:\tlearn: 5.3258027\ttotal: 4.26s\tremaining: 474ms\n",
      "450:\tlearn: 5.2624681\ttotal: 4.27s\tremaining: 464ms\n",
      "451:\tlearn: 5.2566605\ttotal: 4.28s\tremaining: 454ms\n",
      "452:\tlearn: 5.2489896\ttotal: 4.29s\tremaining: 445ms\n",
      "453:\tlearn: 5.2179549\ttotal: 4.3s\tremaining: 436ms\n",
      "454:\tlearn: 5.2153264\ttotal: 4.3s\tremaining: 425ms\n",
      "455:\tlearn: 5.1872564\ttotal: 4.31s\tremaining: 416ms\n",
      "456:\tlearn: 5.1336277\ttotal: 4.32s\tremaining: 407ms\n",
      "457:\tlearn: 5.0548066\ttotal: 4.33s\tremaining: 397ms\n",
      "458:\tlearn: 5.0348292\ttotal: 4.34s\tremaining: 387ms\n",
      "459:\tlearn: 4.9930925\ttotal: 4.34s\tremaining: 378ms\n",
      "460:\tlearn: 4.9295884\ttotal: 4.36s\tremaining: 368ms\n",
      "461:\tlearn: 4.9092714\ttotal: 4.36s\tremaining: 358ms\n",
      "462:\tlearn: 4.9043453\ttotal: 4.36s\tremaining: 348ms\n",
      "463:\tlearn: 4.8842687\ttotal: 4.37s\tremaining: 339ms\n",
      "464:\tlearn: 4.8346732\ttotal: 4.38s\tremaining: 330ms\n",
      "465:\tlearn: 4.8122364\ttotal: 4.39s\tremaining: 320ms\n",
      "466:\tlearn: 4.8078414\ttotal: 4.4s\tremaining: 311ms\n",
      "467:\tlearn: 4.7787291\ttotal: 4.41s\tremaining: 301ms\n",
      "468:\tlearn: 4.7686056\ttotal: 4.41s\tremaining: 291ms\n",
      "469:\tlearn: 4.7190323\ttotal: 4.42s\tremaining: 282ms\n",
      "470:\tlearn: 4.6790730\ttotal: 4.43s\tremaining: 273ms\n",
      "471:\tlearn: 4.6263868\ttotal: 4.44s\tremaining: 263ms\n",
      "472:\tlearn: 4.5738177\ttotal: 4.45s\tremaining: 254ms\n",
      "473:\tlearn: 4.5287693\ttotal: 4.46s\tremaining: 245ms\n",
      "474:\tlearn: 4.5167347\ttotal: 4.48s\tremaining: 236ms\n",
      "475:\tlearn: 4.4823902\ttotal: 4.49s\tremaining: 226ms\n",
      "476:\tlearn: 4.4293860\ttotal: 4.51s\tremaining: 217ms\n",
      "477:\tlearn: 4.3962795\ttotal: 4.52s\tremaining: 208ms\n",
      "478:\tlearn: 4.3862057\ttotal: 4.53s\tremaining: 199ms\n",
      "479:\tlearn: 4.3479045\ttotal: 4.54s\tremaining: 189ms\n",
      "480:\tlearn: 4.3156080\ttotal: 4.56s\tremaining: 180ms\n",
      "481:\tlearn: 4.2988256\ttotal: 4.57s\tremaining: 171ms\n",
      "482:\tlearn: 4.2936647\ttotal: 4.59s\tremaining: 161ms\n",
      "483:\tlearn: 4.2691584\ttotal: 4.6s\tremaining: 152ms\n",
      "484:\tlearn: 4.2615639\ttotal: 4.6s\tremaining: 142ms\n",
      "485:\tlearn: 4.2347920\ttotal: 4.61s\tremaining: 133ms\n",
      "486:\tlearn: 4.2287466\ttotal: 4.62s\tremaining: 123ms\n",
      "487:\tlearn: 4.2089864\ttotal: 4.63s\tremaining: 114ms\n",
      "488:\tlearn: 4.1599568\ttotal: 4.64s\tremaining: 105ms\n",
      "489:\tlearn: 4.1104258\ttotal: 4.66s\tremaining: 95ms\n",
      "490:\tlearn: 4.0865224\ttotal: 4.68s\tremaining: 85.8ms\n",
      "491:\tlearn: 4.0719287\ttotal: 4.69s\tremaining: 76.3ms\n",
      "492:\tlearn: 4.0458932\ttotal: 4.7s\tremaining: 66.8ms\n",
      "493:\tlearn: 4.0265590\ttotal: 4.72s\tremaining: 57.3ms\n",
      "494:\tlearn: 4.0146520\ttotal: 4.73s\tremaining: 47.8ms\n",
      "495:\tlearn: 3.9800397\ttotal: 4.74s\tremaining: 38.2ms\n",
      "496:\tlearn: 3.9474258\ttotal: 4.75s\tremaining: 28.7ms\n",
      "497:\tlearn: 3.9213115\ttotal: 4.76s\tremaining: 19.1ms\n",
      "498:\tlearn: 3.9138128\ttotal: 4.77s\tremaining: 9.56ms\n",
      "499:\tlearn: 3.8897606\ttotal: 4.78s\tremaining: 0us\n"
     ]
    }
   ],
   "source": [
    "catb_cv_model = GridSearchCV(catb_model, \n",
    "                           catb_params, \n",
    "                           cv = 5, \n",
    "                           n_jobs = -1, \n",
    "                           verbose = 2).fit(X_train, y_train)"
   ]
  },
  {
   "cell_type": "code",
   "execution_count": 127,
   "metadata": {},
   "outputs": [
    {
     "data": {
      "text/plain": [
       "{'depth': 10, 'iterations': 500, 'learning_rate': 0.1}"
      ]
     },
     "execution_count": 127,
     "metadata": {},
     "output_type": "execute_result"
    }
   ],
   "source": [
    "catb_cv_model.best_params_"
   ]
  },
  {
   "cell_type": "markdown",
   "metadata": {},
   "source": [
    "### 8.4) Final Model Installation"
   ]
  },
  {
   "cell_type": "code",
   "execution_count": 128,
   "metadata": {
    "collapsed": true,
    "jupyter": {
     "outputs_hidden": true
    }
   },
   "outputs": [],
   "source": [
    "catb_tuned = CatBoostRegressor(**catb_cv_model.best_params_, verbose = False).fit(X_train, y_train)"
   ]
  },
  {
   "cell_type": "markdown",
   "metadata": {},
   "source": [
    "### 8.5) Final Model Test Error"
   ]
  },
  {
   "cell_type": "code",
   "execution_count": 129,
   "metadata": {},
   "outputs": [
    {
     "data": {
      "text/plain": [
       "128.73249780821817"
      ]
     },
     "execution_count": 129,
     "metadata": {},
     "output_type": "execute_result"
    }
   ],
   "source": [
    "y_pred = catb_tuned.predict(X_test)\n",
    "cat_final = np.sqrt(mean_squared_error(y_test, y_pred))\n",
    "cat_final"
   ]
  },
  {
   "cell_type": "code",
   "execution_count": 130,
   "metadata": {},
   "outputs": [
    {
     "data": {
      "image/png": "[encoded data removed]",
      "text/plain": [
       "<Figure size 432x288 with 1 Axes>"
      ]
     },
     "metadata": {
      "needs_background": "light"
     },
     "output_type": "display_data"
    }
   ],
   "source": [
    "Importance = pd.DataFrame({'Importance':catb_tuned.feature_importances_*100}, \n",
    "                          index = ['CRuns', 'CWalks', 'OrtCAtBat', 'OrtCHits', 'OrtCRBI', 'OrtCWalks'])\n",
    "\n",
    "Importance.sort_values(by = 'Importance', \n",
    "                       axis = 0, \n",
    "                       ascending = True).plot(kind = 'barh', \n",
    "                                              color = 'r', )\n",
    "\n",
    "plt.xlabel('Variable Importance')\n",
    "plt.gca().legend_ = None"
   ]
  },
  {
   "cell_type": "markdown",
   "metadata": {},
   "source": [
    "## 9) Neural Networks"
   ]
  },
  {
   "cell_type": "markdown",
   "metadata": {},
   "source": [
    "### 9.1) Model Installation"
   ]
  },
  {
   "cell_type": "code",
   "execution_count": 131,
   "metadata": {},
   "outputs": [],
   "source": [
    "scaler = StandardScaler()"
   ]
  },
  {
   "cell_type": "code",
   "execution_count": 132,
   "metadata": {},
   "outputs": [],
   "source": [
    "scaler.fit(X_train)\n",
    "X_train_scaled = scaler.transform(X_train)"
   ]
  },
  {
   "cell_type": "code",
   "execution_count": 133,
   "metadata": {},
   "outputs": [],
   "source": [
    "scaler.fit(X_test)\n",
    "X_test_scaled = scaler.transform(X_test)"
   ]
  },
  {
   "cell_type": "code",
   "execution_count": 134,
   "metadata": {},
   "outputs": [],
   "source": [
    "mlp_model = MLPRegressor().fit(X_train_scaled, y_train)"
   ]
  },
  {
   "cell_type": "markdown",
   "metadata": {},
   "source": [
    "### 9.2) Test Error"
   ]
  },
  {
   "cell_type": "code",
   "execution_count": 135,
   "metadata": {},
   "outputs": [
    {
     "data": {
      "text/plain": [
       "485.02268574643244"
      ]
     },
     "execution_count": 135,
     "metadata": {},
     "output_type": "execute_result"
    }
   ],
   "source": [
    "y_pred = mlp_model.predict(X_test_scaled)\n",
    "neural_base = np.sqrt(mean_squared_error(y_test, y_pred))\n",
    "neural_base"
   ]
  },
  {
   "cell_type": "markdown",
   "metadata": {},
   "source": [
    "### 9.3) Model Tuning"
   ]
  },
  {
   "cell_type": "code",
   "execution_count": 136,
   "metadata": {},
   "outputs": [],
   "source": [
    "mlp_params = {\"alpha\": [0.1, 0.01, 0.02, 0.001, 0.0001], \n",
    "             \"hidden_layer_sizes\": [(10,20), (5,5), (100,100), (1000,100,10)]}"
   ]
  },
  {
   "cell_type": "code",
   "execution_count": 137,
   "metadata": {},
   "outputs": [
    {
     "name": "stdout",
     "output_type": "stream",
     "text": [
      "Fitting 10 folds for each of 20 candidates, totalling 200 fits\n"
     ]
    },
    {
     "name": "stderr",
     "output_type": "stream",
     "text": [
      "[Parallel(n_jobs=-1)]: Using backend LokyBackend with 4 concurrent workers.\n",
      "[Parallel(n_jobs=-1)]: Done  33 tasks      | elapsed:    9.3s\n",
      "[Parallel(n_jobs=-1)]: Done 154 tasks      | elapsed:   56.3s\n",
      "[Parallel(n_jobs=-1)]: Done 200 out of 200 | elapsed:  1.3min finished\n"
     ]
    }
   ],
   "source": [
    "mlp_cv_model = GridSearchCV(mlp_model, mlp_params, cv = 10, verbose = 2, n_jobs = -1).fit(X_train_scaled, y_train)"
   ]
  },
  {
   "cell_type": "code",
   "execution_count": 138,
   "metadata": {},
   "outputs": [
    {
     "data": {
      "text/plain": [
       "{'alpha': 0.1, 'hidden_layer_sizes': (1000, 100, 10)}"
      ]
     },
     "execution_count": 138,
     "metadata": {},
     "output_type": "execute_result"
    }
   ],
   "source": [
    "mlp_cv_model.best_params_"
   ]
  },
  {
   "cell_type": "markdown",
   "metadata": {},
   "source": [
    "### 9.4) Final Model Installation"
   ]
  },
  {
   "cell_type": "code",
   "execution_count": 139,
   "metadata": {},
   "outputs": [],
   "source": [
    "mlp_tuned = MLPRegressor(**mlp_cv_model.best_params_).fit(X_train_scaled, y_train)"
   ]
  },
  {
   "cell_type": "markdown",
   "metadata": {},
   "source": [
    "### 9.5) Final Model Test Error"
   ]
  },
  {
   "cell_type": "code",
   "execution_count": 140,
   "metadata": {},
   "outputs": [
    {
     "data": {
      "text/plain": [
       "183.3134232096891"
      ]
     },
     "execution_count": 140,
     "metadata": {},
     "output_type": "execute_result"
    }
   ],
   "source": [
    "y_pred = mlp_tuned.predict(X_test)\n",
    "neural_final = np.sqrt(mean_squared_error(y_test, y_pred))\n",
    "neural_final"
   ]
  },
  {
   "cell_type": "markdown",
   "metadata": {},
   "source": [
    "# 4) Comparison Of Models"
   ]
  },
  {
   "cell_type": "code",
   "execution_count": 170,
   "metadata": {},
   "outputs": [
    {
     "name": "stdout",
     "output_type": "stream",
     "text": [
      "----------------------------\n",
      "KNeighborsRegressor:\n",
      "Error:144.53422633110452\n",
      "----------------------------\n",
      "SVR:\n",
      "Error:134.02976168002692\n",
      "----------------------------\n",
      "DecisionTreeRegressor:\n",
      "Error:148.38020582922016\n",
      "----------------------------\n",
      "RandomForestRegressor:\n",
      "Error:122.1108370641809\n",
      "----------------------------\n",
      "GradientBoostingRegressor:\n",
      "Error:114.93846803328381\n",
      "----------------------------\n",
      "XGBRegressor:\n",
      "Error:125.12258371475984\n",
      "----------------------------\n",
      "LGBMRegressor:\n",
      "Error:121.81670906677196\n",
      "----------------------------\n",
      "CatBoostRegressor:\n",
      "Error:128.73249780821817\n",
      "----------------------------\n",
      "MLPRegressor:\n",
      "Error:183.3134232096891\n"
     ]
    }
   ],
   "source": [
    " models = [\n",
    "    knn_tuned,\n",
    "    svr_tuned,\n",
    "    cart_tuned,\n",
    "    rf_tuned,\n",
    "    gbm_tuned,\n",
    "    xgb_tuned,\n",
    "    lgbm_tuned,\n",
    "    catb_tuned,\n",
    "    mlp_tuned]\n",
    "\n",
    "\n",
    "for model in models:\n",
    "    isimler = model.__class__.__name__\n",
    "    y_pred = model.predict(X_test)\n",
    "    error = np.sqrt(mean_squared_error(y_test, y_pred))\n",
    "    print(\"-\"*28)\n",
    "    print(isimler + \":\" )\n",
    "    print(\"Error:\" + str(error))"
   ]
  },
  {
   "cell_type": "code",
   "execution_count": 171,
   "metadata": {},
   "outputs": [
    {
     "data": {
      "image/png": "[encoded data removed]",
      "text/plain": [
       "<Figure size 432x288 with 1 Axes>"
      ]
     },
     "metadata": {
      "needs_background": "light"
     },
     "output_type": "display_data"
    }
   ],
   "source": [
    "sonuc = []\n",
    "\n",
    "sonuclar = pd.DataFrame(columns= [\"Models\",\"Error\"])\n",
    "\n",
    "for model in models:\n",
    "    isimler = model.__class__.__name__\n",
    "    y_pred = model.predict(X_test)\n",
    "    hata = np.sqrt(mean_squared_error(y_test, y_pred))    \n",
    "    sonuc = pd.DataFrame([[isimler, hata]], columns= [\"Models\",\"Error\"])\n",
    "    sonuclar = sonuclar.append(sonuc)\n",
    "    \n",
    "    \n",
    "sns.barplot(x= 'Error', y = 'Models', data=sonuclar, color=\"r\")\n",
    "plt.xlabel('Error')\n",
    "plt.title('Error Rate of Models');  "
   ]
  },
  {
   "cell_type": "code",
   "execution_count": 172,
   "metadata": {},
   "outputs": [],
   "source": [
    "sonuclar_df = pd.DataFrame({\"Base Model Test Error\":[knn_base, svr_base, cart_base,rf_base, gbm_base, xgb_base, lbg_base, cat_base, neural_base],\n",
    "                            \"Test Tuned Error\":[knn_final, svr_final, cart_final, rf_final,gbm_final, xgb_final, lbg_final, cat_final, neural_final]})\n",
    "sonuclar_df.index= [\"KNN\", \"SVR\",\"CART\",\"Random Forests\",\"GBM\",\"XGBoost\", \"LightGBM\", \"CatBoost\", \"Neural Networks\"]"
   ]
  },
  {
   "cell_type": "code",
   "execution_count": 173,
   "metadata": {},
   "outputs": [
    {
     "data": {
      "text/html": [
       "<div>\n",
       "<style scoped>\n",
       "    .dataframe tbody tr th:only-of-type {\n",
       "        vertical-align: middle;\n",
       "    }\n",
       "\n",
       "    .dataframe tbody tr th {\n",
       "        vertical-align: top;\n",
       "    }\n",
       "\n",
       "    .dataframe thead th {\n",
       "        text-align: right;\n",
       "    }\n",
       "</style>\n",
       "<table border=\"1\" class=\"dataframe\">\n",
       "  <thead>\n",
       "    <tr style=\"text-align: right;\">\n",
       "      <th></th>\n",
       "      <th>Base Model Test Error</th>\n",
       "      <th>Test Tuned Error</th>\n",
       "    </tr>\n",
       "  </thead>\n",
       "  <tbody>\n",
       "    <tr>\n",
       "      <th>KNN</th>\n",
       "      <td>144.248114</td>\n",
       "      <td>144.534226</td>\n",
       "    </tr>\n",
       "    <tr>\n",
       "      <th>SVR</th>\n",
       "      <td>290.012914</td>\n",
       "      <td>134.029762</td>\n",
       "    </tr>\n",
       "    <tr>\n",
       "      <th>CART</th>\n",
       "      <td>184.662739</td>\n",
       "      <td>148.380206</td>\n",
       "    </tr>\n",
       "    <tr>\n",
       "      <th>Random Forests</th>\n",
       "      <td>125.268962</td>\n",
       "      <td>122.110837</td>\n",
       "    </tr>\n",
       "    <tr>\n",
       "      <th>GBM</th>\n",
       "      <td>145.853529</td>\n",
       "      <td>114.938468</td>\n",
       "    </tr>\n",
       "    <tr>\n",
       "      <th>XGBoost</th>\n",
       "      <td>135.609383</td>\n",
       "      <td>125.122584</td>\n",
       "    </tr>\n",
       "    <tr>\n",
       "      <th>LightGBM</th>\n",
       "      <td>139.644709</td>\n",
       "      <td>121.816709</td>\n",
       "    </tr>\n",
       "    <tr>\n",
       "      <th>CatBoost</th>\n",
       "      <td>130.408829</td>\n",
       "      <td>128.732498</td>\n",
       "    </tr>\n",
       "    <tr>\n",
       "      <th>Neural Networks</th>\n",
       "      <td>485.022686</td>\n",
       "      <td>183.313423</td>\n",
       "    </tr>\n",
       "  </tbody>\n",
       "</table>\n",
       "</div>"
      ],
      "text/plain": [
       "                 Base Model Test Error  Test Tuned Error\n",
       "KNN                         144.248114        144.534226\n",
       "SVR                         290.012914        134.029762\n",
       "CART                        184.662739        148.380206\n",
       "Random Forests              125.268962        122.110837\n",
       "GBM                         145.853529        114.938468\n",
       "XGBoost                     135.609383        125.122584\n",
       "LightGBM                    139.644709        121.816709\n",
       "CatBoost                    130.408829        128.732498\n",
       "Neural Networks             485.022686        183.313423"
      ]
     },
     "execution_count": 173,
     "metadata": {},
     "output_type": "execute_result"
    }
   ],
   "source": [
    "sonuclar_df"
   ]
  },
  {
   "cell_type": "markdown",
   "metadata": {},
   "source": [
    "# 5) Reporting\n",
    "\n",
    "The goal in this study was to establish nonlinear regression models for the hitters data set and examine and minimize error scores on 9 models. The works performed are as follows:\n",
    "\n",
    "#### **1).** Hitters Data Set read.\n",
    "#### **2).** With Exploratory Data Analysis;\n",
    "* the data set's structural data were checked.\n",
    "* The types of variables in the dataset were examined.\n",
    "* Size information of the dataset was accessed.\n",
    "* How many missing observations were obtained from which variable in the data set. Only the dependent variable \"Salary\" was observed to have 59 missing observations.\n",
    "* Descriptive statistics of the data set were examined.\n",
    "\n",
    "#### **3).** Data Preprocessing section; \n",
    "* **df for:**The NA values were filled with the KNN algorithm, the Outliers were determined by LOF and dropped. The X variables were normalized.\n",
    "\n",
    "#### **4).** During Model Building;\n",
    "\n",
    "KNN, SVR, CART, Random Forests, GBM, XGBoost, LightGBM, CatBoost, Neural Networks using machine learning models, **RMSE** values representing the difference between real values and predicted values were calculated. Later KNN, SVR, CART, Random Forests, GBM, XGBoost, LightGBM, CatBoost, Neural Networks hyperparameter optimizations were applied to further reduce the error value.\n",
    "\n",
    "#### **5).** Result;\n",
    "\n",
    "The model created as a result of GBM Hyperparameter optimization became the model with the lowest RMSE value. (114)**"
   ]
  }
 ],
 "metadata": {
  "kernelspec": {
   "display_name": "Python 3",
   "language": "python",
   "name": "python3"
  },
  "language_info": {
   "codemirror_mode": {
    "name": "ipython",
    "version": 3
   },
   "file_extension": ".py",
   "mimetype": "text/x-python",
   "name": "python",
   "nbconvert_exporter": "python",
   "pygments_lexer": "ipython3",
   "version": "3.7.6"
  }
 },
 "nbformat": 4,
 "nbformat_minor": 4
}
